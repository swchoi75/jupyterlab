{
 "cells": [
  {
   "cell_type": "code",
   "execution_count": 1,
   "id": "9c922fd6-200c-4f43-b6ec-43265776030a",
   "metadata": {
    "tags": []
   },
   "outputs": [],
   "source": [
    "import pandas as pd"
   ]
  },
  {
   "cell_type": "code",
   "execution_count": 2,
   "id": "6fbd0d22-1c7d-41f0-86f3-6af8bcd66d33",
   "metadata": {},
   "outputs": [],
   "source": [
    "path = \"../data/\""
   ]
  },
  {
   "cell_type": "markdown",
   "id": "fe2ccff0-45ad-493c-9bf0-611e883e6022",
   "metadata": {},
   "source": [
    "# 1.2 Data preparation"
   ]
  },
  {
   "cell_type": "code",
   "execution_count": 3,
   "id": "153b0764-f722-4b4f-95fb-cb96d1c3579f",
   "metadata": {
    "tags": []
   },
   "outputs": [],
   "source": [
    "pricing = pd.read_csv(path + 'datathon/pricing.csv')"
   ]
  },
  {
   "cell_type": "code",
   "execution_count": 4,
   "id": "fd333322-121a-4447-97e8-45ed36b57647",
   "metadata": {
    "tags": []
   },
   "outputs": [],
   "source": [
    "\n",
    "def department():\n",
    "    df = pd.read_csv(path + 'datathon/department.csv')\n",
    "    df['department'] = df['department'].str.strip()\n",
    "    return df"
   ]
  },
  {
   "cell_type": "code",
   "execution_count": 5,
   "id": "68d1cd50-51fb-44f6-a9eb-9202b0242d2c",
   "metadata": {
    "tags": []
   },
   "outputs": [],
   "source": [
    "def main_data():\n",
    "    df = pd.read_csv(path + 'datathon/metrics.csv')\n",
    "    df = process_date_columns(df)\n",
    "    df = pd.merge(df, department(), how='left', on='id')\n",
    "    return df"
   ]
  },
  {
   "cell_type": "code",
   "execution_count": 6,
   "id": "0a2cbe25-40b5-4fc6-a036-210419882001",
   "metadata": {
    "tags": []
   },
   "outputs": [],
   "source": [
    "def process_date_columns(df):\n",
    "    df['data_timestamp'] = pd.to_datetime(df['data_timestamp'])\n",
    "    df['created_at'] = pd.to_datetime(df['created_at'])\n",
    "    df['updated_at'] = pd.to_datetime(df['updated_at'])\n",
    "    df['last_patch'] = pd.to_datetime(df['last_patch'])\n",
    "    return df"
   ]
  },
  {
   "cell_type": "code",
   "execution_count": 7,
   "id": "03ae6641-a40b-4ec6-8b51-80540c04b6cf",
   "metadata": {
    "tags": []
   },
   "outputs": [],
   "source": [
    "def text_columns(df):\n",
    "    df = df[['id', 'department', 'disk_size', 'type', 'size']]\n",
    "    df = df.drop_duplicates()\n",
    "    return df"
   ]
  },
  {
   "cell_type": "code",
   "execution_count": 8,
   "id": "bab60f99-8014-4f47-9337-f9e6ce7eed20",
   "metadata": {
    "tags": []
   },
   "outputs": [],
   "source": [
    "df = main_data()\n",
    "df_text = text_columns(df)"
   ]
  },
  {
   "cell_type": "code",
   "execution_count": 9,
   "id": "c527164d-70f0-4f84-9c75-4d1b6d72e4df",
   "metadata": {
    "tags": []
   },
   "outputs": [
    {
     "data": {
      "text/html": [
       "<div>\n",
       "<style scoped>\n",
       "    .dataframe tbody tr th:only-of-type {\n",
       "        vertical-align: middle;\n",
       "    }\n",
       "\n",
       "    .dataframe tbody tr th {\n",
       "        vertical-align: top;\n",
       "    }\n",
       "\n",
       "    .dataframe thead th {\n",
       "        text-align: right;\n",
       "    }\n",
       "</style>\n",
       "<table border=\"1\" class=\"dataframe\">\n",
       "  <thead>\n",
       "    <tr style=\"text-align: right;\">\n",
       "      <th></th>\n",
       "      <th>id</th>\n",
       "      <th>department</th>\n",
       "      <th>disk_size</th>\n",
       "      <th>type</th>\n",
       "      <th>size</th>\n",
       "    </tr>\n",
       "  </thead>\n",
       "  <tbody>\n",
       "    <tr>\n",
       "      <th>0</th>\n",
       "      <td>i-0a16592fdb1239d51</td>\n",
       "      <td>Marketing</td>\n",
       "      <td>240</td>\n",
       "      <td>deeplearning</td>\n",
       "      <td>t3.xlarge</td>\n",
       "    </tr>\n",
       "    <tr>\n",
       "      <th>9846</th>\n",
       "      <td>i-080c53b1618bf299a</td>\n",
       "      <td>IT</td>\n",
       "      <td>90</td>\n",
       "      <td>rstudio</td>\n",
       "      <td>r5a.2xlarge</td>\n",
       "    </tr>\n",
       "    <tr>\n",
       "      <th>36057</th>\n",
       "      <td>i-0b464aceb0dd373fc</td>\n",
       "      <td>Sales</td>\n",
       "      <td>240</td>\n",
       "      <td>deeplearning</td>\n",
       "      <td>r5.2xlarge</td>\n",
       "    </tr>\n",
       "    <tr>\n",
       "      <th>69465</th>\n",
       "      <td>i-03176e6ab2d9d413b</td>\n",
       "      <td>Marketing</td>\n",
       "      <td>60</td>\n",
       "      <td>matlab</td>\n",
       "      <td>t3.large</td>\n",
       "    </tr>\n",
       "    <tr>\n",
       "      <th>72777</th>\n",
       "      <td>i-0b981c18a1e484b20</td>\n",
       "      <td>Sales</td>\n",
       "      <td>120</td>\n",
       "      <td>matlab</td>\n",
       "      <td>g3s.xlarge</td>\n",
       "    </tr>\n",
       "  </tbody>\n",
       "</table>\n",
       "</div>"
      ],
      "text/plain": [
       "                        id department  disk_size          type         size\n",
       "0      i-0a16592fdb1239d51  Marketing        240  deeplearning    t3.xlarge\n",
       "9846   i-080c53b1618bf299a         IT         90       rstudio  r5a.2xlarge\n",
       "36057  i-0b464aceb0dd373fc      Sales        240  deeplearning   r5.2xlarge\n",
       "69465  i-03176e6ab2d9d413b  Marketing         60        matlab     t3.large\n",
       "72777  i-0b981c18a1e484b20      Sales        120        matlab   g3s.xlarge"
      ]
     },
     "execution_count": 9,
     "metadata": {},
     "output_type": "execute_result"
    }
   ],
   "source": [
    "df_text.head()"
   ]
  },
  {
   "cell_type": "markdown",
   "id": "6b12430d-e66b-4e98-8bf9-303e7337ce13",
   "metadata": {},
   "source": [
    "# 1.2 How many departments use the appliances of the Data Platform?"
   ]
  },
  {
   "cell_type": "code",
   "execution_count": 10,
   "id": "46b0f7dc-3ad9-4aff-ab54-990de13190da",
   "metadata": {
    "tags": []
   },
   "outputs": [],
   "source": [
    "def number_of_department(df):\n",
    "    df = df[['id', 'department']]\n",
    "    df = df.groupby('department').count()\n",
    "    df = df.sort_values('id', ascending=False)\n",
    "    return df"
   ]
  },
  {
   "cell_type": "code",
   "execution_count": 11,
   "id": "f950ed69-9794-4732-a76e-2d15c27f05dc",
   "metadata": {
    "tags": []
   },
   "outputs": [
    {
     "data": {
      "text/html": [
       "<div>\n",
       "<style scoped>\n",
       "    .dataframe tbody tr th:only-of-type {\n",
       "        vertical-align: middle;\n",
       "    }\n",
       "\n",
       "    .dataframe tbody tr th {\n",
       "        vertical-align: top;\n",
       "    }\n",
       "\n",
       "    .dataframe thead th {\n",
       "        text-align: right;\n",
       "    }\n",
       "</style>\n",
       "<table border=\"1\" class=\"dataframe\">\n",
       "  <thead>\n",
       "    <tr style=\"text-align: right;\">\n",
       "      <th></th>\n",
       "      <th>id</th>\n",
       "    </tr>\n",
       "    <tr>\n",
       "      <th>department</th>\n",
       "      <th></th>\n",
       "    </tr>\n",
       "  </thead>\n",
       "  <tbody>\n",
       "    <tr>\n",
       "      <th>Sales</th>\n",
       "      <td>10</td>\n",
       "    </tr>\n",
       "    <tr>\n",
       "      <th>HR</th>\n",
       "      <td>6</td>\n",
       "    </tr>\n",
       "    <tr>\n",
       "      <th>IT</th>\n",
       "      <td>6</td>\n",
       "    </tr>\n",
       "    <tr>\n",
       "      <th>Engineering</th>\n",
       "      <td>5</td>\n",
       "    </tr>\n",
       "    <tr>\n",
       "      <th>Marketing</th>\n",
       "      <td>3</td>\n",
       "    </tr>\n",
       "    <tr>\n",
       "      <th>Operations</th>\n",
       "      <td>3</td>\n",
       "    </tr>\n",
       "  </tbody>\n",
       "</table>\n",
       "</div>"
      ],
      "text/plain": [
       "             id\n",
       "department     \n",
       "Sales        10\n",
       "HR            6\n",
       "IT            6\n",
       "Engineering   5\n",
       "Marketing     3\n",
       "Operations    3"
      ]
     },
     "execution_count": 11,
     "metadata": {},
     "output_type": "execute_result"
    }
   ],
   "source": [
    "number_of_department(df_text)"
   ]
  },
  {
   "cell_type": "code",
   "execution_count": 12,
   "id": "7f244408-d427-4d23-8450-4183e581ed11",
   "metadata": {
    "tags": []
   },
   "outputs": [
    {
     "data": {
      "text/plain": [
       "6"
      ]
     },
     "execution_count": 12,
     "metadata": {},
     "output_type": "execute_result"
    }
   ],
   "source": [
    "len(number_of_department(df_text))"
   ]
  },
  {
   "cell_type": "markdown",
   "id": "10e90a66-2b3e-40e6-a49a-26a5578cbf10",
   "metadata": {},
   "source": [
    "# 1.3 What is the most popular appliance size used by all departments? And how many of those popular sizes did you find in the whole dataset?"
   ]
  },
  {
   "cell_type": "code",
   "execution_count": 13,
   "id": "77ae477b-686e-4777-86ab-137dc20d232b",
   "metadata": {
    "tags": []
   },
   "outputs": [],
   "source": [
    "def appliance_size(df):\n",
    "    df = df[['id', 'size']]\n",
    "    df = df.groupby('size').count()\n",
    "    df = df.sort_values('id', ascending=False)\n",
    "    return df"
   ]
  },
  {
   "cell_type": "code",
   "execution_count": 14,
   "id": "8c1cf03c-f655-4976-87db-0575c0ce75f1",
   "metadata": {
    "tags": []
   },
   "outputs": [
    {
     "data": {
      "text/html": [
       "<div>\n",
       "<style scoped>\n",
       "    .dataframe tbody tr th:only-of-type {\n",
       "        vertical-align: middle;\n",
       "    }\n",
       "\n",
       "    .dataframe tbody tr th {\n",
       "        vertical-align: top;\n",
       "    }\n",
       "\n",
       "    .dataframe thead th {\n",
       "        text-align: right;\n",
       "    }\n",
       "</style>\n",
       "<table border=\"1\" class=\"dataframe\">\n",
       "  <thead>\n",
       "    <tr style=\"text-align: right;\">\n",
       "      <th></th>\n",
       "      <th>id</th>\n",
       "    </tr>\n",
       "    <tr>\n",
       "      <th>size</th>\n",
       "      <th></th>\n",
       "    </tr>\n",
       "  </thead>\n",
       "  <tbody>\n",
       "    <tr>\n",
       "      <th>t3a.medium</th>\n",
       "      <td>21</td>\n",
       "    </tr>\n",
       "    <tr>\n",
       "      <th>c5.4xlarge</th>\n",
       "      <td>2</td>\n",
       "    </tr>\n",
       "    <tr>\n",
       "      <th>r5a.2xlarge</th>\n",
       "      <td>2</td>\n",
       "    </tr>\n",
       "    <tr>\n",
       "      <th>t3a.2xlarge</th>\n",
       "      <td>2</td>\n",
       "    </tr>\n",
       "    <tr>\n",
       "      <th>g3s.xlarge</th>\n",
       "      <td>1</td>\n",
       "    </tr>\n",
       "    <tr>\n",
       "      <th>m5d.xlarge</th>\n",
       "      <td>1</td>\n",
       "    </tr>\n",
       "    <tr>\n",
       "      <th>r5.2xlarge</th>\n",
       "      <td>1</td>\n",
       "    </tr>\n",
       "    <tr>\n",
       "      <th>t3.large</th>\n",
       "      <td>1</td>\n",
       "    </tr>\n",
       "    <tr>\n",
       "      <th>t3.xlarge</th>\n",
       "      <td>1</td>\n",
       "    </tr>\n",
       "    <tr>\n",
       "      <th>t3a.xlarge</th>\n",
       "      <td>1</td>\n",
       "    </tr>\n",
       "  </tbody>\n",
       "</table>\n",
       "</div>"
      ],
      "text/plain": [
       "             id\n",
       "size           \n",
       "t3a.medium   21\n",
       "c5.4xlarge    2\n",
       "r5a.2xlarge   2\n",
       "t3a.2xlarge   2\n",
       "g3s.xlarge    1\n",
       "m5d.xlarge    1\n",
       "r5.2xlarge    1\n",
       "t3.large      1\n",
       "t3.xlarge     1\n",
       "t3a.xlarge    1"
      ]
     },
     "execution_count": 14,
     "metadata": {},
     "output_type": "execute_result"
    }
   ],
   "source": [
    "appliance_size(df_text)"
   ]
  },
  {
   "cell_type": "markdown",
   "id": "023fc97b-609d-4b59-a21c-5f90e0ea223e",
   "metadata": {
    "tags": []
   },
   "source": [
    "# 2.1 Which is the most popular appliance type per department?"
   ]
  },
  {
   "cell_type": "code",
   "execution_count": 15,
   "id": "47625798-3372-4f6c-821a-fbc5d57c4195",
   "metadata": {
    "tags": []
   },
   "outputs": [],
   "source": [
    "def type_by_dept(df):\n",
    "    df = df[['id', 'department', 'type']]\n",
    "    df = df.groupby(['department', 'type']).count()\n",
    "    df = df.sort_values(['department', 'id'], ascending=[True, False])\n",
    "    return df"
   ]
  },
  {
   "cell_type": "code",
   "execution_count": 16,
   "id": "6000390e-6be6-466b-b43d-0e8f09c9f7bf",
   "metadata": {
    "tags": []
   },
   "outputs": [
    {
     "data": {
      "text/html": [
       "<div>\n",
       "<style scoped>\n",
       "    .dataframe tbody tr th:only-of-type {\n",
       "        vertical-align: middle;\n",
       "    }\n",
       "\n",
       "    .dataframe tbody tr th {\n",
       "        vertical-align: top;\n",
       "    }\n",
       "\n",
       "    .dataframe thead th {\n",
       "        text-align: right;\n",
       "    }\n",
       "</style>\n",
       "<table border=\"1\" class=\"dataframe\">\n",
       "  <thead>\n",
       "    <tr style=\"text-align: right;\">\n",
       "      <th></th>\n",
       "      <th></th>\n",
       "      <th>id</th>\n",
       "    </tr>\n",
       "    <tr>\n",
       "      <th>department</th>\n",
       "      <th>type</th>\n",
       "      <th></th>\n",
       "    </tr>\n",
       "  </thead>\n",
       "  <tbody>\n",
       "    <tr>\n",
       "      <th rowspan=\"3\" valign=\"top\">Engineering</th>\n",
       "      <th>jupyter</th>\n",
       "      <td>3</td>\n",
       "    </tr>\n",
       "    <tr>\n",
       "      <th>knime</th>\n",
       "      <td>1</td>\n",
       "    </tr>\n",
       "    <tr>\n",
       "      <th>rstudio</th>\n",
       "      <td>1</td>\n",
       "    </tr>\n",
       "    <tr>\n",
       "      <th rowspan=\"2\" valign=\"top\">HR</th>\n",
       "      <th>knime</th>\n",
       "      <td>5</td>\n",
       "    </tr>\n",
       "    <tr>\n",
       "      <th>deeplearning</th>\n",
       "      <td>1</td>\n",
       "    </tr>\n",
       "    <tr>\n",
       "      <th rowspan=\"3\" valign=\"top\">IT</th>\n",
       "      <th>jupyter</th>\n",
       "      <td>3</td>\n",
       "    </tr>\n",
       "    <tr>\n",
       "      <th>rstudio</th>\n",
       "      <td>2</td>\n",
       "    </tr>\n",
       "    <tr>\n",
       "      <th>knime</th>\n",
       "      <td>1</td>\n",
       "    </tr>\n",
       "    <tr>\n",
       "      <th rowspan=\"2\" valign=\"top\">Marketing</th>\n",
       "      <th>matlab</th>\n",
       "      <td>2</td>\n",
       "    </tr>\n",
       "    <tr>\n",
       "      <th>deeplearning</th>\n",
       "      <td>1</td>\n",
       "    </tr>\n",
       "    <tr>\n",
       "      <th rowspan=\"2\" valign=\"top\">Operations</th>\n",
       "      <th>rstudio</th>\n",
       "      <td>2</td>\n",
       "    </tr>\n",
       "    <tr>\n",
       "      <th>jupyter</th>\n",
       "      <td>1</td>\n",
       "    </tr>\n",
       "    <tr>\n",
       "      <th rowspan=\"4\" valign=\"top\">Sales</th>\n",
       "      <th>jupyter</th>\n",
       "      <td>4</td>\n",
       "    </tr>\n",
       "    <tr>\n",
       "      <th>deeplearning</th>\n",
       "      <td>3</td>\n",
       "    </tr>\n",
       "    <tr>\n",
       "      <th>rstudio</th>\n",
       "      <td>2</td>\n",
       "    </tr>\n",
       "    <tr>\n",
       "      <th>matlab</th>\n",
       "      <td>1</td>\n",
       "    </tr>\n",
       "  </tbody>\n",
       "</table>\n",
       "</div>"
      ],
      "text/plain": [
       "                          id\n",
       "department  type            \n",
       "Engineering jupyter        3\n",
       "            knime          1\n",
       "            rstudio        1\n",
       "HR          knime          5\n",
       "            deeplearning   1\n",
       "IT          jupyter        3\n",
       "            rstudio        2\n",
       "            knime          1\n",
       "Marketing   matlab         2\n",
       "            deeplearning   1\n",
       "Operations  rstudio        2\n",
       "            jupyter        1\n",
       "Sales       jupyter        4\n",
       "            deeplearning   3\n",
       "            rstudio        2\n",
       "            matlab         1"
      ]
     },
     "execution_count": 16,
     "metadata": {},
     "output_type": "execute_result"
    }
   ],
   "source": [
    "type_by_dept(df_text)"
   ]
  },
  {
   "cell_type": "markdown",
   "id": "6b517dc4-54f5-4368-a762-7463d364f8fb",
   "metadata": {},
   "source": [
    "# 2.2 Wich appliance size had the lowest vCPU utilization over the full time range of the dataset based on the listed metrics? Calculate a value with 6 digits after zero for each metric:"
   ]
  },
  {
   "cell_type": "code",
   "execution_count": 17,
   "id": "f773876a-448a-42b8-a6e1-286ad3c78955",
   "metadata": {
    "tags": []
   },
   "outputs": [],
   "source": [
    "def vcpu_by_size(df):\n",
    "    df = df[['id', 'data_timestamp', 'size', 'vcpu']]\n",
    "    df = df.drop_duplicates()\n",
    "    df = df[['size', 'vcpu']]\n",
    "    df = df.groupby('size', as_index=False).agg([\"min\", \"median\", \"mean\"])\n",
    "    return df"
   ]
  },
  {
   "cell_type": "code",
   "execution_count": 18,
   "id": "6efbc06a-6387-416b-976f-2ca84de8ffa4",
   "metadata": {
    "tags": []
   },
   "outputs": [
    {
     "data": {
      "text/html": [
       "<div>\n",
       "<style scoped>\n",
       "    .dataframe tbody tr th:only-of-type {\n",
       "        vertical-align: middle;\n",
       "    }\n",
       "\n",
       "    .dataframe tbody tr th {\n",
       "        vertical-align: top;\n",
       "    }\n",
       "\n",
       "    .dataframe thead tr th {\n",
       "        text-align: left;\n",
       "    }\n",
       "\n",
       "    .dataframe thead tr:last-of-type th {\n",
       "        text-align: right;\n",
       "    }\n",
       "</style>\n",
       "<table border=\"1\" class=\"dataframe\">\n",
       "  <thead>\n",
       "    <tr>\n",
       "      <th></th>\n",
       "      <th colspan=\"3\" halign=\"left\">vcpu</th>\n",
       "    </tr>\n",
       "    <tr>\n",
       "      <th></th>\n",
       "      <th>min</th>\n",
       "      <th>median</th>\n",
       "      <th>mean</th>\n",
       "    </tr>\n",
       "    <tr>\n",
       "      <th>size</th>\n",
       "      <th></th>\n",
       "      <th></th>\n",
       "      <th></th>\n",
       "    </tr>\n",
       "  </thead>\n",
       "  <tbody>\n",
       "    <tr>\n",
       "      <th>c5.4xlarge</th>\n",
       "      <td>0.105102</td>\n",
       "      <td>0.994667</td>\n",
       "      <td>6.329230</td>\n",
       "    </tr>\n",
       "    <tr>\n",
       "      <th>g3s.xlarge</th>\n",
       "      <td>0.391572</td>\n",
       "      <td>0.425000</td>\n",
       "      <td>0.450599</td>\n",
       "    </tr>\n",
       "    <tr>\n",
       "      <th>m5d.xlarge</th>\n",
       "      <td>0.641000</td>\n",
       "      <td>12.194167</td>\n",
       "      <td>15.238145</td>\n",
       "    </tr>\n",
       "    <tr>\n",
       "      <th>r5.2xlarge</th>\n",
       "      <td>0.302333</td>\n",
       "      <td>0.652333</td>\n",
       "      <td>1.507907</td>\n",
       "    </tr>\n",
       "    <tr>\n",
       "      <th>r5a.2xlarge</th>\n",
       "      <td>0.000165</td>\n",
       "      <td>0.216333</td>\n",
       "      <td>0.545604</td>\n",
       "    </tr>\n",
       "    <tr>\n",
       "      <th>t3.large</th>\n",
       "      <td>0.947409</td>\n",
       "      <td>0.988330</td>\n",
       "      <td>1.075165</td>\n",
       "    </tr>\n",
       "    <tr>\n",
       "      <th>t3.xlarge</th>\n",
       "      <td>0.256002</td>\n",
       "      <td>0.820327</td>\n",
       "      <td>2.191348</td>\n",
       "    </tr>\n",
       "    <tr>\n",
       "      <th>t3a.2xlarge</th>\n",
       "      <td>0.212592</td>\n",
       "      <td>0.480333</td>\n",
       "      <td>0.537950</td>\n",
       "    </tr>\n",
       "    <tr>\n",
       "      <th>t3a.medium</th>\n",
       "      <td>0.010630</td>\n",
       "      <td>1.443338</td>\n",
       "      <td>11.027830</td>\n",
       "    </tr>\n",
       "    <tr>\n",
       "      <th>t3a.xlarge</th>\n",
       "      <td>0.368000</td>\n",
       "      <td>0.970330</td>\n",
       "      <td>1.903183</td>\n",
       "    </tr>\n",
       "  </tbody>\n",
       "</table>\n",
       "</div>"
      ],
      "text/plain": [
       "                 vcpu                      \n",
       "                  min     median       mean\n",
       "size                                       \n",
       "c5.4xlarge   0.105102   0.994667   6.329230\n",
       "g3s.xlarge   0.391572   0.425000   0.450599\n",
       "m5d.xlarge   0.641000  12.194167  15.238145\n",
       "r5.2xlarge   0.302333   0.652333   1.507907\n",
       "r5a.2xlarge  0.000165   0.216333   0.545604\n",
       "t3.large     0.947409   0.988330   1.075165\n",
       "t3.xlarge    0.256002   0.820327   2.191348\n",
       "t3a.2xlarge  0.212592   0.480333   0.537950\n",
       "t3a.medium   0.010630   1.443338  11.027830\n",
       "t3a.xlarge   0.368000   0.970330   1.903183"
      ]
     },
     "execution_count": 18,
     "metadata": {},
     "output_type": "execute_result"
    }
   ],
   "source": [
    "vcpu_by_size(df)"
   ]
  },
  {
   "cell_type": "code",
   "execution_count": 19,
   "id": "0d7cda1a-67cb-4fc9-bffe-090c3ab3321e",
   "metadata": {
    "tags": []
   },
   "outputs": [
    {
     "data": {
      "text/plain": [
       "size\n",
       "r5a.2xlarge    0.000165\n",
       "t3a.medium     0.010630\n",
       "c5.4xlarge     0.105102\n",
       "t3a.2xlarge    0.212592\n",
       "t3.xlarge      0.256002\n",
       "r5.2xlarge     0.302333\n",
       "t3a.xlarge     0.368000\n",
       "g3s.xlarge     0.391572\n",
       "m5d.xlarge     0.641000\n",
       "t3.large       0.947409\n",
       "Name: (vcpu, min), dtype: float64"
      ]
     },
     "execution_count": 19,
     "metadata": {},
     "output_type": "execute_result"
    }
   ],
   "source": [
    "vcpu_by_size(df)['vcpu', 'min'].sort_values()"
   ]
  },
  {
   "cell_type": "code",
   "execution_count": 20,
   "id": "1f6c83c6-52ff-469e-a30d-48e03d111fbc",
   "metadata": {
    "tags": []
   },
   "outputs": [
    {
     "data": {
      "text/plain": [
       "size\n",
       "r5a.2xlarge     0.216333\n",
       "g3s.xlarge      0.425000\n",
       "t3a.2xlarge     0.480333\n",
       "r5.2xlarge      0.652333\n",
       "t3.xlarge       0.820327\n",
       "t3a.xlarge      0.970330\n",
       "t3.large        0.988330\n",
       "c5.4xlarge      0.994667\n",
       "t3a.medium      1.443338\n",
       "m5d.xlarge     12.194167\n",
       "Name: (vcpu, median), dtype: float64"
      ]
     },
     "execution_count": 20,
     "metadata": {},
     "output_type": "execute_result"
    }
   ],
   "source": [
    "vcpu_by_size(df)['vcpu', 'median'].sort_values()"
   ]
  },
  {
   "cell_type": "code",
   "execution_count": 21,
   "id": "34a3e378-e70b-4ff1-8114-06bba1321d00",
   "metadata": {
    "tags": []
   },
   "outputs": [
    {
     "data": {
      "text/plain": [
       "size\n",
       "g3s.xlarge      0.450599\n",
       "t3a.2xlarge     0.537950\n",
       "r5a.2xlarge     0.545604\n",
       "t3.large        1.075165\n",
       "r5.2xlarge      1.507907\n",
       "t3a.xlarge      1.903183\n",
       "t3.xlarge       2.191348\n",
       "c5.4xlarge      6.329230\n",
       "t3a.medium     11.027830\n",
       "m5d.xlarge     15.238145\n",
       "Name: (vcpu, mean), dtype: float64"
      ]
     },
     "execution_count": 21,
     "metadata": {},
     "output_type": "execute_result"
    }
   ],
   "source": [
    "vcpu_by_size(df)['vcpu', 'mean'].sort_values()"
   ]
  },
  {
   "cell_type": "markdown",
   "id": "bb7be813-ed21-4afa-9132-d0e1448f3e1f",
   "metadata": {},
   "source": [
    "# 2.3 Which department has used the most appliances between 15.12.2022 and 16.01.2023? How many appliances did they use in this time range?"
   ]
  },
  {
   "cell_type": "code",
   "execution_count": 22,
   "id": "d159cf9c-ff38-4563-a81a-7d4323e17aca",
   "metadata": {
    "tags": []
   },
   "outputs": [],
   "source": [
    "def data_in_periods(df):\n",
    "    mask = (\n",
    "        (df['data_timestamp'] > pd.to_datetime('2022-12-15'))\n",
    "        &\n",
    "        (df['data_timestamp'] < pd.to_datetime('2023-01-16'))\n",
    "    )\n",
    "    df = df.loc[mask]\n",
    "    return df"
   ]
  },
  {
   "cell_type": "code",
   "execution_count": 23,
   "id": "7cc4cb90-1789-4306-8035-78ed901b051e",
   "metadata": {
    "tags": []
   },
   "outputs": [],
   "source": [
    "def appliance_in_periods(df):\n",
    "    df = data_in_periods(df)\n",
    "    df = df[['id', 'department']]\n",
    "    df = df.drop_duplicates()\n",
    "    df = df.groupby('department').count()\n",
    "    df = df.sort_values('id', ascending=False)\n",
    "    return df"
   ]
  },
  {
   "cell_type": "code",
   "execution_count": 24,
   "id": "f89a5484-117d-4a4b-9eaa-0925214d4dc5",
   "metadata": {
    "tags": []
   },
   "outputs": [
    {
     "data": {
      "text/html": [
       "<div>\n",
       "<style scoped>\n",
       "    .dataframe tbody tr th:only-of-type {\n",
       "        vertical-align: middle;\n",
       "    }\n",
       "\n",
       "    .dataframe tbody tr th {\n",
       "        vertical-align: top;\n",
       "    }\n",
       "\n",
       "    .dataframe thead th {\n",
       "        text-align: right;\n",
       "    }\n",
       "</style>\n",
       "<table border=\"1\" class=\"dataframe\">\n",
       "  <thead>\n",
       "    <tr style=\"text-align: right;\">\n",
       "      <th></th>\n",
       "      <th>id</th>\n",
       "    </tr>\n",
       "    <tr>\n",
       "      <th>department</th>\n",
       "      <th></th>\n",
       "    </tr>\n",
       "  </thead>\n",
       "  <tbody>\n",
       "    <tr>\n",
       "      <th>Sales</th>\n",
       "      <td>6</td>\n",
       "    </tr>\n",
       "    <tr>\n",
       "      <th>Engineering</th>\n",
       "      <td>4</td>\n",
       "    </tr>\n",
       "    <tr>\n",
       "      <th>HR</th>\n",
       "      <td>3</td>\n",
       "    </tr>\n",
       "    <tr>\n",
       "      <th>IT</th>\n",
       "      <td>3</td>\n",
       "    </tr>\n",
       "    <tr>\n",
       "      <th>Marketing</th>\n",
       "      <td>1</td>\n",
       "    </tr>\n",
       "    <tr>\n",
       "      <th>Operations</th>\n",
       "      <td>1</td>\n",
       "    </tr>\n",
       "  </tbody>\n",
       "</table>\n",
       "</div>"
      ],
      "text/plain": [
       "             id\n",
       "department     \n",
       "Sales         6\n",
       "Engineering   4\n",
       "HR            3\n",
       "IT            3\n",
       "Marketing     1\n",
       "Operations    1"
      ]
     },
     "execution_count": 24,
     "metadata": {},
     "output_type": "execute_result"
    }
   ],
   "source": [
    "appliance_in_periods(df)"
   ]
  },
  {
   "cell_type": "markdown",
   "id": "509b0edd-3e6d-480d-a1d3-7dc993995492",
   "metadata": {},
   "source": [
    "# 2.4 What is the most expensive size of an appliance used in the Data Platform in terms of hours used per department?"
   ]
  },
  {
   "cell_type": "code",
   "execution_count": 25,
   "id": "3dfd762b-f96e-480b-97da-288aa2663c15",
   "metadata": {
    "tags": []
   },
   "outputs": [],
   "source": [
    "def data_usage(df):\n",
    "    df = pd.merge(df, pricing, how='left', on='size')\n",
    "    df = df[['department', 'size', 'data_timestamp', 'cost_per_hour']]\n",
    "    df = df.drop_duplicates()\n",
    "    df = df.groupby(['department', 'size', 'cost_per_hour'],\n",
    "                    as_index=False).count()\n",
    "    return df"
   ]
  },
  {
   "cell_type": "code",
   "execution_count": 26,
   "id": "5f4b65bb-744c-4fc2-a83e-a234b320dd13",
   "metadata": {
    "tags": []
   },
   "outputs": [],
   "source": [
    "def calc_cost(df):\n",
    "    df = data_usage(df)\n",
    "    df['cost'] = df['data_timestamp'] / 12 * df['cost_per_hour']\n",
    "    df = df.sort_values(['department', 'cost'], ascending=False)\n",
    "    return df"
   ]
  },
  {
   "cell_type": "code",
   "execution_count": 27,
   "id": "8c62bb17-cfc3-4d41-bb10-8215e85d9264",
   "metadata": {
    "tags": []
   },
   "outputs": [
    {
     "data": {
      "text/html": [
       "<div>\n",
       "<style scoped>\n",
       "    .dataframe tbody tr th:only-of-type {\n",
       "        vertical-align: middle;\n",
       "    }\n",
       "\n",
       "    .dataframe tbody tr th {\n",
       "        vertical-align: top;\n",
       "    }\n",
       "\n",
       "    .dataframe thead th {\n",
       "        text-align: right;\n",
       "    }\n",
       "</style>\n",
       "<table border=\"1\" class=\"dataframe\">\n",
       "  <thead>\n",
       "    <tr style=\"text-align: right;\">\n",
       "      <th></th>\n",
       "      <th>department</th>\n",
       "      <th>size</th>\n",
       "      <th>cost_per_hour</th>\n",
       "      <th>data_timestamp</th>\n",
       "      <th>cost</th>\n",
       "    </tr>\n",
       "  </thead>\n",
       "  <tbody>\n",
       "    <tr>\n",
       "      <th>13</th>\n",
       "      <td>Sales</td>\n",
       "      <td>g3s.xlarge</td>\n",
       "      <td>0.7500</td>\n",
       "      <td>15864</td>\n",
       "      <td>991.500000</td>\n",
       "    </tr>\n",
       "    <tr>\n",
       "      <th>15</th>\n",
       "      <td>Sales</td>\n",
       "      <td>r5.2xlarge</td>\n",
       "      <td>0.5040</td>\n",
       "      <td>16704</td>\n",
       "      <td>701.568000</td>\n",
       "    </tr>\n",
       "    <tr>\n",
       "      <th>14</th>\n",
       "      <td>Sales</td>\n",
       "      <td>m5d.xlarge</td>\n",
       "      <td>0.2260</td>\n",
       "      <td>14128</td>\n",
       "      <td>266.077333</td>\n",
       "    </tr>\n",
       "    <tr>\n",
       "      <th>16</th>\n",
       "      <td>Sales</td>\n",
       "      <td>t3a.medium</td>\n",
       "      <td>0.0376</td>\n",
       "      <td>3423</td>\n",
       "      <td>10.725400</td>\n",
       "    </tr>\n",
       "    <tr>\n",
       "      <th>11</th>\n",
       "      <td>Operations</td>\n",
       "      <td>t3a.2xlarge</td>\n",
       "      <td>0.3008</td>\n",
       "      <td>916</td>\n",
       "      <td>22.961067</td>\n",
       "    </tr>\n",
       "    <tr>\n",
       "      <th>12</th>\n",
       "      <td>Operations</td>\n",
       "      <td>t3a.medium</td>\n",
       "      <td>0.0376</td>\n",
       "      <td>47</td>\n",
       "      <td>0.147267</td>\n",
       "    </tr>\n",
       "    <tr>\n",
       "      <th>9</th>\n",
       "      <td>Marketing</td>\n",
       "      <td>t3.xlarge</td>\n",
       "      <td>0.1664</td>\n",
       "      <td>3282</td>\n",
       "      <td>45.510400</td>\n",
       "    </tr>\n",
       "    <tr>\n",
       "      <th>8</th>\n",
       "      <td>Marketing</td>\n",
       "      <td>t3.large</td>\n",
       "      <td>0.0832</td>\n",
       "      <td>1104</td>\n",
       "      <td>7.654400</td>\n",
       "    </tr>\n",
       "    <tr>\n",
       "      <th>10</th>\n",
       "      <td>Marketing</td>\n",
       "      <td>t3a.medium</td>\n",
       "      <td>0.0376</td>\n",
       "      <td>13</td>\n",
       "      <td>0.040733</td>\n",
       "    </tr>\n",
       "    <tr>\n",
       "      <th>6</th>\n",
       "      <td>IT</td>\n",
       "      <td>r5a.2xlarge</td>\n",
       "      <td>0.4520</td>\n",
       "      <td>8737</td>\n",
       "      <td>329.093667</td>\n",
       "    </tr>\n",
       "    <tr>\n",
       "      <th>7</th>\n",
       "      <td>IT</td>\n",
       "      <td>t3a.medium</td>\n",
       "      <td>0.0376</td>\n",
       "      <td>516</td>\n",
       "      <td>1.616800</td>\n",
       "    </tr>\n",
       "    <tr>\n",
       "      <th>3</th>\n",
       "      <td>HR</td>\n",
       "      <td>t3a.2xlarge</td>\n",
       "      <td>0.3008</td>\n",
       "      <td>15807</td>\n",
       "      <td>396.228800</td>\n",
       "    </tr>\n",
       "    <tr>\n",
       "      <th>2</th>\n",
       "      <td>HR</td>\n",
       "      <td>c5.4xlarge</td>\n",
       "      <td>0.6800</td>\n",
       "      <td>1237</td>\n",
       "      <td>70.096667</td>\n",
       "    </tr>\n",
       "    <tr>\n",
       "      <th>5</th>\n",
       "      <td>HR</td>\n",
       "      <td>t3a.xlarge</td>\n",
       "      <td>0.1504</td>\n",
       "      <td>971</td>\n",
       "      <td>12.169867</td>\n",
       "    </tr>\n",
       "    <tr>\n",
       "      <th>4</th>\n",
       "      <td>HR</td>\n",
       "      <td>t3a.medium</td>\n",
       "      <td>0.0376</td>\n",
       "      <td>28</td>\n",
       "      <td>0.087733</td>\n",
       "    </tr>\n",
       "    <tr>\n",
       "      <th>1</th>\n",
       "      <td>Engineering</td>\n",
       "      <td>t3a.medium</td>\n",
       "      <td>0.0376</td>\n",
       "      <td>13898</td>\n",
       "      <td>43.547067</td>\n",
       "    </tr>\n",
       "    <tr>\n",
       "      <th>0</th>\n",
       "      <td>Engineering</td>\n",
       "      <td>r5a.2xlarge</td>\n",
       "      <td>0.4520</td>\n",
       "      <td>257</td>\n",
       "      <td>9.680333</td>\n",
       "    </tr>\n",
       "  </tbody>\n",
       "</table>\n",
       "</div>"
      ],
      "text/plain": [
       "     department         size  cost_per_hour  data_timestamp        cost\n",
       "13        Sales   g3s.xlarge         0.7500           15864  991.500000\n",
       "15        Sales   r5.2xlarge         0.5040           16704  701.568000\n",
       "14        Sales   m5d.xlarge         0.2260           14128  266.077333\n",
       "16        Sales   t3a.medium         0.0376            3423   10.725400\n",
       "11   Operations  t3a.2xlarge         0.3008             916   22.961067\n",
       "12   Operations   t3a.medium         0.0376              47    0.147267\n",
       "9     Marketing    t3.xlarge         0.1664            3282   45.510400\n",
       "8     Marketing     t3.large         0.0832            1104    7.654400\n",
       "10    Marketing   t3a.medium         0.0376              13    0.040733\n",
       "6            IT  r5a.2xlarge         0.4520            8737  329.093667\n",
       "7            IT   t3a.medium         0.0376             516    1.616800\n",
       "3            HR  t3a.2xlarge         0.3008           15807  396.228800\n",
       "2            HR   c5.4xlarge         0.6800            1237   70.096667\n",
       "5            HR   t3a.xlarge         0.1504             971   12.169867\n",
       "4            HR   t3a.medium         0.0376              28    0.087733\n",
       "1   Engineering   t3a.medium         0.0376           13898   43.547067\n",
       "0   Engineering  r5a.2xlarge         0.4520             257    9.680333"
      ]
     },
     "execution_count": 27,
     "metadata": {},
     "output_type": "execute_result"
    }
   ],
   "source": [
    "calc_cost(df)"
   ]
  },
  {
   "cell_type": "markdown",
   "id": "65a5f525-a243-4f26-b87c-05e4a9f4ad05",
   "metadata": {},
   "source": [
    "# 3.1 Which fields are important to find out if an appliance is idle - meaning that an appliance is running but no action is performed on it? Sort the correct values in alphabetic order, before submitting your response."
   ]
  },
  {
   "cell_type": "markdown",
   "id": "3397433b-a9b1-4da2-b190-14550351a4d3",
   "metadata": {},
   "source": [
    "# 3.2 Which appliances were idle and when?"
   ]
  },
  {
   "cell_type": "code",
   "execution_count": 28,
   "id": "9cbdf144-cf0b-4859-9807-21d7c9b4677b",
   "metadata": {
    "tags": []
   },
   "outputs": [],
   "source": [
    "def check_idle(df):\n",
    "    df = pd.merge(df, maximum_network(df), how=\"left\", on=\"size\")\n",
    "    df['network_idle'] = df.apply(check_network, axis=1)\n",
    "    df['vcpu_idle'] = df.apply(check_vcpu, axis=1)\n",
    "    df['idle'] = df.apply(both_idle, axis=1)\n",
    "    return df"
   ]
  },
  {
   "cell_type": "code",
   "execution_count": 29,
   "id": "b05a58b4-3c42-4be5-aa23-9372182420eb",
   "metadata": {
    "tags": []
   },
   "outputs": [],
   "source": [
    "def both_idle(row):\n",
    "    if row['vcpu_idle'] == 'idle' and row['network_idle'] == 'idle':\n",
    "        return 'yes'\n",
    "    else:\n",
    "        return 'no'"
   ]
  },
  {
   "cell_type": "code",
   "execution_count": 30,
   "id": "a6430d31-b906-40ae-84ac-689b0179ac8c",
   "metadata": {
    "tags": []
   },
   "outputs": [],
   "source": [
    "def check_vcpu(row):\n",
    "    if row['type'] == 'deeplearning' and row['vcpu'] < 10 or row['vcpu'] < 5:\n",
    "        return 'idle'\n",
    "    else:\n",
    "        return ''"
   ]
  },
  {
   "cell_type": "code",
   "execution_count": 31,
   "id": "5a9b75b9-5803-4d7d-a939-8f7f974dc7f6",
   "metadata": {
    "tags": []
   },
   "outputs": [],
   "source": [
    "def check_network(row):\n",
    "    if row['net_in'] + row['net_out'] < row['net_max'] * 0.02:\n",
    "        return 'idle'\n",
    "    else:\n",
    "        return ''"
   ]
  },
  {
   "cell_type": "code",
   "execution_count": 32,
   "id": "4877c0cd-bdb3-4c10-be57-227ff5f57ab4",
   "metadata": {
    "tags": []
   },
   "outputs": [],
   "source": [
    "def maximum_network(df):\n",
    "    df = df[['size', 'net_in', 'net_out']]\n",
    "    df = df.groupby('size', as_index=False).agg(\"max\")\n",
    "    df['net_max'] = df['net_in'] + df['net_out']\n",
    "    df = df[['size', 'net_max']]\n",
    "    return df"
   ]
  },
  {
   "cell_type": "code",
   "execution_count": 33,
   "id": "54cc290b-803e-4bd9-8b38-78c6050c5063",
   "metadata": {
    "tags": []
   },
   "outputs": [],
   "source": [
    "def export_idle_verbose(df):\n",
    "    df = check_idle(df)\n",
    "    df = df[['id', 'data_timestamp', 'idle', 'vcpu_idle', 'vcpu',\n",
    "             'network_idle', 'net_in', 'net_out', 'net_max']]\n",
    "    df = df.drop_duplicates()\n",
    "    df = df.sort_values(['data_timestamp', 'id'], ascending=False)\n",
    "    return df"
   ]
  },
  {
   "cell_type": "code",
   "execution_count": 34,
   "id": "a9313d9d-92cc-4f50-b58b-d236fd2acc6f",
   "metadata": {
    "tags": []
   },
   "outputs": [],
   "source": [
    "def export_idle_final(df):\n",
    "    df = export_idle_verbose(df)\n",
    "    df = df[['id', 'data_timestamp', 'idle']]\n",
    "    return(df)"
   ]
  },
  {
   "cell_type": "code",
   "execution_count": 35,
   "id": "7136a743-97a7-459e-8756-3b6fda07aaea",
   "metadata": {
    "tags": []
   },
   "outputs": [
    {
     "data": {
      "text/html": [
       "<div>\n",
       "<style scoped>\n",
       "    .dataframe tbody tr th:only-of-type {\n",
       "        vertical-align: middle;\n",
       "    }\n",
       "\n",
       "    .dataframe tbody tr th {\n",
       "        vertical-align: top;\n",
       "    }\n",
       "\n",
       "    .dataframe thead th {\n",
       "        text-align: right;\n",
       "    }\n",
       "</style>\n",
       "<table border=\"1\" class=\"dataframe\">\n",
       "  <thead>\n",
       "    <tr style=\"text-align: right;\">\n",
       "      <th></th>\n",
       "      <th>id</th>\n",
       "      <th>data_timestamp</th>\n",
       "      <th>idle</th>\n",
       "      <th>vcpu_idle</th>\n",
       "      <th>vcpu</th>\n",
       "      <th>network_idle</th>\n",
       "      <th>net_in</th>\n",
       "      <th>net_out</th>\n",
       "      <th>net_max</th>\n",
       "    </tr>\n",
       "  </thead>\n",
       "  <tbody>\n",
       "    <tr>\n",
       "      <th>72777</th>\n",
       "      <td>i-0b981c18a1e484b20</td>\n",
       "      <td>2023-01-23 11:55:00</td>\n",
       "      <td>yes</td>\n",
       "      <td>idle</td>\n",
       "      <td>0.450000</td>\n",
       "      <td>idle</td>\n",
       "      <td>4.234580e+04</td>\n",
       "      <td>2.864380e+04</td>\n",
       "      <td>1.832294e+07</td>\n",
       "    </tr>\n",
       "    <tr>\n",
       "      <th>36057</th>\n",
       "      <td>i-0b464aceb0dd373fc</td>\n",
       "      <td>2023-01-23 11:55:00</td>\n",
       "      <td>no</td>\n",
       "      <td>idle</td>\n",
       "      <td>6.535667</td>\n",
       "      <td></td>\n",
       "      <td>1.923002e+09</td>\n",
       "      <td>2.217275e+09</td>\n",
       "      <td>6.278642e+09</td>\n",
       "    </tr>\n",
       "    <tr>\n",
       "      <th>0</th>\n",
       "      <td>i-0a16592fdb1239d51</td>\n",
       "      <td>2023-01-23 11:55:00</td>\n",
       "      <td>yes</td>\n",
       "      <td>idle</td>\n",
       "      <td>0.827669</td>\n",
       "      <td>idle</td>\n",
       "      <td>3.074120e+04</td>\n",
       "      <td>2.428980e+04</td>\n",
       "      <td>3.485612e+08</td>\n",
       "    </tr>\n",
       "    <tr>\n",
       "      <th>94170</th>\n",
       "      <td>i-091151b2c9f6411a5</td>\n",
       "      <td>2023-01-23 11:55:00</td>\n",
       "      <td>yes</td>\n",
       "      <td>idle</td>\n",
       "      <td>1.148337</td>\n",
       "      <td>idle</td>\n",
       "      <td>3.156120e+04</td>\n",
       "      <td>2.243460e+04</td>\n",
       "      <td>4.638630e+08</td>\n",
       "    </tr>\n",
       "    <tr>\n",
       "      <th>9846</th>\n",
       "      <td>i-080c53b1618bf299a</td>\n",
       "      <td>2023-01-23 11:55:00</td>\n",
       "      <td>yes</td>\n",
       "      <td>idle</td>\n",
       "      <td>0.396667</td>\n",
       "      <td>idle</td>\n",
       "      <td>1.932998e+05</td>\n",
       "      <td>4.896804e+05</td>\n",
       "      <td>3.142678e+09</td>\n",
       "    </tr>\n",
       "  </tbody>\n",
       "</table>\n",
       "</div>"
      ],
      "text/plain": [
       "                        id      data_timestamp idle vcpu_idle      vcpu  \\\n",
       "72777  i-0b981c18a1e484b20 2023-01-23 11:55:00  yes      idle  0.450000   \n",
       "36057  i-0b464aceb0dd373fc 2023-01-23 11:55:00   no      idle  6.535667   \n",
       "0      i-0a16592fdb1239d51 2023-01-23 11:55:00  yes      idle  0.827669   \n",
       "94170  i-091151b2c9f6411a5 2023-01-23 11:55:00  yes      idle  1.148337   \n",
       "9846   i-080c53b1618bf299a 2023-01-23 11:55:00  yes      idle  0.396667   \n",
       "\n",
       "      network_idle        net_in       net_out       net_max  \n",
       "72777         idle  4.234580e+04  2.864380e+04  1.832294e+07  \n",
       "36057               1.923002e+09  2.217275e+09  6.278642e+09  \n",
       "0             idle  3.074120e+04  2.428980e+04  3.485612e+08  \n",
       "94170         idle  3.156120e+04  2.243460e+04  4.638630e+08  \n",
       "9846          idle  1.932998e+05  4.896804e+05  3.142678e+09  "
      ]
     },
     "execution_count": 35,
     "metadata": {},
     "output_type": "execute_result"
    }
   ],
   "source": [
    "export_idle_verbose(df).head()"
   ]
  },
  {
   "cell_type": "code",
   "execution_count": 36,
   "id": "d595f3ae-baff-4977-9b1b-2f967670c029",
   "metadata": {
    "tags": []
   },
   "outputs": [
    {
     "data": {
      "text/html": [
       "<div>\n",
       "<style scoped>\n",
       "    .dataframe tbody tr th:only-of-type {\n",
       "        vertical-align: middle;\n",
       "    }\n",
       "\n",
       "    .dataframe tbody tr th {\n",
       "        vertical-align: top;\n",
       "    }\n",
       "\n",
       "    .dataframe thead th {\n",
       "        text-align: right;\n",
       "    }\n",
       "</style>\n",
       "<table border=\"1\" class=\"dataframe\">\n",
       "  <thead>\n",
       "    <tr style=\"text-align: right;\">\n",
       "      <th></th>\n",
       "      <th>id</th>\n",
       "      <th>data_timestamp</th>\n",
       "      <th>idle</th>\n",
       "    </tr>\n",
       "  </thead>\n",
       "  <tbody>\n",
       "    <tr>\n",
       "      <th>72777</th>\n",
       "      <td>i-0b981c18a1e484b20</td>\n",
       "      <td>2023-01-23 11:55:00</td>\n",
       "      <td>yes</td>\n",
       "    </tr>\n",
       "    <tr>\n",
       "      <th>36057</th>\n",
       "      <td>i-0b464aceb0dd373fc</td>\n",
       "      <td>2023-01-23 11:55:00</td>\n",
       "      <td>no</td>\n",
       "    </tr>\n",
       "    <tr>\n",
       "      <th>0</th>\n",
       "      <td>i-0a16592fdb1239d51</td>\n",
       "      <td>2023-01-23 11:55:00</td>\n",
       "      <td>yes</td>\n",
       "    </tr>\n",
       "    <tr>\n",
       "      <th>94170</th>\n",
       "      <td>i-091151b2c9f6411a5</td>\n",
       "      <td>2023-01-23 11:55:00</td>\n",
       "      <td>yes</td>\n",
       "    </tr>\n",
       "    <tr>\n",
       "      <th>9846</th>\n",
       "      <td>i-080c53b1618bf299a</td>\n",
       "      <td>2023-01-23 11:55:00</td>\n",
       "      <td>yes</td>\n",
       "    </tr>\n",
       "  </tbody>\n",
       "</table>\n",
       "</div>"
      ],
      "text/plain": [
       "                        id      data_timestamp idle\n",
       "72777  i-0b981c18a1e484b20 2023-01-23 11:55:00  yes\n",
       "36057  i-0b464aceb0dd373fc 2023-01-23 11:55:00   no\n",
       "0      i-0a16592fdb1239d51 2023-01-23 11:55:00  yes\n",
       "94170  i-091151b2c9f6411a5 2023-01-23 11:55:00  yes\n",
       "9846   i-080c53b1618bf299a 2023-01-23 11:55:00  yes"
      ]
     },
     "execution_count": 36,
     "metadata": {},
     "output_type": "execute_result"
    }
   ],
   "source": [
    "export_idle_final(df).head()"
   ]
  },
  {
   "cell_type": "markdown",
   "id": "bfe61813-6d02-4c15-8bae-c5e84de180be",
   "metadata": {},
   "source": [
    "# 3.3.1 How much costs did the appliances generate in the idle state?"
   ]
  },
  {
   "cell_type": "markdown",
   "id": "294bead6-e47e-4895-a56f-0ca3309b0c89",
   "metadata": {},
   "source": [
    "# 3.3.2 Compared to the total cost generated overall, how much percent are attributed to the idle appliances?"
   ]
  },
  {
   "cell_type": "code",
   "execution_count": null,
   "id": "550246aa-b755-486d-8e0f-8a4aa734347b",
   "metadata": {},
   "outputs": [],
   "source": []
  }
 ],
 "metadata": {
  "kernelspec": {
   "display_name": "Python 3 (ipykernel)",
   "language": "python",
   "name": "python3"
  },
  "language_info": {
   "codemirror_mode": {
    "name": "ipython",
    "version": 3
   },
   "file_extension": ".py",
   "mimetype": "text/x-python",
   "name": "python",
   "nbconvert_exporter": "python",
   "pygments_lexer": "ipython3",
   "version": "3.11.3"
  }
 },
 "nbformat": 4,
 "nbformat_minor": 5
}

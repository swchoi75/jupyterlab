{
 "cells": [
  {
   "cell_type": "code",
   "execution_count": 5,
   "metadata": {},
   "outputs": [],
   "source": [
    "# In Terminal, \"pip install ibis-framework[duckdb]\"\n",
    "import os\n",
    "import ibis\n",
    "from ibis import selectors as s\n",
    "from ibis import _\n",
    "ibis.options.interactive = True\n"
   ]
  },
  {
   "cell_type": "code",
   "execution_count": 6,
   "metadata": {},
   "outputs": [],
   "source": [
    "# Path\n",
    "path = \"../\"\n",
    "data_path = path + \"data/datathon/\"\n",
    "data_path = os.path.expanduser(path + \"data/datathon/\")"
   ]
  },
  {
   "cell_type": "code",
   "execution_count": 7,
   "metadata": {},
   "outputs": [
    {
     "data": {
      "text/plain": [
       "'../data/datathon/vgsales.parquet'"
      ]
     },
     "execution_count": 7,
     "metadata": {},
     "output_type": "execute_result"
    }
   ],
   "source": [
    "data_path + \"vgsales.parquet\""
   ]
  },
  {
   "cell_type": "code",
   "execution_count": 8,
   "metadata": {},
   "outputs": [],
   "source": [
    "# Source\n",
    "vgsales_original = ibis.read_csv(data_path + \"vgsales.csv\")\n",
    "vgsales_long = ibis.read_parquet(data_path + \"vgsales.parquet\")"
   ]
  },
  {
   "cell_type": "code",
   "execution_count": 9,
   "metadata": {},
   "outputs": [],
   "source": [
    "# Source\n",
    "pricing = ibis.read_parquet(data_path + \"pricing.parquet\")\n",
    "department = ibis.read_parquet(data_path + \"department.parquet\")\n",
    "metrics = ibis.read_parquet(data_path + \"metrics.parquet\")"
   ]
  },
  {
   "cell_type": "code",
   "execution_count": 10,
   "metadata": {},
   "outputs": [
    {
     "data": {
      "text/html": [
       "<pre style=\"white-space:pre;overflow-x:auto;line-height:normal;font-family:Menlo,'DejaVu Sans Mono',consolas,'Courier New',monospace\">┏━━━━━━━━━━━━┳━━━━━━━┳━━━━━━━━━┳━━━━━━━━━━━━━━━┓\n",
       "┃<span style=\"font-weight: bold\"> size       </span>┃<span style=\"font-weight: bold\"> vcpu  </span>┃<span style=\"font-weight: bold\"> memory  </span>┃<span style=\"font-weight: bold\"> cost_per_hour </span>┃\n",
       "┡━━━━━━━━━━━━╇━━━━━━━╇━━━━━━━━━╇━━━━━━━━━━━━━━━┩\n",
       "│ <span style=\"color: #7f7f7f; text-decoration-color: #7f7f7f\">string</span>     │ <span style=\"color: #7f7f7f; text-decoration-color: #7f7f7f\">int64</span> │ <span style=\"color: #7f7f7f; text-decoration-color: #7f7f7f\">float64</span> │ <span style=\"color: #7f7f7f; text-decoration-color: #7f7f7f\">float64</span>       │\n",
       "├────────────┼───────┼─────────┼───────────────┤\n",
       "│ <span style=\"color: #008000; text-decoration-color: #008000\">t3a.medium</span> │     <span style=\"color: #008080; text-decoration-color: #008080; font-weight: bold\">2</span> │     <span style=\"color: #008080; text-decoration-color: #008080; font-weight: bold\">4.0</span> │        <span style=\"color: #008080; text-decoration-color: #008080; font-weight: bold\">0.0376</span> │\n",
       "│ <span style=\"color: #008000; text-decoration-color: #008000\">t3.large  </span> │     <span style=\"color: #008080; text-decoration-color: #008080; font-weight: bold\">2</span> │     <span style=\"color: #008080; text-decoration-color: #008080; font-weight: bold\">8.0</span> │        <span style=\"color: #008080; text-decoration-color: #008080; font-weight: bold\">0.0832</span> │\n",
       "│ <span style=\"color: #008000; text-decoration-color: #008000\">t3.xlarge </span> │     <span style=\"color: #008080; text-decoration-color: #008080; font-weight: bold\">4</span> │    <span style=\"color: #008080; text-decoration-color: #008080; font-weight: bold\">16.0</span> │        <span style=\"color: #008080; text-decoration-color: #008080; font-weight: bold\">0.1664</span> │\n",
       "└────────────┴───────┴─────────┴───────────────┘\n",
       "</pre>\n"
      ],
      "text/plain": [
       "┏━━━━━━━━━━━━┳━━━━━━━┳━━━━━━━━━┳━━━━━━━━━━━━━━━┓\n",
       "┃\u001b[1m \u001b[0m\u001b[1msize\u001b[0m\u001b[1m      \u001b[0m\u001b[1m \u001b[0m┃\u001b[1m \u001b[0m\u001b[1mvcpu\u001b[0m\u001b[1m \u001b[0m\u001b[1m \u001b[0m┃\u001b[1m \u001b[0m\u001b[1mmemory\u001b[0m\u001b[1m \u001b[0m\u001b[1m \u001b[0m┃\u001b[1m \u001b[0m\u001b[1mcost_per_hour\u001b[0m\u001b[1m \u001b[0m┃\n",
       "┡━━━━━━━━━━━━╇━━━━━━━╇━━━━━━━━━╇━━━━━━━━━━━━━━━┩\n",
       "│ \u001b[2mstring\u001b[0m     │ \u001b[2mint64\u001b[0m │ \u001b[2mfloat64\u001b[0m │ \u001b[2mfloat64\u001b[0m       │\n",
       "├────────────┼───────┼─────────┼───────────────┤\n",
       "│ \u001b[32mt3a.medium\u001b[0m │     \u001b[1;36m2\u001b[0m │     \u001b[1;36m4.0\u001b[0m │        \u001b[1;36m0.0376\u001b[0m │\n",
       "│ \u001b[32mt3.large  \u001b[0m │     \u001b[1;36m2\u001b[0m │     \u001b[1;36m8.0\u001b[0m │        \u001b[1;36m0.0832\u001b[0m │\n",
       "│ \u001b[32mt3.xlarge \u001b[0m │     \u001b[1;36m4\u001b[0m │    \u001b[1;36m16.0\u001b[0m │        \u001b[1;36m0.1664\u001b[0m │\n",
       "└────────────┴───────┴─────────┴───────────────┘"
      ]
     },
     "execution_count": 10,
     "metadata": {},
     "output_type": "execute_result"
    }
   ],
   "source": [
    "pricing.head(3)"
   ]
  },
  {
   "cell_type": "markdown",
   "metadata": {},
   "source": [
    "### 1.2 How many departments use the appliances of the Data Platform?"
   ]
  },
  {
   "cell_type": "code",
   "execution_count": 11,
   "metadata": {},
   "outputs": [
    {
     "data": {
      "text/html": [
       "<pre style=\"white-space:pre;overflow-x:auto;line-height:normal;font-family:Menlo,'DejaVu Sans Mono',consolas,'Courier New',monospace\">┏━━━━━━━━━━━━━━━━━━━━━┳━━━━━━━━━┳━━━━━━━━━━━━━━━━━━━━━┳━━━━━━━━━┳━━━━━━━━━━┳━━━━━━━━━━━┳━━━━━━━━━━━━━━━━━━━━━┳━━━━━━━━━━━━━━━━━━━━━┳━━━━━━━━━━━━━━┳━━━━━━━━━━━━━━━━━━━━━┳━━━━━━━━━━━┳━━━━━━━━━━━━┓\n",
       "┃<span style=\"font-weight: bold\"> id                  </span>┃<span style=\"font-weight: bold\"> net_in  </span>┃<span style=\"font-weight: bold\"> data_timestamp      </span>┃<span style=\"font-weight: bold\"> net_out </span>┃<span style=\"font-weight: bold\"> vcpu     </span>┃<span style=\"font-weight: bold\"> disk_size </span>┃<span style=\"font-weight: bold\"> created_at          </span>┃<span style=\"font-weight: bold\"> updated_at          </span>┃<span style=\"font-weight: bold\"> type         </span>┃<span style=\"font-weight: bold\"> last_patch          </span>┃<span style=\"font-weight: bold\"> size      </span>┃<span style=\"font-weight: bold\"> department </span>┃\n",
       "┡━━━━━━━━━━━━━━━━━━━━━╇━━━━━━━━━╇━━━━━━━━━━━━━━━━━━━━━╇━━━━━━━━━╇━━━━━━━━━━╇━━━━━━━━━━━╇━━━━━━━━━━━━━━━━━━━━━╇━━━━━━━━━━━━━━━━━━━━━╇━━━━━━━━━━━━━━╇━━━━━━━━━━━━━━━━━━━━━╇━━━━━━━━━━━╇━━━━━━━━━━━━┩\n",
       "│ <span style=\"color: #7f7f7f; text-decoration-color: #7f7f7f\">string</span>              │ <span style=\"color: #7f7f7f; text-decoration-color: #7f7f7f\">float64</span> │ <span style=\"color: #7f7f7f; text-decoration-color: #7f7f7f\">timestamp</span>           │ <span style=\"color: #7f7f7f; text-decoration-color: #7f7f7f\">float64</span> │ <span style=\"color: #7f7f7f; text-decoration-color: #7f7f7f\">float64</span>  │ <span style=\"color: #7f7f7f; text-decoration-color: #7f7f7f\">int64</span>     │ <span style=\"color: #7f7f7f; text-decoration-color: #7f7f7f\">timestamp</span>           │ <span style=\"color: #7f7f7f; text-decoration-color: #7f7f7f\">timestamp</span>           │ <span style=\"color: #7f7f7f; text-decoration-color: #7f7f7f\">string</span>       │ <span style=\"color: #7f7f7f; text-decoration-color: #7f7f7f\">timestamp</span>           │ <span style=\"color: #7f7f7f; text-decoration-color: #7f7f7f\">string</span>    │ <span style=\"color: #7f7f7f; text-decoration-color: #7f7f7f\">string</span>     │\n",
       "├─────────────────────┼─────────┼─────────────────────┼─────────┼──────────┼───────────┼─────────────────────┼─────────────────────┼──────────────┼─────────────────────┼───────────┼────────────┤\n",
       "│ <span style=\"color: #008000; text-decoration-color: #008000\">i-0a16592fdb1239d51</span> │ <span style=\"color: #008080; text-decoration-color: #008080; font-weight: bold\">30741.2</span> │ <span style=\"color: #800080; text-decoration-color: #800080\">2023-01-23 11:55:00</span> │ <span style=\"color: #008080; text-decoration-color: #008080; font-weight: bold\">24289.8</span> │ <span style=\"color: #008080; text-decoration-color: #008080; font-weight: bold\">0.827669</span> │       <span style=\"color: #008080; text-decoration-color: #008080; font-weight: bold\">240</span> │ <span style=\"color: #800080; text-decoration-color: #800080\">2022-12-06 10:34:00</span> │ <span style=\"color: #800080; text-decoration-color: #800080\">2023-01-21 08:08:00</span> │ <span style=\"color: #008000; text-decoration-color: #008000\">deeplearning</span> │ <span style=\"color: #800080; text-decoration-color: #800080\">2023-12-01 16:22:00</span> │ <span style=\"color: #008000; text-decoration-color: #008000\">t3.xlarge</span> │ <span style=\"color: #008000; text-decoration-color: #008000\">Marketing </span> │\n",
       "│ <span style=\"color: #008000; text-decoration-color: #008000\">i-0a16592fdb1239d51</span> │ <span style=\"color: #008080; text-decoration-color: #008080; font-weight: bold\">30741.2</span> │ <span style=\"color: #800080; text-decoration-color: #800080\">2023-01-23 11:55:00</span> │ <span style=\"color: #008080; text-decoration-color: #008080; font-weight: bold\">24289.8</span> │ <span style=\"color: #008080; text-decoration-color: #008080; font-weight: bold\">0.827669</span> │       <span style=\"color: #008080; text-decoration-color: #008080; font-weight: bold\">240</span> │ <span style=\"color: #800080; text-decoration-color: #800080\">2022-12-06 10:34:00</span> │ <span style=\"color: #800080; text-decoration-color: #800080\">2023-01-21 08:08:00</span> │ <span style=\"color: #008000; text-decoration-color: #008000\">deeplearning</span> │ <span style=\"color: #800080; text-decoration-color: #800080\">2023-12-01 16:22:00</span> │ <span style=\"color: #008000; text-decoration-color: #008000\">t3.xlarge</span> │ <span style=\"color: #008000; text-decoration-color: #008000\">Marketing </span> │\n",
       "│ <span style=\"color: #008000; text-decoration-color: #008000\">i-0a16592fdb1239d51</span> │ <span style=\"color: #008080; text-decoration-color: #008080; font-weight: bold\">30741.2</span> │ <span style=\"color: #800080; text-decoration-color: #800080\">2023-01-23 11:55:00</span> │ <span style=\"color: #008080; text-decoration-color: #008080; font-weight: bold\">24289.8</span> │ <span style=\"color: #008080; text-decoration-color: #008080; font-weight: bold\">0.827669</span> │       <span style=\"color: #008080; text-decoration-color: #008080; font-weight: bold\">240</span> │ <span style=\"color: #800080; text-decoration-color: #800080\">2022-12-06 10:34:00</span> │ <span style=\"color: #800080; text-decoration-color: #800080\">2023-01-21 08:08:00</span> │ <span style=\"color: #008000; text-decoration-color: #008000\">deeplearning</span> │ <span style=\"color: #800080; text-decoration-color: #800080\">2023-12-01 16:22:00</span> │ <span style=\"color: #008000; text-decoration-color: #008000\">t3.xlarge</span> │ <span style=\"color: #008000; text-decoration-color: #008000\">Marketing </span> │\n",
       "└─────────────────────┴─────────┴─────────────────────┴─────────┴──────────┴───────────┴─────────────────────┴─────────────────────┴──────────────┴─────────────────────┴───────────┴────────────┘\n",
       "</pre>\n"
      ],
      "text/plain": [
       "┏━━━━━━━━━━━━━━━━━━━━━┳━━━━━━━━━┳━━━━━━━━━━━━━━━━━━━━━┳━━━━━━━━━┳━━━━━━━━━━┳━━━━━━━━━━━┳━━━━━━━━━━━━━━━━━━━━━┳━━━━━━━━━━━━━━━━━━━━━┳━━━━━━━━━━━━━━┳━━━━━━━━━━━━━━━━━━━━━┳━━━━━━━━━━━┳━━━━━━━━━━━━┓\n",
       "┃\u001b[1m \u001b[0m\u001b[1mid\u001b[0m\u001b[1m                 \u001b[0m\u001b[1m \u001b[0m┃\u001b[1m \u001b[0m\u001b[1mnet_in\u001b[0m\u001b[1m \u001b[0m\u001b[1m \u001b[0m┃\u001b[1m \u001b[0m\u001b[1mdata_timestamp\u001b[0m\u001b[1m     \u001b[0m\u001b[1m \u001b[0m┃\u001b[1m \u001b[0m\u001b[1mnet_out\u001b[0m\u001b[1m \u001b[0m┃\u001b[1m \u001b[0m\u001b[1mvcpu\u001b[0m\u001b[1m    \u001b[0m\u001b[1m \u001b[0m┃\u001b[1m \u001b[0m\u001b[1mdisk_size\u001b[0m\u001b[1m \u001b[0m┃\u001b[1m \u001b[0m\u001b[1mcreated_at\u001b[0m\u001b[1m         \u001b[0m\u001b[1m \u001b[0m┃\u001b[1m \u001b[0m\u001b[1mupdated_at\u001b[0m\u001b[1m         \u001b[0m\u001b[1m \u001b[0m┃\u001b[1m \u001b[0m\u001b[1mtype\u001b[0m\u001b[1m        \u001b[0m\u001b[1m \u001b[0m┃\u001b[1m \u001b[0m\u001b[1mlast_patch\u001b[0m\u001b[1m         \u001b[0m\u001b[1m \u001b[0m┃\u001b[1m \u001b[0m\u001b[1msize\u001b[0m\u001b[1m     \u001b[0m\u001b[1m \u001b[0m┃\u001b[1m \u001b[0m\u001b[1mdepartment\u001b[0m\u001b[1m \u001b[0m┃\n",
       "┡━━━━━━━━━━━━━━━━━━━━━╇━━━━━━━━━╇━━━━━━━━━━━━━━━━━━━━━╇━━━━━━━━━╇━━━━━━━━━━╇━━━━━━━━━━━╇━━━━━━━━━━━━━━━━━━━━━╇━━━━━━━━━━━━━━━━━━━━━╇━━━━━━━━━━━━━━╇━━━━━━━━━━━━━━━━━━━━━╇━━━━━━━━━━━╇━━━━━━━━━━━━┩\n",
       "│ \u001b[2mstring\u001b[0m              │ \u001b[2mfloat64\u001b[0m │ \u001b[2mtimestamp\u001b[0m           │ \u001b[2mfloat64\u001b[0m │ \u001b[2mfloat64\u001b[0m  │ \u001b[2mint64\u001b[0m     │ \u001b[2mtimestamp\u001b[0m           │ \u001b[2mtimestamp\u001b[0m           │ \u001b[2mstring\u001b[0m       │ \u001b[2mtimestamp\u001b[0m           │ \u001b[2mstring\u001b[0m    │ \u001b[2mstring\u001b[0m     │\n",
       "├─────────────────────┼─────────┼─────────────────────┼─────────┼──────────┼───────────┼─────────────────────┼─────────────────────┼──────────────┼─────────────────────┼───────────┼────────────┤\n",
       "│ \u001b[32mi-0a16592fdb1239d51\u001b[0m │ \u001b[1;36m30741.2\u001b[0m │ \u001b[35m2023-01-23 11:55:00\u001b[0m │ \u001b[1;36m24289.8\u001b[0m │ \u001b[1;36m0.827669\u001b[0m │       \u001b[1;36m240\u001b[0m │ \u001b[35m2022-12-06 10:34:00\u001b[0m │ \u001b[35m2023-01-21 08:08:00\u001b[0m │ \u001b[32mdeeplearning\u001b[0m │ \u001b[35m2023-12-01 16:22:00\u001b[0m │ \u001b[32mt3.xlarge\u001b[0m │ \u001b[32mMarketing \u001b[0m │\n",
       "│ \u001b[32mi-0a16592fdb1239d51\u001b[0m │ \u001b[1;36m30741.2\u001b[0m │ \u001b[35m2023-01-23 11:55:00\u001b[0m │ \u001b[1;36m24289.8\u001b[0m │ \u001b[1;36m0.827669\u001b[0m │       \u001b[1;36m240\u001b[0m │ \u001b[35m2022-12-06 10:34:00\u001b[0m │ \u001b[35m2023-01-21 08:08:00\u001b[0m │ \u001b[32mdeeplearning\u001b[0m │ \u001b[35m2023-12-01 16:22:00\u001b[0m │ \u001b[32mt3.xlarge\u001b[0m │ \u001b[32mMarketing \u001b[0m │\n",
       "│ \u001b[32mi-0a16592fdb1239d51\u001b[0m │ \u001b[1;36m30741.2\u001b[0m │ \u001b[35m2023-01-23 11:55:00\u001b[0m │ \u001b[1;36m24289.8\u001b[0m │ \u001b[1;36m0.827669\u001b[0m │       \u001b[1;36m240\u001b[0m │ \u001b[35m2022-12-06 10:34:00\u001b[0m │ \u001b[35m2023-01-21 08:08:00\u001b[0m │ \u001b[32mdeeplearning\u001b[0m │ \u001b[35m2023-12-01 16:22:00\u001b[0m │ \u001b[32mt3.xlarge\u001b[0m │ \u001b[32mMarketing \u001b[0m │\n",
       "└─────────────────────┴─────────┴─────────────────────┴─────────┴──────────┴───────────┴─────────────────────┴─────────────────────┴──────────────┴─────────────────────┴───────────┴────────────┘"
      ]
     },
     "execution_count": 11,
     "metadata": {},
     "output_type": "execute_result"
    }
   ],
   "source": [
    "metrics_department = metrics.join(department, \"id\", how = \"left\").select(~s.matches(\"id_right\"))\n",
    "metrics_department.head(3)"
   ]
  },
  {
   "cell_type": "code",
   "execution_count": 12,
   "metadata": {},
   "outputs": [
    {
     "data": {
      "text/html": [
       "<pre style=\"white-space:pre;overflow-x:auto;line-height:normal;font-family:Menlo,'DejaVu Sans Mono',consolas,'Courier New',monospace\">┏━━━━━━━━━━━━━━━━━━━━━┳━━━━━━━━━━━━┳━━━━━━━━━━━┳━━━━━━━━━━━━━━┳━━━━━━━━━━━━━┓\n",
       "┃<span style=\"font-weight: bold\"> id                  </span>┃<span style=\"font-weight: bold\"> department </span>┃<span style=\"font-weight: bold\"> disk_size </span>┃<span style=\"font-weight: bold\"> type         </span>┃<span style=\"font-weight: bold\"> size        </span>┃\n",
       "┡━━━━━━━━━━━━━━━━━━━━━╇━━━━━━━━━━━━╇━━━━━━━━━━━╇━━━━━━━━━━━━━━╇━━━━━━━━━━━━━┩\n",
       "│ <span style=\"color: #7f7f7f; text-decoration-color: #7f7f7f\">string</span>              │ <span style=\"color: #7f7f7f; text-decoration-color: #7f7f7f\">string</span>     │ <span style=\"color: #7f7f7f; text-decoration-color: #7f7f7f\">int64</span>     │ <span style=\"color: #7f7f7f; text-decoration-color: #7f7f7f\">string</span>       │ <span style=\"color: #7f7f7f; text-decoration-color: #7f7f7f\">string</span>      │\n",
       "├─────────────────────┼────────────┼───────────┼──────────────┼─────────────┤\n",
       "│ <span style=\"color: #008000; text-decoration-color: #008000\">i-0a16592fdb1239d51</span> │ <span style=\"color: #008000; text-decoration-color: #008000\">Marketing </span> │       <span style=\"color: #008080; text-decoration-color: #008080; font-weight: bold\">240</span> │ <span style=\"color: #008000; text-decoration-color: #008000\">deeplearning</span> │ <span style=\"color: #008000; text-decoration-color: #008000\">t3.xlarge  </span> │\n",
       "│ <span style=\"color: #008000; text-decoration-color: #008000\">i-080c53b1618bf299a</span> │ <span style=\"color: #008000; text-decoration-color: #008000\">IT        </span> │        <span style=\"color: #008080; text-decoration-color: #008080; font-weight: bold\">90</span> │ <span style=\"color: #008000; text-decoration-color: #008000\">rstudio     </span> │ <span style=\"color: #008000; text-decoration-color: #008000\">r5a.2xlarge</span> │\n",
       "│ <span style=\"color: #008000; text-decoration-color: #008000\">i-0b464aceb0dd373fc</span> │ <span style=\"color: #008000; text-decoration-color: #008000\">Sales     </span> │       <span style=\"color: #008080; text-decoration-color: #008080; font-weight: bold\">240</span> │ <span style=\"color: #008000; text-decoration-color: #008000\">deeplearning</span> │ <span style=\"color: #008000; text-decoration-color: #008000\">r5.2xlarge </span> │\n",
       "└─────────────────────┴────────────┴───────────┴──────────────┴─────────────┘\n",
       "</pre>\n"
      ],
      "text/plain": [
       "┏━━━━━━━━━━━━━━━━━━━━━┳━━━━━━━━━━━━┳━━━━━━━━━━━┳━━━━━━━━━━━━━━┳━━━━━━━━━━━━━┓\n",
       "┃\u001b[1m \u001b[0m\u001b[1mid\u001b[0m\u001b[1m                 \u001b[0m\u001b[1m \u001b[0m┃\u001b[1m \u001b[0m\u001b[1mdepartment\u001b[0m\u001b[1m \u001b[0m┃\u001b[1m \u001b[0m\u001b[1mdisk_size\u001b[0m\u001b[1m \u001b[0m┃\u001b[1m \u001b[0m\u001b[1mtype\u001b[0m\u001b[1m        \u001b[0m\u001b[1m \u001b[0m┃\u001b[1m \u001b[0m\u001b[1msize\u001b[0m\u001b[1m       \u001b[0m\u001b[1m \u001b[0m┃\n",
       "┡━━━━━━━━━━━━━━━━━━━━━╇━━━━━━━━━━━━╇━━━━━━━━━━━╇━━━━━━━━━━━━━━╇━━━━━━━━━━━━━┩\n",
       "│ \u001b[2mstring\u001b[0m              │ \u001b[2mstring\u001b[0m     │ \u001b[2mint64\u001b[0m     │ \u001b[2mstring\u001b[0m       │ \u001b[2mstring\u001b[0m      │\n",
       "├─────────────────────┼────────────┼───────────┼──────────────┼─────────────┤\n",
       "│ \u001b[32mi-0a16592fdb1239d51\u001b[0m │ \u001b[32mMarketing \u001b[0m │       \u001b[1;36m240\u001b[0m │ \u001b[32mdeeplearning\u001b[0m │ \u001b[32mt3.xlarge  \u001b[0m │\n",
       "│ \u001b[32mi-080c53b1618bf299a\u001b[0m │ \u001b[32mIT        \u001b[0m │        \u001b[1;36m90\u001b[0m │ \u001b[32mrstudio     \u001b[0m │ \u001b[32mr5a.2xlarge\u001b[0m │\n",
       "│ \u001b[32mi-0b464aceb0dd373fc\u001b[0m │ \u001b[32mSales     \u001b[0m │       \u001b[1;36m240\u001b[0m │ \u001b[32mdeeplearning\u001b[0m │ \u001b[32mr5.2xlarge \u001b[0m │\n",
       "└─────────────────────┴────────────┴───────────┴──────────────┴─────────────┘"
      ]
     },
     "execution_count": 12,
     "metadata": {},
     "output_type": "execute_result"
    }
   ],
   "source": [
    "metrics_unique = metrics_department.group_by([\"id\", \"department\", \"disk_size\", \"type\", \"size\"]).aggregate()\n",
    "metrics_unique.head(3)"
   ]
  },
  {
   "cell_type": "code",
   "execution_count": 13,
   "metadata": {},
   "outputs": [
    {
     "data": {
      "text/html": [
       "<pre style=\"white-space:pre;overflow-x:auto;line-height:normal;font-family:Menlo,'DejaVu Sans Mono',consolas,'Courier New',monospace\">┏━━━━━━━━━━━━━┳━━━━━━━━━━━━━━━━━━┓\n",
       "┃<span style=\"font-weight: bold\"> department  </span>┃<span style=\"font-weight: bold\"> count_department </span>┃\n",
       "┡━━━━━━━━━━━━━╇━━━━━━━━━━━━━━━━━━┩\n",
       "│ <span style=\"color: #7f7f7f; text-decoration-color: #7f7f7f\">string</span>      │ <span style=\"color: #7f7f7f; text-decoration-color: #7f7f7f\">int64</span>            │\n",
       "├─────────────┼──────────────────┤\n",
       "│ <span style=\"color: #008000; text-decoration-color: #008000\">Sales      </span> │               <span style=\"color: #008080; text-decoration-color: #008080; font-weight: bold\">10</span> │\n",
       "│ <span style=\"color: #008000; text-decoration-color: #008000\">IT         </span> │                <span style=\"color: #008080; text-decoration-color: #008080; font-weight: bold\">6</span> │\n",
       "│ <span style=\"color: #008000; text-decoration-color: #008000\">HR         </span> │                <span style=\"color: #008080; text-decoration-color: #008080; font-weight: bold\">6</span> │\n",
       "│ <span style=\"color: #008000; text-decoration-color: #008000\">Engineering</span> │                <span style=\"color: #008080; text-decoration-color: #008080; font-weight: bold\">5</span> │\n",
       "│ <span style=\"color: #008000; text-decoration-color: #008000\">Marketing  </span> │                <span style=\"color: #008080; text-decoration-color: #008080; font-weight: bold\">3</span> │\n",
       "│ <span style=\"color: #008000; text-decoration-color: #008000\">Operations </span> │                <span style=\"color: #008080; text-decoration-color: #008080; font-weight: bold\">3</span> │\n",
       "└─────────────┴──────────────────┘\n",
       "</pre>\n"
      ],
      "text/plain": [
       "┏━━━━━━━━━━━━━┳━━━━━━━━━━━━━━━━━━┓\n",
       "┃\u001b[1m \u001b[0m\u001b[1mdepartment\u001b[0m\u001b[1m \u001b[0m\u001b[1m \u001b[0m┃\u001b[1m \u001b[0m\u001b[1mcount_department\u001b[0m\u001b[1m \u001b[0m┃\n",
       "┡━━━━━━━━━━━━━╇━━━━━━━━━━━━━━━━━━┩\n",
       "│ \u001b[2mstring\u001b[0m      │ \u001b[2mint64\u001b[0m            │\n",
       "├─────────────┼──────────────────┤\n",
       "│ \u001b[32mSales      \u001b[0m │               \u001b[1;36m10\u001b[0m │\n",
       "│ \u001b[32mIT         \u001b[0m │                \u001b[1;36m6\u001b[0m │\n",
       "│ \u001b[32mHR         \u001b[0m │                \u001b[1;36m6\u001b[0m │\n",
       "│ \u001b[32mEngineering\u001b[0m │                \u001b[1;36m5\u001b[0m │\n",
       "│ \u001b[32mMarketing  \u001b[0m │                \u001b[1;36m3\u001b[0m │\n",
       "│ \u001b[32mOperations \u001b[0m │                \u001b[1;36m3\u001b[0m │\n",
       "└─────────────┴──────────────────┘"
      ]
     },
     "execution_count": 13,
     "metadata": {},
     "output_type": "execute_result"
    }
   ],
   "source": [
    "t = metrics_unique.group_by(\"department\").aggregate(count_department = _.department.count())\n",
    "t.order_by(ibis.desc(\"count_department\"))"
   ]
  },
  {
   "cell_type": "markdown",
   "metadata": {},
   "source": [
    "### 1.3 What is the most popular appliance size used by all departments? And how many of those popular sizes did you find in the whole dataset?"
   ]
  },
  {
   "cell_type": "code",
   "execution_count": 14,
   "metadata": {},
   "outputs": [
    {
     "data": {
      "text/html": [
       "<pre style=\"white-space:pre;overflow-x:auto;line-height:normal;font-family:Menlo,'DejaVu Sans Mono',consolas,'Courier New',monospace\">┏━━━━━━━━━━━━━┳━━━━━━━━━━━━┓\n",
       "┃<span style=\"font-weight: bold\"> size        </span>┃<span style=\"font-weight: bold\"> count_size </span>┃\n",
       "┡━━━━━━━━━━━━━╇━━━━━━━━━━━━┩\n",
       "│ <span style=\"color: #7f7f7f; text-decoration-color: #7f7f7f\">string</span>      │ <span style=\"color: #7f7f7f; text-decoration-color: #7f7f7f\">int64</span>      │\n",
       "├─────────────┼────────────┤\n",
       "│ <span style=\"color: #008000; text-decoration-color: #008000\">t3a.medium </span> │         <span style=\"color: #008080; text-decoration-color: #008080; font-weight: bold\">21</span> │\n",
       "│ <span style=\"color: #008000; text-decoration-color: #008000\">r5a.2xlarge</span> │          <span style=\"color: #008080; text-decoration-color: #008080; font-weight: bold\">2</span> │\n",
       "│ <span style=\"color: #008000; text-decoration-color: #008000\">t3a.2xlarge</span> │          <span style=\"color: #008080; text-decoration-color: #008080; font-weight: bold\">2</span> │\n",
       "│ <span style=\"color: #008000; text-decoration-color: #008000\">c5.4xlarge </span> │          <span style=\"color: #008080; text-decoration-color: #008080; font-weight: bold\">2</span> │\n",
       "│ <span style=\"color: #008000; text-decoration-color: #008000\">t3.xlarge  </span> │          <span style=\"color: #008080; text-decoration-color: #008080; font-weight: bold\">1</span> │\n",
       "│ <span style=\"color: #008000; text-decoration-color: #008000\">r5.2xlarge </span> │          <span style=\"color: #008080; text-decoration-color: #008080; font-weight: bold\">1</span> │\n",
       "│ <span style=\"color: #008000; text-decoration-color: #008000\">t3.large   </span> │          <span style=\"color: #008080; text-decoration-color: #008080; font-weight: bold\">1</span> │\n",
       "│ <span style=\"color: #008000; text-decoration-color: #008000\">g3s.xlarge </span> │          <span style=\"color: #008080; text-decoration-color: #008080; font-weight: bold\">1</span> │\n",
       "│ <span style=\"color: #008000; text-decoration-color: #008000\">m5d.xlarge </span> │          <span style=\"color: #008080; text-decoration-color: #008080; font-weight: bold\">1</span> │\n",
       "│ <span style=\"color: #008000; text-decoration-color: #008000\">t3a.xlarge </span> │          <span style=\"color: #008080; text-decoration-color: #008080; font-weight: bold\">1</span> │\n",
       "└─────────────┴────────────┘\n",
       "</pre>\n"
      ],
      "text/plain": [
       "┏━━━━━━━━━━━━━┳━━━━━━━━━━━━┓\n",
       "┃\u001b[1m \u001b[0m\u001b[1msize\u001b[0m\u001b[1m       \u001b[0m\u001b[1m \u001b[0m┃\u001b[1m \u001b[0m\u001b[1mcount_size\u001b[0m\u001b[1m \u001b[0m┃\n",
       "┡━━━━━━━━━━━━━╇━━━━━━━━━━━━┩\n",
       "│ \u001b[2mstring\u001b[0m      │ \u001b[2mint64\u001b[0m      │\n",
       "├─────────────┼────────────┤\n",
       "│ \u001b[32mt3a.medium \u001b[0m │         \u001b[1;36m21\u001b[0m │\n",
       "│ \u001b[32mr5a.2xlarge\u001b[0m │          \u001b[1;36m2\u001b[0m │\n",
       "│ \u001b[32mt3a.2xlarge\u001b[0m │          \u001b[1;36m2\u001b[0m │\n",
       "│ \u001b[32mc5.4xlarge \u001b[0m │          \u001b[1;36m2\u001b[0m │\n",
       "│ \u001b[32mt3.xlarge  \u001b[0m │          \u001b[1;36m1\u001b[0m │\n",
       "│ \u001b[32mr5.2xlarge \u001b[0m │          \u001b[1;36m1\u001b[0m │\n",
       "│ \u001b[32mt3.large   \u001b[0m │          \u001b[1;36m1\u001b[0m │\n",
       "│ \u001b[32mg3s.xlarge \u001b[0m │          \u001b[1;36m1\u001b[0m │\n",
       "│ \u001b[32mm5d.xlarge \u001b[0m │          \u001b[1;36m1\u001b[0m │\n",
       "│ \u001b[32mt3a.xlarge \u001b[0m │          \u001b[1;36m1\u001b[0m │\n",
       "└─────────────┴────────────┘"
      ]
     },
     "execution_count": 14,
     "metadata": {},
     "output_type": "execute_result"
    }
   ],
   "source": [
    "t = metrics_unique.group_by(\"size\").aggregate(count_size = _.size.count())\n",
    "t.order_by(ibis.desc(\"count_size\"))"
   ]
  },
  {
   "cell_type": "markdown",
   "metadata": {},
   "source": [
    "### 2.1 Which is the most popular appliance type per department?"
   ]
  },
  {
   "cell_type": "code",
   "execution_count": 15,
   "metadata": {},
   "outputs": [
    {
     "data": {
      "text/html": [
       "<pre style=\"white-space:pre;overflow-x:auto;line-height:normal;font-family:Menlo,'DejaVu Sans Mono',consolas,'Courier New',monospace\">┏━━━━━━━━━━━━━┳━━━━━━━━━━━━━━┳━━━━━━━━━━━━━━━━━━━━━┓\n",
       "┃<span style=\"font-weight: bold\"> department  </span>┃<span style=\"font-weight: bold\"> type         </span>┃<span style=\"font-weight: bold\"> type_per_department </span>┃\n",
       "┡━━━━━━━━━━━━━╇━━━━━━━━━━━━━━╇━━━━━━━━━━━━━━━━━━━━━┩\n",
       "│ <span style=\"color: #7f7f7f; text-decoration-color: #7f7f7f\">string</span>      │ <span style=\"color: #7f7f7f; text-decoration-color: #7f7f7f\">string</span>       │ <span style=\"color: #7f7f7f; text-decoration-color: #7f7f7f\">int64</span>               │\n",
       "├─────────────┼──────────────┼─────────────────────┤\n",
       "│ <span style=\"color: #008000; text-decoration-color: #008000\">Engineering</span> │ <span style=\"color: #008000; text-decoration-color: #008000\">jupyter     </span> │                   <span style=\"color: #008080; text-decoration-color: #008080; font-weight: bold\">3</span> │\n",
       "│ <span style=\"color: #008000; text-decoration-color: #008000\">Engineering</span> │ <span style=\"color: #008000; text-decoration-color: #008000\">knime       </span> │                   <span style=\"color: #008080; text-decoration-color: #008080; font-weight: bold\">1</span> │\n",
       "│ <span style=\"color: #008000; text-decoration-color: #008000\">Engineering</span> │ <span style=\"color: #008000; text-decoration-color: #008000\">rstudio     </span> │                   <span style=\"color: #008080; text-decoration-color: #008080; font-weight: bold\">1</span> │\n",
       "│ <span style=\"color: #008000; text-decoration-color: #008000\">HR         </span> │ <span style=\"color: #008000; text-decoration-color: #008000\">knime       </span> │                   <span style=\"color: #008080; text-decoration-color: #008080; font-weight: bold\">5</span> │\n",
       "│ <span style=\"color: #008000; text-decoration-color: #008000\">HR         </span> │ <span style=\"color: #008000; text-decoration-color: #008000\">deeplearning</span> │                   <span style=\"color: #008080; text-decoration-color: #008080; font-weight: bold\">1</span> │\n",
       "│ <span style=\"color: #008000; text-decoration-color: #008000\">IT         </span> │ <span style=\"color: #008000; text-decoration-color: #008000\">jupyter     </span> │                   <span style=\"color: #008080; text-decoration-color: #008080; font-weight: bold\">3</span> │\n",
       "│ <span style=\"color: #008000; text-decoration-color: #008000\">IT         </span> │ <span style=\"color: #008000; text-decoration-color: #008000\">rstudio     </span> │                   <span style=\"color: #008080; text-decoration-color: #008080; font-weight: bold\">2</span> │\n",
       "│ <span style=\"color: #008000; text-decoration-color: #008000\">IT         </span> │ <span style=\"color: #008000; text-decoration-color: #008000\">knime       </span> │                   <span style=\"color: #008080; text-decoration-color: #008080; font-weight: bold\">1</span> │\n",
       "│ <span style=\"color: #008000; text-decoration-color: #008000\">Marketing  </span> │ <span style=\"color: #008000; text-decoration-color: #008000\">matlab      </span> │                   <span style=\"color: #008080; text-decoration-color: #008080; font-weight: bold\">2</span> │\n",
       "│ <span style=\"color: #008000; text-decoration-color: #008000\">Marketing  </span> │ <span style=\"color: #008000; text-decoration-color: #008000\">deeplearning</span> │                   <span style=\"color: #008080; text-decoration-color: #008080; font-weight: bold\">1</span> │\n",
       "│ <span style=\"color: #7f7f7f; text-decoration-color: #7f7f7f\">…</span>           │ <span style=\"color: #7f7f7f; text-decoration-color: #7f7f7f\">…</span>            │                   <span style=\"color: #7f7f7f; text-decoration-color: #7f7f7f\">…</span> │\n",
       "└─────────────┴──────────────┴─────────────────────┘\n",
       "</pre>\n"
      ],
      "text/plain": [
       "┏━━━━━━━━━━━━━┳━━━━━━━━━━━━━━┳━━━━━━━━━━━━━━━━━━━━━┓\n",
       "┃\u001b[1m \u001b[0m\u001b[1mdepartment\u001b[0m\u001b[1m \u001b[0m\u001b[1m \u001b[0m┃\u001b[1m \u001b[0m\u001b[1mtype\u001b[0m\u001b[1m        \u001b[0m\u001b[1m \u001b[0m┃\u001b[1m \u001b[0m\u001b[1mtype_per_department\u001b[0m\u001b[1m \u001b[0m┃\n",
       "┡━━━━━━━━━━━━━╇━━━━━━━━━━━━━━╇━━━━━━━━━━━━━━━━━━━━━┩\n",
       "│ \u001b[2mstring\u001b[0m      │ \u001b[2mstring\u001b[0m       │ \u001b[2mint64\u001b[0m               │\n",
       "├─────────────┼──────────────┼─────────────────────┤\n",
       "│ \u001b[32mEngineering\u001b[0m │ \u001b[32mjupyter     \u001b[0m │                   \u001b[1;36m3\u001b[0m │\n",
       "│ \u001b[32mEngineering\u001b[0m │ \u001b[32mknime       \u001b[0m │                   \u001b[1;36m1\u001b[0m │\n",
       "│ \u001b[32mEngineering\u001b[0m │ \u001b[32mrstudio     \u001b[0m │                   \u001b[1;36m1\u001b[0m │\n",
       "│ \u001b[32mHR         \u001b[0m │ \u001b[32mknime       \u001b[0m │                   \u001b[1;36m5\u001b[0m │\n",
       "│ \u001b[32mHR         \u001b[0m │ \u001b[32mdeeplearning\u001b[0m │                   \u001b[1;36m1\u001b[0m │\n",
       "│ \u001b[32mIT         \u001b[0m │ \u001b[32mjupyter     \u001b[0m │                   \u001b[1;36m3\u001b[0m │\n",
       "│ \u001b[32mIT         \u001b[0m │ \u001b[32mrstudio     \u001b[0m │                   \u001b[1;36m2\u001b[0m │\n",
       "│ \u001b[32mIT         \u001b[0m │ \u001b[32mknime       \u001b[0m │                   \u001b[1;36m1\u001b[0m │\n",
       "│ \u001b[32mMarketing  \u001b[0m │ \u001b[32mmatlab      \u001b[0m │                   \u001b[1;36m2\u001b[0m │\n",
       "│ \u001b[32mMarketing  \u001b[0m │ \u001b[32mdeeplearning\u001b[0m │                   \u001b[1;36m1\u001b[0m │\n",
       "│ \u001b[2m…\u001b[0m           │ \u001b[2m…\u001b[0m            │                   \u001b[2m…\u001b[0m │\n",
       "└─────────────┴──────────────┴─────────────────────┘"
      ]
     },
     "execution_count": 15,
     "metadata": {},
     "output_type": "execute_result"
    }
   ],
   "source": [
    "t = metrics_unique.group_by([\"department\", \"type\"]).aggregate(type_per_department=metrics_unique.type.count())\n",
    "t.order_by([\"department\", ibis.desc(\"type_per_department\")])"
   ]
  },
  {
   "cell_type": "markdown",
   "metadata": {},
   "source": [
    "### 2.2 Wich appliance size had the lowest vCPU utilization over the full time range of the dataset based on the listed metrics? Calculate a value with 6 digits after zero for each metric:"
   ]
  },
  {
   "cell_type": "code",
   "execution_count": 16,
   "metadata": {},
   "outputs": [],
   "source": [
    "vcpu_by_size = metrics.group_by([\"id\", \"data_timestamp\", \"size\", \"vcpu\"]).aggregate()"
   ]
  },
  {
   "cell_type": "code",
   "execution_count": 17,
   "metadata": {},
   "outputs": [
    {
     "data": {
      "text/html": [
       "<pre style=\"white-space:pre;overflow-x:auto;line-height:normal;font-family:Menlo,'DejaVu Sans Mono',consolas,'Courier New',monospace\">┏━━━━━━━━━━━━━┳━━━━━━━━━━┳━━━━━━━━━━━┳━━━━━━━━━━━┓\n",
       "┃<span style=\"font-weight: bold\"> size        </span>┃<span style=\"font-weight: bold\"> minimum  </span>┃<span style=\"font-weight: bold\"> average   </span>┃<span style=\"font-weight: bold\"> median    </span>┃\n",
       "┡━━━━━━━━━━━━━╇━━━━━━━━━━╇━━━━━━━━━━━╇━━━━━━━━━━━┩\n",
       "│ <span style=\"color: #7f7f7f; text-decoration-color: #7f7f7f\">string</span>      │ <span style=\"color: #7f7f7f; text-decoration-color: #7f7f7f\">float64</span>  │ <span style=\"color: #7f7f7f; text-decoration-color: #7f7f7f\">float64</span>   │ <span style=\"color: #7f7f7f; text-decoration-color: #7f7f7f\">float64</span>   │\n",
       "├─────────────┼──────────┼───────────┼───────────┤\n",
       "│ <span style=\"color: #008000; text-decoration-color: #008000\">r5a.2xlarge</span> │ <span style=\"color: #008080; text-decoration-color: #008080; font-weight: bold\">0.000165</span> │  <span style=\"color: #008080; text-decoration-color: #008080; font-weight: bold\">0.545604</span> │  <span style=\"color: #008080; text-decoration-color: #008080; font-weight: bold\">0.216333</span> │\n",
       "│ <span style=\"color: #008000; text-decoration-color: #008000\">g3s.xlarge </span> │ <span style=\"color: #008080; text-decoration-color: #008080; font-weight: bold\">0.391572</span> │  <span style=\"color: #008080; text-decoration-color: #008080; font-weight: bold\">0.450599</span> │  <span style=\"color: #008080; text-decoration-color: #008080; font-weight: bold\">0.425000</span> │\n",
       "│ <span style=\"color: #008000; text-decoration-color: #008000\">t3a.2xlarge</span> │ <span style=\"color: #008080; text-decoration-color: #008080; font-weight: bold\">0.212592</span> │  <span style=\"color: #008080; text-decoration-color: #008080; font-weight: bold\">0.537950</span> │  <span style=\"color: #008080; text-decoration-color: #008080; font-weight: bold\">0.480333</span> │\n",
       "│ <span style=\"color: #008000; text-decoration-color: #008000\">r5.2xlarge </span> │ <span style=\"color: #008080; text-decoration-color: #008080; font-weight: bold\">0.302333</span> │  <span style=\"color: #008080; text-decoration-color: #008080; font-weight: bold\">1.507907</span> │  <span style=\"color: #008080; text-decoration-color: #008080; font-weight: bold\">0.652333</span> │\n",
       "│ <span style=\"color: #008000; text-decoration-color: #008000\">t3.xlarge  </span> │ <span style=\"color: #008080; text-decoration-color: #008080; font-weight: bold\">0.256002</span> │  <span style=\"color: #008080; text-decoration-color: #008080; font-weight: bold\">2.191348</span> │  <span style=\"color: #008080; text-decoration-color: #008080; font-weight: bold\">0.820327</span> │\n",
       "│ <span style=\"color: #008000; text-decoration-color: #008000\">t3a.xlarge </span> │ <span style=\"color: #008080; text-decoration-color: #008080; font-weight: bold\">0.368000</span> │  <span style=\"color: #008080; text-decoration-color: #008080; font-weight: bold\">1.903183</span> │  <span style=\"color: #008080; text-decoration-color: #008080; font-weight: bold\">0.970330</span> │\n",
       "│ <span style=\"color: #008000; text-decoration-color: #008000\">t3.large   </span> │ <span style=\"color: #008080; text-decoration-color: #008080; font-weight: bold\">0.947409</span> │  <span style=\"color: #008080; text-decoration-color: #008080; font-weight: bold\">1.075165</span> │  <span style=\"color: #008080; text-decoration-color: #008080; font-weight: bold\">0.988330</span> │\n",
       "│ <span style=\"color: #008000; text-decoration-color: #008000\">c5.4xlarge </span> │ <span style=\"color: #008080; text-decoration-color: #008080; font-weight: bold\">0.105102</span> │  <span style=\"color: #008080; text-decoration-color: #008080; font-weight: bold\">6.329230</span> │  <span style=\"color: #008080; text-decoration-color: #008080; font-weight: bold\">0.994667</span> │\n",
       "│ <span style=\"color: #008000; text-decoration-color: #008000\">t3a.medium </span> │ <span style=\"color: #008080; text-decoration-color: #008080; font-weight: bold\">0.010630</span> │ <span style=\"color: #008080; text-decoration-color: #008080; font-weight: bold\">11.027830</span> │  <span style=\"color: #008080; text-decoration-color: #008080; font-weight: bold\">1.443338</span> │\n",
       "│ <span style=\"color: #008000; text-decoration-color: #008000\">m5d.xlarge </span> │ <span style=\"color: #008080; text-decoration-color: #008080; font-weight: bold\">0.641000</span> │ <span style=\"color: #008080; text-decoration-color: #008080; font-weight: bold\">15.238145</span> │ <span style=\"color: #008080; text-decoration-color: #008080; font-weight: bold\">12.194167</span> │\n",
       "└─────────────┴──────────┴───────────┴───────────┘\n",
       "</pre>\n"
      ],
      "text/plain": [
       "┏━━━━━━━━━━━━━┳━━━━━━━━━━┳━━━━━━━━━━━┳━━━━━━━━━━━┓\n",
       "┃\u001b[1m \u001b[0m\u001b[1msize\u001b[0m\u001b[1m       \u001b[0m\u001b[1m \u001b[0m┃\u001b[1m \u001b[0m\u001b[1mminimum\u001b[0m\u001b[1m \u001b[0m\u001b[1m \u001b[0m┃\u001b[1m \u001b[0m\u001b[1maverage\u001b[0m\u001b[1m  \u001b[0m\u001b[1m \u001b[0m┃\u001b[1m \u001b[0m\u001b[1mmedian\u001b[0m\u001b[1m   \u001b[0m\u001b[1m \u001b[0m┃\n",
       "┡━━━━━━━━━━━━━╇━━━━━━━━━━╇━━━━━━━━━━━╇━━━━━━━━━━━┩\n",
       "│ \u001b[2mstring\u001b[0m      │ \u001b[2mfloat64\u001b[0m  │ \u001b[2mfloat64\u001b[0m   │ \u001b[2mfloat64\u001b[0m   │\n",
       "├─────────────┼──────────┼───────────┼───────────┤\n",
       "│ \u001b[32mr5a.2xlarge\u001b[0m │ \u001b[1;36m0.000165\u001b[0m │  \u001b[1;36m0.545604\u001b[0m │  \u001b[1;36m0.216333\u001b[0m │\n",
       "│ \u001b[32mg3s.xlarge \u001b[0m │ \u001b[1;36m0.391572\u001b[0m │  \u001b[1;36m0.450599\u001b[0m │  \u001b[1;36m0.425000\u001b[0m │\n",
       "│ \u001b[32mt3a.2xlarge\u001b[0m │ \u001b[1;36m0.212592\u001b[0m │  \u001b[1;36m0.537950\u001b[0m │  \u001b[1;36m0.480333\u001b[0m │\n",
       "│ \u001b[32mr5.2xlarge \u001b[0m │ \u001b[1;36m0.302333\u001b[0m │  \u001b[1;36m1.507907\u001b[0m │  \u001b[1;36m0.652333\u001b[0m │\n",
       "│ \u001b[32mt3.xlarge  \u001b[0m │ \u001b[1;36m0.256002\u001b[0m │  \u001b[1;36m2.191348\u001b[0m │  \u001b[1;36m0.820327\u001b[0m │\n",
       "│ \u001b[32mt3a.xlarge \u001b[0m │ \u001b[1;36m0.368000\u001b[0m │  \u001b[1;36m1.903183\u001b[0m │  \u001b[1;36m0.970330\u001b[0m │\n",
       "│ \u001b[32mt3.large   \u001b[0m │ \u001b[1;36m0.947409\u001b[0m │  \u001b[1;36m1.075165\u001b[0m │  \u001b[1;36m0.988330\u001b[0m │\n",
       "│ \u001b[32mc5.4xlarge \u001b[0m │ \u001b[1;36m0.105102\u001b[0m │  \u001b[1;36m6.329230\u001b[0m │  \u001b[1;36m0.994667\u001b[0m │\n",
       "│ \u001b[32mt3a.medium \u001b[0m │ \u001b[1;36m0.010630\u001b[0m │ \u001b[1;36m11.027830\u001b[0m │  \u001b[1;36m1.443338\u001b[0m │\n",
       "│ \u001b[32mm5d.xlarge \u001b[0m │ \u001b[1;36m0.641000\u001b[0m │ \u001b[1;36m15.238145\u001b[0m │ \u001b[1;36m12.194167\u001b[0m │\n",
       "└─────────────┴──────────┴───────────┴───────────┘"
      ]
     },
     "execution_count": 17,
     "metadata": {},
     "output_type": "execute_result"
    }
   ],
   "source": [
    "t = vcpu_by_size.group_by(\"size\").aggregate(minimum = _.vcpu.min(),\n",
    "                                            average = _.vcpu.mean(),\n",
    "                                            median = _.vcpu.median(),)\n",
    "t.order_by(\"median\")"
   ]
  },
  {
   "cell_type": "markdown",
   "metadata": {},
   "source": [
    "### 2.3 Which department has used the most appliances between 15.12.2022 and 16.01.2023?  How many appliances did they use in this time range?"
   ]
  },
  {
   "cell_type": "code",
   "execution_count": 18,
   "metadata": {},
   "outputs": [
    {
     "data": {
      "text/html": [
       "<pre style=\"white-space:pre;overflow-x:auto;line-height:normal;font-family:Menlo,'DejaVu Sans Mono',consolas,'Courier New',monospace\">┏━━━━━━━━━━━━━┳━━━━━━━━━━━━━━━━━┓\n",
       "┃<span style=\"font-weight: bold\"> department  </span>┃<span style=\"font-weight: bold\"> appliance_count </span>┃\n",
       "┡━━━━━━━━━━━━━╇━━━━━━━━━━━━━━━━━┩\n",
       "│ <span style=\"color: #7f7f7f; text-decoration-color: #7f7f7f\">string</span>      │ <span style=\"color: #7f7f7f; text-decoration-color: #7f7f7f\">int64</span>           │\n",
       "├─────────────┼─────────────────┤\n",
       "│ <span style=\"color: #008000; text-decoration-color: #008000\">Sales      </span> │               <span style=\"color: #008080; text-decoration-color: #008080; font-weight: bold\">6</span> │\n",
       "│ <span style=\"color: #008000; text-decoration-color: #008000\">Engineering</span> │               <span style=\"color: #008080; text-decoration-color: #008080; font-weight: bold\">4</span> │\n",
       "│ <span style=\"color: #008000; text-decoration-color: #008000\">IT         </span> │               <span style=\"color: #008080; text-decoration-color: #008080; font-weight: bold\">3</span> │\n",
       "│ <span style=\"color: #008000; text-decoration-color: #008000\">HR         </span> │               <span style=\"color: #008080; text-decoration-color: #008080; font-weight: bold\">3</span> │\n",
       "│ <span style=\"color: #008000; text-decoration-color: #008000\">Marketing  </span> │               <span style=\"color: #008080; text-decoration-color: #008080; font-weight: bold\">1</span> │\n",
       "│ <span style=\"color: #008000; text-decoration-color: #008000\">Operations </span> │               <span style=\"color: #008080; text-decoration-color: #008080; font-weight: bold\">1</span> │\n",
       "└─────────────┴─────────────────┘\n",
       "</pre>\n"
      ],
      "text/plain": [
       "┏━━━━━━━━━━━━━┳━━━━━━━━━━━━━━━━━┓\n",
       "┃\u001b[1m \u001b[0m\u001b[1mdepartment\u001b[0m\u001b[1m \u001b[0m\u001b[1m \u001b[0m┃\u001b[1m \u001b[0m\u001b[1mappliance_count\u001b[0m\u001b[1m \u001b[0m┃\n",
       "┡━━━━━━━━━━━━━╇━━━━━━━━━━━━━━━━━┩\n",
       "│ \u001b[2mstring\u001b[0m      │ \u001b[2mint64\u001b[0m           │\n",
       "├─────────────┼─────────────────┤\n",
       "│ \u001b[32mSales      \u001b[0m │               \u001b[1;36m6\u001b[0m │\n",
       "│ \u001b[32mEngineering\u001b[0m │               \u001b[1;36m4\u001b[0m │\n",
       "│ \u001b[32mIT         \u001b[0m │               \u001b[1;36m3\u001b[0m │\n",
       "│ \u001b[32mHR         \u001b[0m │               \u001b[1;36m3\u001b[0m │\n",
       "│ \u001b[32mMarketing  \u001b[0m │               \u001b[1;36m1\u001b[0m │\n",
       "│ \u001b[32mOperations \u001b[0m │               \u001b[1;36m1\u001b[0m │\n",
       "└─────────────┴─────────────────┘"
      ]
     },
     "execution_count": 18,
     "metadata": {},
     "output_type": "execute_result"
    }
   ],
   "source": [
    "t = metrics_department[(_.data_timestamp > \"2022-12-15\") & (_.data_timestamp < \"2023-01-16\")]\n",
    "t = t.group_by([\"id\", \"department\"] ).aggregate()\n",
    "t = t.group_by(\"department\").aggregate(appliance_count = _.id.count())\n",
    "t.order_by(ibis.desc(\"appliance_count\"))"
   ]
  },
  {
   "cell_type": "code",
   "execution_count": 19,
   "metadata": {},
   "outputs": [
    {
     "data": {
      "text/html": [
       "<pre style=\"white-space:pre;overflow-x:auto;line-height:normal;font-family:Menlo,'DejaVu Sans Mono',consolas,'Courier New',monospace\">┏━━━━━━━━━━━━━┳━━━━━━━━━━━━━━━━━┓\n",
       "┃<span style=\"font-weight: bold\"> department  </span>┃<span style=\"font-weight: bold\"> appliance_count </span>┃\n",
       "┡━━━━━━━━━━━━━╇━━━━━━━━━━━━━━━━━┩\n",
       "│ <span style=\"color: #7f7f7f; text-decoration-color: #7f7f7f\">string</span>      │ <span style=\"color: #7f7f7f; text-decoration-color: #7f7f7f\">int64</span>           │\n",
       "├─────────────┼─────────────────┤\n",
       "│ <span style=\"color: #008000; text-decoration-color: #008000\">Sales      </span> │               <span style=\"color: #008080; text-decoration-color: #008080; font-weight: bold\">6</span> │\n",
       "│ <span style=\"color: #008000; text-decoration-color: #008000\">Engineering</span> │               <span style=\"color: #008080; text-decoration-color: #008080; font-weight: bold\">4</span> │\n",
       "│ <span style=\"color: #008000; text-decoration-color: #008000\">IT         </span> │               <span style=\"color: #008080; text-decoration-color: #008080; font-weight: bold\">3</span> │\n",
       "│ <span style=\"color: #008000; text-decoration-color: #008000\">HR         </span> │               <span style=\"color: #008080; text-decoration-color: #008080; font-weight: bold\">3</span> │\n",
       "│ <span style=\"color: #008000; text-decoration-color: #008000\">Marketing  </span> │               <span style=\"color: #008080; text-decoration-color: #008080; font-weight: bold\">1</span> │\n",
       "│ <span style=\"color: #008000; text-decoration-color: #008000\">Operations </span> │               <span style=\"color: #008080; text-decoration-color: #008080; font-weight: bold\">1</span> │\n",
       "└─────────────┴─────────────────┘\n",
       "</pre>\n"
      ],
      "text/plain": [
       "┏━━━━━━━━━━━━━┳━━━━━━━━━━━━━━━━━┓\n",
       "┃\u001b[1m \u001b[0m\u001b[1mdepartment\u001b[0m\u001b[1m \u001b[0m\u001b[1m \u001b[0m┃\u001b[1m \u001b[0m\u001b[1mappliance_count\u001b[0m\u001b[1m \u001b[0m┃\n",
       "┡━━━━━━━━━━━━━╇━━━━━━━━━━━━━━━━━┩\n",
       "│ \u001b[2mstring\u001b[0m      │ \u001b[2mint64\u001b[0m           │\n",
       "├─────────────┼─────────────────┤\n",
       "│ \u001b[32mSales      \u001b[0m │               \u001b[1;36m6\u001b[0m │\n",
       "│ \u001b[32mEngineering\u001b[0m │               \u001b[1;36m4\u001b[0m │\n",
       "│ \u001b[32mIT         \u001b[0m │               \u001b[1;36m3\u001b[0m │\n",
       "│ \u001b[32mHR         \u001b[0m │               \u001b[1;36m3\u001b[0m │\n",
       "│ \u001b[32mMarketing  \u001b[0m │               \u001b[1;36m1\u001b[0m │\n",
       "│ \u001b[32mOperations \u001b[0m │               \u001b[1;36m1\u001b[0m │\n",
       "└─────────────┴─────────────────┘"
      ]
     },
     "execution_count": 19,
     "metadata": {},
     "output_type": "execute_result"
    }
   ],
   "source": [
    "t = metrics_department[(_[\"data_timestamp\"] > \"2022-12-15\") & (_[\"data_timestamp\"] < \"2023-01-16\")]\n",
    "t = t.group_by([\"id\", \"department\"] ).aggregate()\n",
    "t = t.group_by(\"department\").aggregate(appliance_count = _[\"id\"].count())\n",
    "t.order_by(ibis.desc(\"appliance_count\"))"
   ]
  },
  {
   "cell_type": "markdown",
   "metadata": {},
   "source": [
    "### 2.4 What is the most expensive size of an appliance used in the Data Platform in terms of hours used per department?"
   ]
  },
  {
   "cell_type": "code",
   "execution_count": 20,
   "metadata": {},
   "outputs": [
    {
     "data": {
      "text/html": [
       "<pre style=\"white-space:pre;overflow-x:auto;line-height:normal;font-family:Menlo,'DejaVu Sans Mono',consolas,'Courier New',monospace\">┏━━━━━━━━━━━━━━━━━━━━━┳━━━━━━━━━┳━━━━━━━━━━━━━━━━━━━━━┳━━━━━━━━━┳━━━━━━━━━━┳━━━━━━━━━━━┳━━━━━━━━━━━━━━━━━━━━━┳━━━━━━━━━━━━━━━━━━━━━┳━━━━━━━━━━━━━━┳━━━━━━━━━━━━━━━━━━━━━┳━━━━━━━━━━━┳━━━━━━━━━━━━┳━━━━━━━━━━━━┳━━━━━━━━━┳━━━━━━━━━━━━━━━┓\n",
       "┃<span style=\"font-weight: bold\"> id                  </span>┃<span style=\"font-weight: bold\"> net_in  </span>┃<span style=\"font-weight: bold\"> data_timestamp      </span>┃<span style=\"font-weight: bold\"> net_out </span>┃<span style=\"font-weight: bold\"> vcpu     </span>┃<span style=\"font-weight: bold\"> disk_size </span>┃<span style=\"font-weight: bold\"> created_at          </span>┃<span style=\"font-weight: bold\"> updated_at          </span>┃<span style=\"font-weight: bold\"> type         </span>┃<span style=\"font-weight: bold\"> last_patch          </span>┃<span style=\"font-weight: bold\"> size      </span>┃<span style=\"font-weight: bold\"> department </span>┃<span style=\"font-weight: bold\"> vcpu_right </span>┃<span style=\"font-weight: bold\"> memory  </span>┃<span style=\"font-weight: bold\"> cost_per_hour </span>┃\n",
       "┡━━━━━━━━━━━━━━━━━━━━━╇━━━━━━━━━╇━━━━━━━━━━━━━━━━━━━━━╇━━━━━━━━━╇━━━━━━━━━━╇━━━━━━━━━━━╇━━━━━━━━━━━━━━━━━━━━━╇━━━━━━━━━━━━━━━━━━━━━╇━━━━━━━━━━━━━━╇━━━━━━━━━━━━━━━━━━━━━╇━━━━━━━━━━━╇━━━━━━━━━━━━╇━━━━━━━━━━━━╇━━━━━━━━━╇━━━━━━━━━━━━━━━┩\n",
       "│ <span style=\"color: #7f7f7f; text-decoration-color: #7f7f7f\">string</span>              │ <span style=\"color: #7f7f7f; text-decoration-color: #7f7f7f\">float64</span> │ <span style=\"color: #7f7f7f; text-decoration-color: #7f7f7f\">timestamp</span>           │ <span style=\"color: #7f7f7f; text-decoration-color: #7f7f7f\">float64</span> │ <span style=\"color: #7f7f7f; text-decoration-color: #7f7f7f\">float64</span>  │ <span style=\"color: #7f7f7f; text-decoration-color: #7f7f7f\">int64</span>     │ <span style=\"color: #7f7f7f; text-decoration-color: #7f7f7f\">timestamp</span>           │ <span style=\"color: #7f7f7f; text-decoration-color: #7f7f7f\">timestamp</span>           │ <span style=\"color: #7f7f7f; text-decoration-color: #7f7f7f\">string</span>       │ <span style=\"color: #7f7f7f; text-decoration-color: #7f7f7f\">timestamp</span>           │ <span style=\"color: #7f7f7f; text-decoration-color: #7f7f7f\">string</span>    │ <span style=\"color: #7f7f7f; text-decoration-color: #7f7f7f\">string</span>     │ <span style=\"color: #7f7f7f; text-decoration-color: #7f7f7f\">int64</span>      │ <span style=\"color: #7f7f7f; text-decoration-color: #7f7f7f\">float64</span> │ <span style=\"color: #7f7f7f; text-decoration-color: #7f7f7f\">float64</span>       │\n",
       "├─────────────────────┼─────────┼─────────────────────┼─────────┼──────────┼───────────┼─────────────────────┼─────────────────────┼──────────────┼─────────────────────┼───────────┼────────────┼────────────┼─────────┼───────────────┤\n",
       "│ <span style=\"color: #008000; text-decoration-color: #008000\">i-0a16592fdb1239d51</span> │ <span style=\"color: #008080; text-decoration-color: #008080; font-weight: bold\">30741.2</span> │ <span style=\"color: #800080; text-decoration-color: #800080\">2023-01-23 11:55:00</span> │ <span style=\"color: #008080; text-decoration-color: #008080; font-weight: bold\">24289.8</span> │ <span style=\"color: #008080; text-decoration-color: #008080; font-weight: bold\">0.827669</span> │       <span style=\"color: #008080; text-decoration-color: #008080; font-weight: bold\">240</span> │ <span style=\"color: #800080; text-decoration-color: #800080\">2022-12-06 10:34:00</span> │ <span style=\"color: #800080; text-decoration-color: #800080\">2023-01-21 08:08:00</span> │ <span style=\"color: #008000; text-decoration-color: #008000\">deeplearning</span> │ <span style=\"color: #800080; text-decoration-color: #800080\">2023-12-01 16:22:00</span> │ <span style=\"color: #008000; text-decoration-color: #008000\">t3.xlarge</span> │ <span style=\"color: #008000; text-decoration-color: #008000\">Marketing </span> │          <span style=\"color: #008080; text-decoration-color: #008080; font-weight: bold\">4</span> │    <span style=\"color: #008080; text-decoration-color: #008080; font-weight: bold\">16.0</span> │        <span style=\"color: #008080; text-decoration-color: #008080; font-weight: bold\">0.1664</span> │\n",
       "│ <span style=\"color: #008000; text-decoration-color: #008000\">i-0a16592fdb1239d51</span> │ <span style=\"color: #008080; text-decoration-color: #008080; font-weight: bold\">30741.2</span> │ <span style=\"color: #800080; text-decoration-color: #800080\">2023-01-23 11:55:00</span> │ <span style=\"color: #008080; text-decoration-color: #008080; font-weight: bold\">24289.8</span> │ <span style=\"color: #008080; text-decoration-color: #008080; font-weight: bold\">0.827669</span> │       <span style=\"color: #008080; text-decoration-color: #008080; font-weight: bold\">240</span> │ <span style=\"color: #800080; text-decoration-color: #800080\">2022-12-06 10:34:00</span> │ <span style=\"color: #800080; text-decoration-color: #800080\">2023-01-21 08:08:00</span> │ <span style=\"color: #008000; text-decoration-color: #008000\">deeplearning</span> │ <span style=\"color: #800080; text-decoration-color: #800080\">2023-12-01 16:22:00</span> │ <span style=\"color: #008000; text-decoration-color: #008000\">t3.xlarge</span> │ <span style=\"color: #008000; text-decoration-color: #008000\">Marketing </span> │          <span style=\"color: #008080; text-decoration-color: #008080; font-weight: bold\">4</span> │    <span style=\"color: #008080; text-decoration-color: #008080; font-weight: bold\">16.0</span> │        <span style=\"color: #008080; text-decoration-color: #008080; font-weight: bold\">0.1664</span> │\n",
       "│ <span style=\"color: #008000; text-decoration-color: #008000\">i-0a16592fdb1239d51</span> │ <span style=\"color: #008080; text-decoration-color: #008080; font-weight: bold\">30741.2</span> │ <span style=\"color: #800080; text-decoration-color: #800080\">2023-01-23 11:55:00</span> │ <span style=\"color: #008080; text-decoration-color: #008080; font-weight: bold\">24289.8</span> │ <span style=\"color: #008080; text-decoration-color: #008080; font-weight: bold\">0.827669</span> │       <span style=\"color: #008080; text-decoration-color: #008080; font-weight: bold\">240</span> │ <span style=\"color: #800080; text-decoration-color: #800080\">2022-12-06 10:34:00</span> │ <span style=\"color: #800080; text-decoration-color: #800080\">2023-01-21 08:08:00</span> │ <span style=\"color: #008000; text-decoration-color: #008000\">deeplearning</span> │ <span style=\"color: #800080; text-decoration-color: #800080\">2023-12-01 16:22:00</span> │ <span style=\"color: #008000; text-decoration-color: #008000\">t3.xlarge</span> │ <span style=\"color: #008000; text-decoration-color: #008000\">Marketing </span> │          <span style=\"color: #008080; text-decoration-color: #008080; font-weight: bold\">4</span> │    <span style=\"color: #008080; text-decoration-color: #008080; font-weight: bold\">16.0</span> │        <span style=\"color: #008080; text-decoration-color: #008080; font-weight: bold\">0.1664</span> │\n",
       "└─────────────────────┴─────────┴─────────────────────┴─────────┴──────────┴───────────┴─────────────────────┴─────────────────────┴──────────────┴─────────────────────┴───────────┴────────────┴────────────┴─────────┴───────────────┘\n",
       "</pre>\n"
      ],
      "text/plain": [
       "┏━━━━━━━━━━━━━━━━━━━━━┳━━━━━━━━━┳━━━━━━━━━━━━━━━━━━━━━┳━━━━━━━━━┳━━━━━━━━━━┳━━━━━━━━━━━┳━━━━━━━━━━━━━━━━━━━━━┳━━━━━━━━━━━━━━━━━━━━━┳━━━━━━━━━━━━━━┳━━━━━━━━━━━━━━━━━━━━━┳━━━━━━━━━━━┳━━━━━━━━━━━━┳━━━━━━━━━━━━┳━━━━━━━━━┳━━━━━━━━━━━━━━━┓\n",
       "┃\u001b[1m \u001b[0m\u001b[1mid\u001b[0m\u001b[1m                 \u001b[0m\u001b[1m \u001b[0m┃\u001b[1m \u001b[0m\u001b[1mnet_in\u001b[0m\u001b[1m \u001b[0m\u001b[1m \u001b[0m┃\u001b[1m \u001b[0m\u001b[1mdata_timestamp\u001b[0m\u001b[1m     \u001b[0m\u001b[1m \u001b[0m┃\u001b[1m \u001b[0m\u001b[1mnet_out\u001b[0m\u001b[1m \u001b[0m┃\u001b[1m \u001b[0m\u001b[1mvcpu\u001b[0m\u001b[1m    \u001b[0m\u001b[1m \u001b[0m┃\u001b[1m \u001b[0m\u001b[1mdisk_size\u001b[0m\u001b[1m \u001b[0m┃\u001b[1m \u001b[0m\u001b[1mcreated_at\u001b[0m\u001b[1m         \u001b[0m\u001b[1m \u001b[0m┃\u001b[1m \u001b[0m\u001b[1mupdated_at\u001b[0m\u001b[1m         \u001b[0m\u001b[1m \u001b[0m┃\u001b[1m \u001b[0m\u001b[1mtype\u001b[0m\u001b[1m        \u001b[0m\u001b[1m \u001b[0m┃\u001b[1m \u001b[0m\u001b[1mlast_patch\u001b[0m\u001b[1m         \u001b[0m\u001b[1m \u001b[0m┃\u001b[1m \u001b[0m\u001b[1msize\u001b[0m\u001b[1m     \u001b[0m\u001b[1m \u001b[0m┃\u001b[1m \u001b[0m\u001b[1mdepartment\u001b[0m\u001b[1m \u001b[0m┃\u001b[1m \u001b[0m\u001b[1mvcpu_right\u001b[0m\u001b[1m \u001b[0m┃\u001b[1m \u001b[0m\u001b[1mmemory\u001b[0m\u001b[1m \u001b[0m\u001b[1m \u001b[0m┃\u001b[1m \u001b[0m\u001b[1mcost_per_hour\u001b[0m\u001b[1m \u001b[0m┃\n",
       "┡━━━━━━━━━━━━━━━━━━━━━╇━━━━━━━━━╇━━━━━━━━━━━━━━━━━━━━━╇━━━━━━━━━╇━━━━━━━━━━╇━━━━━━━━━━━╇━━━━━━━━━━━━━━━━━━━━━╇━━━━━━━━━━━━━━━━━━━━━╇━━━━━━━━━━━━━━╇━━━━━━━━━━━━━━━━━━━━━╇━━━━━━━━━━━╇━━━━━━━━━━━━╇━━━━━━━━━━━━╇━━━━━━━━━╇━━━━━━━━━━━━━━━┩\n",
       "│ \u001b[2mstring\u001b[0m              │ \u001b[2mfloat64\u001b[0m │ \u001b[2mtimestamp\u001b[0m           │ \u001b[2mfloat64\u001b[0m │ \u001b[2mfloat64\u001b[0m  │ \u001b[2mint64\u001b[0m     │ \u001b[2mtimestamp\u001b[0m           │ \u001b[2mtimestamp\u001b[0m           │ \u001b[2mstring\u001b[0m       │ \u001b[2mtimestamp\u001b[0m           │ \u001b[2mstring\u001b[0m    │ \u001b[2mstring\u001b[0m     │ \u001b[2mint64\u001b[0m      │ \u001b[2mfloat64\u001b[0m │ \u001b[2mfloat64\u001b[0m       │\n",
       "├─────────────────────┼─────────┼─────────────────────┼─────────┼──────────┼───────────┼─────────────────────┼─────────────────────┼──────────────┼─────────────────────┼───────────┼────────────┼────────────┼─────────┼───────────────┤\n",
       "│ \u001b[32mi-0a16592fdb1239d51\u001b[0m │ \u001b[1;36m30741.2\u001b[0m │ \u001b[35m2023-01-23 11:55:00\u001b[0m │ \u001b[1;36m24289.8\u001b[0m │ \u001b[1;36m0.827669\u001b[0m │       \u001b[1;36m240\u001b[0m │ \u001b[35m2022-12-06 10:34:00\u001b[0m │ \u001b[35m2023-01-21 08:08:00\u001b[0m │ \u001b[32mdeeplearning\u001b[0m │ \u001b[35m2023-12-01 16:22:00\u001b[0m │ \u001b[32mt3.xlarge\u001b[0m │ \u001b[32mMarketing \u001b[0m │          \u001b[1;36m4\u001b[0m │    \u001b[1;36m16.0\u001b[0m │        \u001b[1;36m0.1664\u001b[0m │\n",
       "│ \u001b[32mi-0a16592fdb1239d51\u001b[0m │ \u001b[1;36m30741.2\u001b[0m │ \u001b[35m2023-01-23 11:55:00\u001b[0m │ \u001b[1;36m24289.8\u001b[0m │ \u001b[1;36m0.827669\u001b[0m │       \u001b[1;36m240\u001b[0m │ \u001b[35m2022-12-06 10:34:00\u001b[0m │ \u001b[35m2023-01-21 08:08:00\u001b[0m │ \u001b[32mdeeplearning\u001b[0m │ \u001b[35m2023-12-01 16:22:00\u001b[0m │ \u001b[32mt3.xlarge\u001b[0m │ \u001b[32mMarketing \u001b[0m │          \u001b[1;36m4\u001b[0m │    \u001b[1;36m16.0\u001b[0m │        \u001b[1;36m0.1664\u001b[0m │\n",
       "│ \u001b[32mi-0a16592fdb1239d51\u001b[0m │ \u001b[1;36m30741.2\u001b[0m │ \u001b[35m2023-01-23 11:55:00\u001b[0m │ \u001b[1;36m24289.8\u001b[0m │ \u001b[1;36m0.827669\u001b[0m │       \u001b[1;36m240\u001b[0m │ \u001b[35m2022-12-06 10:34:00\u001b[0m │ \u001b[35m2023-01-21 08:08:00\u001b[0m │ \u001b[32mdeeplearning\u001b[0m │ \u001b[35m2023-12-01 16:22:00\u001b[0m │ \u001b[32mt3.xlarge\u001b[0m │ \u001b[32mMarketing \u001b[0m │          \u001b[1;36m4\u001b[0m │    \u001b[1;36m16.0\u001b[0m │        \u001b[1;36m0.1664\u001b[0m │\n",
       "└─────────────────────┴─────────┴─────────────────────┴─────────┴──────────┴───────────┴─────────────────────┴─────────────────────┴──────────────┴─────────────────────┴───────────┴────────────┴────────────┴─────────┴───────────────┘"
      ]
     },
     "execution_count": 20,
     "metadata": {},
     "output_type": "execute_result"
    }
   ],
   "source": [
    "metrics_extended = metrics_department.join(pricing, \"size\", how = \"left\").select(~s.matches(\"size_right\"))\n",
    "metrics_extended.head(3)"
   ]
  },
  {
   "cell_type": "code",
   "execution_count": 21,
   "metadata": {},
   "outputs": [
    {
     "data": {
      "text/html": [
       "<pre style=\"white-space:pre;overflow-x:auto;line-height:normal;font-family:Menlo,'DejaVu Sans Mono',consolas,'Courier New',monospace\">┏━━━━━━━━━━━━━┳━━━━━━━━━━━━━┳━━━━━━━━━━━━━━━┳━━━━━━━━━━━━━━━━━┓\n",
       "┃<span style=\"font-weight: bold\"> department  </span>┃<span style=\"font-weight: bold\"> size        </span>┃<span style=\"font-weight: bold\"> cost_per_hour </span>┃<span style=\"font-weight: bold\"> timestamp_count </span>┃\n",
       "┡━━━━━━━━━━━━━╇━━━━━━━━━━━━━╇━━━━━━━━━━━━━━━╇━━━━━━━━━━━━━━━━━┩\n",
       "│ <span style=\"color: #7f7f7f; text-decoration-color: #7f7f7f\">string</span>      │ <span style=\"color: #7f7f7f; text-decoration-color: #7f7f7f\">string</span>      │ <span style=\"color: #7f7f7f; text-decoration-color: #7f7f7f\">float64</span>       │ <span style=\"color: #7f7f7f; text-decoration-color: #7f7f7f\">int64</span>           │\n",
       "├─────────────┼─────────────┼───────────────┼─────────────────┤\n",
       "│ <span style=\"color: #008000; text-decoration-color: #008000\">Sales      </span> │ <span style=\"color: #008000; text-decoration-color: #008000\">r5.2xlarge </span> │        <span style=\"color: #008080; text-decoration-color: #008080; font-weight: bold\">0.5040</span> │           <span style=\"color: #008080; text-decoration-color: #008080; font-weight: bold\">16704</span> │\n",
       "│ <span style=\"color: #008000; text-decoration-color: #008000\">Sales      </span> │ <span style=\"color: #008000; text-decoration-color: #008000\">g3s.xlarge </span> │        <span style=\"color: #008080; text-decoration-color: #008080; font-weight: bold\">0.7500</span> │           <span style=\"color: #008080; text-decoration-color: #008080; font-weight: bold\">15864</span> │\n",
       "│ <span style=\"color: #008000; text-decoration-color: #008000\">HR         </span> │ <span style=\"color: #008000; text-decoration-color: #008000\">t3a.2xlarge</span> │        <span style=\"color: #008080; text-decoration-color: #008080; font-weight: bold\">0.3008</span> │           <span style=\"color: #008080; text-decoration-color: #008080; font-weight: bold\">15807</span> │\n",
       "│ <span style=\"color: #008000; text-decoration-color: #008000\">Sales      </span> │ <span style=\"color: #008000; text-decoration-color: #008000\">m5d.xlarge </span> │        <span style=\"color: #008080; text-decoration-color: #008080; font-weight: bold\">0.2260</span> │           <span style=\"color: #008080; text-decoration-color: #008080; font-weight: bold\">14128</span> │\n",
       "│ <span style=\"color: #008000; text-decoration-color: #008000\">Engineering</span> │ <span style=\"color: #008000; text-decoration-color: #008000\">t3a.medium </span> │        <span style=\"color: #008080; text-decoration-color: #008080; font-weight: bold\">0.0376</span> │           <span style=\"color: #008080; text-decoration-color: #008080; font-weight: bold\">13898</span> │\n",
       "│ <span style=\"color: #008000; text-decoration-color: #008000\">IT         </span> │ <span style=\"color: #008000; text-decoration-color: #008000\">r5a.2xlarge</span> │        <span style=\"color: #008080; text-decoration-color: #008080; font-weight: bold\">0.4520</span> │            <span style=\"color: #008080; text-decoration-color: #008080; font-weight: bold\">8737</span> │\n",
       "│ <span style=\"color: #008000; text-decoration-color: #008000\">Sales      </span> │ <span style=\"color: #008000; text-decoration-color: #008000\">t3a.medium </span> │        <span style=\"color: #008080; text-decoration-color: #008080; font-weight: bold\">0.0376</span> │            <span style=\"color: #008080; text-decoration-color: #008080; font-weight: bold\">3423</span> │\n",
       "│ <span style=\"color: #008000; text-decoration-color: #008000\">Marketing  </span> │ <span style=\"color: #008000; text-decoration-color: #008000\">t3.xlarge  </span> │        <span style=\"color: #008080; text-decoration-color: #008080; font-weight: bold\">0.1664</span> │            <span style=\"color: #008080; text-decoration-color: #008080; font-weight: bold\">3282</span> │\n",
       "│ <span style=\"color: #008000; text-decoration-color: #008000\">HR         </span> │ <span style=\"color: #008000; text-decoration-color: #008000\">c5.4xlarge </span> │        <span style=\"color: #008080; text-decoration-color: #008080; font-weight: bold\">0.6800</span> │            <span style=\"color: #008080; text-decoration-color: #008080; font-weight: bold\">1237</span> │\n",
       "│ <span style=\"color: #008000; text-decoration-color: #008000\">Marketing  </span> │ <span style=\"color: #008000; text-decoration-color: #008000\">t3.large   </span> │        <span style=\"color: #008080; text-decoration-color: #008080; font-weight: bold\">0.0832</span> │            <span style=\"color: #008080; text-decoration-color: #008080; font-weight: bold\">1104</span> │\n",
       "│ <span style=\"color: #7f7f7f; text-decoration-color: #7f7f7f\">…</span>           │ <span style=\"color: #7f7f7f; text-decoration-color: #7f7f7f\">…</span>           │             <span style=\"color: #7f7f7f; text-decoration-color: #7f7f7f\">…</span> │               <span style=\"color: #7f7f7f; text-decoration-color: #7f7f7f\">…</span> │\n",
       "└─────────────┴─────────────┴───────────────┴─────────────────┘\n",
       "</pre>\n"
      ],
      "text/plain": [
       "┏━━━━━━━━━━━━━┳━━━━━━━━━━━━━┳━━━━━━━━━━━━━━━┳━━━━━━━━━━━━━━━━━┓\n",
       "┃\u001b[1m \u001b[0m\u001b[1mdepartment\u001b[0m\u001b[1m \u001b[0m\u001b[1m \u001b[0m┃\u001b[1m \u001b[0m\u001b[1msize\u001b[0m\u001b[1m       \u001b[0m\u001b[1m \u001b[0m┃\u001b[1m \u001b[0m\u001b[1mcost_per_hour\u001b[0m\u001b[1m \u001b[0m┃\u001b[1m \u001b[0m\u001b[1mtimestamp_count\u001b[0m\u001b[1m \u001b[0m┃\n",
       "┡━━━━━━━━━━━━━╇━━━━━━━━━━━━━╇━━━━━━━━━━━━━━━╇━━━━━━━━━━━━━━━━━┩\n",
       "│ \u001b[2mstring\u001b[0m      │ \u001b[2mstring\u001b[0m      │ \u001b[2mfloat64\u001b[0m       │ \u001b[2mint64\u001b[0m           │\n",
       "├─────────────┼─────────────┼───────────────┼─────────────────┤\n",
       "│ \u001b[32mSales      \u001b[0m │ \u001b[32mr5.2xlarge \u001b[0m │        \u001b[1;36m0.5040\u001b[0m │           \u001b[1;36m16704\u001b[0m │\n",
       "│ \u001b[32mSales      \u001b[0m │ \u001b[32mg3s.xlarge \u001b[0m │        \u001b[1;36m0.7500\u001b[0m │           \u001b[1;36m15864\u001b[0m │\n",
       "│ \u001b[32mHR         \u001b[0m │ \u001b[32mt3a.2xlarge\u001b[0m │        \u001b[1;36m0.3008\u001b[0m │           \u001b[1;36m15807\u001b[0m │\n",
       "│ \u001b[32mSales      \u001b[0m │ \u001b[32mm5d.xlarge \u001b[0m │        \u001b[1;36m0.2260\u001b[0m │           \u001b[1;36m14128\u001b[0m │\n",
       "│ \u001b[32mEngineering\u001b[0m │ \u001b[32mt3a.medium \u001b[0m │        \u001b[1;36m0.0376\u001b[0m │           \u001b[1;36m13898\u001b[0m │\n",
       "│ \u001b[32mIT         \u001b[0m │ \u001b[32mr5a.2xlarge\u001b[0m │        \u001b[1;36m0.4520\u001b[0m │            \u001b[1;36m8737\u001b[0m │\n",
       "│ \u001b[32mSales      \u001b[0m │ \u001b[32mt3a.medium \u001b[0m │        \u001b[1;36m0.0376\u001b[0m │            \u001b[1;36m3423\u001b[0m │\n",
       "│ \u001b[32mMarketing  \u001b[0m │ \u001b[32mt3.xlarge  \u001b[0m │        \u001b[1;36m0.1664\u001b[0m │            \u001b[1;36m3282\u001b[0m │\n",
       "│ \u001b[32mHR         \u001b[0m │ \u001b[32mc5.4xlarge \u001b[0m │        \u001b[1;36m0.6800\u001b[0m │            \u001b[1;36m1237\u001b[0m │\n",
       "│ \u001b[32mMarketing  \u001b[0m │ \u001b[32mt3.large   \u001b[0m │        \u001b[1;36m0.0832\u001b[0m │            \u001b[1;36m1104\u001b[0m │\n",
       "│ \u001b[2m…\u001b[0m           │ \u001b[2m…\u001b[0m           │             \u001b[2m…\u001b[0m │               \u001b[2m…\u001b[0m │\n",
       "└─────────────┴─────────────┴───────────────┴─────────────────┘"
      ]
     },
     "execution_count": 21,
     "metadata": {},
     "output_type": "execute_result"
    }
   ],
   "source": [
    "data_usage = metrics_extended.group_by([\"department\", \"size\", \"cost_per_hour\", \"data_timestamp\"]).aggregate()\n",
    "data_usage = (data_usage\n",
    "                .group_by([\"department\", \"size\", \"cost_per_hour\"])\n",
    "                .aggregate(timestamp_count = _.data_timestamp.count()))\n",
    "data_usage.order_by(ibis.desc(_.timestamp_count))"
   ]
  },
  {
   "cell_type": "code",
   "execution_count": 22,
   "metadata": {},
   "outputs": [
    {
     "data": {
      "text/html": [
       "<pre style=\"white-space:pre;overflow-x:auto;line-height:normal;font-family:Menlo,'DejaVu Sans Mono',consolas,'Courier New',monospace\">┏━━━━━━━━━━━━┳━━━━━━━━━━━━━┳━━━━━━━━━━━━━━━┳━━━━━━━━━━━━━━━━━┳━━━━━━━━━━━━┓\n",
       "┃<span style=\"font-weight: bold\"> department </span>┃<span style=\"font-weight: bold\"> size        </span>┃<span style=\"font-weight: bold\"> cost_per_hour </span>┃<span style=\"font-weight: bold\"> timestamp_count </span>┃<span style=\"font-weight: bold\"> cost       </span>┃\n",
       "┡━━━━━━━━━━━━╇━━━━━━━━━━━━━╇━━━━━━━━━━━━━━━╇━━━━━━━━━━━━━━━━━╇━━━━━━━━━━━━┩\n",
       "│ <span style=\"color: #7f7f7f; text-decoration-color: #7f7f7f\">string</span>     │ <span style=\"color: #7f7f7f; text-decoration-color: #7f7f7f\">string</span>      │ <span style=\"color: #7f7f7f; text-decoration-color: #7f7f7f\">float64</span>       │ <span style=\"color: #7f7f7f; text-decoration-color: #7f7f7f\">int64</span>           │ <span style=\"color: #7f7f7f; text-decoration-color: #7f7f7f\">float64</span>    │\n",
       "├────────────┼─────────────┼───────────────┼─────────────────┼────────────┤\n",
       "│ <span style=\"color: #008000; text-decoration-color: #008000\">Sales     </span> │ <span style=\"color: #008000; text-decoration-color: #008000\">g3s.xlarge </span> │        <span style=\"color: #008080; text-decoration-color: #008080; font-weight: bold\">0.7500</span> │           <span style=\"color: #008080; text-decoration-color: #008080; font-weight: bold\">15864</span> │ <span style=\"color: #008080; text-decoration-color: #008080; font-weight: bold\">991.500000</span> │\n",
       "│ <span style=\"color: #008000; text-decoration-color: #008000\">Sales     </span> │ <span style=\"color: #008000; text-decoration-color: #008000\">r5.2xlarge </span> │        <span style=\"color: #008080; text-decoration-color: #008080; font-weight: bold\">0.5040</span> │           <span style=\"color: #008080; text-decoration-color: #008080; font-weight: bold\">16704</span> │ <span style=\"color: #008080; text-decoration-color: #008080; font-weight: bold\">701.568000</span> │\n",
       "│ <span style=\"color: #008000; text-decoration-color: #008000\">Sales     </span> │ <span style=\"color: #008000; text-decoration-color: #008000\">m5d.xlarge </span> │        <span style=\"color: #008080; text-decoration-color: #008080; font-weight: bold\">0.2260</span> │           <span style=\"color: #008080; text-decoration-color: #008080; font-weight: bold\">14128</span> │ <span style=\"color: #008080; text-decoration-color: #008080; font-weight: bold\">266.077333</span> │\n",
       "│ <span style=\"color: #008000; text-decoration-color: #008000\">Sales     </span> │ <span style=\"color: #008000; text-decoration-color: #008000\">t3a.medium </span> │        <span style=\"color: #008080; text-decoration-color: #008080; font-weight: bold\">0.0376</span> │            <span style=\"color: #008080; text-decoration-color: #008080; font-weight: bold\">3423</span> │  <span style=\"color: #008080; text-decoration-color: #008080; font-weight: bold\">10.725400</span> │\n",
       "│ <span style=\"color: #008000; text-decoration-color: #008000\">Operations</span> │ <span style=\"color: #008000; text-decoration-color: #008000\">t3a.2xlarge</span> │        <span style=\"color: #008080; text-decoration-color: #008080; font-weight: bold\">0.3008</span> │             <span style=\"color: #008080; text-decoration-color: #008080; font-weight: bold\">916</span> │  <span style=\"color: #008080; text-decoration-color: #008080; font-weight: bold\">22.961067</span> │\n",
       "│ <span style=\"color: #008000; text-decoration-color: #008000\">Operations</span> │ <span style=\"color: #008000; text-decoration-color: #008000\">t3a.medium </span> │        <span style=\"color: #008080; text-decoration-color: #008080; font-weight: bold\">0.0376</span> │              <span style=\"color: #008080; text-decoration-color: #008080; font-weight: bold\">47</span> │   <span style=\"color: #008080; text-decoration-color: #008080; font-weight: bold\">0.147267</span> │\n",
       "│ <span style=\"color: #008000; text-decoration-color: #008000\">Marketing </span> │ <span style=\"color: #008000; text-decoration-color: #008000\">t3.xlarge  </span> │        <span style=\"color: #008080; text-decoration-color: #008080; font-weight: bold\">0.1664</span> │            <span style=\"color: #008080; text-decoration-color: #008080; font-weight: bold\">3282</span> │  <span style=\"color: #008080; text-decoration-color: #008080; font-weight: bold\">45.510400</span> │\n",
       "│ <span style=\"color: #008000; text-decoration-color: #008000\">Marketing </span> │ <span style=\"color: #008000; text-decoration-color: #008000\">t3.large   </span> │        <span style=\"color: #008080; text-decoration-color: #008080; font-weight: bold\">0.0832</span> │            <span style=\"color: #008080; text-decoration-color: #008080; font-weight: bold\">1104</span> │   <span style=\"color: #008080; text-decoration-color: #008080; font-weight: bold\">7.654400</span> │\n",
       "│ <span style=\"color: #008000; text-decoration-color: #008000\">Marketing </span> │ <span style=\"color: #008000; text-decoration-color: #008000\">t3a.medium </span> │        <span style=\"color: #008080; text-decoration-color: #008080; font-weight: bold\">0.0376</span> │              <span style=\"color: #008080; text-decoration-color: #008080; font-weight: bold\">13</span> │   <span style=\"color: #008080; text-decoration-color: #008080; font-weight: bold\">0.040733</span> │\n",
       "│ <span style=\"color: #008000; text-decoration-color: #008000\">IT        </span> │ <span style=\"color: #008000; text-decoration-color: #008000\">r5a.2xlarge</span> │        <span style=\"color: #008080; text-decoration-color: #008080; font-weight: bold\">0.4520</span> │            <span style=\"color: #008080; text-decoration-color: #008080; font-weight: bold\">8737</span> │ <span style=\"color: #008080; text-decoration-color: #008080; font-weight: bold\">329.093667</span> │\n",
       "│ <span style=\"color: #7f7f7f; text-decoration-color: #7f7f7f\">…</span>          │ <span style=\"color: #7f7f7f; text-decoration-color: #7f7f7f\">…</span>           │             <span style=\"color: #7f7f7f; text-decoration-color: #7f7f7f\">…</span> │               <span style=\"color: #7f7f7f; text-decoration-color: #7f7f7f\">…</span> │          <span style=\"color: #7f7f7f; text-decoration-color: #7f7f7f\">…</span> │\n",
       "└────────────┴─────────────┴───────────────┴─────────────────┴────────────┘\n",
       "</pre>\n"
      ],
      "text/plain": [
       "┏━━━━━━━━━━━━┳━━━━━━━━━━━━━┳━━━━━━━━━━━━━━━┳━━━━━━━━━━━━━━━━━┳━━━━━━━━━━━━┓\n",
       "┃\u001b[1m \u001b[0m\u001b[1mdepartment\u001b[0m\u001b[1m \u001b[0m┃\u001b[1m \u001b[0m\u001b[1msize\u001b[0m\u001b[1m       \u001b[0m\u001b[1m \u001b[0m┃\u001b[1m \u001b[0m\u001b[1mcost_per_hour\u001b[0m\u001b[1m \u001b[0m┃\u001b[1m \u001b[0m\u001b[1mtimestamp_count\u001b[0m\u001b[1m \u001b[0m┃\u001b[1m \u001b[0m\u001b[1mcost\u001b[0m\u001b[1m      \u001b[0m\u001b[1m \u001b[0m┃\n",
       "┡━━━━━━━━━━━━╇━━━━━━━━━━━━━╇━━━━━━━━━━━━━━━╇━━━━━━━━━━━━━━━━━╇━━━━━━━━━━━━┩\n",
       "│ \u001b[2mstring\u001b[0m     │ \u001b[2mstring\u001b[0m      │ \u001b[2mfloat64\u001b[0m       │ \u001b[2mint64\u001b[0m           │ \u001b[2mfloat64\u001b[0m    │\n",
       "├────────────┼─────────────┼───────────────┼─────────────────┼────────────┤\n",
       "│ \u001b[32mSales     \u001b[0m │ \u001b[32mg3s.xlarge \u001b[0m │        \u001b[1;36m0.7500\u001b[0m │           \u001b[1;36m15864\u001b[0m │ \u001b[1;36m991.500000\u001b[0m │\n",
       "│ \u001b[32mSales     \u001b[0m │ \u001b[32mr5.2xlarge \u001b[0m │        \u001b[1;36m0.5040\u001b[0m │           \u001b[1;36m16704\u001b[0m │ \u001b[1;36m701.568000\u001b[0m │\n",
       "│ \u001b[32mSales     \u001b[0m │ \u001b[32mm5d.xlarge \u001b[0m │        \u001b[1;36m0.2260\u001b[0m │           \u001b[1;36m14128\u001b[0m │ \u001b[1;36m266.077333\u001b[0m │\n",
       "│ \u001b[32mSales     \u001b[0m │ \u001b[32mt3a.medium \u001b[0m │        \u001b[1;36m0.0376\u001b[0m │            \u001b[1;36m3423\u001b[0m │  \u001b[1;36m10.725400\u001b[0m │\n",
       "│ \u001b[32mOperations\u001b[0m │ \u001b[32mt3a.2xlarge\u001b[0m │        \u001b[1;36m0.3008\u001b[0m │             \u001b[1;36m916\u001b[0m │  \u001b[1;36m22.961067\u001b[0m │\n",
       "│ \u001b[32mOperations\u001b[0m │ \u001b[32mt3a.medium \u001b[0m │        \u001b[1;36m0.0376\u001b[0m │              \u001b[1;36m47\u001b[0m │   \u001b[1;36m0.147267\u001b[0m │\n",
       "│ \u001b[32mMarketing \u001b[0m │ \u001b[32mt3.xlarge  \u001b[0m │        \u001b[1;36m0.1664\u001b[0m │            \u001b[1;36m3282\u001b[0m │  \u001b[1;36m45.510400\u001b[0m │\n",
       "│ \u001b[32mMarketing \u001b[0m │ \u001b[32mt3.large   \u001b[0m │        \u001b[1;36m0.0832\u001b[0m │            \u001b[1;36m1104\u001b[0m │   \u001b[1;36m7.654400\u001b[0m │\n",
       "│ \u001b[32mMarketing \u001b[0m │ \u001b[32mt3a.medium \u001b[0m │        \u001b[1;36m0.0376\u001b[0m │              \u001b[1;36m13\u001b[0m │   \u001b[1;36m0.040733\u001b[0m │\n",
       "│ \u001b[32mIT        \u001b[0m │ \u001b[32mr5a.2xlarge\u001b[0m │        \u001b[1;36m0.4520\u001b[0m │            \u001b[1;36m8737\u001b[0m │ \u001b[1;36m329.093667\u001b[0m │\n",
       "│ \u001b[2m…\u001b[0m          │ \u001b[2m…\u001b[0m           │             \u001b[2m…\u001b[0m │               \u001b[2m…\u001b[0m │          \u001b[2m…\u001b[0m │\n",
       "└────────────┴─────────────┴───────────────┴─────────────────┴────────────┘"
      ]
     },
     "execution_count": 22,
     "metadata": {},
     "output_type": "execute_result"
    }
   ],
   "source": [
    "calc_cost = data_usage.mutate(cost = _.timestamp_count / 12 * _.cost_per_hour)\n",
    "calc_cost.order_by([ibis.desc(_.department), ibis.desc(_.cost)])"
   ]
  },
  {
   "cell_type": "markdown",
   "metadata": {},
   "source": [
    "### 3.1 Which fields are important to find out if an appliance is idle - meaning that an appliance is running but no action is performed on it?  Sort the correct values in alphabetic order, before submitting your response."
   ]
  },
  {
   "cell_type": "markdown",
   "metadata": {},
   "source": [
    "### 3.2 Which appliances were idle and when?"
   ]
  },
  {
   "cell_type": "code",
   "execution_count": 23,
   "metadata": {},
   "outputs": [
    {
     "data": {
      "text/html": [
       "<pre style=\"white-space:pre;overflow-x:auto;line-height:normal;font-family:Menlo,'DejaVu Sans Mono',consolas,'Courier New',monospace\">┏━━━━━━━━━━━━━┳━━━━━━━━━━━━━━┳━━━━━━━━━━━━━━┳━━━━━━━━━━━━━━┓\n",
       "┃<span style=\"font-weight: bold\"> size        </span>┃<span style=\"font-weight: bold\"> max_net_in   </span>┃<span style=\"font-weight: bold\"> max_net_out  </span>┃<span style=\"font-weight: bold\"> max_network  </span>┃\n",
       "┡━━━━━━━━━━━━━╇━━━━━━━━━━━━━━╇━━━━━━━━━━━━━━╇━━━━━━━━━━━━━━┩\n",
       "│ <span style=\"color: #7f7f7f; text-decoration-color: #7f7f7f\">string</span>      │ <span style=\"color: #7f7f7f; text-decoration-color: #7f7f7f\">float64</span>      │ <span style=\"color: #7f7f7f; text-decoration-color: #7f7f7f\">float64</span>      │ <span style=\"color: #7f7f7f; text-decoration-color: #7f7f7f\">float64</span>      │\n",
       "├─────────────┼──────────────┼──────────────┼──────────────┤\n",
       "│ <span style=\"color: #008000; text-decoration-color: #008000\">t3.xlarge  </span> │ <span style=\"color: #008080; text-decoration-color: #008080; font-weight: bold\">1.683825e+08</span> │ <span style=\"color: #008080; text-decoration-color: #008080; font-weight: bold\">1.801788e+08</span> │ <span style=\"color: #008080; text-decoration-color: #008080; font-weight: bold\">3.485612e+08</span> │\n",
       "│ <span style=\"color: #008000; text-decoration-color: #008000\">r5a.2xlarge</span> │ <span style=\"color: #008080; text-decoration-color: #008080; font-weight: bold\">1.960112e+09</span> │ <span style=\"color: #008080; text-decoration-color: #008080; font-weight: bold\">1.182566e+09</span> │ <span style=\"color: #008080; text-decoration-color: #008080; font-weight: bold\">3.142678e+09</span> │\n",
       "│ <span style=\"color: #008000; text-decoration-color: #008000\">r5.2xlarge </span> │ <span style=\"color: #008080; text-decoration-color: #008080; font-weight: bold\">3.327275e+09</span> │ <span style=\"color: #008080; text-decoration-color: #008080; font-weight: bold\">2.951368e+09</span> │ <span style=\"color: #008080; text-decoration-color: #008080; font-weight: bold\">6.278642e+09</span> │\n",
       "└─────────────┴──────────────┴──────────────┴──────────────┘\n",
       "</pre>\n"
      ],
      "text/plain": [
       "┏━━━━━━━━━━━━━┳━━━━━━━━━━━━━━┳━━━━━━━━━━━━━━┳━━━━━━━━━━━━━━┓\n",
       "┃\u001b[1m \u001b[0m\u001b[1msize\u001b[0m\u001b[1m       \u001b[0m\u001b[1m \u001b[0m┃\u001b[1m \u001b[0m\u001b[1mmax_net_in\u001b[0m\u001b[1m  \u001b[0m\u001b[1m \u001b[0m┃\u001b[1m \u001b[0m\u001b[1mmax_net_out\u001b[0m\u001b[1m \u001b[0m\u001b[1m \u001b[0m┃\u001b[1m \u001b[0m\u001b[1mmax_network\u001b[0m\u001b[1m \u001b[0m\u001b[1m \u001b[0m┃\n",
       "┡━━━━━━━━━━━━━╇━━━━━━━━━━━━━━╇━━━━━━━━━━━━━━╇━━━━━━━━━━━━━━┩\n",
       "│ \u001b[2mstring\u001b[0m      │ \u001b[2mfloat64\u001b[0m      │ \u001b[2mfloat64\u001b[0m      │ \u001b[2mfloat64\u001b[0m      │\n",
       "├─────────────┼──────────────┼──────────────┼──────────────┤\n",
       "│ \u001b[32mt3.xlarge  \u001b[0m │ \u001b[1;36m1.683825e+08\u001b[0m │ \u001b[1;36m1.801788e+08\u001b[0m │ \u001b[1;36m3.485612e+08\u001b[0m │\n",
       "│ \u001b[32mr5a.2xlarge\u001b[0m │ \u001b[1;36m1.960112e+09\u001b[0m │ \u001b[1;36m1.182566e+09\u001b[0m │ \u001b[1;36m3.142678e+09\u001b[0m │\n",
       "│ \u001b[32mr5.2xlarge \u001b[0m │ \u001b[1;36m3.327275e+09\u001b[0m │ \u001b[1;36m2.951368e+09\u001b[0m │ \u001b[1;36m6.278642e+09\u001b[0m │\n",
       "└─────────────┴──────────────┴──────────────┴──────────────┘"
      ]
     },
     "execution_count": 23,
     "metadata": {},
     "output_type": "execute_result"
    }
   ],
   "source": [
    "r1 = metrics.select(\"size\", \"net_in\", \"net_out\")\n",
    "r2 = (r1\n",
    "        .group_by(\"size\")\n",
    "        .aggregate(\n",
    "                    max_net_in = _.net_in.max(),\n",
    "                    max_net_out = _.net_out.max()\n",
    "                    ))\n",
    "max_network = r2.mutate(max_network = _.max_net_in + _.max_net_out)\n",
    "max_network.head(3)"
   ]
  },
  {
   "cell_type": "code",
   "execution_count": 24,
   "metadata": {},
   "outputs": [
    {
     "data": {
      "text/html": [
       "<pre style=\"white-space:pre;overflow-x:auto;line-height:normal;font-family:Menlo,'DejaVu Sans Mono',consolas,'Courier New',monospace\">┏━━━━━━━━━━━━━━━━━━━━━┳━━━━━━━━━┳━━━━━━━━━━━━━━━━━━━━━┳━━━━━━━━━┳━━━━━━━━━━┳━━━━━━━━━━━┳━━━━━━━━━━━━━━━━━━━━━┳━━━━━━━━━━━━━━━━━━━━━┳━━━━━━━━━━━━━━┳━━━━━━━━━━━━━━━━━━━━━┳━━━━━━━━━━━┳━━━━━━━━━━━━━━┳━━━━━━━━━━━━━━┳━━━━━━━━━━━━━━┳━━━━━━━━━━━┓\n",
       "┃<span style=\"font-weight: bold\"> id                  </span>┃<span style=\"font-weight: bold\"> net_in  </span>┃<span style=\"font-weight: bold\"> data_timestamp      </span>┃<span style=\"font-weight: bold\"> net_out </span>┃<span style=\"font-weight: bold\"> vcpu     </span>┃<span style=\"font-weight: bold\"> disk_size </span>┃<span style=\"font-weight: bold\"> created_at          </span>┃<span style=\"font-weight: bold\"> updated_at          </span>┃<span style=\"font-weight: bold\"> type         </span>┃<span style=\"font-weight: bold\"> last_patch          </span>┃<span style=\"font-weight: bold\"> size      </span>┃<span style=\"font-weight: bold\"> max_net_in   </span>┃<span style=\"font-weight: bold\"> max_net_out  </span>┃<span style=\"font-weight: bold\"> max_network  </span>┃<span style=\"font-weight: bold\"> net_usage </span>┃\n",
       "┡━━━━━━━━━━━━━━━━━━━━━╇━━━━━━━━━╇━━━━━━━━━━━━━━━━━━━━━╇━━━━━━━━━╇━━━━━━━━━━╇━━━━━━━━━━━╇━━━━━━━━━━━━━━━━━━━━━╇━━━━━━━━━━━━━━━━━━━━━╇━━━━━━━━━━━━━━╇━━━━━━━━━━━━━━━━━━━━━╇━━━━━━━━━━━╇━━━━━━━━━━━━━━╇━━━━━━━━━━━━━━╇━━━━━━━━━━━━━━╇━━━━━━━━━━━┩\n",
       "│ <span style=\"color: #7f7f7f; text-decoration-color: #7f7f7f\">string</span>              │ <span style=\"color: #7f7f7f; text-decoration-color: #7f7f7f\">float64</span> │ <span style=\"color: #7f7f7f; text-decoration-color: #7f7f7f\">timestamp</span>           │ <span style=\"color: #7f7f7f; text-decoration-color: #7f7f7f\">float64</span> │ <span style=\"color: #7f7f7f; text-decoration-color: #7f7f7f\">float64</span>  │ <span style=\"color: #7f7f7f; text-decoration-color: #7f7f7f\">int64</span>     │ <span style=\"color: #7f7f7f; text-decoration-color: #7f7f7f\">timestamp</span>           │ <span style=\"color: #7f7f7f; text-decoration-color: #7f7f7f\">timestamp</span>           │ <span style=\"color: #7f7f7f; text-decoration-color: #7f7f7f\">string</span>       │ <span style=\"color: #7f7f7f; text-decoration-color: #7f7f7f\">timestamp</span>           │ <span style=\"color: #7f7f7f; text-decoration-color: #7f7f7f\">string</span>    │ <span style=\"color: #7f7f7f; text-decoration-color: #7f7f7f\">float64</span>      │ <span style=\"color: #7f7f7f; text-decoration-color: #7f7f7f\">float64</span>      │ <span style=\"color: #7f7f7f; text-decoration-color: #7f7f7f\">float64</span>      │ <span style=\"color: #7f7f7f; text-decoration-color: #7f7f7f\">float64</span>   │\n",
       "├─────────────────────┼─────────┼─────────────────────┼─────────┼──────────┼───────────┼─────────────────────┼─────────────────────┼──────────────┼─────────────────────┼───────────┼──────────────┼──────────────┼──────────────┼───────────┤\n",
       "│ <span style=\"color: #008000; text-decoration-color: #008000\">i-0a16592fdb1239d51</span> │ <span style=\"color: #008080; text-decoration-color: #008080; font-weight: bold\">30741.2</span> │ <span style=\"color: #800080; text-decoration-color: #800080\">2023-01-23 11:55:00</span> │ <span style=\"color: #008080; text-decoration-color: #008080; font-weight: bold\">24289.8</span> │ <span style=\"color: #008080; text-decoration-color: #008080; font-weight: bold\">0.827669</span> │       <span style=\"color: #008080; text-decoration-color: #008080; font-weight: bold\">240</span> │ <span style=\"color: #800080; text-decoration-color: #800080\">2022-12-06 10:34:00</span> │ <span style=\"color: #800080; text-decoration-color: #800080\">2023-01-21 08:08:00</span> │ <span style=\"color: #008000; text-decoration-color: #008000\">deeplearning</span> │ <span style=\"color: #800080; text-decoration-color: #800080\">2023-12-01 16:22:00</span> │ <span style=\"color: #008000; text-decoration-color: #008000\">t3.xlarge</span> │ <span style=\"color: #008080; text-decoration-color: #008080; font-weight: bold\">1.683825e+08</span> │ <span style=\"color: #008080; text-decoration-color: #008080; font-weight: bold\">1.801788e+08</span> │ <span style=\"color: #008080; text-decoration-color: #008080; font-weight: bold\">3.485612e+08</span> │   <span style=\"color: #008080; text-decoration-color: #008080; font-weight: bold\">55031.0</span> │\n",
       "│ <span style=\"color: #008000; text-decoration-color: #008000\">i-0a16592fdb1239d51</span> │ <span style=\"color: #008080; text-decoration-color: #008080; font-weight: bold\">30741.2</span> │ <span style=\"color: #800080; text-decoration-color: #800080\">2023-01-23 11:55:00</span> │ <span style=\"color: #008080; text-decoration-color: #008080; font-weight: bold\">24289.8</span> │ <span style=\"color: #008080; text-decoration-color: #008080; font-weight: bold\">0.827669</span> │       <span style=\"color: #008080; text-decoration-color: #008080; font-weight: bold\">240</span> │ <span style=\"color: #800080; text-decoration-color: #800080\">2022-12-06 10:34:00</span> │ <span style=\"color: #800080; text-decoration-color: #800080\">2023-01-21 08:08:00</span> │ <span style=\"color: #008000; text-decoration-color: #008000\">deeplearning</span> │ <span style=\"color: #800080; text-decoration-color: #800080\">2023-12-01 16:22:00</span> │ <span style=\"color: #008000; text-decoration-color: #008000\">t3.xlarge</span> │ <span style=\"color: #008080; text-decoration-color: #008080; font-weight: bold\">1.683825e+08</span> │ <span style=\"color: #008080; text-decoration-color: #008080; font-weight: bold\">1.801788e+08</span> │ <span style=\"color: #008080; text-decoration-color: #008080; font-weight: bold\">3.485612e+08</span> │   <span style=\"color: #008080; text-decoration-color: #008080; font-weight: bold\">55031.0</span> │\n",
       "│ <span style=\"color: #008000; text-decoration-color: #008000\">i-0a16592fdb1239d51</span> │ <span style=\"color: #008080; text-decoration-color: #008080; font-weight: bold\">30741.2</span> │ <span style=\"color: #800080; text-decoration-color: #800080\">2023-01-23 11:55:00</span> │ <span style=\"color: #008080; text-decoration-color: #008080; font-weight: bold\">24289.8</span> │ <span style=\"color: #008080; text-decoration-color: #008080; font-weight: bold\">0.827669</span> │       <span style=\"color: #008080; text-decoration-color: #008080; font-weight: bold\">240</span> │ <span style=\"color: #800080; text-decoration-color: #800080\">2022-12-06 10:34:00</span> │ <span style=\"color: #800080; text-decoration-color: #800080\">2023-01-21 08:08:00</span> │ <span style=\"color: #008000; text-decoration-color: #008000\">deeplearning</span> │ <span style=\"color: #800080; text-decoration-color: #800080\">2023-12-01 16:22:00</span> │ <span style=\"color: #008000; text-decoration-color: #008000\">t3.xlarge</span> │ <span style=\"color: #008080; text-decoration-color: #008080; font-weight: bold\">1.683825e+08</span> │ <span style=\"color: #008080; text-decoration-color: #008080; font-weight: bold\">1.801788e+08</span> │ <span style=\"color: #008080; text-decoration-color: #008080; font-weight: bold\">3.485612e+08</span> │   <span style=\"color: #008080; text-decoration-color: #008080; font-weight: bold\">55031.0</span> │\n",
       "└─────────────────────┴─────────┴─────────────────────┴─────────┴──────────┴───────────┴─────────────────────┴─────────────────────┴──────────────┴─────────────────────┴───────────┴──────────────┴──────────────┴──────────────┴───────────┘\n",
       "</pre>\n"
      ],
      "text/plain": [
       "┏━━━━━━━━━━━━━━━━━━━━━┳━━━━━━━━━┳━━━━━━━━━━━━━━━━━━━━━┳━━━━━━━━━┳━━━━━━━━━━┳━━━━━━━━━━━┳━━━━━━━━━━━━━━━━━━━━━┳━━━━━━━━━━━━━━━━━━━━━┳━━━━━━━━━━━━━━┳━━━━━━━━━━━━━━━━━━━━━┳━━━━━━━━━━━┳━━━━━━━━━━━━━━┳━━━━━━━━━━━━━━┳━━━━━━━━━━━━━━┳━━━━━━━━━━━┓\n",
       "┃\u001b[1m \u001b[0m\u001b[1mid\u001b[0m\u001b[1m                 \u001b[0m\u001b[1m \u001b[0m┃\u001b[1m \u001b[0m\u001b[1mnet_in\u001b[0m\u001b[1m \u001b[0m\u001b[1m \u001b[0m┃\u001b[1m \u001b[0m\u001b[1mdata_timestamp\u001b[0m\u001b[1m     \u001b[0m\u001b[1m \u001b[0m┃\u001b[1m \u001b[0m\u001b[1mnet_out\u001b[0m\u001b[1m \u001b[0m┃\u001b[1m \u001b[0m\u001b[1mvcpu\u001b[0m\u001b[1m    \u001b[0m\u001b[1m \u001b[0m┃\u001b[1m \u001b[0m\u001b[1mdisk_size\u001b[0m\u001b[1m \u001b[0m┃\u001b[1m \u001b[0m\u001b[1mcreated_at\u001b[0m\u001b[1m         \u001b[0m\u001b[1m \u001b[0m┃\u001b[1m \u001b[0m\u001b[1mupdated_at\u001b[0m\u001b[1m         \u001b[0m\u001b[1m \u001b[0m┃\u001b[1m \u001b[0m\u001b[1mtype\u001b[0m\u001b[1m        \u001b[0m\u001b[1m \u001b[0m┃\u001b[1m \u001b[0m\u001b[1mlast_patch\u001b[0m\u001b[1m         \u001b[0m\u001b[1m \u001b[0m┃\u001b[1m \u001b[0m\u001b[1msize\u001b[0m\u001b[1m     \u001b[0m\u001b[1m \u001b[0m┃\u001b[1m \u001b[0m\u001b[1mmax_net_in\u001b[0m\u001b[1m  \u001b[0m\u001b[1m \u001b[0m┃\u001b[1m \u001b[0m\u001b[1mmax_net_out\u001b[0m\u001b[1m \u001b[0m\u001b[1m \u001b[0m┃\u001b[1m \u001b[0m\u001b[1mmax_network\u001b[0m\u001b[1m \u001b[0m\u001b[1m \u001b[0m┃\u001b[1m \u001b[0m\u001b[1mnet_usage\u001b[0m\u001b[1m \u001b[0m┃\n",
       "┡━━━━━━━━━━━━━━━━━━━━━╇━━━━━━━━━╇━━━━━━━━━━━━━━━━━━━━━╇━━━━━━━━━╇━━━━━━━━━━╇━━━━━━━━━━━╇━━━━━━━━━━━━━━━━━━━━━╇━━━━━━━━━━━━━━━━━━━━━╇━━━━━━━━━━━━━━╇━━━━━━━━━━━━━━━━━━━━━╇━━━━━━━━━━━╇━━━━━━━━━━━━━━╇━━━━━━━━━━━━━━╇━━━━━━━━━━━━━━╇━━━━━━━━━━━┩\n",
       "│ \u001b[2mstring\u001b[0m              │ \u001b[2mfloat64\u001b[0m │ \u001b[2mtimestamp\u001b[0m           │ \u001b[2mfloat64\u001b[0m │ \u001b[2mfloat64\u001b[0m  │ \u001b[2mint64\u001b[0m     │ \u001b[2mtimestamp\u001b[0m           │ \u001b[2mtimestamp\u001b[0m           │ \u001b[2mstring\u001b[0m       │ \u001b[2mtimestamp\u001b[0m           │ \u001b[2mstring\u001b[0m    │ \u001b[2mfloat64\u001b[0m      │ \u001b[2mfloat64\u001b[0m      │ \u001b[2mfloat64\u001b[0m      │ \u001b[2mfloat64\u001b[0m   │\n",
       "├─────────────────────┼─────────┼─────────────────────┼─────────┼──────────┼───────────┼─────────────────────┼─────────────────────┼──────────────┼─────────────────────┼───────────┼──────────────┼──────────────┼──────────────┼───────────┤\n",
       "│ \u001b[32mi-0a16592fdb1239d51\u001b[0m │ \u001b[1;36m30741.2\u001b[0m │ \u001b[35m2023-01-23 11:55:00\u001b[0m │ \u001b[1;36m24289.8\u001b[0m │ \u001b[1;36m0.827669\u001b[0m │       \u001b[1;36m240\u001b[0m │ \u001b[35m2022-12-06 10:34:00\u001b[0m │ \u001b[35m2023-01-21 08:08:00\u001b[0m │ \u001b[32mdeeplearning\u001b[0m │ \u001b[35m2023-12-01 16:22:00\u001b[0m │ \u001b[32mt3.xlarge\u001b[0m │ \u001b[1;36m1.683825e+08\u001b[0m │ \u001b[1;36m1.801788e+08\u001b[0m │ \u001b[1;36m3.485612e+08\u001b[0m │   \u001b[1;36m55031.0\u001b[0m │\n",
       "│ \u001b[32mi-0a16592fdb1239d51\u001b[0m │ \u001b[1;36m30741.2\u001b[0m │ \u001b[35m2023-01-23 11:55:00\u001b[0m │ \u001b[1;36m24289.8\u001b[0m │ \u001b[1;36m0.827669\u001b[0m │       \u001b[1;36m240\u001b[0m │ \u001b[35m2022-12-06 10:34:00\u001b[0m │ \u001b[35m2023-01-21 08:08:00\u001b[0m │ \u001b[32mdeeplearning\u001b[0m │ \u001b[35m2023-12-01 16:22:00\u001b[0m │ \u001b[32mt3.xlarge\u001b[0m │ \u001b[1;36m1.683825e+08\u001b[0m │ \u001b[1;36m1.801788e+08\u001b[0m │ \u001b[1;36m3.485612e+08\u001b[0m │   \u001b[1;36m55031.0\u001b[0m │\n",
       "│ \u001b[32mi-0a16592fdb1239d51\u001b[0m │ \u001b[1;36m30741.2\u001b[0m │ \u001b[35m2023-01-23 11:55:00\u001b[0m │ \u001b[1;36m24289.8\u001b[0m │ \u001b[1;36m0.827669\u001b[0m │       \u001b[1;36m240\u001b[0m │ \u001b[35m2022-12-06 10:34:00\u001b[0m │ \u001b[35m2023-01-21 08:08:00\u001b[0m │ \u001b[32mdeeplearning\u001b[0m │ \u001b[35m2023-12-01 16:22:00\u001b[0m │ \u001b[32mt3.xlarge\u001b[0m │ \u001b[1;36m1.683825e+08\u001b[0m │ \u001b[1;36m1.801788e+08\u001b[0m │ \u001b[1;36m3.485612e+08\u001b[0m │   \u001b[1;36m55031.0\u001b[0m │\n",
       "└─────────────────────┴─────────┴─────────────────────┴─────────┴──────────┴───────────┴─────────────────────┴─────────────────────┴──────────────┴─────────────────────┴───────────┴──────────────┴──────────────┴──────────────┴───────────┘"
      ]
     },
     "execution_count": 24,
     "metadata": {},
     "output_type": "execute_result"
    }
   ],
   "source": [
    "r1 = (\n",
    "        metrics\n",
    "            .join(max_network, \"size\", how=\"left\")\n",
    "            .select(~s.matches(\"size_right\"))\n",
    "            .mutate(net_usage = _.net_in + _.net_out)\n",
    "    )\n",
    "r1.head(3)"
   ]
  },
  {
   "cell_type": "code",
   "execution_count": 25,
   "metadata": {},
   "outputs": [
    {
     "data": {
      "text/html": [
       "<pre style=\"white-space:pre;overflow-x:auto;line-height:normal;font-family:Menlo,'DejaVu Sans Mono',consolas,'Courier New',monospace\">┏━━━━━━━━━━━━━━━━━━━━━┳━━━━━━━━━━━━━━━━━━━━━┳━━━━━━━━━━━━━━━┳━━━━━━━━━━━━┳━━━━━━━━━━━━┓\n",
       "┃<span style=\"font-weight: bold\"> id                  </span>┃<span style=\"font-weight: bold\"> data_timestamp      </span>┃<span style=\"font-weight: bold\"> check_network </span>┃<span style=\"font-weight: bold\"> check_vcpu </span>┃<span style=\"font-weight: bold\"> check_idle </span>┃\n",
       "┡━━━━━━━━━━━━━━━━━━━━━╇━━━━━━━━━━━━━━━━━━━━━╇━━━━━━━━━━━━━━━╇━━━━━━━━━━━━╇━━━━━━━━━━━━┩\n",
       "│ <span style=\"color: #7f7f7f; text-decoration-color: #7f7f7f\">string</span>              │ <span style=\"color: #7f7f7f; text-decoration-color: #7f7f7f\">timestamp</span>           │ <span style=\"color: #7f7f7f; text-decoration-color: #7f7f7f\">string</span>        │ <span style=\"color: #7f7f7f; text-decoration-color: #7f7f7f\">string</span>     │ <span style=\"color: #7f7f7f; text-decoration-color: #7f7f7f\">string</span>     │\n",
       "├─────────────────────┼─────────────────────┼───────────────┼────────────┼────────────┤\n",
       "│ <span style=\"color: #008000; text-decoration-color: #008000\">i-0a16592fdb1239d51</span> │ <span style=\"color: #800080; text-decoration-color: #800080\">2023-01-23 11:40:00</span> │ <span style=\"color: #008000; text-decoration-color: #008000\">running      </span> │ <span style=\"color: #008000; text-decoration-color: #008000\">idle      </span> │ <span style=\"color: #008000; text-decoration-color: #008000\">running   </span> │\n",
       "│ <span style=\"color: #008000; text-decoration-color: #008000\">i-0a16592fdb1239d51</span> │ <span style=\"color: #800080; text-decoration-color: #800080\">2023-01-23 11:40:00</span> │ <span style=\"color: #008000; text-decoration-color: #008000\">running      </span> │ <span style=\"color: #008000; text-decoration-color: #008000\">idle      </span> │ <span style=\"color: #008000; text-decoration-color: #008000\">running   </span> │\n",
       "│ <span style=\"color: #008000; text-decoration-color: #008000\">i-0a16592fdb1239d51</span> │ <span style=\"color: #800080; text-decoration-color: #800080\">2023-01-23 11:40:00</span> │ <span style=\"color: #008000; text-decoration-color: #008000\">running      </span> │ <span style=\"color: #008000; text-decoration-color: #008000\">idle      </span> │ <span style=\"color: #008000; text-decoration-color: #008000\">running   </span> │\n",
       "│ <span style=\"color: #008000; text-decoration-color: #008000\">i-0a16592fdb1239d51</span> │ <span style=\"color: #800080; text-decoration-color: #800080\">2023-01-23 11:35:00</span> │ <span style=\"color: #008000; text-decoration-color: #008000\">running      </span> │ <span style=\"color: #008000; text-decoration-color: #008000\">idle      </span> │ <span style=\"color: #008000; text-decoration-color: #008000\">running   </span> │\n",
       "│ <span style=\"color: #008000; text-decoration-color: #008000\">i-0a16592fdb1239d51</span> │ <span style=\"color: #800080; text-decoration-color: #800080\">2023-01-23 11:35:00</span> │ <span style=\"color: #008000; text-decoration-color: #008000\">running      </span> │ <span style=\"color: #008000; text-decoration-color: #008000\">idle      </span> │ <span style=\"color: #008000; text-decoration-color: #008000\">running   </span> │\n",
       "│ <span style=\"color: #008000; text-decoration-color: #008000\">i-0a16592fdb1239d51</span> │ <span style=\"color: #800080; text-decoration-color: #800080\">2023-01-23 11:35:00</span> │ <span style=\"color: #008000; text-decoration-color: #008000\">running      </span> │ <span style=\"color: #008000; text-decoration-color: #008000\">idle      </span> │ <span style=\"color: #008000; text-decoration-color: #008000\">running   </span> │\n",
       "│ <span style=\"color: #008000; text-decoration-color: #008000\">i-0a16592fdb1239d51</span> │ <span style=\"color: #800080; text-decoration-color: #800080\">2023-01-23 11:30:00</span> │ <span style=\"color: #008000; text-decoration-color: #008000\">running      </span> │ <span style=\"color: #008000; text-decoration-color: #008000\">idle      </span> │ <span style=\"color: #008000; text-decoration-color: #008000\">running   </span> │\n",
       "│ <span style=\"color: #008000; text-decoration-color: #008000\">i-0a16592fdb1239d51</span> │ <span style=\"color: #800080; text-decoration-color: #800080\">2023-01-23 11:30:00</span> │ <span style=\"color: #008000; text-decoration-color: #008000\">running      </span> │ <span style=\"color: #008000; text-decoration-color: #008000\">idle      </span> │ <span style=\"color: #008000; text-decoration-color: #008000\">running   </span> │\n",
       "│ <span style=\"color: #008000; text-decoration-color: #008000\">i-0a16592fdb1239d51</span> │ <span style=\"color: #800080; text-decoration-color: #800080\">2023-01-23 11:30:00</span> │ <span style=\"color: #008000; text-decoration-color: #008000\">running      </span> │ <span style=\"color: #008000; text-decoration-color: #008000\">idle      </span> │ <span style=\"color: #008000; text-decoration-color: #008000\">running   </span> │\n",
       "│ <span style=\"color: #008000; text-decoration-color: #008000\">i-0a16592fdb1239d51</span> │ <span style=\"color: #800080; text-decoration-color: #800080\">2023-01-23 11:25:00</span> │ <span style=\"color: #008000; text-decoration-color: #008000\">running      </span> │ <span style=\"color: #008000; text-decoration-color: #008000\">idle      </span> │ <span style=\"color: #008000; text-decoration-color: #008000\">running   </span> │\n",
       "│ <span style=\"color: #7f7f7f; text-decoration-color: #7f7f7f\">…</span>                   │ <span style=\"color: #7f7f7f; text-decoration-color: #7f7f7f\">…</span>                   │ <span style=\"color: #7f7f7f; text-decoration-color: #7f7f7f\">…</span>             │ <span style=\"color: #7f7f7f; text-decoration-color: #7f7f7f\">…</span>          │ <span style=\"color: #7f7f7f; text-decoration-color: #7f7f7f\">…</span>          │\n",
       "└─────────────────────┴─────────────────────┴───────────────┴────────────┴────────────┘\n",
       "</pre>\n"
      ],
      "text/plain": [
       "┏━━━━━━━━━━━━━━━━━━━━━┳━━━━━━━━━━━━━━━━━━━━━┳━━━━━━━━━━━━━━━┳━━━━━━━━━━━━┳━━━━━━━━━━━━┓\n",
       "┃\u001b[1m \u001b[0m\u001b[1mid\u001b[0m\u001b[1m                 \u001b[0m\u001b[1m \u001b[0m┃\u001b[1m \u001b[0m\u001b[1mdata_timestamp\u001b[0m\u001b[1m     \u001b[0m\u001b[1m \u001b[0m┃\u001b[1m \u001b[0m\u001b[1mcheck_network\u001b[0m\u001b[1m \u001b[0m┃\u001b[1m \u001b[0m\u001b[1mcheck_vcpu\u001b[0m\u001b[1m \u001b[0m┃\u001b[1m \u001b[0m\u001b[1mcheck_idle\u001b[0m\u001b[1m \u001b[0m┃\n",
       "┡━━━━━━━━━━━━━━━━━━━━━╇━━━━━━━━━━━━━━━━━━━━━╇━━━━━━━━━━━━━━━╇━━━━━━━━━━━━╇━━━━━━━━━━━━┩\n",
       "│ \u001b[2mstring\u001b[0m              │ \u001b[2mtimestamp\u001b[0m           │ \u001b[2mstring\u001b[0m        │ \u001b[2mstring\u001b[0m     │ \u001b[2mstring\u001b[0m     │\n",
       "├─────────────────────┼─────────────────────┼───────────────┼────────────┼────────────┤\n",
       "│ \u001b[32mi-0a16592fdb1239d51\u001b[0m │ \u001b[35m2023-01-23 11:40:00\u001b[0m │ \u001b[32mrunning      \u001b[0m │ \u001b[32midle      \u001b[0m │ \u001b[32mrunning   \u001b[0m │\n",
       "│ \u001b[32mi-0a16592fdb1239d51\u001b[0m │ \u001b[35m2023-01-23 11:40:00\u001b[0m │ \u001b[32mrunning      \u001b[0m │ \u001b[32midle      \u001b[0m │ \u001b[32mrunning   \u001b[0m │\n",
       "│ \u001b[32mi-0a16592fdb1239d51\u001b[0m │ \u001b[35m2023-01-23 11:40:00\u001b[0m │ \u001b[32mrunning      \u001b[0m │ \u001b[32midle      \u001b[0m │ \u001b[32mrunning   \u001b[0m │\n",
       "│ \u001b[32mi-0a16592fdb1239d51\u001b[0m │ \u001b[35m2023-01-23 11:35:00\u001b[0m │ \u001b[32mrunning      \u001b[0m │ \u001b[32midle      \u001b[0m │ \u001b[32mrunning   \u001b[0m │\n",
       "│ \u001b[32mi-0a16592fdb1239d51\u001b[0m │ \u001b[35m2023-01-23 11:35:00\u001b[0m │ \u001b[32mrunning      \u001b[0m │ \u001b[32midle      \u001b[0m │ \u001b[32mrunning   \u001b[0m │\n",
       "│ \u001b[32mi-0a16592fdb1239d51\u001b[0m │ \u001b[35m2023-01-23 11:35:00\u001b[0m │ \u001b[32mrunning      \u001b[0m │ \u001b[32midle      \u001b[0m │ \u001b[32mrunning   \u001b[0m │\n",
       "│ \u001b[32mi-0a16592fdb1239d51\u001b[0m │ \u001b[35m2023-01-23 11:30:00\u001b[0m │ \u001b[32mrunning      \u001b[0m │ \u001b[32midle      \u001b[0m │ \u001b[32mrunning   \u001b[0m │\n",
       "│ \u001b[32mi-0a16592fdb1239d51\u001b[0m │ \u001b[35m2023-01-23 11:30:00\u001b[0m │ \u001b[32mrunning      \u001b[0m │ \u001b[32midle      \u001b[0m │ \u001b[32mrunning   \u001b[0m │\n",
       "│ \u001b[32mi-0a16592fdb1239d51\u001b[0m │ \u001b[35m2023-01-23 11:30:00\u001b[0m │ \u001b[32mrunning      \u001b[0m │ \u001b[32midle      \u001b[0m │ \u001b[32mrunning   \u001b[0m │\n",
       "│ \u001b[32mi-0a16592fdb1239d51\u001b[0m │ \u001b[35m2023-01-23 11:25:00\u001b[0m │ \u001b[32mrunning      \u001b[0m │ \u001b[32midle      \u001b[0m │ \u001b[32mrunning   \u001b[0m │\n",
       "│ \u001b[2m…\u001b[0m                   │ \u001b[2m…\u001b[0m                   │ \u001b[2m…\u001b[0m             │ \u001b[2m…\u001b[0m          │ \u001b[2m…\u001b[0m          │\n",
       "└─────────────────────┴─────────────────────┴───────────────┴────────────┴────────────┘"
      ]
     },
     "execution_count": 25,
     "metadata": {},
     "output_type": "execute_result"
    }
   ],
   "source": [
    "r2 = r1.mutate(\n",
    "            check_network = (ibis.case()\n",
    "                                .when(r1.net_usage < r1.max_network * 0.02, \"idle\")\n",
    "                                .when(True, \"running\").end()),    \n",
    "            check_vcpu = (ibis.case()\n",
    "                            .when((r1.type == \"deeplearning\") & (r1.vcpu < 10),  \"idle\")\n",
    "                            .when(r1.vcpu < 5, \"idle\")\n",
    "                            .when(True, \"running\").end()),\n",
    "        )\n",
    "r3 = r2.mutate(\n",
    "            check_idle = (ibis.case()\n",
    "                            .when((r2.check_network == \"idle\") & (r2.check_vcpu == \"idle\"), \"idle\")\n",
    "                            .when(True, \"running\").end())\n",
    "        )\n",
    "r3.filter(_.check_idle == \"running\").select(_.id, _.data_timestamp, _.check_network, _.check_vcpu, _.check_idle)"
   ]
  },
  {
   "cell_type": "code",
   "execution_count": null,
   "metadata": {},
   "outputs": [],
   "source": []
  }
 ],
 "metadata": {
  "kernelspec": {
   "display_name": "jupyter",
   "language": "python",
   "name": "python3"
  },
  "language_info": {
   "codemirror_mode": {
    "name": "ipython",
    "version": 3
   },
   "file_extension": ".py",
   "mimetype": "text/x-python",
   "name": "python",
   "nbconvert_exporter": "python",
   "pygments_lexer": "ipython3",
   "version": "3.11.3"
  },
  "orig_nbformat": 4
 },
 "nbformat": 4,
 "nbformat_minor": 2
}

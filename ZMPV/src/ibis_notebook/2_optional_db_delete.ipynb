{
 "cells": [
  {
   "cell_type": "code",
   "execution_count": 1,
   "metadata": {},
   "outputs": [],
   "source": [
    "import pandas as pd"
   ]
  },
  {
   "cell_type": "code",
   "execution_count": 2,
   "metadata": {},
   "outputs": [],
   "source": [
    "# Path\n",
    "from pathlib import Path\n",
    "path = Path(\"~/datasets/home-dataset/jupyterlab/ZMPV\")\n",
    "db_path = path / \"db\""
   ]
  },
  {
   "cell_type": "code",
   "execution_count": 3,
   "metadata": {},
   "outputs": [],
   "source": [
    "# DB files\n",
    "db_file = db_path / \"ZMPV_2024.csv\""
   ]
  },
  {
   "cell_type": "code",
   "execution_count": 4,
   "metadata": {},
   "outputs": [],
   "source": [
    "def delete_last_month(path):\n",
    "    df = pd.read_csv(\n",
    "        path,\n",
    "        dtype={\n",
    "            \"m_y_from_\": str,\n",
    "            \"sap_plant\": str,\n",
    "            \"outlet\": str,\n",
    "            \"vendor\": str,\n",
    "            \"trading_pr\": str,\n",
    "            \"accounts_f\": str,\n",
    "            \"document_d\": str,\n",
    "        },\n",
    "    )\n",
    "\n",
    "    # last_month = df[\"M/Y (from-\"].iloc[-1] # Find the last row value\n",
    "    last_month = df[\"m_y_from_\"].max()  # Find the biggest value\n",
    "\n",
    "    # Filter out last month\n",
    "    df = df[df[\"m_y_from_\"] != last_month]\n",
    "\n",
    "    return df"
   ]
  },
  {
   "cell_type": "code",
   "execution_count": 5,
   "metadata": {},
   "outputs": [
    {
     "data": {
      "text/html": [
       "<div>\n",
       "<style scoped>\n",
       "    .dataframe tbody tr th:only-of-type {\n",
       "        vertical-align: middle;\n",
       "    }\n",
       "\n",
       "    .dataframe tbody tr th {\n",
       "        vertical-align: top;\n",
       "    }\n",
       "\n",
       "    .dataframe thead th {\n",
       "        text-align: right;\n",
       "    }\n",
       "</style>\n",
       "<table border=\"1\" class=\"dataframe\">\n",
       "  <thead>\n",
       "    <tr style=\"text-align: right;\">\n",
       "      <th></th>\n",
       "      <th>m_y_from_</th>\n",
       "      <th>outs_ic</th>\n",
       "      <th>sap_plant</th>\n",
       "      <th>profit_cen</th>\n",
       "      <th>outlet</th>\n",
       "      <th>vendor</th>\n",
       "      <th>vendor_name</th>\n",
       "      <th>vendor_cou</th>\n",
       "      <th>trading_pr</th>\n",
       "      <th>tradingprtndescr</th>\n",
       "      <th>...</th>\n",
       "      <th>ppv_accoun</th>\n",
       "      <th>ic_elimin_</th>\n",
       "      <th>subcontrac</th>\n",
       "      <th>actual_cus</th>\n",
       "      <th>accounts_f</th>\n",
       "      <th>materia_ty</th>\n",
       "      <th>psegment</th>\n",
       "      <th>document_d</th>\n",
       "      <th>mrp_type</th>\n",
       "      <th>mrp_descrp</th>\n",
       "    </tr>\n",
       "  </thead>\n",
       "  <tbody>\n",
       "  </tbody>\n",
       "</table>\n",
       "<p>0 rows × 50 columns</p>\n",
       "</div>"
      ],
      "text/plain": [
       "Empty DataFrame\n",
       "Columns: [m_y_from_, outs_ic, sap_plant, profit_cen, outlet, vendor, vendor_name, vendor_cou, trading_pr, tradingprtndescr, purchasing, incoterms, inco_terms, material, material_descr_, gr_quantity, local_curr, gr_value, docum_cur, gross_ppv, net_pm_ppv, net_pm_ppv_1, act_rawma, rms_ppv, fx_var_ir_, fx_effect, sum_std_price, stdmateria, std_rawmat, std_mat_in, std_tool_c, actual_too, std_freigh, std_customs, std_disco, actual_dis, std_other, std_other_1, std_ic_mar, speprocost, ppv_accoun, ic_elimin_, subcontrac, actual_cus, accounts_f, materia_ty, psegment, document_d, mrp_type, mrp_descrp]\n",
       "Index: []\n",
       "\n",
       "[0 rows x 50 columns]"
      ]
     },
     "execution_count": 5,
     "metadata": {},
     "output_type": "execute_result"
    }
   ],
   "source": [
    "df = delete_last_month(db_file)\n",
    "df.tail(3)"
   ]
  },
  {
   "cell_type": "code",
   "execution_count": 6,
   "metadata": {},
   "outputs": [],
   "source": [
    "df.to_csv(db_file, index=False)"
   ]
  },
  {
   "cell_type": "code",
   "execution_count": null,
   "metadata": {},
   "outputs": [],
   "source": []
  }
 ],
 "metadata": {
  "kernelspec": {
   "display_name": "Python 3 (ipykernel)",
   "language": "python",
   "name": "python3"
  },
  "language_info": {
   "codemirror_mode": {
    "name": "ipython",
    "version": 3
   },
   "file_extension": ".py",
   "mimetype": "text/x-python",
   "name": "python",
   "nbconvert_exporter": "python",
   "pygments_lexer": "ipython3",
   "version": "3.9.18"
  }
 },
 "nbformat": 4,
 "nbformat_minor": 4
}

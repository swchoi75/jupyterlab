{
 "cells": [
  {
   "cell_type": "code",
   "execution_count": 1,
   "id": "f02ad908-9dab-4e76-a17b-4fa68b72f74d",
   "metadata": {},
   "outputs": [],
   "source": [
    "import pandas as pd"
   ]
  },
  {
   "cell_type": "code",
   "execution_count": 2,
   "id": "0d501d7f",
   "metadata": {},
   "outputs": [],
   "source": [
    "# Path\n",
    "from pathlib import Path\n",
    "path = Path(\"~/datasets/home-dataset/jupyterlab/ZVAR\")\n",
    "db_path = path / \"db\""
   ]
  },
  {
   "cell_type": "code",
   "execution_count": 3,
   "id": "d59908e9-7286-4c4b-8f6f-7895aee302c1",
   "metadata": {},
   "outputs": [],
   "source": [
    "# DB files\n",
    "db_file = db_path / \"ZVAR_2023.csv\""
   ]
  },
  {
   "cell_type": "code",
   "execution_count": 4,
   "id": "b1d8acf3",
   "metadata": {},
   "outputs": [],
   "source": [
    "def delete_last_month(path):\n",
    "    # Read a data file in CSV format\n",
    "    df = pd.read_csv(\n",
    "        path,\n",
    "        dtype = {\n",
    "            \"order\":str,\n",
    "            \"cost_ctr\":str,\n",
    "            \"blk_ind\": str,\n",
    "            \"no_post\": str,\n",
    "        },\n",
    "    )\n",
    "\n",
    "    # last_month = df[\"Per\"].iloc[-1]  # Find the last row value\n",
    "    last_month = df[\"per\"].max()  # Find the biggest value in \"per\" (= Period)\n",
    "\n",
    "    # Filter out last month\n",
    "    df = df[(df[\"per\"] != last_month)]\n",
    "\n",
    "    return df"
   ]
  },
  {
   "cell_type": "code",
   "execution_count": 5,
   "id": "fa296cc9",
   "metadata": {},
   "outputs": [
    {
     "name": "stderr",
     "output_type": "stream",
     "text": [
      "C:\\Users\\uid98421\\AppData\\Local\\Temp\\ipykernel_11720\\1696994464.py:3: DtypeWarning: Columns (30) have mixed types. Specify dtype option on import or set low_memory=False.\n",
      "  df = pd.read_csv(\n"
     ]
    },
    {
     "data": {
      "text/plain": [
       "0         1\n",
       "1         1\n",
       "2         1\n",
       "3         1\n",
       "4         1\n",
       "         ..\n",
       "795395    9\n",
       "795396    9\n",
       "795397    9\n",
       "795398    9\n",
       "795399    9\n",
       "Name: per, Length: 795400, dtype: int64"
      ]
     },
     "execution_count": 5,
     "metadata": {},
     "output_type": "execute_result"
    }
   ],
   "source": [
    "df = delete_last_month(db_file)\n",
    "df.per"
   ]
  },
  {
   "cell_type": "code",
   "execution_count": 6,
   "id": "94298e53-5fd8-450d-8abf-30e2bebeb3b8",
   "metadata": {},
   "outputs": [],
   "source": [
    "df.to_csv(db_file, index=False)"
   ]
  }
 ],
 "metadata": {
  "kernelspec": {
   "display_name": "Python 3 (ipykernel)",
   "language": "python",
   "name": "python3"
  },
  "language_info": {
   "codemirror_mode": {
    "name": "ipython",
    "version": 3
   },
   "file_extension": ".py",
   "mimetype": "text/x-python",
   "name": "python",
   "nbconvert_exporter": "python",
   "pygments_lexer": "ipython3",
   "version": "3.9.18"
  }
 },
 "nbformat": 4,
 "nbformat_minor": 5
}

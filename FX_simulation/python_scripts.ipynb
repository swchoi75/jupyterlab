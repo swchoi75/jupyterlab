{
 "cells": [
  {
   "cell_type": "markdown",
   "metadata": {},
   "source": [
    "## FX Simulation"
   ]
  },
  {
   "cell_type": "markdown",
   "metadata": {},
   "source": [
    "#### Import Libraries"
   ]
  },
  {
   "cell_type": "code",
   "execution_count": 1,
   "metadata": {},
   "outputs": [],
   "source": [
    "import os\n",
    "import sys\n",
    "import pandas as pd\n",
    "import numpy as np\n",
    "from pathlib import Path\n",
    "from janitor import clean_names\n",
    "from enum import Enum"
   ]
  },
  {
   "cell_type": "markdown",
   "metadata": {},
   "source": [
    "#### BOM"
   ]
  },
  {
   "cell_type": "code",
   "execution_count": 2,
   "metadata": {},
   "outputs": [
    {
     "name": "stdout",
     "output_type": "stream",
     "text": [
      "A parquet file is created\n"
     ]
    }
   ],
   "source": [
    "%run \"script/1-1_bom_csv_to_parquet.py\""
   ]
  },
  {
   "cell_type": "code",
   "execution_count": 3,
   "metadata": {},
   "outputs": [
    {
     "name": "stdout",
     "output_type": "stream",
     "text": [
      "A file is created\n"
     ]
    }
   ],
   "source": [
    "%run \"script/1-2_merge_bom.py\""
   ]
  },
  {
   "cell_type": "code",
   "execution_count": 4,
   "metadata": {},
   "outputs": [
    {
     "name": "stdout",
     "output_type": "stream",
     "text": [
      "A file is created.\n"
     ]
    }
   ],
   "source": [
    "%run \"script/1-3_bom_price.py\""
   ]
  },
  {
   "cell_type": "markdown",
   "metadata": {},
   "source": [
    "#### FX Rate"
   ]
  },
  {
   "cell_type": "code",
   "execution_count": 5,
   "metadata": {},
   "outputs": [
    {
     "name": "stdout",
     "output_type": "stream",
     "text": [
      "A file is created.\n"
     ]
    }
   ],
   "source": [
    "%run \"script/2-1_fx_rates_ytd.py\""
   ]
  },
  {
   "cell_type": "code",
   "execution_count": 6,
   "metadata": {},
   "outputs": [
    {
     "name": "stdout",
     "output_type": "stream",
     "text": [
      "A file is created.\n"
     ]
    }
   ],
   "source": [
    "%run \"script/2-2_fx_rates_spot.py\""
   ]
  },
  {
   "cell_type": "code",
   "execution_count": 7,
   "metadata": {},
   "outputs": [
    {
     "name": "stdout",
     "output_type": "stream",
     "text": [
      "A file is created\n"
     ]
    }
   ],
   "source": [
    "%run \"script/2-3_merge_fx_rates.py\""
   ]
  },
  {
   "cell_type": "code",
   "execution_count": 8,
   "metadata": {},
   "outputs": [
    {
     "name": "stdout",
     "output_type": "stream",
     "text": [
      "Files are created\n"
     ]
    }
   ],
   "source": [
    "%run \"script/2-4_fx_rates_HMG.py\""
   ]
  },
  {
   "cell_type": "markdown",
   "metadata": {},
   "source": [
    "#### FX Scenario with 8 options"
   ]
  },
  {
   "cell_type": "code",
   "execution_count": 9,
   "metadata": {},
   "outputs": [
    {
     "name": "stdout",
     "output_type": "stream",
     "text": [
      "A file is created\n",
      "Plan FX rate on quotation_year from VT and Actual FX rate from VT\n"
     ]
    }
   ],
   "source": [
    "%run \"script/3-1_bom_price_fx_rates.py\" 1"
   ]
  },
  {
   "cell_type": "code",
   "execution_count": 10,
   "metadata": {},
   "outputs": [
    {
     "name": "stdout",
     "output_type": "stream",
     "text": [
      "A file is created\n",
      "Plan FX rate on quotation_year from VT and Actual FX rate from HMG\n"
     ]
    }
   ],
   "source": [
    "%run \"script/3-1_bom_price_fx_rates.py\" 2"
   ]
  },
  {
   "cell_type": "code",
   "execution_count": 11,
   "metadata": {},
   "outputs": [
    {
     "name": "stdout",
     "output_type": "stream",
     "text": [
      "A file is created\n",
      "Plan FX rate on sop_year from VT and Actual FX rate from VT\n"
     ]
    }
   ],
   "source": [
    "%run \"script/3-1_bom_price_fx_rates.py\" 3"
   ]
  },
  {
   "cell_type": "code",
   "execution_count": 12,
   "metadata": {},
   "outputs": [
    {
     "name": "stdout",
     "output_type": "stream",
     "text": [
      "A file is created\n",
      "Plan FX rate on sop_year from VT and Actual FX rate from HMG\n"
     ]
    }
   ],
   "source": [
    "%run \"script/3-1_bom_price_fx_rates.py\" 4"
   ]
  },
  {
   "cell_type": "code",
   "execution_count": 13,
   "metadata": {},
   "outputs": [
    {
     "name": "stdout",
     "output_type": "stream",
     "text": [
      "A file is created\n",
      "Plan FX rate on quotation_year from HMG and Actual FX rate from VT\n"
     ]
    }
   ],
   "source": [
    "%run \"script/3-1_bom_price_fx_rates.py\" 5"
   ]
  },
  {
   "cell_type": "code",
   "execution_count": 14,
   "metadata": {},
   "outputs": [
    {
     "name": "stdout",
     "output_type": "stream",
     "text": [
      "A file is created\n",
      "Plan FX rate on quotation_year from HMG and Actual FX rate from HMG\n"
     ]
    }
   ],
   "source": [
    "%run \"script/3-1_bom_price_fx_rates.py\" 6"
   ]
  },
  {
   "cell_type": "code",
   "execution_count": 15,
   "metadata": {},
   "outputs": [
    {
     "name": "stdout",
     "output_type": "stream",
     "text": [
      "A file is created\n",
      "Plan FX rate on sop_year from HMG and Actual FX rate from VT\n"
     ]
    }
   ],
   "source": [
    "%run \"script/3-1_bom_price_fx_rates.py\" 7"
   ]
  },
  {
   "cell_type": "code",
   "execution_count": 16,
   "metadata": {},
   "outputs": [
    {
     "name": "stdout",
     "output_type": "stream",
     "text": [
      "A file is created\n",
      "Plan FX rate on sop_year from HMG and Actual FX rate from HMG\n"
     ]
    }
   ],
   "source": [
    "%run \"script/3-1_bom_price_fx_rates.py\" 8"
   ]
  },
  {
   "cell_type": "markdown",
   "metadata": {},
   "source": [
    "#### FX Impact"
   ]
  },
  {
   "cell_type": "code",
   "execution_count": 17,
   "metadata": {},
   "outputs": [
    {
     "name": "stdout",
     "output_type": "stream",
     "text": [
      "Files are created\n"
     ]
    }
   ],
   "source": [
    "%run \"script/3-2_sales_bom_price_delta.py\""
   ]
  },
  {
   "cell_type": "markdown",
   "metadata": {},
   "source": [
    "#### Power BI"
   ]
  },
  {
   "cell_type": "code",
   "execution_count": 18,
   "metadata": {},
   "outputs": [
    {
     "name": "stdout",
     "output_type": "stream",
     "text": [
      "A file is created\n"
     ]
    }
   ],
   "source": [
    "%run \"script/4-1_FX_compensation.py\""
   ]
  },
  {
   "cell_type": "code",
   "execution_count": 19,
   "metadata": {},
   "outputs": [
    {
     "name": "stdout",
     "output_type": "stream",
     "text": [
      "files are created\n"
     ]
    }
   ],
   "source": [
    "%run \"script/4-2_Power_BI.py\""
   ]
  }
 ],
 "metadata": {
  "kernelspec": {
   "display_name": "py39",
   "language": "python",
   "name": "python3"
  },
  "language_info": {
   "codemirror_mode": {
    "name": "ipython",
    "version": 3
   },
   "file_extension": ".py",
   "mimetype": "text/x-python",
   "name": "python",
   "nbconvert_exporter": "python",
   "pygments_lexer": "ipython3",
   "version": "3.9.18"
  }
 },
 "nbformat": 4,
 "nbformat_minor": 2
}

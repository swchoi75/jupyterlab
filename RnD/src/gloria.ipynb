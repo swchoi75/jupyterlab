{
    "cells": [
        {
            "cell_type": "code",
            "execution_count": 1,
            "metadata": {},
            "outputs": [],
            "source": [
                " # In Terminal, \"pip install ibis-framework[duckdb] pyjanitor\"\n",
                "import pandas as pd\n",
                "import ibis\n",
                "from ibis import selectors as s\n",
                "from ibis import _\n",
                "ibis.options.interactive = True"
            ]
        },
        {
            "cell_type": "code",
            "execution_count": 2,
            "metadata": {},
            "outputs": [],
            "source": [
                "import re\n",
                "from janitor import clean_names"
            ]
        },
        {
            "cell_type": "code",
            "execution_count": 3,
            "metadata": {},
            "outputs": [],
            "source": [
                "# Path\n",
                "from pathlib import Path\n",
                "path = Path(r\"C:\\Users\\uid98421\\Vitesco Technologies\\Controlling VT Korea - Documents\\120. Data automation\\jupyterlab\\RnD\")\n",
                "data_path = path / \"data\" / \"GLORIA\"\n",
                "meta_path = path / \"meta\"\n",
                "output_path = path / \"output\""
            ]
        },
        {
            "cell_type": "code",
            "execution_count": 4,
            "metadata": {},
            "outputs": [],
            "source": [
                "# Input data\n",
                "f_gloria = data_path / \"202307_ICN.csv\"\n",
                "f_ps_db = data_path / \"202307_PS_DB_display.xlsx\"\n",
                "f_acc_config = meta_path / \"ACC_Config_2023.xlsx\"\n",
                "f_cc_config = meta_path / \"CC_Config_2023.xlsx\"\n",
                "f_ps_config = meta_path / \"PS_Config_2023.xlsx\"\n",
                "f_race_gloria = meta_path / \"RACE_GLORIA.csv\"\n",
                "f_race = data_path / \"Analysis FS Item Hierarchy for CU 698_LC.xlsx\""
            ]
        },
        {
            "cell_type": "code",
            "execution_count": 5,
            "metadata": {},
            "outputs": [
                {
                    "data": {
                        "text/html": [
                            "<div>\n",
                            "<style scoped>\n",
                            "    .dataframe tbody tr th:only-of-type {\n",
                            "        vertical-align: middle;\n",
                            "    }\n",
                            "\n",
                            "    .dataframe tbody tr th {\n",
                            "        vertical-align: top;\n",
                            "    }\n",
                            "\n",
                            "    .dataframe thead th {\n",
                            "        text-align: right;\n",
                            "    }\n",
                            "</style>\n",
                            "<table border=\"1\" class=\"dataframe\">\n",
                            "  <thead>\n",
                            "    <tr style=\"text-align: right;\">\n",
                            "      <th></th>\n",
                            "      <th>year</th>\n",
                            "      <th>vt</th>\n",
                            "      <th>location</th>\n",
                            "      <th>outlet</th>\n",
                            "      <th>subdepart</th>\n",
                            "      <th>la_typ</th>\n",
                            "      <th>la_pos</th>\n",
                            "      <th>cost_item</th>\n",
                            "      <th>text_ci</th>\n",
                            "      <th>costs_rnd</th>\n",
                            "      <th>head_item</th>\n",
                            "      <th>user_name</th>\n",
                            "      <th>per</th>\n",
                            "      <th>costs</th>\n",
                            "      <th>obcur</th>\n",
                            "      <th>heads</th>\n",
                            "      <th>um</th>\n",
                            "      <th>created_on</th>\n",
                            "    </tr>\n",
                            "  </thead>\n",
                            "  <tbody>\n",
                            "    <tr>\n",
                            "      <th>0</th>\n",
                            "      <td>2024</td>\n",
                            "      <td>4</td>\n",
                            "      <td>ICN</td>\n",
                            "      <td>7110</td>\n",
                            "      <td>NaN</td>\n",
                            "      <td>NaN</td>\n",
                            "      <td>NaN</td>\n",
                            "      <td>510</td>\n",
                            "      <td>NaN</td>\n",
                            "      <td>19,730,318</td>\n",
                            "      <td>NaN</td>\n",
                            "      <td>NaN</td>\n",
                            "      <td>7</td>\n",
                            "      <td>19,730,318</td>\n",
                            "      <td>KRW</td>\n",
                            "      <td>0</td>\n",
                            "      <td>NaN</td>\n",
                            "      <td>NaN</td>\n",
                            "    </tr>\n",
                            "    <tr>\n",
                            "      <th>1</th>\n",
                            "      <td>2024</td>\n",
                            "      <td>4</td>\n",
                            "      <td>ICN</td>\n",
                            "      <td>7110</td>\n",
                            "      <td>NaN</td>\n",
                            "      <td>L6</td>\n",
                            "      <td>1.0</td>\n",
                            "      <td>10</td>\n",
                            "      <td>TOTAL COMPENSATION</td>\n",
                            "      <td>31,884,702-</td>\n",
                            "      <td>10</td>\n",
                            "      <td>NaN</td>\n",
                            "      <td>7</td>\n",
                            "      <td>-31,884,702</td>\n",
                            "      <td>KRW</td>\n",
                            "      <td>4</td>\n",
                            "      <td>NaN</td>\n",
                            "      <td>NaN</td>\n",
                            "    </tr>\n",
                            "    <tr>\n",
                            "      <th>2</th>\n",
                            "      <td>2024</td>\n",
                            "      <td>4</td>\n",
                            "      <td>ICN</td>\n",
                            "      <td>7110</td>\n",
                            "      <td>NaN</td>\n",
                            "      <td>L6</td>\n",
                            "      <td>4.0</td>\n",
                            "      <td>15</td>\n",
                            "      <td>THEREOF COMPENSATION FOR LEASING</td>\n",
                            "      <td>NaN</td>\n",
                            "      <td>20</td>\n",
                            "      <td>NaN</td>\n",
                            "      <td>7</td>\n",
                            "      <td>0</td>\n",
                            "      <td>KRW</td>\n",
                            "      <td>0</td>\n",
                            "      <td>NaN</td>\n",
                            "      <td>NaN</td>\n",
                            "    </tr>\n",
                            "  </tbody>\n",
                            "</table>\n",
                            "</div>"
                        ],
                        "text/plain": [
                            "   year  vt location outlet subdepart la_typ  la_pos cost_item  \\\n",
                            "0  2024   4      ICN   7110       NaN    NaN     NaN       510   \n",
                            "1  2024   4      ICN   7110       NaN     L6     1.0        10   \n",
                            "2  2024   4      ICN   7110       NaN     L6     4.0        15   \n",
                            "\n",
                            "                            text_ci    costs_rnd head_item  user_name  per  \\\n",
                            "0                               NaN   19,730,318       NaN        NaN    7   \n",
                            "1                TOTAL COMPENSATION  31,884,702-        10        NaN    7   \n",
                            "2  THEREOF COMPENSATION FOR LEASING          NaN        20        NaN    7   \n",
                            "\n",
                            "         costs obcur  heads  um  created_on  \n",
                            "0   19,730,318   KRW      0 NaN         NaN  \n",
                            "1  -31,884,702   KRW      4 NaN         NaN  \n",
                            "2            0   KRW      0 NaN         NaN  "
                        ]
                    },
                    "execution_count": 5,
                    "metadata": {},
                    "output_type": "execute_result"
                }
            ],
            "source": [
                "df_gloria = pd.read_csv(f_gloria, dtype={\"Outlet\":str, \"Cost_ITEM\":str, \"Head_ITEM\":str, }).clean_names()\n",
                "df_gloria.head(3)"
            ]
        },
        {
            "cell_type": "code",
            "execution_count": 6,
            "metadata": {},
            "outputs": [
                {
                    "data": {
                        "text/html": [
                            "<div>\n",
                            "<style scoped>\n",
                            "    .dataframe tbody tr th:only-of-type {\n",
                            "        vertical-align: middle;\n",
                            "    }\n",
                            "\n",
                            "    .dataframe tbody tr th {\n",
                            "        vertical-align: top;\n",
                            "    }\n",
                            "\n",
                            "    .dataframe thead th {\n",
                            "        text-align: right;\n",
                            "    }\n",
                            "</style>\n",
                            "<table border=\"1\" class=\"dataframe\">\n",
                            "  <thead>\n",
                            "    <tr style=\"text-align: right;\">\n",
                            "      <th></th>\n",
                            "      <th>project_definition</th>\n",
                            "      <th>global_project_number</th>\n",
                            "      <th>project_description</th>\n",
                            "      <th>ba_pr</th>\n",
                            "      <th>prftctr_pr</th>\n",
                            "      <th>wbs_element</th>\n",
                            "      <th>wbs_element_description</th>\n",
                            "      <th>ra_key</th>\n",
                            "      <th>coar</th>\n",
                            "      <th>cocd</th>\n",
                            "      <th>...</th>\n",
                            "      <th>total_actual_revenues</th>\n",
                            "      <th>total_actual_hours</th>\n",
                            "      <th>prev_per_actual_cos</th>\n",
                            "      <th>prev_per_committmen</th>\n",
                            "      <th>prev_per_actual_rev</th>\n",
                            "      <th>prev_per_actual_hou</th>\n",
                            "      <th>eval_per_actual_cos</th>\n",
                            "      <th>eval_per_committmen</th>\n",
                            "      <th>eval_per_actual_rev</th>\n",
                            "      <th>eval_per_actual_hou</th>\n",
                            "    </tr>\n",
                            "  </thead>\n",
                            "  <tbody>\n",
                            "    <tr>\n",
                            "      <th>0</th>\n",
                            "      <td>DK-300001</td>\n",
                            "      <td>DG-009595</td>\n",
                            "      <td>HMC DRY DCT</td>\n",
                            "      <td>NaN</td>\n",
                            "      <td>50803-026</td>\n",
                            "      <td>DK-300001-1000</td>\n",
                            "      <td>HMC DRYDCT R&amp;D</td>\n",
                            "      <td>NaN</td>\n",
                            "      <td>5668</td>\n",
                            "      <td>5668</td>\n",
                            "      <td>...</td>\n",
                            "      <td>0</td>\n",
                            "      <td>0.0</td>\n",
                            "      <td>0</td>\n",
                            "      <td>0</td>\n",
                            "      <td>0</td>\n",
                            "      <td>0.0</td>\n",
                            "      <td>0</td>\n",
                            "      <td>0</td>\n",
                            "      <td>0</td>\n",
                            "      <td>0.0</td>\n",
                            "    </tr>\n",
                            "    <tr>\n",
                            "      <th>1</th>\n",
                            "      <td>DK-300002</td>\n",
                            "      <td>DG-013779</td>\n",
                            "      <td>SIM2K-91 - 4/5AT TCU</td>\n",
                            "      <td>NaN</td>\n",
                            "      <td>50803-026</td>\n",
                            "      <td>DK-300002-1000</td>\n",
                            "      <td>SIM2K91 R&amp;D</td>\n",
                            "      <td>NaN</td>\n",
                            "      <td>5668</td>\n",
                            "      <td>5668</td>\n",
                            "      <td>...</td>\n",
                            "      <td>0</td>\n",
                            "      <td>0.0</td>\n",
                            "      <td>0</td>\n",
                            "      <td>0</td>\n",
                            "      <td>0</td>\n",
                            "      <td>0.0</td>\n",
                            "      <td>0</td>\n",
                            "      <td>0</td>\n",
                            "      <td>0</td>\n",
                            "      <td>0.0</td>\n",
                            "    </tr>\n",
                            "    <tr>\n",
                            "      <th>2</th>\n",
                            "      <td>DK-300003</td>\n",
                            "      <td>DG-013530</td>\n",
                            "      <td>HMC 7STEP DRY-DCT</td>\n",
                            "      <td>NaN</td>\n",
                            "      <td>50803-026</td>\n",
                            "      <td>DK-300003-1000</td>\n",
                            "      <td>HMC7STEP R&amp;D</td>\n",
                            "      <td>NaN</td>\n",
                            "      <td>5668</td>\n",
                            "      <td>5668</td>\n",
                            "      <td>...</td>\n",
                            "      <td>0</td>\n",
                            "      <td>0.0</td>\n",
                            "      <td>0</td>\n",
                            "      <td>0</td>\n",
                            "      <td>0</td>\n",
                            "      <td>0.0</td>\n",
                            "      <td>0</td>\n",
                            "      <td>0</td>\n",
                            "      <td>0</td>\n",
                            "      <td>0.0</td>\n",
                            "    </tr>\n",
                            "  </tbody>\n",
                            "</table>\n",
                            "<p>3 rows × 66 columns</p>\n",
                            "</div>"
                        ],
                        "text/plain": [
                            "  project_definition global_project_number   project_description  ba_pr  \\\n",
                            "0          DK-300001             DG-009595           HMC DRY DCT    NaN   \n",
                            "1          DK-300002             DG-013779  SIM2K-91 - 4/5AT TCU    NaN   \n",
                            "2          DK-300003             DG-013530     HMC 7STEP DRY-DCT    NaN   \n",
                            "\n",
                            "  prftctr_pr     wbs_element wbs_element_description ra_key  coar  cocd  ...  \\\n",
                            "0  50803-026  DK-300001-1000          HMC DRYDCT R&D    NaN  5668  5668  ...   \n",
                            "1  50803-026  DK-300002-1000             SIM2K91 R&D    NaN  5668  5668  ...   \n",
                            "2  50803-026  DK-300003-1000            HMC7STEP R&D    NaN  5668  5668  ...   \n",
                            "\n",
                            "   total_actual_revenues total_actual_hours  prev_per_actual_cos  \\\n",
                            "0                      0                0.0                    0   \n",
                            "1                      0                0.0                    0   \n",
                            "2                      0                0.0                    0   \n",
                            "\n",
                            "  prev_per_committmen prev_per_actual_rev  prev_per_actual_hou  \\\n",
                            "0                   0                   0                  0.0   \n",
                            "1                   0                   0                  0.0   \n",
                            "2                   0                   0                  0.0   \n",
                            "\n",
                            "  eval_per_actual_cos eval_per_committmen  eval_per_actual_rev  \\\n",
                            "0                   0                   0                    0   \n",
                            "1                   0                   0                    0   \n",
                            "2                   0                   0                    0   \n",
                            "\n",
                            "   eval_per_actual_hou  \n",
                            "0                  0.0  \n",
                            "1                  0.0  \n",
                            "2                  0.0  \n",
                            "\n",
                            "[3 rows x 66 columns]"
                        ]
                    },
                    "execution_count": 6,
                    "metadata": {},
                    "output_type": "execute_result"
                }
            ],
            "source": [
                "df_ps_db = pd.read_excel(f_ps_db, sheet_name=\"Sheet1\", dtype={\"Cost item\":str}).clean_names()\n",
                "df_ps_db.head(3)"
            ]
        },
        {
            "cell_type": "code",
            "execution_count": 7,
            "metadata": {},
            "outputs": [
                {
                    "data": {
                        "text/plain": [
                            "Index(['project_definition', 'global_project_number', 'project_description',\n",
                            "       'ba_pr', 'prftctr_pr', 'wbs_element', 'wbs_element_description',\n",
                            "       'ra_key', 'coar', 'cocd', 'ba_wbs', 'prftctr_wb', 'product_gr', 'typ',\n",
                            "       'sub_ptype', 'cust_ctr_', 'customer', 'customer_name', 'tr_prt',\n",
                            "       'cl_o_settl', 'respons_', 'name_of_resp_person', 'stat', 'status_text',\n",
                            "       'order', 'opac', 'order_activity_description', 'type', 'cat', 'ctrl',\n",
                            "       'plnt', 'work_ctr', 'work_center_description', 'unit', 'cost_ctr',\n",
                            "       'cctc', 'cost_center_description', 'bus_area', 'prftctr_cc',\n",
                            "       'value_category', 'value_cat_description', 'cost_item',\n",
                            "       'cost_item_description', 'proj_start', 'proj_end', 'wbs_start',\n",
                            "       'wbs_end', 'act_start', 'act_end', 'crcy', 'um', 'total_budget',\n",
                            "       'total_available_budg', 'total_plan_wbs_ava', 'total_actual_costs',\n",
                            "       'total_committments', 'total_actual_revenues', 'total_actual_hours',\n",
                            "       'prev_per_actual_cos', 'prev_per_committmen', 'prev_per_actual_rev',\n",
                            "       'prev_per_actual_hou', 'eval_per_actual_cos', 'eval_per_committmen',\n",
                            "       'eval_per_actual_rev', 'eval_per_actual_hou'],\n",
                            "      dtype='object')"
                        ]
                    },
                    "execution_count": 7,
                    "metadata": {},
                    "output_type": "execute_result"
                }
            ],
            "source": [
                "df_ps_db.columns"
            ]
        },
        {
            "cell_type": "code",
            "execution_count": 8,
            "metadata": {},
            "outputs": [
                {
                    "data": {
                        "text/html": [
                            "<div>\n",
                            "<style scoped>\n",
                            "    .dataframe tbody tr th:only-of-type {\n",
                            "        vertical-align: middle;\n",
                            "    }\n",
                            "\n",
                            "    .dataframe tbody tr th {\n",
                            "        vertical-align: top;\n",
                            "    }\n",
                            "\n",
                            "    .dataframe thead th {\n",
                            "        text-align: right;\n",
                            "    }\n",
                            "</style>\n",
                            "<table border=\"1\" class=\"dataframe\">\n",
                            "  <thead>\n",
                            "    <tr style=\"text-align: right;\">\n",
                            "      <th></th>\n",
                            "      <th>location</th>\n",
                            "      <th>outlet</th>\n",
                            "      <th>profit_center</th>\n",
                            "      <th>subdepartment</th>\n",
                            "      <th>div</th>\n",
                            "    </tr>\n",
                            "  </thead>\n",
                            "  <tbody>\n",
                            "    <tr>\n",
                            "      <th>0</th>\n",
                            "      <td>ICN</td>\n",
                            "      <td>7851</td>\n",
                            "      <td>50803-04</td>\n",
                            "      <td>NaN</td>\n",
                            "      <td>Div E</td>\n",
                            "    </tr>\n",
                            "    <tr>\n",
                            "      <th>1</th>\n",
                            "      <td>ICN</td>\n",
                            "      <td>7221</td>\n",
                            "      <td>50803-042</td>\n",
                            "      <td>NaN</td>\n",
                            "      <td>Div E</td>\n",
                            "    </tr>\n",
                            "    <tr>\n",
                            "      <th>2</th>\n",
                            "      <td>ICN</td>\n",
                            "      <td>7511</td>\n",
                            "      <td>50803-053</td>\n",
                            "      <td>NaN</td>\n",
                            "      <td>Div P</td>\n",
                            "    </tr>\n",
                            "  </tbody>\n",
                            "</table>\n",
                            "</div>"
                        ],
                        "text/plain": [
                            "  location outlet profit_center subdepartment    div\n",
                            "0      ICN   7851      50803-04           NaN  Div E\n",
                            "1      ICN   7221     50803-042           NaN  Div E\n",
                            "2      ICN   7511     50803-053           NaN  Div P"
                        ]
                    },
                    "execution_count": 8,
                    "metadata": {},
                    "output_type": "execute_result"
                }
            ],
            "source": [
                "df_acc_config = pd.read_excel(f_acc_config, dtype=str).clean_names()\n",
                "df_acc_config.head(3)"
            ]
        },
        {
            "cell_type": "code",
            "execution_count": 9,
            "metadata": {},
            "outputs": [
                {
                    "data": {
                        "text/html": [
                            "<div>\n",
                            "<style scoped>\n",
                            "    .dataframe tbody tr th:only-of-type {\n",
                            "        vertical-align: middle;\n",
                            "    }\n",
                            "\n",
                            "    .dataframe tbody tr th {\n",
                            "        vertical-align: top;\n",
                            "    }\n",
                            "\n",
                            "    .dataframe thead th {\n",
                            "        text-align: right;\n",
                            "    }\n",
                            "</style>\n",
                            "<table border=\"1\" class=\"dataframe\">\n",
                            "  <thead>\n",
                            "    <tr style=\"text-align: right;\">\n",
                            "      <th></th>\n",
                            "      <th>cost_center</th>\n",
                            "      <th>cc_group</th>\n",
                            "      <th>cc_name</th>\n",
                            "      <th>location</th>\n",
                            "      <th>outlet</th>\n",
                            "      <th>subdepartment</th>\n",
                            "      <th>div</th>\n",
                            "    </tr>\n",
                            "  </thead>\n",
                            "  <tbody>\n",
                            "    <tr>\n",
                            "      <th>0</th>\n",
                            "      <td>5220</td>\n",
                            "      <td>NaN</td>\n",
                            "      <td>VT E CT AEE</td>\n",
                            "      <td>ICN</td>\n",
                            "      <td>7221</td>\n",
                            "      <td>16</td>\n",
                            "      <td>Div E</td>\n",
                            "    </tr>\n",
                            "    <tr>\n",
                            "      <th>1</th>\n",
                            "      <td>5230</td>\n",
                            "      <td>NaN</td>\n",
                            "      <td>VT E CT ASW</td>\n",
                            "      <td>ICN</td>\n",
                            "      <td>7221</td>\n",
                            "      <td>17</td>\n",
                            "      <td>Div E</td>\n",
                            "    </tr>\n",
                            "    <tr>\n",
                            "      <th>2</th>\n",
                            "      <td>5142</td>\n",
                            "      <td>NaN</td>\n",
                            "      <td>VT E CT BSC</td>\n",
                            "      <td>ICN</td>\n",
                            "      <td>7221</td>\n",
                            "      <td>19</td>\n",
                            "      <td>Div E</td>\n",
                            "    </tr>\n",
                            "  </tbody>\n",
                            "</table>\n",
                            "</div>"
                        ],
                        "text/plain": [
                            "  cost_center cc_group      cc_name location outlet subdepartment    div\n",
                            "0        5220      NaN  VT E CT AEE      ICN   7221            16  Div E\n",
                            "1        5230      NaN  VT E CT ASW      ICN   7221            17  Div E\n",
                            "2        5142      NaN  VT E CT BSC      ICN   7221            19  Div E"
                        ]
                    },
                    "execution_count": 9,
                    "metadata": {},
                    "output_type": "execute_result"
                }
            ],
            "source": [
                "df_cc_config = pd.read_excel(f_cc_config, dtype=str).clean_names()\n",
                "df_cc_config.head(3)"
            ]
        },
        {
            "cell_type": "code",
            "execution_count": 10,
            "metadata": {},
            "outputs": [
                {
                    "data": {
                        "text/html": [
                            "<div>\n",
                            "<style scoped>\n",
                            "    .dataframe tbody tr th:only-of-type {\n",
                            "        vertical-align: middle;\n",
                            "    }\n",
                            "\n",
                            "    .dataframe tbody tr th {\n",
                            "        vertical-align: top;\n",
                            "    }\n",
                            "\n",
                            "    .dataframe thead th {\n",
                            "        text-align: right;\n",
                            "    }\n",
                            "</style>\n",
                            "<table border=\"1\" class=\"dataframe\">\n",
                            "  <thead>\n",
                            "    <tr style=\"text-align: right;\">\n",
                            "      <th></th>\n",
                            "      <th>location</th>\n",
                            "      <th>outlet</th>\n",
                            "      <th>subdepartment</th>\n",
                            "      <th>profit_center</th>\n",
                            "    </tr>\n",
                            "  </thead>\n",
                            "  <tbody>\n",
                            "    <tr>\n",
                            "      <th>0</th>\n",
                            "      <td>ICN</td>\n",
                            "      <td>7220</td>\n",
                            "      <td>NaN</td>\n",
                            "      <td>50803-004</td>\n",
                            "    </tr>\n",
                            "    <tr>\n",
                            "      <th>1</th>\n",
                            "      <td>ICN</td>\n",
                            "      <td>7851</td>\n",
                            "      <td>NaN</td>\n",
                            "      <td>50803-04</td>\n",
                            "    </tr>\n",
                            "    <tr>\n",
                            "      <th>2</th>\n",
                            "      <td>ICN</td>\n",
                            "      <td>7221</td>\n",
                            "      <td>NaN</td>\n",
                            "      <td>50803-042</td>\n",
                            "    </tr>\n",
                            "  </tbody>\n",
                            "</table>\n",
                            "</div>"
                        ],
                        "text/plain": [
                            "  location outlet subdepartment profit_center\n",
                            "0      ICN   7220           NaN     50803-004\n",
                            "1      ICN   7851           NaN      50803-04\n",
                            "2      ICN   7221           NaN     50803-042"
                        ]
                    },
                    "execution_count": 10,
                    "metadata": {},
                    "output_type": "execute_result"
                }
            ],
            "source": [
                "df_ps_config = pd.read_excel(f_ps_config, dtype=str).clean_names()\n",
                "df_ps_config.head(3)"
            ]
        },
        {
            "cell_type": "code",
            "execution_count": 11,
            "metadata": {},
            "outputs": [
                {
                    "data": {
                        "text/html": [
                            "<div>\n",
                            "<style scoped>\n",
                            "    .dataframe tbody tr th:only-of-type {\n",
                            "        vertical-align: middle;\n",
                            "    }\n",
                            "\n",
                            "    .dataframe tbody tr th {\n",
                            "        vertical-align: top;\n",
                            "    }\n",
                            "\n",
                            "    .dataframe thead th {\n",
                            "        text-align: right;\n",
                            "    }\n",
                            "</style>\n",
                            "<table border=\"1\" class=\"dataframe\">\n",
                            "  <thead>\n",
                            "    <tr style=\"text-align: right;\">\n",
                            "      <th></th>\n",
                            "      <th>gl_cost_item</th>\n",
                            "      <th>gl_text_ci</th>\n",
                            "      <th>ps_data_ci</th>\n",
                            "      <th>fs_item</th>\n",
                            "      <th>fs_item_text</th>\n",
                            "    </tr>\n",
                            "  </thead>\n",
                            "  <tbody>\n",
                            "    <tr>\n",
                            "      <th>0</th>\n",
                            "      <td>10</td>\n",
                            "      <td>Total Compensation</td>\n",
                            "      <td>NaN</td>\n",
                            "      <td>311500600</td>\n",
                            "      <td>Primary R, D &amp; E costs</td>\n",
                            "    </tr>\n",
                            "    <tr>\n",
                            "      <th>1</th>\n",
                            "      <td>15</td>\n",
                            "      <td>thereof Compensation for Leasing</td>\n",
                            "      <td>NaN</td>\n",
                            "      <td>NaN</td>\n",
                            "      <td>NaN</td>\n",
                            "    </tr>\n",
                            "    <tr>\n",
                            "      <th>2</th>\n",
                            "      <td>20</td>\n",
                            "      <td>External Services on Cost Center</td>\n",
                            "      <td>NaN</td>\n",
                            "      <td>311500600</td>\n",
                            "      <td>Primary R, D &amp; E costs</td>\n",
                            "    </tr>\n",
                            "  </tbody>\n",
                            "</table>\n",
                            "</div>"
                        ],
                        "text/plain": [
                            "  gl_cost_item                        gl_text_ci ps_data_ci    fs_item  \\\n",
                            "0           10                Total Compensation        NaN  311500600   \n",
                            "1           15  thereof Compensation for Leasing        NaN        NaN   \n",
                            "2           20  External Services on Cost Center        NaN  311500600   \n",
                            "\n",
                            "             fs_item_text  \n",
                            "0  Primary R, D & E costs  \n",
                            "1                     NaN  \n",
                            "2  Primary R, D & E costs  "
                        ]
                    },
                    "execution_count": 11,
                    "metadata": {},
                    "output_type": "execute_result"
                }
            ],
            "source": [
                "df_race_gloria = pd.read_csv(f_race_gloria, dtype=str).clean_names()\n",
                "df_race_gloria.head(3)"
            ]
        },
        {
            "cell_type": "code",
            "execution_count": 12,
            "metadata": {},
            "outputs": [],
            "source": [
                "def read_race_file(path):\n",
                "    df = pd.read_excel(path, sheet_name=\"Query\", skiprows=11)\n",
                "\n",
                "    df = df.astype({\"ConsUnit\": str, \"Plant\": str, \"Outlet\": str})\n",
                "    df = df.rename(\n",
                "        columns={\n",
                "            \"Unnamed: 1\": \"FS item description\",\n",
                "            \"Unnamed: 3\": \"CU name\",\n",
                "            \"Unnamed: 5\": \"Plant name\",\n",
                "            \"Unnamed: 7\": \"Outlet name\",\n",
                "            \"YTD - 1\": \"YTD PM\",   # PM means Previous Month\n",
                "        }\n",
                "    )\n",
                "    df = df.rename(columns=lambda x: re.sub(\"\\nACT\", \"\", x))\n",
                "    df = clean_names(df)\n",
                "    return df"
            ]
        },
        {
            "cell_type": "code",
            "execution_count": 13,
            "metadata": {},
            "outputs": [
                {
                    "data": {
                        "text/html": [
                            "<div>\n",
                            "<style scoped>\n",
                            "    .dataframe tbody tr th:only-of-type {\n",
                            "        vertical-align: middle;\n",
                            "    }\n",
                            "\n",
                            "    .dataframe tbody tr th {\n",
                            "        vertical-align: top;\n",
                            "    }\n",
                            "\n",
                            "    .dataframe thead th {\n",
                            "        text-align: right;\n",
                            "    }\n",
                            "</style>\n",
                            "<table border=\"1\" class=\"dataframe\">\n",
                            "  <thead>\n",
                            "    <tr style=\"text-align: right;\">\n",
                            "      <th></th>\n",
                            "      <th>financial_statement_item</th>\n",
                            "      <th>fs_item_description</th>\n",
                            "      <th>consunit</th>\n",
                            "      <th>cu_name</th>\n",
                            "      <th>plant</th>\n",
                            "      <th>plant_name</th>\n",
                            "      <th>outlet</th>\n",
                            "      <th>outlet_name</th>\n",
                            "      <th>py</th>\n",
                            "      <th>lfc</th>\n",
                            "      <th>...</th>\n",
                            "      <th>ytd_3</th>\n",
                            "      <th>ytd_4</th>\n",
                            "      <th>ytd_5</th>\n",
                            "      <th>ytd_6</th>\n",
                            "      <th>ytd_7</th>\n",
                            "      <th>ytd_8</th>\n",
                            "      <th>ytd_9</th>\n",
                            "      <th>ytd_10</th>\n",
                            "      <th>ytd_11</th>\n",
                            "      <th>ytd_12</th>\n",
                            "    </tr>\n",
                            "  </thead>\n",
                            "  <tbody>\n",
                            "    <tr>\n",
                            "      <th>0</th>\n",
                            "      <td>BALANCE SHEET</td>\n",
                            "      <td>Balance Sheet IFRS</td>\n",
                            "      <td>698</td>\n",
                            "      <td>VT Korea</td>\n",
                            "      <td>9</td>\n",
                            "      <td>none</td>\n",
                            "      <td>732</td>\n",
                            "      <td>PL DAC</td>\n",
                            "      <td>1.003358e+07</td>\n",
                            "      <td>NaN</td>\n",
                            "      <td>...</td>\n",
                            "      <td>NaN</td>\n",
                            "      <td>NaN</td>\n",
                            "      <td>NaN</td>\n",
                            "      <td>NaN</td>\n",
                            "      <td>NaN</td>\n",
                            "      <td>NaN</td>\n",
                            "      <td>NaN</td>\n",
                            "      <td>NaN</td>\n",
                            "      <td>NaN</td>\n",
                            "      <td>NaN</td>\n",
                            "    </tr>\n",
                            "    <tr>\n",
                            "      <th>1</th>\n",
                            "      <td>BALANCE SHEET</td>\n",
                            "      <td>Balance Sheet IFRS</td>\n",
                            "      <td>698</td>\n",
                            "      <td>VT Korea</td>\n",
                            "      <td>9</td>\n",
                            "      <td>none</td>\n",
                            "      <td>781</td>\n",
                            "      <td>PL ENC</td>\n",
                            "      <td>-1.859043e+07</td>\n",
                            "      <td>NaN</td>\n",
                            "      <td>...</td>\n",
                            "      <td>NaN</td>\n",
                            "      <td>NaN</td>\n",
                            "      <td>NaN</td>\n",
                            "      <td>NaN</td>\n",
                            "      <td>NaN</td>\n",
                            "      <td>NaN</td>\n",
                            "      <td>NaN</td>\n",
                            "      <td>NaN</td>\n",
                            "      <td>NaN</td>\n",
                            "      <td>NaN</td>\n",
                            "    </tr>\n",
                            "    <tr>\n",
                            "      <th>2</th>\n",
                            "      <td>BALANCE SHEET</td>\n",
                            "      <td>Balance Sheet IFRS</td>\n",
                            "      <td>698</td>\n",
                            "      <td>VT Korea</td>\n",
                            "      <td>9</td>\n",
                            "      <td>none</td>\n",
                            "      <td>7000</td>\n",
                            "      <td>Holding</td>\n",
                            "      <td>-3.518000e+00</td>\n",
                            "      <td>NaN</td>\n",
                            "      <td>...</td>\n",
                            "      <td>NaN</td>\n",
                            "      <td>NaN</td>\n",
                            "      <td>NaN</td>\n",
                            "      <td>NaN</td>\n",
                            "      <td>NaN</td>\n",
                            "      <td>NaN</td>\n",
                            "      <td>NaN</td>\n",
                            "      <td>NaN</td>\n",
                            "      <td>NaN</td>\n",
                            "      <td>NaN</td>\n",
                            "    </tr>\n",
                            "  </tbody>\n",
                            "</table>\n",
                            "<p>3 rows × 45 columns</p>\n",
                            "</div>"
                        ],
                        "text/plain": [
                            "  financial_statement_item fs_item_description consunit   cu_name plant  \\\n",
                            "0            BALANCE SHEET  Balance Sheet IFRS      698  VT Korea     9   \n",
                            "1            BALANCE SHEET  Balance Sheet IFRS      698  VT Korea     9   \n",
                            "2            BALANCE SHEET  Balance Sheet IFRS      698  VT Korea     9   \n",
                            "\n",
                            "  plant_name outlet outlet_name            py  lfc  ...  ytd_3  ytd_4  ytd_5  \\\n",
                            "0       none    732      PL DAC  1.003358e+07  NaN  ...    NaN    NaN    NaN   \n",
                            "1       none    781      PL ENC -1.859043e+07  NaN  ...    NaN    NaN    NaN   \n",
                            "2       none   7000     Holding -3.518000e+00  NaN  ...    NaN    NaN    NaN   \n",
                            "\n",
                            "   ytd_6  ytd_7  ytd_8  ytd_9  ytd_10  ytd_11  ytd_12  \n",
                            "0    NaN    NaN    NaN    NaN     NaN     NaN     NaN  \n",
                            "1    NaN    NaN    NaN    NaN     NaN     NaN     NaN  \n",
                            "2    NaN    NaN    NaN    NaN     NaN     NaN     NaN  \n",
                            "\n",
                            "[3 rows x 45 columns]"
                        ]
                    },
                    "execution_count": 13,
                    "metadata": {},
                    "output_type": "execute_result"
                }
            ],
            "source": [
                "df_race = read_race_file(f_race)\n",
                "df_race.head(3)"
            ]
        },
        {
            "cell_type": "code",
            "execution_count": 14,
            "metadata": {},
            "outputs": [
                {
                    "data": {
                        "text/html": [
                            "<pre style=\"white-space:pre;overflow-x:auto;line-height:normal;font-family:Menlo,'DejaVu Sans Mono',consolas,'Courier New',monospace\">┏━━━━━━━━━━━━━━━━━━━━━━━━━━┳━━━━━━━━━━━━━━━━━━━━━━┳━━━━━━━━┳━━━━━━━━┳━━━━━━━━━┓\n",
                            "┃<span style=\"font-weight: bold\"> financial_statement_item </span>┃<span style=\"font-weight: bold\"> fs_item_description  </span>┃<span style=\"font-weight: bold\"> plant  </span>┃<span style=\"font-weight: bold\"> outlet </span>┃<span style=\"font-weight: bold\"> period  </span>┃\n",
                            "┡━━━━━━━━━━━━━━━━━━━━━━━━━━╇━━━━━━━━━━━━━━━━━━━━━━╇━━━━━━━━╇━━━━━━━━╇━━━━━━━━━┩\n",
                            "│ <span style=\"color: #7f7f7f; text-decoration-color: #7f7f7f\">string</span>                   │ <span style=\"color: #7f7f7f; text-decoration-color: #7f7f7f\">string</span>               │ <span style=\"color: #7f7f7f; text-decoration-color: #7f7f7f\">string</span> │ <span style=\"color: #7f7f7f; text-decoration-color: #7f7f7f\">string</span> │ <span style=\"color: #7f7f7f; text-decoration-color: #7f7f7f\">float64</span> │\n",
                            "├──────────────────────────┼──────────────────────┼────────┼────────┼─────────┤\n",
                            "│ <span style=\"color: #008000; text-decoration-color: #008000\">312502700               </span> │ <span style=\"color: #008000; text-decoration-color: #008000\">R,D&amp;E Reimbursements</span> │ <span style=\"color: #008000; text-decoration-color: #008000\">483   </span> │ <span style=\"color: #008000; text-decoration-color: #008000\">732   </span> │     <span style=\"color: #008080; text-decoration-color: #008080; font-weight: bold\">nan</span> │\n",
                            "│ <span style=\"color: #008000; text-decoration-color: #008000\">312502700               </span> │ <span style=\"color: #008000; text-decoration-color: #008000\">R,D&amp;E Reimbursements</span> │ <span style=\"color: #008000; text-decoration-color: #008000\">483   </span> │ <span style=\"color: #008000; text-decoration-color: #008000\">781   </span> │     <span style=\"color: #008080; text-decoration-color: #008080; font-weight: bold\">nan</span> │\n",
                            "│ <span style=\"color: #008000; text-decoration-color: #008000\">312502700               </span> │ <span style=\"color: #008000; text-decoration-color: #008000\">R,D&amp;E Reimbursements</span> │ <span style=\"color: #008000; text-decoration-color: #008000\">483   </span> │ <span style=\"color: #008000; text-decoration-color: #008000\">7220  </span> │     <span style=\"color: #008080; text-decoration-color: #008080; font-weight: bold\">0.0</span> │\n",
                            "└──────────────────────────┴──────────────────────┴────────┴────────┴─────────┘\n",
                            "</pre>\n"
                        ],
                        "text/plain": [
                            "┏━━━━━━━━━━━━━━━━━━━━━━━━━━┳━━━━━━━━━━━━━━━━━━━━━━┳━━━━━━━━┳━━━━━━━━┳━━━━━━━━━┓\n",
                            "┃\u001b[1m \u001b[0m\u001b[1mfinancial_statement_item\u001b[0m\u001b[1m \u001b[0m┃\u001b[1m \u001b[0m\u001b[1mfs_item_description\u001b[0m\u001b[1m \u001b[0m\u001b[1m \u001b[0m┃\u001b[1m \u001b[0m\u001b[1mplant\u001b[0m\u001b[1m \u001b[0m\u001b[1m \u001b[0m┃\u001b[1m \u001b[0m\u001b[1moutlet\u001b[0m\u001b[1m \u001b[0m┃\u001b[1m \u001b[0m\u001b[1mperiod\u001b[0m\u001b[1m \u001b[0m\u001b[1m \u001b[0m┃\n",
                            "┡━━━━━━━━━━━━━━━━━━━━━━━━━━╇━━━━━━━━━━━━━━━━━━━━━━╇━━━━━━━━╇━━━━━━━━╇━━━━━━━━━┩\n",
                            "│ \u001b[2mstring\u001b[0m                   │ \u001b[2mstring\u001b[0m               │ \u001b[2mstring\u001b[0m │ \u001b[2mstring\u001b[0m │ \u001b[2mfloat64\u001b[0m │\n",
                            "├──────────────────────────┼──────────────────────┼────────┼────────┼─────────┤\n",
                            "│ \u001b[32m312502700               \u001b[0m │ \u001b[32mR,D&E Reimbursements\u001b[0m │ \u001b[32m483   \u001b[0m │ \u001b[32m732   \u001b[0m │     \u001b[1;36mnan\u001b[0m │\n",
                            "│ \u001b[32m312502700               \u001b[0m │ \u001b[32mR,D&E Reimbursements\u001b[0m │ \u001b[32m483   \u001b[0m │ \u001b[32m781   \u001b[0m │     \u001b[1;36mnan\u001b[0m │\n",
                            "│ \u001b[32m312502700               \u001b[0m │ \u001b[32mR,D&E Reimbursements\u001b[0m │ \u001b[32m483   \u001b[0m │ \u001b[32m7220  \u001b[0m │     \u001b[1;36m0.0\u001b[0m │\n",
                            "└──────────────────────────┴──────────────────────┴────────┴────────┴─────────┘"
                        ]
                    },
                    "execution_count": 14,
                    "metadata": {},
                    "output_type": "execute_result"
                }
            ],
            "source": [
                "race = ibis.memtable(df_race)\n",
                "race = (race\n",
                "    .select(\"financial_statement_item\", \"fs_item_description\", \"plant\", \"outlet\", \"period\")\n",
                "    .filter(_.financial_statement_item == \"312502700\" or _.financial_statement_item.startswith(\"3115\"))\n",
                "    .filter(_.plant == \"483\")    \n",
                ")\n",
                "race.head(3)"
            ]
        },
        {
            "cell_type": "code",
            "execution_count": 15,
            "metadata": {},
            "outputs": [
                {
                    "data": {
                        "text/html": [
                            "<pre style=\"white-space:pre;overflow-x:auto;line-height:normal;font-family:Menlo,'DejaVu Sans Mono',consolas,'Courier New',monospace\">┏━━━━━━━━━━━━━━┳━━━━━━━━━━━━━━━━━━━━━━━━━━━━━━━━━━┳━━━━━━━━━━━━┳━━━━━━━━━━━┳━━━━━━━━━━━━━━━━━━━━━━━━┓\n",
                            "┃<span style=\"font-weight: bold\"> gl_cost_item </span>┃<span style=\"font-weight: bold\"> gl_text_ci                       </span>┃<span style=\"font-weight: bold\"> ps_data_ci </span>┃<span style=\"font-weight: bold\"> fs_item   </span>┃<span style=\"font-weight: bold\"> fs_item_text           </span>┃\n",
                            "┡━━━━━━━━━━━━━━╇━━━━━━━━━━━━━━━━━━━━━━━━━━━━━━━━━━╇━━━━━━━━━━━━╇━━━━━━━━━━━╇━━━━━━━━━━━━━━━━━━━━━━━━┩\n",
                            "│ <span style=\"color: #7f7f7f; text-decoration-color: #7f7f7f\">string</span>       │ <span style=\"color: #7f7f7f; text-decoration-color: #7f7f7f\">string</span>                           │ <span style=\"color: #7f7f7f; text-decoration-color: #7f7f7f\">string</span>     │ <span style=\"color: #7f7f7f; text-decoration-color: #7f7f7f\">string</span>    │ <span style=\"color: #7f7f7f; text-decoration-color: #7f7f7f\">string</span>                 │\n",
                            "├──────────────┼──────────────────────────────────┼────────────┼───────────┼────────────────────────┤\n",
                            "│ <span style=\"color: #008000; text-decoration-color: #008000\">10          </span> │ <span style=\"color: #008000; text-decoration-color: #008000\">Total Compensation              </span> │ <span style=\"color: #7f7f7f; text-decoration-color: #7f7f7f\">NULL</span>       │ <span style=\"color: #008000; text-decoration-color: #008000\">311500600</span> │ <span style=\"color: #008000; text-decoration-color: #008000\">Primary R, D &amp; E costs</span> │\n",
                            "│ <span style=\"color: #008000; text-decoration-color: #008000\">15          </span> │ <span style=\"color: #008000; text-decoration-color: #008000\">thereof Compensation for Leasing</span> │ <span style=\"color: #7f7f7f; text-decoration-color: #7f7f7f\">NULL</span>       │ <span style=\"color: #7f7f7f; text-decoration-color: #7f7f7f\">NULL</span>      │ <span style=\"color: #7f7f7f; text-decoration-color: #7f7f7f\">NULL</span>                   │\n",
                            "│ <span style=\"color: #008000; text-decoration-color: #008000\">20          </span> │ <span style=\"color: #008000; text-decoration-color: #008000\">External Services on Cost Center</span> │ <span style=\"color: #7f7f7f; text-decoration-color: #7f7f7f\">NULL</span>       │ <span style=\"color: #008000; text-decoration-color: #008000\">311500600</span> │ <span style=\"color: #008000; text-decoration-color: #008000\">Primary R, D &amp; E costs</span> │\n",
                            "└──────────────┴──────────────────────────────────┴────────────┴───────────┴────────────────────────┘\n",
                            "</pre>\n"
                        ],
                        "text/plain": [
                            "┏━━━━━━━━━━━━━━┳━━━━━━━━━━━━━━━━━━━━━━━━━━━━━━━━━━┳━━━━━━━━━━━━┳━━━━━━━━━━━┳━━━━━━━━━━━━━━━━━━━━━━━━┓\n",
                            "┃\u001b[1m \u001b[0m\u001b[1mgl_cost_item\u001b[0m\u001b[1m \u001b[0m┃\u001b[1m \u001b[0m\u001b[1mgl_text_ci\u001b[0m\u001b[1m                      \u001b[0m\u001b[1m \u001b[0m┃\u001b[1m \u001b[0m\u001b[1mps_data_ci\u001b[0m\u001b[1m \u001b[0m┃\u001b[1m \u001b[0m\u001b[1mfs_item\u001b[0m\u001b[1m  \u001b[0m\u001b[1m \u001b[0m┃\u001b[1m \u001b[0m\u001b[1mfs_item_text\u001b[0m\u001b[1m          \u001b[0m\u001b[1m \u001b[0m┃\n",
                            "┡━━━━━━━━━━━━━━╇━━━━━━━━━━━━━━━━━━━━━━━━━━━━━━━━━━╇━━━━━━━━━━━━╇━━━━━━━━━━━╇━━━━━━━━━━━━━━━━━━━━━━━━┩\n",
                            "│ \u001b[2mstring\u001b[0m       │ \u001b[2mstring\u001b[0m                           │ \u001b[2mstring\u001b[0m     │ \u001b[2mstring\u001b[0m    │ \u001b[2mstring\u001b[0m                 │\n",
                            "├──────────────┼──────────────────────────────────┼────────────┼───────────┼────────────────────────┤\n",
                            "│ \u001b[32m10          \u001b[0m │ \u001b[32mTotal Compensation              \u001b[0m │ \u001b[2mNULL\u001b[0m       │ \u001b[32m311500600\u001b[0m │ \u001b[32mPrimary R, D & E costs\u001b[0m │\n",
                            "│ \u001b[32m15          \u001b[0m │ \u001b[32mthereof Compensation for Leasing\u001b[0m │ \u001b[2mNULL\u001b[0m       │ \u001b[2mNULL\u001b[0m      │ \u001b[2mNULL\u001b[0m                   │\n",
                            "│ \u001b[32m20          \u001b[0m │ \u001b[32mExternal Services on Cost Center\u001b[0m │ \u001b[2mNULL\u001b[0m       │ \u001b[32m311500600\u001b[0m │ \u001b[32mPrimary R, D & E costs\u001b[0m │\n",
                            "└──────────────┴──────────────────────────────────┴────────────┴───────────┴────────────────────────┘"
                        ]
                    },
                    "execution_count": 15,
                    "metadata": {},
                    "output_type": "execute_result"
                }
            ],
            "source": [
                "race_gloria = ibis.memtable(df_race_gloria)\n",
                "race_gloria = race_gloria.filter(_.ps_data_ci == ibis.NA)\n",
                "race_gloria.head(3)"
            ]
        },
        {
            "cell_type": "code",
            "execution_count": 16,
            "metadata": {},
            "outputs": [
                {
                    "data": {
                        "text/html": [
                            "<pre style=\"white-space:pre;overflow-x:auto;line-height:normal;font-family:Menlo,'DejaVu Sans Mono',consolas,'Courier New',monospace\">┏━━━━━━━━━━━━━━┳━━━━━━━━━━━━━━━━━━━━━━━━━━━━━━┳━━━━━━━━━━━━┳━━━━━━━━━━━┳━━━━━━━━━━━━━━━━━━━━━━━━┓\n",
                            "┃<span style=\"font-weight: bold\"> gl_cost_item </span>┃<span style=\"font-weight: bold\"> gl_text_ci                   </span>┃<span style=\"font-weight: bold\"> ps_data_ci </span>┃<span style=\"font-weight: bold\"> fs_item   </span>┃<span style=\"font-weight: bold\"> fs_item_text           </span>┃\n",
                            "┡━━━━━━━━━━━━━━╇━━━━━━━━━━━━━━━━━━━━━━━━━━━━━━╇━━━━━━━━━━━━╇━━━━━━━━━━━╇━━━━━━━━━━━━━━━━━━━━━━━━┩\n",
                            "│ <span style=\"color: #7f7f7f; text-decoration-color: #7f7f7f\">string</span>       │ <span style=\"color: #7f7f7f; text-decoration-color: #7f7f7f\">string</span>                       │ <span style=\"color: #7f7f7f; text-decoration-color: #7f7f7f\">string</span>     │ <span style=\"color: #7f7f7f; text-decoration-color: #7f7f7f\">string</span>    │ <span style=\"color: #7f7f7f; text-decoration-color: #7f7f7f\">string</span>                 │\n",
                            "├──────────────┼──────────────────────────────┼────────────┼───────────┼────────────────────────┤\n",
                            "│ <span style=\"color: #008000; text-decoration-color: #008000\">80          </span> │ <span style=\"color: #008000; text-decoration-color: #008000\">External Services on Project</span> │ <span style=\"color: #008000; text-decoration-color: #008000\">02        </span> │ <span style=\"color: #008000; text-decoration-color: #008000\">311500600</span> │ <span style=\"color: #008000; text-decoration-color: #008000\">Primary R, D &amp; E costs</span> │\n",
                            "│ <span style=\"color: #008000; text-decoration-color: #008000\">90          </span> │ <span style=\"color: #008000; text-decoration-color: #008000\">Travel on Projects          </span> │ <span style=\"color: #008000; text-decoration-color: #008000\">03        </span> │ <span style=\"color: #008000; text-decoration-color: #008000\">311500600</span> │ <span style=\"color: #008000; text-decoration-color: #008000\">Primary R, D &amp; E costs</span> │\n",
                            "│ <span style=\"color: #008000; text-decoration-color: #008000\">100         </span> │ <span style=\"color: #008000; text-decoration-color: #008000\">Internal Prototype Cost     </span> │ <span style=\"color: #008000; text-decoration-color: #008000\">04        </span> │ <span style=\"color: #008000; text-decoration-color: #008000\">311500600</span> │ <span style=\"color: #008000; text-decoration-color: #008000\">Primary R, D &amp; E costs</span> │\n",
                            "└──────────────┴──────────────────────────────┴────────────┴───────────┴────────────────────────┘\n",
                            "</pre>\n"
                        ],
                        "text/plain": [
                            "┏━━━━━━━━━━━━━━┳━━━━━━━━━━━━━━━━━━━━━━━━━━━━━━┳━━━━━━━━━━━━┳━━━━━━━━━━━┳━━━━━━━━━━━━━━━━━━━━━━━━┓\n",
                            "┃\u001b[1m \u001b[0m\u001b[1mgl_cost_item\u001b[0m\u001b[1m \u001b[0m┃\u001b[1m \u001b[0m\u001b[1mgl_text_ci\u001b[0m\u001b[1m                  \u001b[0m\u001b[1m \u001b[0m┃\u001b[1m \u001b[0m\u001b[1mps_data_ci\u001b[0m\u001b[1m \u001b[0m┃\u001b[1m \u001b[0m\u001b[1mfs_item\u001b[0m\u001b[1m  \u001b[0m\u001b[1m \u001b[0m┃\u001b[1m \u001b[0m\u001b[1mfs_item_text\u001b[0m\u001b[1m          \u001b[0m\u001b[1m \u001b[0m┃\n",
                            "┡━━━━━━━━━━━━━━╇━━━━━━━━━━━━━━━━━━━━━━━━━━━━━━╇━━━━━━━━━━━━╇━━━━━━━━━━━╇━━━━━━━━━━━━━━━━━━━━━━━━┩\n",
                            "│ \u001b[2mstring\u001b[0m       │ \u001b[2mstring\u001b[0m                       │ \u001b[2mstring\u001b[0m     │ \u001b[2mstring\u001b[0m    │ \u001b[2mstring\u001b[0m                 │\n",
                            "├──────────────┼──────────────────────────────┼────────────┼───────────┼────────────────────────┤\n",
                            "│ \u001b[32m80          \u001b[0m │ \u001b[32mExternal Services on Project\u001b[0m │ \u001b[32m02        \u001b[0m │ \u001b[32m311500600\u001b[0m │ \u001b[32mPrimary R, D & E costs\u001b[0m │\n",
                            "│ \u001b[32m90          \u001b[0m │ \u001b[32mTravel on Projects          \u001b[0m │ \u001b[32m03        \u001b[0m │ \u001b[32m311500600\u001b[0m │ \u001b[32mPrimary R, D & E costs\u001b[0m │\n",
                            "│ \u001b[32m100         \u001b[0m │ \u001b[32mInternal Prototype Cost     \u001b[0m │ \u001b[32m04        \u001b[0m │ \u001b[32m311500600\u001b[0m │ \u001b[32mPrimary R, D & E costs\u001b[0m │\n",
                            "└──────────────┴──────────────────────────────┴────────────┴───────────┴────────────────────────┘"
                        ]
                    },
                    "execution_count": 16,
                    "metadata": {},
                    "output_type": "execute_result"
                }
            ],
            "source": [
                "race_gloria = ibis.memtable(df_race_gloria)\n",
                "race_gloria = race_gloria.filter(_.ps_data_ci != ibis.NA)\n",
                "race_gloria.head(3)"
            ]
        },
        {
            "cell_type": "code",
            "execution_count": 17,
            "metadata": {},
            "outputs": [
                {
                    "data": {
                        "text/html": [
                            "<pre style=\"white-space:pre;overflow-x:auto;line-height:normal;font-family:Menlo,'DejaVu Sans Mono',consolas,'Courier New',monospace\">┏━━━━━━━━━━━━┳━━━━━━━━━━━━┳━━━━━━━━━━━━━━━━┳━━━━━━━━━━━━━━━━━━━━━━━┳━━━━━━━━━━━┳━━━━━━━━━━━━━━━━━━━━━━━━━━━━━┳━━━━━━━━━━┳━━━━━━━┓\n",
                            "┃<span style=\"font-weight: bold\"> prftctr_pr </span>┃<span style=\"font-weight: bold\"> prftctr_cc </span>┃<span style=\"font-weight: bold\"> value_category </span>┃<span style=\"font-weight: bold\"> value_cat_description </span>┃<span style=\"font-weight: bold\"> cost_item </span>┃<span style=\"font-weight: bold\"> cost_item_description       </span>┃<span style=\"font-weight: bold\"> cost     </span>┃<span style=\"font-weight: bold\"> sales </span>┃\n",
                            "┡━━━━━━━━━━━━╇━━━━━━━━━━━━╇━━━━━━━━━━━━━━━━╇━━━━━━━━━━━━━━━━━━━━━━━╇━━━━━━━━━━━╇━━━━━━━━━━━━━━━━━━━━━━━━━━━━━╇━━━━━━━━━━╇━━━━━━━┩\n",
                            "│ <span style=\"color: #7f7f7f; text-decoration-color: #7f7f7f\">string</span>     │ <span style=\"color: #7f7f7f; text-decoration-color: #7f7f7f\">string</span>     │ <span style=\"color: #7f7f7f; text-decoration-color: #7f7f7f\">string</span>         │ <span style=\"color: #7f7f7f; text-decoration-color: #7f7f7f\">string</span>                │ <span style=\"color: #7f7f7f; text-decoration-color: #7f7f7f\">string</span>    │ <span style=\"color: #7f7f7f; text-decoration-color: #7f7f7f\">string</span>                      │ <span style=\"color: #7f7f7f; text-decoration-color: #7f7f7f\">int64</span>    │ <span style=\"color: #7f7f7f; text-decoration-color: #7f7f7f\">int64</span> │\n",
                            "├────────────┼────────────┼────────────────┼───────────────────────┼───────────┼─────────────────────────────┼──────────┼───────┤\n",
                            "│ <span style=\"color: #008000; text-decoration-color: #008000\">50803-025 </span> │ <span style=\"color: #7f7f7f; text-decoration-color: #7f7f7f\">NULL</span>       │ <span style=\"color: #7f7f7f; text-decoration-color: #7f7f7f\">NULL</span>           │ <span style=\"color: #7f7f7f; text-decoration-color: #7f7f7f\">NULL</span>                  │ <span style=\"color: #008000; text-decoration-color: #008000\">00       </span> │ <span style=\"color: #7f7f7f; text-decoration-color: #7f7f7f\">NULL</span>                        │        <span style=\"color: #008080; text-decoration-color: #008080; font-weight: bold\">0</span> │     <span style=\"color: #008080; text-decoration-color: #008080; font-weight: bold\">0</span> │\n",
                            "│ <span style=\"color: #008000; text-decoration-color: #008000\">50803-055 </span> │ <span style=\"color: #7f7f7f; text-decoration-color: #7f7f7f\">NULL</span>       │ <span style=\"color: #7f7f7f; text-decoration-color: #7f7f7f\">NULL</span>           │ <span style=\"color: #7f7f7f; text-decoration-color: #7f7f7f\">NULL</span>                  │ <span style=\"color: #008000; text-decoration-color: #008000\">00       </span> │ <span style=\"color: #7f7f7f; text-decoration-color: #7f7f7f\">NULL</span>                        │        <span style=\"color: #008080; text-decoration-color: #008080; font-weight: bold\">0</span> │     <span style=\"color: #008080; text-decoration-color: #008080; font-weight: bold\">0</span> │\n",
                            "│ <span style=\"color: #008000; text-decoration-color: #008000\">50803-055 </span> │ <span style=\"color: #008000; text-decoration-color: #008000\">50803-004 </span> │ <span style=\"color: #008000; text-decoration-color: #008000\">RPS-101       </span> │ <span style=\"color: #008000; text-decoration-color: #008000\">PS: Labour Costs     </span> │ <span style=\"color: #008000; text-decoration-color: #008000\">01       </span> │ <span style=\"color: #008000; text-decoration-color: #008000\">Labour Costs (R&amp;D Projects)</span> │ <span style=\"color: #008080; text-decoration-color: #008080; font-weight: bold\">94126304</span> │     <span style=\"color: #008080; text-decoration-color: #008080; font-weight: bold\">0</span> │\n",
                            "└────────────┴────────────┴────────────────┴───────────────────────┴───────────┴─────────────────────────────┴──────────┴───────┘\n",
                            "</pre>\n"
                        ],
                        "text/plain": [
                            "┏━━━━━━━━━━━━┳━━━━━━━━━━━━┳━━━━━━━━━━━━━━━━┳━━━━━━━━━━━━━━━━━━━━━━━┳━━━━━━━━━━━┳━━━━━━━━━━━━━━━━━━━━━━━━━━━━━┳━━━━━━━━━━┳━━━━━━━┓\n",
                            "┃\u001b[1m \u001b[0m\u001b[1mprftctr_pr\u001b[0m\u001b[1m \u001b[0m┃\u001b[1m \u001b[0m\u001b[1mprftctr_cc\u001b[0m\u001b[1m \u001b[0m┃\u001b[1m \u001b[0m\u001b[1mvalue_category\u001b[0m\u001b[1m \u001b[0m┃\u001b[1m \u001b[0m\u001b[1mvalue_cat_description\u001b[0m\u001b[1m \u001b[0m┃\u001b[1m \u001b[0m\u001b[1mcost_item\u001b[0m\u001b[1m \u001b[0m┃\u001b[1m \u001b[0m\u001b[1mcost_item_description\u001b[0m\u001b[1m      \u001b[0m\u001b[1m \u001b[0m┃\u001b[1m \u001b[0m\u001b[1mcost\u001b[0m\u001b[1m    \u001b[0m\u001b[1m \u001b[0m┃\u001b[1m \u001b[0m\u001b[1msales\u001b[0m\u001b[1m \u001b[0m┃\n",
                            "┡━━━━━━━━━━━━╇━━━━━━━━━━━━╇━━━━━━━━━━━━━━━━╇━━━━━━━━━━━━━━━━━━━━━━━╇━━━━━━━━━━━╇━━━━━━━━━━━━━━━━━━━━━━━━━━━━━╇━━━━━━━━━━╇━━━━━━━┩\n",
                            "│ \u001b[2mstring\u001b[0m     │ \u001b[2mstring\u001b[0m     │ \u001b[2mstring\u001b[0m         │ \u001b[2mstring\u001b[0m                │ \u001b[2mstring\u001b[0m    │ \u001b[2mstring\u001b[0m                      │ \u001b[2mint64\u001b[0m    │ \u001b[2mint64\u001b[0m │\n",
                            "├────────────┼────────────┼────────────────┼───────────────────────┼───────────┼─────────────────────────────┼──────────┼───────┤\n",
                            "│ \u001b[32m50803-025 \u001b[0m │ \u001b[2mNULL\u001b[0m       │ \u001b[2mNULL\u001b[0m           │ \u001b[2mNULL\u001b[0m                  │ \u001b[32m00       \u001b[0m │ \u001b[2mNULL\u001b[0m                        │        \u001b[1;36m0\u001b[0m │     \u001b[1;36m0\u001b[0m │\n",
                            "│ \u001b[32m50803-055 \u001b[0m │ \u001b[2mNULL\u001b[0m       │ \u001b[2mNULL\u001b[0m           │ \u001b[2mNULL\u001b[0m                  │ \u001b[32m00       \u001b[0m │ \u001b[2mNULL\u001b[0m                        │        \u001b[1;36m0\u001b[0m │     \u001b[1;36m0\u001b[0m │\n",
                            "│ \u001b[32m50803-055 \u001b[0m │ \u001b[32m50803-004 \u001b[0m │ \u001b[32mRPS-101       \u001b[0m │ \u001b[32mPS: Labour Costs     \u001b[0m │ \u001b[32m01       \u001b[0m │ \u001b[32mLabour Costs (R&D Projects)\u001b[0m │ \u001b[1;36m94126304\u001b[0m │     \u001b[1;36m0\u001b[0m │\n",
                            "└────────────┴────────────┴────────────────┴───────────────────────┴───────────┴─────────────────────────────┴──────────┴───────┘"
                        ]
                    },
                    "execution_count": 17,
                    "metadata": {},
                    "output_type": "execute_result"
                }
            ],
            "source": [
                "ps_db = ibis.memtable(df_ps_db)\n",
                "ps_db = ps_db.group_by([\"prftctr_pr\", \"prftctr_cc\", \"value_category\", \"value_cat_description\", \"cost_item\", \"cost_item_description\"]).aggregate(\n",
                "    cost = _.eval_per_actual_cos.sum(),\n",
                "    sales = _.eval_per_actual_rev.sum(),\n",
                ")\n",
                "ps_db.head(3)"
            ]
        },
        {
            "cell_type": "code",
            "execution_count": 18,
            "metadata": {},
            "outputs": [],
            "source": [
                "df_ps_config = df_ps_config.drop(columns=[\"subdepartment\"])  # only NULL values"
            ]
        },
        {
            "cell_type": "code",
            "execution_count": 19,
            "metadata": {},
            "outputs": [
                {
                    "data": {
                        "text/html": [
                            "<pre style=\"white-space:pre;overflow-x:auto;line-height:normal;font-family:Menlo,'DejaVu Sans Mono',consolas,'Courier New',monospace\">┏━━━━━━━━━━┳━━━━━━━━┳━━━━━━━━━━━━━━━┓\n",
                            "┃<span style=\"font-weight: bold\"> location </span>┃<span style=\"font-weight: bold\"> outlet </span>┃<span style=\"font-weight: bold\"> profit_center </span>┃\n",
                            "┡━━━━━━━━━━╇━━━━━━━━╇━━━━━━━━━━━━━━━┩\n",
                            "│ <span style=\"color: #7f7f7f; text-decoration-color: #7f7f7f\">string</span>   │ <span style=\"color: #7f7f7f; text-decoration-color: #7f7f7f\">string</span> │ <span style=\"color: #7f7f7f; text-decoration-color: #7f7f7f\">string</span>        │\n",
                            "├──────────┼────────┼───────────────┤\n",
                            "│ <span style=\"color: #008000; text-decoration-color: #008000\">ICN     </span> │ <span style=\"color: #008000; text-decoration-color: #008000\">7220  </span> │ <span style=\"color: #008000; text-decoration-color: #008000\">50803-004    </span> │\n",
                            "│ <span style=\"color: #008000; text-decoration-color: #008000\">ICN     </span> │ <span style=\"color: #008000; text-decoration-color: #008000\">7851  </span> │ <span style=\"color: #008000; text-decoration-color: #008000\">50803-04     </span> │\n",
                            "│ <span style=\"color: #008000; text-decoration-color: #008000\">ICN     </span> │ <span style=\"color: #008000; text-decoration-color: #008000\">7221  </span> │ <span style=\"color: #008000; text-decoration-color: #008000\">50803-042    </span> │\n",
                            "└──────────┴────────┴───────────────┘\n",
                            "</pre>\n"
                        ],
                        "text/plain": [
                            "┏━━━━━━━━━━┳━━━━━━━━┳━━━━━━━━━━━━━━━┓\n",
                            "┃\u001b[1m \u001b[0m\u001b[1mlocation\u001b[0m\u001b[1m \u001b[0m┃\u001b[1m \u001b[0m\u001b[1moutlet\u001b[0m\u001b[1m \u001b[0m┃\u001b[1m \u001b[0m\u001b[1mprofit_center\u001b[0m\u001b[1m \u001b[0m┃\n",
                            "┡━━━━━━━━━━╇━━━━━━━━╇━━━━━━━━━━━━━━━┩\n",
                            "│ \u001b[2mstring\u001b[0m   │ \u001b[2mstring\u001b[0m │ \u001b[2mstring\u001b[0m        │\n",
                            "├──────────┼────────┼───────────────┤\n",
                            "│ \u001b[32mICN     \u001b[0m │ \u001b[32m7220  \u001b[0m │ \u001b[32m50803-004    \u001b[0m │\n",
                            "│ \u001b[32mICN     \u001b[0m │ \u001b[32m7851  \u001b[0m │ \u001b[32m50803-04     \u001b[0m │\n",
                            "│ \u001b[32mICN     \u001b[0m │ \u001b[32m7221  \u001b[0m │ \u001b[32m50803-042    \u001b[0m │\n",
                            "└──────────┴────────┴───────────────┘"
                        ]
                    },
                    "execution_count": 19,
                    "metadata": {},
                    "output_type": "execute_result"
                }
            ],
            "source": [
                "ps_config = ibis.memtable(df_ps_config)\n",
                "ps_config.head(3)"
            ]
        },
        {
            "cell_type": "code",
            "execution_count": 20,
            "metadata": {},
            "outputs": [
                {
                    "data": {
                        "text/html": [
                            "<pre style=\"white-space:pre;overflow-x:auto;line-height:normal;font-family:Menlo,'DejaVu Sans Mono',consolas,'Courier New',monospace\">┏━━━━━━━━━━━━┳━━━━━━━━━━━━┳━━━━━━━━━━━━━━━━┳━━━━━━━━━━━━━━━━━━━━━━━┳━━━━━━━━━━━┳━━━━━━━━━━━━━━━━━━━━━━━━━━━━━━━━━━━━━━━━━━━━━━┳━━━━━━━━━━┳━━━━━━━┳━━━━━━━━━━┳━━━━━━━━┳━━━━━━━━━━━━━━━┓\n",
                            "┃<span style=\"font-weight: bold\"> prftctr_pr </span>┃<span style=\"font-weight: bold\"> prftctr_cc </span>┃<span style=\"font-weight: bold\"> value_category </span>┃<span style=\"font-weight: bold\"> value_cat_description </span>┃<span style=\"font-weight: bold\"> cost_item </span>┃<span style=\"font-weight: bold\"> cost_item_description                        </span>┃<span style=\"font-weight: bold\"> cost     </span>┃<span style=\"font-weight: bold\"> sales </span>┃<span style=\"font-weight: bold\"> location </span>┃<span style=\"font-weight: bold\"> outlet </span>┃<span style=\"font-weight: bold\"> profit_center </span>┃\n",
                            "┡━━━━━━━━━━━━╇━━━━━━━━━━━━╇━━━━━━━━━━━━━━━━╇━━━━━━━━━━━━━━━━━━━━━━━╇━━━━━━━━━━━╇━━━━━━━━━━━━━━━━━━━━━━━━━━━━━━━━━━━━━━━━━━━━━━╇━━━━━━━━━━╇━━━━━━━╇━━━━━━━━━━╇━━━━━━━━╇━━━━━━━━━━━━━━━┩\n",
                            "│ <span style=\"color: #7f7f7f; text-decoration-color: #7f7f7f\">string</span>     │ <span style=\"color: #7f7f7f; text-decoration-color: #7f7f7f\">string</span>     │ <span style=\"color: #7f7f7f; text-decoration-color: #7f7f7f\">string</span>         │ <span style=\"color: #7f7f7f; text-decoration-color: #7f7f7f\">string</span>                │ <span style=\"color: #7f7f7f; text-decoration-color: #7f7f7f\">string</span>    │ <span style=\"color: #7f7f7f; text-decoration-color: #7f7f7f\">string</span>                                       │ <span style=\"color: #7f7f7f; text-decoration-color: #7f7f7f\">int64</span>    │ <span style=\"color: #7f7f7f; text-decoration-color: #7f7f7f\">int64</span> │ <span style=\"color: #7f7f7f; text-decoration-color: #7f7f7f\">string</span>   │ <span style=\"color: #7f7f7f; text-decoration-color: #7f7f7f\">string</span> │ <span style=\"color: #7f7f7f; text-decoration-color: #7f7f7f\">string</span>        │\n",
                            "├────────────┼────────────┼────────────────┼───────────────────────┼───────────┼──────────────────────────────────────────────┼──────────┼───────┼──────────┼────────┼───────────────┤\n",
                            "│ <span style=\"color: #008000; text-decoration-color: #008000\">50803-055 </span> │ <span style=\"color: #7f7f7f; text-decoration-color: #7f7f7f\">NULL</span>       │ <span style=\"color: #7f7f7f; text-decoration-color: #7f7f7f\">NULL</span>           │ <span style=\"color: #7f7f7f; text-decoration-color: #7f7f7f\">NULL</span>                  │ <span style=\"color: #008000; text-decoration-color: #008000\">00       </span> │ <span style=\"color: #7f7f7f; text-decoration-color: #7f7f7f\">NULL</span>                                         │        <span style=\"color: #008080; text-decoration-color: #008080; font-weight: bold\">0</span> │     <span style=\"color: #008080; text-decoration-color: #008080; font-weight: bold\">0</span> │ <span style=\"color: #008000; text-decoration-color: #008000\">ICN     </span> │ <span style=\"color: #008000; text-decoration-color: #008000\">7811  </span> │ <span style=\"color: #008000; text-decoration-color: #008000\">50803-055    </span> │\n",
                            "│ <span style=\"color: #008000; text-decoration-color: #008000\">50803-055 </span> │ <span style=\"color: #008000; text-decoration-color: #008000\">50803-004 </span> │ <span style=\"color: #008000; text-decoration-color: #008000\">RPS-101       </span> │ <span style=\"color: #008000; text-decoration-color: #008000\">PS: Labour Costs     </span> │ <span style=\"color: #008000; text-decoration-color: #008000\">01       </span> │ <span style=\"color: #008000; text-decoration-color: #008000\">Labour Costs (R&amp;D Projects)                 </span> │ <span style=\"color: #008080; text-decoration-color: #008080; font-weight: bold\">94126304</span> │     <span style=\"color: #008080; text-decoration-color: #008080; font-weight: bold\">0</span> │ <span style=\"color: #008000; text-decoration-color: #008000\">ICN     </span> │ <span style=\"color: #008000; text-decoration-color: #008000\">7811  </span> │ <span style=\"color: #008000; text-decoration-color: #008000\">50803-055    </span> │\n",
                            "│ <span style=\"color: #008000; text-decoration-color: #008000\">50803-055 </span> │ <span style=\"color: #7f7f7f; text-decoration-color: #7f7f7f\">NULL</span>       │ <span style=\"color: #008000; text-decoration-color: #008000\">RPS-105       </span> │ <span style=\"color: #008000; text-decoration-color: #008000\">PS: Others           </span> │ <span style=\"color: #008000; text-decoration-color: #008000\">05       </span> │ <span style=\"color: #008000; text-decoration-color: #008000\">Other project specific Costs  (R&amp;D Projects)</span> │  <span style=\"color: #008080; text-decoration-color: #008080; font-weight: bold\">6531056</span> │     <span style=\"color: #008080; text-decoration-color: #008080; font-weight: bold\">0</span> │ <span style=\"color: #008000; text-decoration-color: #008000\">ICN     </span> │ <span style=\"color: #008000; text-decoration-color: #008000\">7811  </span> │ <span style=\"color: #008000; text-decoration-color: #008000\">50803-055    </span> │\n",
                            "└────────────┴────────────┴────────────────┴───────────────────────┴───────────┴──────────────────────────────────────────────┴──────────┴───────┴──────────┴────────┴───────────────┘\n",
                            "</pre>\n"
                        ],
                        "text/plain": [
                            "┏━━━━━━━━━━━━┳━━━━━━━━━━━━┳━━━━━━━━━━━━━━━━┳━━━━━━━━━━━━━━━━━━━━━━━┳━━━━━━━━━━━┳━━━━━━━━━━━━━━━━━━━━━━━━━━━━━━━━━━━━━━━━━━━━━━┳━━━━━━━━━━┳━━━━━━━┳━━━━━━━━━━┳━━━━━━━━┳━━━━━━━━━━━━━━━┓\n",
                            "┃\u001b[1m \u001b[0m\u001b[1mprftctr_pr\u001b[0m\u001b[1m \u001b[0m┃\u001b[1m \u001b[0m\u001b[1mprftctr_cc\u001b[0m\u001b[1m \u001b[0m┃\u001b[1m \u001b[0m\u001b[1mvalue_category\u001b[0m\u001b[1m \u001b[0m┃\u001b[1m \u001b[0m\u001b[1mvalue_cat_description\u001b[0m\u001b[1m \u001b[0m┃\u001b[1m \u001b[0m\u001b[1mcost_item\u001b[0m\u001b[1m \u001b[0m┃\u001b[1m \u001b[0m\u001b[1mcost_item_description\u001b[0m\u001b[1m                       \u001b[0m\u001b[1m \u001b[0m┃\u001b[1m \u001b[0m\u001b[1mcost\u001b[0m\u001b[1m    \u001b[0m\u001b[1m \u001b[0m┃\u001b[1m \u001b[0m\u001b[1msales\u001b[0m\u001b[1m \u001b[0m┃\u001b[1m \u001b[0m\u001b[1mlocation\u001b[0m\u001b[1m \u001b[0m┃\u001b[1m \u001b[0m\u001b[1moutlet\u001b[0m\u001b[1m \u001b[0m┃\u001b[1m \u001b[0m\u001b[1mprofit_center\u001b[0m\u001b[1m \u001b[0m┃\n",
                            "┡━━━━━━━━━━━━╇━━━━━━━━━━━━╇━━━━━━━━━━━━━━━━╇━━━━━━━━━━━━━━━━━━━━━━━╇━━━━━━━━━━━╇━━━━━━━━━━━━━━━━━━━━━━━━━━━━━━━━━━━━━━━━━━━━━━╇━━━━━━━━━━╇━━━━━━━╇━━━━━━━━━━╇━━━━━━━━╇━━━━━━━━━━━━━━━┩\n",
                            "│ \u001b[2mstring\u001b[0m     │ \u001b[2mstring\u001b[0m     │ \u001b[2mstring\u001b[0m         │ \u001b[2mstring\u001b[0m                │ \u001b[2mstring\u001b[0m    │ \u001b[2mstring\u001b[0m                                       │ \u001b[2mint64\u001b[0m    │ \u001b[2mint64\u001b[0m │ \u001b[2mstring\u001b[0m   │ \u001b[2mstring\u001b[0m │ \u001b[2mstring\u001b[0m        │\n",
                            "├────────────┼────────────┼────────────────┼───────────────────────┼───────────┼──────────────────────────────────────────────┼──────────┼───────┼──────────┼────────┼───────────────┤\n",
                            "│ \u001b[32m50803-055 \u001b[0m │ \u001b[2mNULL\u001b[0m       │ \u001b[2mNULL\u001b[0m           │ \u001b[2mNULL\u001b[0m                  │ \u001b[32m00       \u001b[0m │ \u001b[2mNULL\u001b[0m                                         │        \u001b[1;36m0\u001b[0m │     \u001b[1;36m0\u001b[0m │ \u001b[32mICN     \u001b[0m │ \u001b[32m7811  \u001b[0m │ \u001b[32m50803-055    \u001b[0m │\n",
                            "│ \u001b[32m50803-055 \u001b[0m │ \u001b[32m50803-004 \u001b[0m │ \u001b[32mRPS-101       \u001b[0m │ \u001b[32mPS: Labour Costs     \u001b[0m │ \u001b[32m01       \u001b[0m │ \u001b[32mLabour Costs (R&D Projects)                 \u001b[0m │ \u001b[1;36m94126304\u001b[0m │     \u001b[1;36m0\u001b[0m │ \u001b[32mICN     \u001b[0m │ \u001b[32m7811  \u001b[0m │ \u001b[32m50803-055    \u001b[0m │\n",
                            "│ \u001b[32m50803-055 \u001b[0m │ \u001b[2mNULL\u001b[0m       │ \u001b[32mRPS-105       \u001b[0m │ \u001b[32mPS: Others           \u001b[0m │ \u001b[32m05       \u001b[0m │ \u001b[32mOther project specific Costs  (R&D Projects)\u001b[0m │  \u001b[1;36m6531056\u001b[0m │     \u001b[1;36m0\u001b[0m │ \u001b[32mICN     \u001b[0m │ \u001b[32m7811  \u001b[0m │ \u001b[32m50803-055    \u001b[0m │\n",
                            "└────────────┴────────────┴────────────────┴───────────────────────┴───────────┴──────────────────────────────────────────────┴──────────┴───────┴──────────┴────────┴───────────────┘"
                        ]
                    },
                    "execution_count": 20,
                    "metadata": {},
                    "output_type": "execute_result"
                }
            ],
            "source": [
                "ps_db_config = ps_db.join(ps_config, ps_db.prftctr_pr == ps_config.profit_center, how=\"left\")\n",
                "ps_db_config.head(3)"
            ]
        },
        {
            "cell_type": "code",
            "execution_count": 21,
            "metadata": {},
            "outputs": [
                {
                    "ename": "NameError",
                    "evalue": "name 'joined' is not defined",
                    "output_type": "error",
                    "traceback": [
                        "\u001b[1;31m---------------------------------------------------------------------------\u001b[0m",
                        "\u001b[1;31mNameError\u001b[0m                                 Traceback (most recent call last)",
                        "\u001b[1;32mc:\\Users\\uid98421\\Vitesco Technologies\\Controlling VT Korea - Documents\\120. Data automation\\jupyterlab\\RnD\\src\\gloria.ipynb 셀 21\u001b[0m line \u001b[0;36m1\n\u001b[1;32m----> <a href='vscode-notebook-cell:/c%3A/Users/uid98421/Vitesco%20Technologies/Controlling%20VT%20Korea%20-%20Documents/120.%20Data%20automation/jupyterlab/RnD/src/gloria.ipynb#X26sZmlsZQ%3D%3D?line=0'>1</a>\u001b[0m project_specific \u001b[39m=\u001b[39m ps_db_config\u001b[39m.\u001b[39mjoin(race_gloria, joined\u001b[39m.\u001b[39mcost_item \u001b[39m==\u001b[39m race_gloria\u001b[39m.\u001b[39mps_data_ci, how\u001b[39m=\u001b[39m\u001b[39m\"\u001b[39m\u001b[39mleft\u001b[39m\u001b[39m\"\u001b[39m)\n\u001b[0;32m      <a href='vscode-notebook-cell:/c%3A/Users/uid98421/Vitesco%20Technologies/Controlling%20VT%20Korea%20-%20Documents/120.%20Data%20automation/jupyterlab/RnD/src/gloria.ipynb#X26sZmlsZQ%3D%3D?line=1'>2</a>\u001b[0m project_specific \u001b[39m=\u001b[39m project_specific\u001b[39m.\u001b[39mfilter(_\u001b[39m.\u001b[39mps_data_ci \u001b[39m!=\u001b[39m ibis\u001b[39m.\u001b[39mNA)\n\u001b[0;32m      <a href='vscode-notebook-cell:/c%3A/Users/uid98421/Vitesco%20Technologies/Controlling%20VT%20Korea%20-%20Documents/120.%20Data%20automation/jupyterlab/RnD/src/gloria.ipynb#X26sZmlsZQ%3D%3D?line=2'>3</a>\u001b[0m project_specific\u001b[39m.\u001b[39mhead(\u001b[39m3\u001b[39m)\n",
                        "\u001b[1;31mNameError\u001b[0m: name 'joined' is not defined"
                    ]
                }
            ],
            "source": [
                "project_specific = ps_db_config.join(race_gloria, joined.cost_item == race_gloria.ps_data_ci, how=\"left\")\n",
                "project_specific = project_specific.filter(_.ps_data_ci != ibis.NA)\n",
                "project_specific.head(3)"
            ]
        },
        {
            "cell_type": "code",
            "execution_count": null,
            "metadata": {},
            "outputs": [
                {
                    "data": {
                        "text/html": [
                            "<pre style=\"white-space:pre;overflow-x:auto;line-height:normal;font-family:Menlo,'DejaVu Sans Mono',consolas,'Courier New',monospace\">┏━━━━━━━┳━━━━━━━┳━━━━━━━━━━┳━━━━━━━━┳━━━━━━━━━━━┳━━━━━━━━┳━━━━━━━━━┳━━━━━━━━━━━┳━━━━━━━━━━━━━━━━━━━━━━━━━━━━━━━━━━┳━━━━━━━━━━━━━┳━━━━━━━━━━━┳━━━━━━━━━━━┳━━━━━━━┳━━━━━━━━━━━━━┳━━━━━━━━┳━━━━━━━┳━━━━━━━━━┳━━━━━━━━━━━━┓\n",
                            "┃<span style=\"font-weight: bold\"> year  </span>┃<span style=\"font-weight: bold\"> vt    </span>┃<span style=\"font-weight: bold\"> location </span>┃<span style=\"font-weight: bold\"> outlet </span>┃<span style=\"font-weight: bold\"> subdepart </span>┃<span style=\"font-weight: bold\"> la_typ </span>┃<span style=\"font-weight: bold\"> la_pos  </span>┃<span style=\"font-weight: bold\"> cost_item </span>┃<span style=\"font-weight: bold\"> text_ci                          </span>┃<span style=\"font-weight: bold\"> costs_rnd   </span>┃<span style=\"font-weight: bold\"> head_item </span>┃<span style=\"font-weight: bold\"> user_name </span>┃<span style=\"font-weight: bold\"> per   </span>┃<span style=\"font-weight: bold\"> costs       </span>┃<span style=\"font-weight: bold\"> obcur  </span>┃<span style=\"font-weight: bold\"> heads </span>┃<span style=\"font-weight: bold\"> um      </span>┃<span style=\"font-weight: bold\"> created_on </span>┃\n",
                            "┡━━━━━━━╇━━━━━━━╇━━━━━━━━━━╇━━━━━━━━╇━━━━━━━━━━━╇━━━━━━━━╇━━━━━━━━━╇━━━━━━━━━━━╇━━━━━━━━━━━━━━━━━━━━━━━━━━━━━━━━━━╇━━━━━━━━━━━━━╇━━━━━━━━━━━╇━━━━━━━━━━━╇━━━━━━━╇━━━━━━━━━━━━━╇━━━━━━━━╇━━━━━━━╇━━━━━━━━━╇━━━━━━━━━━━━┩\n",
                            "│ <span style=\"color: #7f7f7f; text-decoration-color: #7f7f7f\">int64</span> │ <span style=\"color: #7f7f7f; text-decoration-color: #7f7f7f\">int64</span> │ <span style=\"color: #7f7f7f; text-decoration-color: #7f7f7f\">string</span>   │ <span style=\"color: #7f7f7f; text-decoration-color: #7f7f7f\">string</span> │ <span style=\"color: #7f7f7f; text-decoration-color: #7f7f7f\">string</span>    │ <span style=\"color: #7f7f7f; text-decoration-color: #7f7f7f\">string</span> │ <span style=\"color: #7f7f7f; text-decoration-color: #7f7f7f\">float64</span> │ <span style=\"color: #7f7f7f; text-decoration-color: #7f7f7f\">string</span>    │ <span style=\"color: #7f7f7f; text-decoration-color: #7f7f7f\">string</span>                           │ <span style=\"color: #7f7f7f; text-decoration-color: #7f7f7f\">string</span>      │ <span style=\"color: #7f7f7f; text-decoration-color: #7f7f7f\">string</span>    │ <span style=\"color: #7f7f7f; text-decoration-color: #7f7f7f\">float64</span>   │ <span style=\"color: #7f7f7f; text-decoration-color: #7f7f7f\">int64</span> │ <span style=\"color: #7f7f7f; text-decoration-color: #7f7f7f\">string</span>      │ <span style=\"color: #7f7f7f; text-decoration-color: #7f7f7f\">string</span> │ <span style=\"color: #7f7f7f; text-decoration-color: #7f7f7f\">int64</span> │ <span style=\"color: #7f7f7f; text-decoration-color: #7f7f7f\">float64</span> │ <span style=\"color: #7f7f7f; text-decoration-color: #7f7f7f\">float64</span>    │\n",
                            "├───────┼───────┼──────────┼────────┼───────────┼────────┼─────────┼───────────┼──────────────────────────────────┼─────────────┼───────────┼───────────┼───────┼─────────────┼────────┼───────┼─────────┼────────────┤\n",
                            "│  <span style=\"color: #008080; text-decoration-color: #008080; font-weight: bold\">2024</span> │     <span style=\"color: #008080; text-decoration-color: #008080; font-weight: bold\">4</span> │ <span style=\"color: #008000; text-decoration-color: #008000\">ICN     </span> │ <span style=\"color: #008000; text-decoration-color: #008000\">7110  </span> │ <span style=\"color: #7f7f7f; text-decoration-color: #7f7f7f\">NULL</span>      │ <span style=\"color: #7f7f7f; text-decoration-color: #7f7f7f\">NULL</span>   │     <span style=\"color: #008080; text-decoration-color: #008080; font-weight: bold\">nan</span> │ <span style=\"color: #008000; text-decoration-color: #008000\">510      </span> │ <span style=\"color: #7f7f7f; text-decoration-color: #7f7f7f\">NULL</span>                             │ <span style=\"color: #008000; text-decoration-color: #008000\">19,730,318 </span> │ <span style=\"color: #7f7f7f; text-decoration-color: #7f7f7f\">NULL</span>      │       <span style=\"color: #008080; text-decoration-color: #008080; font-weight: bold\">nan</span> │     <span style=\"color: #008080; text-decoration-color: #008080; font-weight: bold\">7</span> │ <span style=\"color: #008000; text-decoration-color: #008000\">19,730,318 </span> │ <span style=\"color: #008000; text-decoration-color: #008000\">KRW   </span> │     <span style=\"color: #008080; text-decoration-color: #008080; font-weight: bold\">0</span> │     <span style=\"color: #008080; text-decoration-color: #008080; font-weight: bold\">nan</span> │        <span style=\"color: #008080; text-decoration-color: #008080; font-weight: bold\">nan</span> │\n",
                            "│  <span style=\"color: #008080; text-decoration-color: #008080; font-weight: bold\">2024</span> │     <span style=\"color: #008080; text-decoration-color: #008080; font-weight: bold\">4</span> │ <span style=\"color: #008000; text-decoration-color: #008000\">ICN     </span> │ <span style=\"color: #008000; text-decoration-color: #008000\">7110  </span> │ <span style=\"color: #7f7f7f; text-decoration-color: #7f7f7f\">NULL</span>      │ <span style=\"color: #008000; text-decoration-color: #008000\">L6    </span> │     <span style=\"color: #008080; text-decoration-color: #008080; font-weight: bold\">1.0</span> │ <span style=\"color: #008000; text-decoration-color: #008000\">10       </span> │ <span style=\"color: #008000; text-decoration-color: #008000\">TOTAL COMPENSATION              </span> │ <span style=\"color: #008000; text-decoration-color: #008000\">31,884,702-</span> │ <span style=\"color: #008000; text-decoration-color: #008000\">10       </span> │       <span style=\"color: #008080; text-decoration-color: #008080; font-weight: bold\">nan</span> │     <span style=\"color: #008080; text-decoration-color: #008080; font-weight: bold\">7</span> │ <span style=\"color: #008000; text-decoration-color: #008000\">-31,884,702</span> │ <span style=\"color: #008000; text-decoration-color: #008000\">KRW   </span> │     <span style=\"color: #008080; text-decoration-color: #008080; font-weight: bold\">4</span> │     <span style=\"color: #008080; text-decoration-color: #008080; font-weight: bold\">nan</span> │        <span style=\"color: #008080; text-decoration-color: #008080; font-weight: bold\">nan</span> │\n",
                            "│  <span style=\"color: #008080; text-decoration-color: #008080; font-weight: bold\">2024</span> │     <span style=\"color: #008080; text-decoration-color: #008080; font-weight: bold\">4</span> │ <span style=\"color: #008000; text-decoration-color: #008000\">ICN     </span> │ <span style=\"color: #008000; text-decoration-color: #008000\">7110  </span> │ <span style=\"color: #7f7f7f; text-decoration-color: #7f7f7f\">NULL</span>      │ <span style=\"color: #008000; text-decoration-color: #008000\">L6    </span> │     <span style=\"color: #008080; text-decoration-color: #008080; font-weight: bold\">4.0</span> │ <span style=\"color: #008000; text-decoration-color: #008000\">15       </span> │ <span style=\"color: #008000; text-decoration-color: #008000\">THEREOF COMPENSATION FOR LEASING</span> │ <span style=\"color: #7f7f7f; text-decoration-color: #7f7f7f\">NULL</span>        │ <span style=\"color: #008000; text-decoration-color: #008000\">20       </span> │       <span style=\"color: #008080; text-decoration-color: #008080; font-weight: bold\">nan</span> │     <span style=\"color: #008080; text-decoration-color: #008080; font-weight: bold\">7</span> │ <span style=\"color: #008000; text-decoration-color: #008000\">0          </span> │ <span style=\"color: #008000; text-decoration-color: #008000\">KRW   </span> │     <span style=\"color: #008080; text-decoration-color: #008080; font-weight: bold\">0</span> │     <span style=\"color: #008080; text-decoration-color: #008080; font-weight: bold\">nan</span> │        <span style=\"color: #008080; text-decoration-color: #008080; font-weight: bold\">nan</span> │\n",
                            "└───────┴───────┴──────────┴────────┴───────────┴────────┴─────────┴───────────┴──────────────────────────────────┴─────────────┴───────────┴───────────┴───────┴─────────────┴────────┴───────┴─────────┴────────────┘\n",
                            "</pre>\n"
                        ],
                        "text/plain": [
                            "┏━━━━━━━┳━━━━━━━┳━━━━━━━━━━┳━━━━━━━━┳━━━━━━━━━━━┳━━━━━━━━┳━━━━━━━━━┳━━━━━━━━━━━┳━━━━━━━━━━━━━━━━━━━━━━━━━━━━━━━━━━┳━━━━━━━━━━━━━┳━━━━━━━━━━━┳━━━━━━━━━━━┳━━━━━━━┳━━━━━━━━━━━━━┳━━━━━━━━┳━━━━━━━┳━━━━━━━━━┳━━━━━━━━━━━━┓\n",
                            "┃\u001b[1m \u001b[0m\u001b[1myear\u001b[0m\u001b[1m \u001b[0m\u001b[1m \u001b[0m┃\u001b[1m \u001b[0m\u001b[1mvt\u001b[0m\u001b[1m   \u001b[0m\u001b[1m \u001b[0m┃\u001b[1m \u001b[0m\u001b[1mlocation\u001b[0m\u001b[1m \u001b[0m┃\u001b[1m \u001b[0m\u001b[1moutlet\u001b[0m\u001b[1m \u001b[0m┃\u001b[1m \u001b[0m\u001b[1msubdepart\u001b[0m\u001b[1m \u001b[0m┃\u001b[1m \u001b[0m\u001b[1mla_typ\u001b[0m\u001b[1m \u001b[0m┃\u001b[1m \u001b[0m\u001b[1mla_pos\u001b[0m\u001b[1m \u001b[0m\u001b[1m \u001b[0m┃\u001b[1m \u001b[0m\u001b[1mcost_item\u001b[0m\u001b[1m \u001b[0m┃\u001b[1m \u001b[0m\u001b[1mtext_ci\u001b[0m\u001b[1m                         \u001b[0m\u001b[1m \u001b[0m┃\u001b[1m \u001b[0m\u001b[1mcosts_rnd\u001b[0m\u001b[1m  \u001b[0m\u001b[1m \u001b[0m┃\u001b[1m \u001b[0m\u001b[1mhead_item\u001b[0m\u001b[1m \u001b[0m┃\u001b[1m \u001b[0m\u001b[1muser_name\u001b[0m\u001b[1m \u001b[0m┃\u001b[1m \u001b[0m\u001b[1mper\u001b[0m\u001b[1m  \u001b[0m\u001b[1m \u001b[0m┃\u001b[1m \u001b[0m\u001b[1mcosts\u001b[0m\u001b[1m      \u001b[0m\u001b[1m \u001b[0m┃\u001b[1m \u001b[0m\u001b[1mobcur\u001b[0m\u001b[1m \u001b[0m\u001b[1m \u001b[0m┃\u001b[1m \u001b[0m\u001b[1mheads\u001b[0m\u001b[1m \u001b[0m┃\u001b[1m \u001b[0m\u001b[1mum\u001b[0m\u001b[1m     \u001b[0m\u001b[1m \u001b[0m┃\u001b[1m \u001b[0m\u001b[1mcreated_on\u001b[0m\u001b[1m \u001b[0m┃\n",
                            "┡━━━━━━━╇━━━━━━━╇━━━━━━━━━━╇━━━━━━━━╇━━━━━━━━━━━╇━━━━━━━━╇━━━━━━━━━╇━━━━━━━━━━━╇━━━━━━━━━━━━━━━━━━━━━━━━━━━━━━━━━━╇━━━━━━━━━━━━━╇━━━━━━━━━━━╇━━━━━━━━━━━╇━━━━━━━╇━━━━━━━━━━━━━╇━━━━━━━━╇━━━━━━━╇━━━━━━━━━╇━━━━━━━━━━━━┩\n",
                            "│ \u001b[2mint64\u001b[0m │ \u001b[2mint64\u001b[0m │ \u001b[2mstring\u001b[0m   │ \u001b[2mstring\u001b[0m │ \u001b[2mstring\u001b[0m    │ \u001b[2mstring\u001b[0m │ \u001b[2mfloat64\u001b[0m │ \u001b[2mstring\u001b[0m    │ \u001b[2mstring\u001b[0m                           │ \u001b[2mstring\u001b[0m      │ \u001b[2mstring\u001b[0m    │ \u001b[2mfloat64\u001b[0m   │ \u001b[2mint64\u001b[0m │ \u001b[2mstring\u001b[0m      │ \u001b[2mstring\u001b[0m │ \u001b[2mint64\u001b[0m │ \u001b[2mfloat64\u001b[0m │ \u001b[2mfloat64\u001b[0m    │\n",
                            "├───────┼───────┼──────────┼────────┼───────────┼────────┼─────────┼───────────┼──────────────────────────────────┼─────────────┼───────────┼───────────┼───────┼─────────────┼────────┼───────┼─────────┼────────────┤\n",
                            "│  \u001b[1;36m2024\u001b[0m │     \u001b[1;36m4\u001b[0m │ \u001b[32mICN     \u001b[0m │ \u001b[32m7110  \u001b[0m │ \u001b[2mNULL\u001b[0m      │ \u001b[2mNULL\u001b[0m   │     \u001b[1;36mnan\u001b[0m │ \u001b[32m510      \u001b[0m │ \u001b[2mNULL\u001b[0m                             │ \u001b[32m19,730,318 \u001b[0m │ \u001b[2mNULL\u001b[0m      │       \u001b[1;36mnan\u001b[0m │     \u001b[1;36m7\u001b[0m │ \u001b[32m19,730,318 \u001b[0m │ \u001b[32mKRW   \u001b[0m │     \u001b[1;36m0\u001b[0m │     \u001b[1;36mnan\u001b[0m │        \u001b[1;36mnan\u001b[0m │\n",
                            "│  \u001b[1;36m2024\u001b[0m │     \u001b[1;36m4\u001b[0m │ \u001b[32mICN     \u001b[0m │ \u001b[32m7110  \u001b[0m │ \u001b[2mNULL\u001b[0m      │ \u001b[32mL6    \u001b[0m │     \u001b[1;36m1.0\u001b[0m │ \u001b[32m10       \u001b[0m │ \u001b[32mTOTAL COMPENSATION              \u001b[0m │ \u001b[32m31,884,702-\u001b[0m │ \u001b[32m10       \u001b[0m │       \u001b[1;36mnan\u001b[0m │     \u001b[1;36m7\u001b[0m │ \u001b[32m-31,884,702\u001b[0m │ \u001b[32mKRW   \u001b[0m │     \u001b[1;36m4\u001b[0m │     \u001b[1;36mnan\u001b[0m │        \u001b[1;36mnan\u001b[0m │\n",
                            "│  \u001b[1;36m2024\u001b[0m │     \u001b[1;36m4\u001b[0m │ \u001b[32mICN     \u001b[0m │ \u001b[32m7110  \u001b[0m │ \u001b[2mNULL\u001b[0m      │ \u001b[32mL6    \u001b[0m │     \u001b[1;36m4.0\u001b[0m │ \u001b[32m15       \u001b[0m │ \u001b[32mTHEREOF COMPENSATION FOR LEASING\u001b[0m │ \u001b[2mNULL\u001b[0m        │ \u001b[32m20       \u001b[0m │       \u001b[1;36mnan\u001b[0m │     \u001b[1;36m7\u001b[0m │ \u001b[32m0          \u001b[0m │ \u001b[32mKRW   \u001b[0m │     \u001b[1;36m0\u001b[0m │     \u001b[1;36mnan\u001b[0m │        \u001b[1;36mnan\u001b[0m │\n",
                            "└───────┴───────┴──────────┴────────┴───────────┴────────┴─────────┴───────────┴──────────────────────────────────┴─────────────┴───────────┴───────────┴───────┴─────────────┴────────┴───────┴─────────┴────────────┘"
                        ]
                    },
                    "execution_count": 82,
                    "metadata": {},
                    "output_type": "execute_result"
                }
            ],
            "source": [
                "gloria = ibis.memtable(df_gloria)\n",
                "cc_costs = gloria.join(race_gloria, gloria.cost_item == race_gloria.gl_cost_item, how=\"left\")\n",
                "cc_costs = cc_costs.filter(_.cost_item != \"105\")\n",
                "gloria.head(3)"
            ]
        },
        {
            "cell_type": "code",
            "execution_count": null,
            "metadata": {},
            "outputs": [],
            "source": [
                "project_specific.df().to_csv(output_path + \"ps.csv\")\n",
                "cc_costs.df().to_csv(output_path + \"cc.csv\")"
            ]
        },
        {
            "cell_type": "code",
            "execution_count": null,
            "metadata": {},
            "outputs": [
                {
                    "data": {
                        "text/html": [
                            "<pre style=\"white-space:pre;overflow-x:auto;line-height:normal;font-family:Menlo,'DejaVu Sans Mono',consolas,'Courier New',monospace\">┏━━━━━━━━━━━━┳━━━━━━━━━━━━┳━━━━━━━━━━━━━━━━┳━━━━━━━━━━━━━━━━━━━━━━━━━━┳━━━━━━━━━━━┳━━━━━━━━━━━━━━━━━━━━━━━━━━━━━━━━━━━━━━━━━━━━━━━━━━━━┳━━━━━━━━━━┳━━━━━━━┳━━━━━━━━━━┳━━━━━━━━┳━━━━━━━━━━━━━━━┳━━━━━━━━━━━━━━┳━━━━━━━━━━━━━━━━━━━━━━━━━┳━━━━━━━━━━━━┳━━━━━━━━━━━┳━━━━━━━━━━━━━━━━━━━━━━━━┓\n",
                            "┃<span style=\"font-weight: bold\"> prftctr_pr </span>┃<span style=\"font-weight: bold\"> prftctr_cc </span>┃<span style=\"font-weight: bold\"> value_category </span>┃<span style=\"font-weight: bold\"> value_cat_description    </span>┃<span style=\"font-weight: bold\"> cost_item </span>┃<span style=\"font-weight: bold\"> cost_item_description                              </span>┃<span style=\"font-weight: bold\"> cost     </span>┃<span style=\"font-weight: bold\"> sales </span>┃<span style=\"font-weight: bold\"> location </span>┃<span style=\"font-weight: bold\"> outlet </span>┃<span style=\"font-weight: bold\"> profit_center </span>┃<span style=\"font-weight: bold\"> gl_cost_item </span>┃<span style=\"font-weight: bold\"> gl_text_ci              </span>┃<span style=\"font-weight: bold\"> ps_data_ci </span>┃<span style=\"font-weight: bold\"> fs_item   </span>┃<span style=\"font-weight: bold\"> fs_item_text           </span>┃\n",
                            "┡━━━━━━━━━━━━╇━━━━━━━━━━━━╇━━━━━━━━━━━━━━━━╇━━━━━━━━━━━━━━━━━━━━━━━━━━╇━━━━━━━━━━━╇━━━━━━━━━━━━━━━━━━━━━━━━━━━━━━━━━━━━━━━━━━━━━━━━━━━━╇━━━━━━━━━━╇━━━━━━━╇━━━━━━━━━━╇━━━━━━━━╇━━━━━━━━━━━━━━━╇━━━━━━━━━━━━━━╇━━━━━━━━━━━━━━━━━━━━━━━━━╇━━━━━━━━━━━━╇━━━━━━━━━━━╇━━━━━━━━━━━━━━━━━━━━━━━━┩\n",
                            "│ <span style=\"color: #7f7f7f; text-decoration-color: #7f7f7f\">string</span>     │ <span style=\"color: #7f7f7f; text-decoration-color: #7f7f7f\">string</span>     │ <span style=\"color: #7f7f7f; text-decoration-color: #7f7f7f\">string</span>         │ <span style=\"color: #7f7f7f; text-decoration-color: #7f7f7f\">string</span>                   │ <span style=\"color: #7f7f7f; text-decoration-color: #7f7f7f\">string</span>    │ <span style=\"color: #7f7f7f; text-decoration-color: #7f7f7f\">string</span>                                             │ <span style=\"color: #7f7f7f; text-decoration-color: #7f7f7f\">int64</span>    │ <span style=\"color: #7f7f7f; text-decoration-color: #7f7f7f\">int64</span> │ <span style=\"color: #7f7f7f; text-decoration-color: #7f7f7f\">string</span>   │ <span style=\"color: #7f7f7f; text-decoration-color: #7f7f7f\">string</span> │ <span style=\"color: #7f7f7f; text-decoration-color: #7f7f7f\">string</span>        │ <span style=\"color: #7f7f7f; text-decoration-color: #7f7f7f\">string</span>       │ <span style=\"color: #7f7f7f; text-decoration-color: #7f7f7f\">string</span>                  │ <span style=\"color: #7f7f7f; text-decoration-color: #7f7f7f\">string</span>     │ <span style=\"color: #7f7f7f; text-decoration-color: #7f7f7f\">string</span>    │ <span style=\"color: #7f7f7f; text-decoration-color: #7f7f7f\">string</span>                 │\n",
                            "├────────────┼────────────┼────────────────┼──────────────────────────┼───────────┼────────────────────────────────────────────────────┼──────────┼───────┼──────────┼────────┼───────────────┼──────────────┼─────────────────────────┼────────────┼───────────┼────────────────────────┤\n",
                            "│ <span style=\"color: #008000; text-decoration-color: #008000\">50803-055 </span> │ <span style=\"color: #008000; text-decoration-color: #008000\">50803-049 </span> │ <span style=\"color: #008000; text-decoration-color: #008000\">RPS-104       </span> │ <span style=\"color: #008000; text-decoration-color: #008000\">PS: Int. Prototype Costs</span> │ <span style=\"color: #008000; text-decoration-color: #008000\">07       </span> │ <span style=\"color: #008000; text-decoration-color: #008000\">Ext. Prototype/Tooling/Sample Costs (R&amp;D Projects)</span> │        <span style=\"color: #008080; text-decoration-color: #008080; font-weight: bold\">0</span> │     <span style=\"color: #008080; text-decoration-color: #008080; font-weight: bold\">0</span> │ <span style=\"color: #008000; text-decoration-color: #008000\">ICN     </span> │ <span style=\"color: #008000; text-decoration-color: #008000\">7811  </span> │ <span style=\"color: #008000; text-decoration-color: #008000\">50803-055    </span> │ <span style=\"color: #008000; text-decoration-color: #008000\">105         </span> │ <span style=\"color: #008000; text-decoration-color: #008000\">External Prototype Cost</span> │ <span style=\"color: #008000; text-decoration-color: #008000\">07        </span> │ <span style=\"color: #008000; text-decoration-color: #008000\">311500600</span> │ <span style=\"color: #008000; text-decoration-color: #008000\">Primary R, D &amp; E costs</span> │\n",
                            "│ <span style=\"color: #008000; text-decoration-color: #008000\">50803-055 </span> │ <span style=\"color: #008000; text-decoration-color: #008000\">50803-042 </span> │ <span style=\"color: #008000; text-decoration-color: #008000\">RPS-101       </span> │ <span style=\"color: #008000; text-decoration-color: #008000\">PS: Labour Costs        </span> │ <span style=\"color: #008000; text-decoration-color: #008000\">07       </span> │ <span style=\"color: #008000; text-decoration-color: #008000\">Ext. Prototype/Tooling/Sample Costs (R&amp;D Projects)</span> │        <span style=\"color: #008080; text-decoration-color: #008080; font-weight: bold\">0</span> │     <span style=\"color: #008080; text-decoration-color: #008080; font-weight: bold\">0</span> │ <span style=\"color: #008000; text-decoration-color: #008000\">ICN     </span> │ <span style=\"color: #008000; text-decoration-color: #008000\">7811  </span> │ <span style=\"color: #008000; text-decoration-color: #008000\">50803-055    </span> │ <span style=\"color: #008000; text-decoration-color: #008000\">105         </span> │ <span style=\"color: #008000; text-decoration-color: #008000\">External Prototype Cost</span> │ <span style=\"color: #008000; text-decoration-color: #008000\">07        </span> │ <span style=\"color: #008000; text-decoration-color: #008000\">311500600</span> │ <span style=\"color: #008000; text-decoration-color: #008000\">Primary R, D &amp; E costs</span> │\n",
                            "│ <span style=\"color: #008000; text-decoration-color: #008000\">50803-058 </span> │ <span style=\"color: #008000; text-decoration-color: #008000\">50803-042 </span> │ <span style=\"color: #008000; text-decoration-color: #008000\">RPS-101       </span> │ <span style=\"color: #008000; text-decoration-color: #008000\">PS: Labour Costs        </span> │ <span style=\"color: #008000; text-decoration-color: #008000\">07       </span> │ <span style=\"color: #008000; text-decoration-color: #008000\">Ext. Prototype/Tooling/Sample Costs (R&amp;D Projects)</span> │ <span style=\"color: #008080; text-decoration-color: #008080; font-weight: bold\">15906867</span> │     <span style=\"color: #008080; text-decoration-color: #008080; font-weight: bold\">0</span> │ <span style=\"color: #008000; text-decoration-color: #008000\">ICN     </span> │ <span style=\"color: #008000; text-decoration-color: #008000\">7821  </span> │ <span style=\"color: #008000; text-decoration-color: #008000\">50803-058    </span> │ <span style=\"color: #008000; text-decoration-color: #008000\">105         </span> │ <span style=\"color: #008000; text-decoration-color: #008000\">External Prototype Cost</span> │ <span style=\"color: #008000; text-decoration-color: #008000\">07        </span> │ <span style=\"color: #008000; text-decoration-color: #008000\">311500600</span> │ <span style=\"color: #008000; text-decoration-color: #008000\">Primary R, D &amp; E costs</span> │\n",
                            "└────────────┴────────────┴────────────────┴──────────────────────────┴───────────┴────────────────────────────────────────────────────┴──────────┴───────┴──────────┴────────┴───────────────┴──────────────┴─────────────────────────┴────────────┴───────────┴────────────────────────┘\n",
                            "</pre>\n"
                        ],
                        "text/plain": [
                            "┏━━━━━━━━━━━━┳━━━━━━━━━━━━┳━━━━━━━━━━━━━━━━┳━━━━━━━━━━━━━━━━━━━━━━━━━━┳━━━━━━━━━━━┳━━━━━━━━━━━━━━━━━━━━━━━━━━━━━━━━━━━━━━━━━━━━━━━━━━━━┳━━━━━━━━━━┳━━━━━━━┳━━━━━━━━━━┳━━━━━━━━┳━━━━━━━━━━━━━━━┳━━━━━━━━━━━━━━┳━━━━━━━━━━━━━━━━━━━━━━━━━┳━━━━━━━━━━━━┳━━━━━━━━━━━┳━━━━━━━━━━━━━━━━━━━━━━━━┓\n",
                            "┃\u001b[1m \u001b[0m\u001b[1mprftctr_pr\u001b[0m\u001b[1m \u001b[0m┃\u001b[1m \u001b[0m\u001b[1mprftctr_cc\u001b[0m\u001b[1m \u001b[0m┃\u001b[1m \u001b[0m\u001b[1mvalue_category\u001b[0m\u001b[1m \u001b[0m┃\u001b[1m \u001b[0m\u001b[1mvalue_cat_description\u001b[0m\u001b[1m   \u001b[0m\u001b[1m \u001b[0m┃\u001b[1m \u001b[0m\u001b[1mcost_item\u001b[0m\u001b[1m \u001b[0m┃\u001b[1m \u001b[0m\u001b[1mcost_item_description\u001b[0m\u001b[1m                             \u001b[0m\u001b[1m \u001b[0m┃\u001b[1m \u001b[0m\u001b[1mcost\u001b[0m\u001b[1m    \u001b[0m\u001b[1m \u001b[0m┃\u001b[1m \u001b[0m\u001b[1msales\u001b[0m\u001b[1m \u001b[0m┃\u001b[1m \u001b[0m\u001b[1mlocation\u001b[0m\u001b[1m \u001b[0m┃\u001b[1m \u001b[0m\u001b[1moutlet\u001b[0m\u001b[1m \u001b[0m┃\u001b[1m \u001b[0m\u001b[1mprofit_center\u001b[0m\u001b[1m \u001b[0m┃\u001b[1m \u001b[0m\u001b[1mgl_cost_item\u001b[0m\u001b[1m \u001b[0m┃\u001b[1m \u001b[0m\u001b[1mgl_text_ci\u001b[0m\u001b[1m             \u001b[0m\u001b[1m \u001b[0m┃\u001b[1m \u001b[0m\u001b[1mps_data_ci\u001b[0m\u001b[1m \u001b[0m┃\u001b[1m \u001b[0m\u001b[1mfs_item\u001b[0m\u001b[1m  \u001b[0m\u001b[1m \u001b[0m┃\u001b[1m \u001b[0m\u001b[1mfs_item_text\u001b[0m\u001b[1m          \u001b[0m\u001b[1m \u001b[0m┃\n",
                            "┡━━━━━━━━━━━━╇━━━━━━━━━━━━╇━━━━━━━━━━━━━━━━╇━━━━━━━━━━━━━━━━━━━━━━━━━━╇━━━━━━━━━━━╇━━━━━━━━━━━━━━━━━━━━━━━━━━━━━━━━━━━━━━━━━━━━━━━━━━━━╇━━━━━━━━━━╇━━━━━━━╇━━━━━━━━━━╇━━━━━━━━╇━━━━━━━━━━━━━━━╇━━━━━━━━━━━━━━╇━━━━━━━━━━━━━━━━━━━━━━━━━╇━━━━━━━━━━━━╇━━━━━━━━━━━╇━━━━━━━━━━━━━━━━━━━━━━━━┩\n",
                            "│ \u001b[2mstring\u001b[0m     │ \u001b[2mstring\u001b[0m     │ \u001b[2mstring\u001b[0m         │ \u001b[2mstring\u001b[0m                   │ \u001b[2mstring\u001b[0m    │ \u001b[2mstring\u001b[0m                                             │ \u001b[2mint64\u001b[0m    │ \u001b[2mint64\u001b[0m │ \u001b[2mstring\u001b[0m   │ \u001b[2mstring\u001b[0m │ \u001b[2mstring\u001b[0m        │ \u001b[2mstring\u001b[0m       │ \u001b[2mstring\u001b[0m                  │ \u001b[2mstring\u001b[0m     │ \u001b[2mstring\u001b[0m    │ \u001b[2mstring\u001b[0m                 │\n",
                            "├────────────┼────────────┼────────────────┼──────────────────────────┼───────────┼────────────────────────────────────────────────────┼──────────┼───────┼──────────┼────────┼───────────────┼──────────────┼─────────────────────────┼────────────┼───────────┼────────────────────────┤\n",
                            "│ \u001b[32m50803-055 \u001b[0m │ \u001b[32m50803-049 \u001b[0m │ \u001b[32mRPS-104       \u001b[0m │ \u001b[32mPS: Int. Prototype Costs\u001b[0m │ \u001b[32m07       \u001b[0m │ \u001b[32mExt. Prototype/Tooling/Sample Costs (R&D Projects)\u001b[0m │        \u001b[1;36m0\u001b[0m │     \u001b[1;36m0\u001b[0m │ \u001b[32mICN     \u001b[0m │ \u001b[32m7811  \u001b[0m │ \u001b[32m50803-055    \u001b[0m │ \u001b[32m105         \u001b[0m │ \u001b[32mExternal Prototype Cost\u001b[0m │ \u001b[32m07        \u001b[0m │ \u001b[32m311500600\u001b[0m │ \u001b[32mPrimary R, D & E costs\u001b[0m │\n",
                            "│ \u001b[32m50803-055 \u001b[0m │ \u001b[32m50803-042 \u001b[0m │ \u001b[32mRPS-101       \u001b[0m │ \u001b[32mPS: Labour Costs        \u001b[0m │ \u001b[32m07       \u001b[0m │ \u001b[32mExt. Prototype/Tooling/Sample Costs (R&D Projects)\u001b[0m │        \u001b[1;36m0\u001b[0m │     \u001b[1;36m0\u001b[0m │ \u001b[32mICN     \u001b[0m │ \u001b[32m7811  \u001b[0m │ \u001b[32m50803-055    \u001b[0m │ \u001b[32m105         \u001b[0m │ \u001b[32mExternal Prototype Cost\u001b[0m │ \u001b[32m07        \u001b[0m │ \u001b[32m311500600\u001b[0m │ \u001b[32mPrimary R, D & E costs\u001b[0m │\n",
                            "│ \u001b[32m50803-058 \u001b[0m │ \u001b[32m50803-042 \u001b[0m │ \u001b[32mRPS-101       \u001b[0m │ \u001b[32mPS: Labour Costs        \u001b[0m │ \u001b[32m07       \u001b[0m │ \u001b[32mExt. Prototype/Tooling/Sample Costs (R&D Projects)\u001b[0m │ \u001b[1;36m15906867\u001b[0m │     \u001b[1;36m0\u001b[0m │ \u001b[32mICN     \u001b[0m │ \u001b[32m7821  \u001b[0m │ \u001b[32m50803-058    \u001b[0m │ \u001b[32m105         \u001b[0m │ \u001b[32mExternal Prototype Cost\u001b[0m │ \u001b[32m07        \u001b[0m │ \u001b[32m311500600\u001b[0m │ \u001b[32mPrimary R, D & E costs\u001b[0m │\n",
                            "└────────────┴────────────┴────────────────┴──────────────────────────┴───────────┴────────────────────────────────────────────────────┴──────────┴───────┴──────────┴────────┴───────────────┴──────────────┴─────────────────────────┴────────────┴───────────┴────────────────────────┘"
                        ]
                    },
                    "execution_count": 88,
                    "metadata": {},
                    "output_type": "execute_result"
                }
            ],
            "source": [
                "joined = ps_db_config.join(race_gloria, ps_db_config.cost_item == race_gloria.ps_data_ci, how=\"left\")\n",
                "joined = joined.filter(_.cost_item == \"07\")\n",
                "joined = joined.filter(_.prftctr_pr != _.prftctr_cc)\n",
                "joined.head(3)"
            ]
        },
        {
            "cell_type": "code",
            "execution_count": null,
            "metadata": {},
            "outputs": [
                {
                    "data": {
                        "text/html": [
                            "<pre style=\"white-space:pre;overflow-x:auto;line-height:normal;font-family:Menlo,'DejaVu Sans Mono',consolas,'Courier New',monospace\">┏━━━━━━━━━━━━┳━━━━━━━━━━━━┳━━━━━━━━━━━━━━━━┳━━━━━━━━━━━━━━━━━━━━━━━┳━━━━━━━━━━━┳━━━━━━━━━━━━━━━━━━━━━━━━━━━━━━━━━━┳━━━━━━━┳━━━━━━━┳━━━━━━━━━━┳━━━━━━━━┳━━━━━━━━━━━━━━━┓\n",
                            "┃<span style=\"font-weight: bold\"> prftctr_pr </span>┃<span style=\"font-weight: bold\"> prftctr_cc </span>┃<span style=\"font-weight: bold\"> value_category </span>┃<span style=\"font-weight: bold\"> value_cat_description </span>┃<span style=\"font-weight: bold\"> cost_item </span>┃<span style=\"font-weight: bold\"> cost_item_description            </span>┃<span style=\"font-weight: bold\"> cost  </span>┃<span style=\"font-weight: bold\"> sales </span>┃<span style=\"font-weight: bold\"> location </span>┃<span style=\"font-weight: bold\"> outlet </span>┃<span style=\"font-weight: bold\"> profit_center </span>┃\n",
                            "┡━━━━━━━━━━━━╇━━━━━━━━━━━━╇━━━━━━━━━━━━━━━━╇━━━━━━━━━━━━━━━━━━━━━━━╇━━━━━━━━━━━╇━━━━━━━━━━━━━━━━━━━━━━━━━━━━━━━━━━╇━━━━━━━╇━━━━━━━╇━━━━━━━━━━╇━━━━━━━━╇━━━━━━━━━━━━━━━┩\n",
                            "│ <span style=\"color: #7f7f7f; text-decoration-color: #7f7f7f\">string</span>     │ <span style=\"color: #7f7f7f; text-decoration-color: #7f7f7f\">string</span>     │ <span style=\"color: #7f7f7f; text-decoration-color: #7f7f7f\">string</span>         │ <span style=\"color: #7f7f7f; text-decoration-color: #7f7f7f\">string</span>                │ <span style=\"color: #7f7f7f; text-decoration-color: #7f7f7f\">string</span>    │ <span style=\"color: #7f7f7f; text-decoration-color: #7f7f7f\">string</span>                           │ <span style=\"color: #7f7f7f; text-decoration-color: #7f7f7f\">int64</span> │ <span style=\"color: #7f7f7f; text-decoration-color: #7f7f7f\">int64</span> │ <span style=\"color: #7f7f7f; text-decoration-color: #7f7f7f\">string</span>   │ <span style=\"color: #7f7f7f; text-decoration-color: #7f7f7f\">string</span> │ <span style=\"color: #7f7f7f; text-decoration-color: #7f7f7f\">string</span>        │\n",
                            "├────────────┼────────────┼────────────────┼───────────────────────┼───────────┼──────────────────────────────────┼───────┼───────┼──────────┼────────┼───────────────┤\n",
                            "│ <span style=\"color: #008000; text-decoration-color: #008000\">50803-004 </span> │ <span style=\"color: #7f7f7f; text-decoration-color: #7f7f7f\">NULL</span>       │ <span style=\"color: #7f7f7f; text-decoration-color: #7f7f7f\">NULL</span>           │ <span style=\"color: #7f7f7f; text-decoration-color: #7f7f7f\">NULL</span>                  │ <span style=\"color: #008000; text-decoration-color: #008000\">00       </span> │ <span style=\"color: #7f7f7f; text-decoration-color: #7f7f7f\">NULL</span>                             │     <span style=\"color: #008080; text-decoration-color: #008080; font-weight: bold\">0</span> │     <span style=\"color: #008080; text-decoration-color: #008080; font-weight: bold\">0</span> │ <span style=\"color: #008000; text-decoration-color: #008000\">ICN     </span> │ <span style=\"color: #008000; text-decoration-color: #008000\">7220  </span> │ <span style=\"color: #008000; text-decoration-color: #008000\">50803-004    </span> │\n",
                            "│ <span style=\"color: #008000; text-decoration-color: #008000\">50803-055 </span> │ <span style=\"color: #7f7f7f; text-decoration-color: #7f7f7f\">NULL</span>       │ <span style=\"color: #7f7f7f; text-decoration-color: #7f7f7f\">NULL</span>           │ <span style=\"color: #7f7f7f; text-decoration-color: #7f7f7f\">NULL</span>                  │ <span style=\"color: #008000; text-decoration-color: #008000\">00       </span> │ <span style=\"color: #7f7f7f; text-decoration-color: #7f7f7f\">NULL</span>                             │     <span style=\"color: #008080; text-decoration-color: #008080; font-weight: bold\">0</span> │     <span style=\"color: #008080; text-decoration-color: #008080; font-weight: bold\">0</span> │ <span style=\"color: #008000; text-decoration-color: #008000\">ICN     </span> │ <span style=\"color: #008000; text-decoration-color: #008000\">7811  </span> │ <span style=\"color: #008000; text-decoration-color: #008000\">50803-055    </span> │\n",
                            "│ <span style=\"color: #008000; text-decoration-color: #008000\">50803-055 </span> │ <span style=\"color: #7f7f7f; text-decoration-color: #7f7f7f\">NULL</span>       │ <span style=\"color: #008000; text-decoration-color: #008000\">RPS-102       </span> │ <span style=\"color: #008000; text-decoration-color: #008000\">PS: Ext.Services     </span> │ <span style=\"color: #008000; text-decoration-color: #008000\">02       </span> │ <span style=\"color: #008000; text-decoration-color: #008000\">External Services (R&amp;D Projects)</span> │     <span style=\"color: #008080; text-decoration-color: #008080; font-weight: bold\">0</span> │     <span style=\"color: #008080; text-decoration-color: #008080; font-weight: bold\">0</span> │ <span style=\"color: #008000; text-decoration-color: #008000\">ICN     </span> │ <span style=\"color: #008000; text-decoration-color: #008000\">7811  </span> │ <span style=\"color: #008000; text-decoration-color: #008000\">50803-055    </span> │\n",
                            "└────────────┴────────────┴────────────────┴───────────────────────┴───────────┴──────────────────────────────────┴───────┴───────┴──────────┴────────┴───────────────┘\n",
                            "</pre>\n"
                        ],
                        "text/plain": [
                            "┏━━━━━━━━━━━━┳━━━━━━━━━━━━┳━━━━━━━━━━━━━━━━┳━━━━━━━━━━━━━━━━━━━━━━━┳━━━━━━━━━━━┳━━━━━━━━━━━━━━━━━━━━━━━━━━━━━━━━━━┳━━━━━━━┳━━━━━━━┳━━━━━━━━━━┳━━━━━━━━┳━━━━━━━━━━━━━━━┓\n",
                            "┃\u001b[1m \u001b[0m\u001b[1mprftctr_pr\u001b[0m\u001b[1m \u001b[0m┃\u001b[1m \u001b[0m\u001b[1mprftctr_cc\u001b[0m\u001b[1m \u001b[0m┃\u001b[1m \u001b[0m\u001b[1mvalue_category\u001b[0m\u001b[1m \u001b[0m┃\u001b[1m \u001b[0m\u001b[1mvalue_cat_description\u001b[0m\u001b[1m \u001b[0m┃\u001b[1m \u001b[0m\u001b[1mcost_item\u001b[0m\u001b[1m \u001b[0m┃\u001b[1m \u001b[0m\u001b[1mcost_item_description\u001b[0m\u001b[1m           \u001b[0m\u001b[1m \u001b[0m┃\u001b[1m \u001b[0m\u001b[1mcost\u001b[0m\u001b[1m \u001b[0m\u001b[1m \u001b[0m┃\u001b[1m \u001b[0m\u001b[1msales\u001b[0m\u001b[1m \u001b[0m┃\u001b[1m \u001b[0m\u001b[1mlocation\u001b[0m\u001b[1m \u001b[0m┃\u001b[1m \u001b[0m\u001b[1moutlet\u001b[0m\u001b[1m \u001b[0m┃\u001b[1m \u001b[0m\u001b[1mprofit_center\u001b[0m\u001b[1m \u001b[0m┃\n",
                            "┡━━━━━━━━━━━━╇━━━━━━━━━━━━╇━━━━━━━━━━━━━━━━╇━━━━━━━━━━━━━━━━━━━━━━━╇━━━━━━━━━━━╇━━━━━━━━━━━━━━━━━━━━━━━━━━━━━━━━━━╇━━━━━━━╇━━━━━━━╇━━━━━━━━━━╇━━━━━━━━╇━━━━━━━━━━━━━━━┩\n",
                            "│ \u001b[2mstring\u001b[0m     │ \u001b[2mstring\u001b[0m     │ \u001b[2mstring\u001b[0m         │ \u001b[2mstring\u001b[0m                │ \u001b[2mstring\u001b[0m    │ \u001b[2mstring\u001b[0m                           │ \u001b[2mint64\u001b[0m │ \u001b[2mint64\u001b[0m │ \u001b[2mstring\u001b[0m   │ \u001b[2mstring\u001b[0m │ \u001b[2mstring\u001b[0m        │\n",
                            "├────────────┼────────────┼────────────────┼───────────────────────┼───────────┼──────────────────────────────────┼───────┼───────┼──────────┼────────┼───────────────┤\n",
                            "│ \u001b[32m50803-004 \u001b[0m │ \u001b[2mNULL\u001b[0m       │ \u001b[2mNULL\u001b[0m           │ \u001b[2mNULL\u001b[0m                  │ \u001b[32m00       \u001b[0m │ \u001b[2mNULL\u001b[0m                             │     \u001b[1;36m0\u001b[0m │     \u001b[1;36m0\u001b[0m │ \u001b[32mICN     \u001b[0m │ \u001b[32m7220  \u001b[0m │ \u001b[32m50803-004    \u001b[0m │\n",
                            "│ \u001b[32m50803-055 \u001b[0m │ \u001b[2mNULL\u001b[0m       │ \u001b[2mNULL\u001b[0m           │ \u001b[2mNULL\u001b[0m                  │ \u001b[32m00       \u001b[0m │ \u001b[2mNULL\u001b[0m                             │     \u001b[1;36m0\u001b[0m │     \u001b[1;36m0\u001b[0m │ \u001b[32mICN     \u001b[0m │ \u001b[32m7811  \u001b[0m │ \u001b[32m50803-055    \u001b[0m │\n",
                            "│ \u001b[32m50803-055 \u001b[0m │ \u001b[2mNULL\u001b[0m       │ \u001b[32mRPS-102       \u001b[0m │ \u001b[32mPS: Ext.Services     \u001b[0m │ \u001b[32m02       \u001b[0m │ \u001b[32mExternal Services (R&D Projects)\u001b[0m │     \u001b[1;36m0\u001b[0m │     \u001b[1;36m0\u001b[0m │ \u001b[32mICN     \u001b[0m │ \u001b[32m7811  \u001b[0m │ \u001b[32m50803-055    \u001b[0m │\n",
                            "└────────────┴────────────┴────────────────┴───────────────────────┴───────────┴──────────────────────────────────┴───────┴───────┴──────────┴────────┴───────────────┘"
                        ]
                    },
                    "execution_count": 83,
                    "metadata": {},
                    "output_type": "execute_result"
                }
            ],
            "source": [
                "ps_db_config.head(3)"
            ]
        },
        {
            "cell_type": "code",
            "execution_count": null,
            "metadata": {},
            "outputs": [],
            "source": []
        }
    ],
    "metadata": {
        "kernelspec": {
            "display_name": "jupyter",
            "language": "python",
            "name": "python3"
        },
        "language_info": {
            "codemirror_mode": {
                "name": "ipython",
                "version": 3
            },
            "file_extension": ".py",
            "mimetype": "text/x-python",
            "name": "python",
            "nbconvert_exporter": "python",
            "pygments_lexer": "ipython3",
            "version": "3.9.18"
        },
        "orig_nbformat": 4
    },
    "nbformat": 4,
    "nbformat_minor": 2
}

{
 "cells": [
  {
   "cell_type": "code",
   "execution_count": 1,
   "id": "88fa31d7-d2bf-4f5e-b74a-412bd4802fef",
   "metadata": {
    "tags": []
   },
   "outputs": [],
   "source": [
    "import pandas as pd\n",
    "from pathlib import Path"
   ]
  },
  {
   "cell_type": "code",
   "execution_count": 2,
   "id": "4f04d879-c208-43fa-86b4-0e35880bae0b",
   "metadata": {},
   "outputs": [],
   "source": [
    "# Path\n",
    "path = Path(\"~/datasets/home-dataset/jupyterlab/ZX05\")\n",
    "db_path = path / \"db\""
   ]
  },
  {
   "cell_type": "code",
   "execution_count": 3,
   "id": "ab5b7da7-2cf1-4e78-be22-e8fdf4b34d2c",
   "metadata": {
    "tags": []
   },
   "outputs": [],
   "source": [
    "# DB files\n",
    "db_file_cf = db_path / \"CF_2023.csv\"\n",
    "db_file_pl = db_path / \"PL_2023.csv\""
   ]
  },
  {
   "cell_type": "code",
   "execution_count": 4,
   "id": "fab7b895",
   "metadata": {},
   "outputs": [],
   "source": [
    "def delete_last_month(path):\n",
    "    # Read a data file in CSV format\n",
    "    df = pd.read_csv(path, dtype={\"costctr\": str})\n",
    "\n",
    "    # last_month = df[\"Period\"].iloc[-1] # Find the last row\n",
    "    last_month = df[\"period\"].max()  # Find the biggest value\n",
    "\n",
    "    # Filter out last month\n",
    "    df = df[df[\"period\"] != last_month]\n",
    "\n",
    "    return df"
   ]
  },
  {
   "cell_type": "code",
   "execution_count": 5,
   "id": "e66a43e4-8f9c-4291-998c-d15152979045",
   "metadata": {},
   "outputs": [
    {
     "data": {
      "text/html": [
       "<div>\n",
       "<style scoped>\n",
       "    .dataframe tbody tr th:only-of-type {\n",
       "        vertical-align: middle;\n",
       "    }\n",
       "\n",
       "    .dataframe tbody tr th {\n",
       "        vertical-align: top;\n",
       "    }\n",
       "\n",
       "    .dataframe thead th {\n",
       "        text-align: right;\n",
       "    }\n",
       "</style>\n",
       "<table border=\"1\" class=\"dataframe\">\n",
       "  <thead>\n",
       "    <tr style=\"text-align: right;\">\n",
       "      <th></th>\n",
       "      <th>fy</th>\n",
       "      <th>period</th>\n",
       "      <th>costctr</th>\n",
       "      <th>gl_accounts</th>\n",
       "      <th>actual</th>\n",
       "      <th>plan</th>\n",
       "      <th>target</th>\n",
       "    </tr>\n",
       "  </thead>\n",
       "  <tbody>\n",
       "    <tr>\n",
       "      <th>11101</th>\n",
       "      <td>2023</td>\n",
       "      <td>10</td>\n",
       "      <td>2410</td>\n",
       "      <td>S95065</td>\n",
       "      <td>704576</td>\n",
       "      <td>738174</td>\n",
       "      <td>738174</td>\n",
       "    </tr>\n",
       "    <tr>\n",
       "      <th>11102</th>\n",
       "      <td>2023</td>\n",
       "      <td>10</td>\n",
       "      <td>2410</td>\n",
       "      <td>S95070</td>\n",
       "      <td>263566</td>\n",
       "      <td>295339</td>\n",
       "      <td>295339</td>\n",
       "    </tr>\n",
       "    <tr>\n",
       "      <th>11103</th>\n",
       "      <td>2023</td>\n",
       "      <td>10</td>\n",
       "      <td>2410</td>\n",
       "      <td>S95140</td>\n",
       "      <td>5331833</td>\n",
       "      <td>6095376</td>\n",
       "      <td>6095376</td>\n",
       "    </tr>\n",
       "  </tbody>\n",
       "</table>\n",
       "</div>"
      ],
      "text/plain": [
       "         fy  period costctr gl_accounts   actual     plan   target\n",
       "11101  2023      10    2410      S95065   704576   738174   738174\n",
       "11102  2023      10    2410      S95070   263566   295339   295339\n",
       "11103  2023      10    2410      S95140  5331833  6095376  6095376"
      ]
     },
     "execution_count": 5,
     "metadata": {},
     "output_type": "execute_result"
    }
   ],
   "source": [
    "df_cf = delete_last_month(db_file_cf)\n",
    "df_cf.tail(3)"
   ]
  },
  {
   "cell_type": "code",
   "execution_count": 6,
   "id": "a9d6c5f7",
   "metadata": {},
   "outputs": [
    {
     "data": {
      "text/html": [
       "<div>\n",
       "<style scoped>\n",
       "    .dataframe tbody tr th:only-of-type {\n",
       "        vertical-align: middle;\n",
       "    }\n",
       "\n",
       "    .dataframe tbody tr th {\n",
       "        vertical-align: top;\n",
       "    }\n",
       "\n",
       "    .dataframe thead th {\n",
       "        text-align: right;\n",
       "    }\n",
       "</style>\n",
       "<table border=\"1\" class=\"dataframe\">\n",
       "  <thead>\n",
       "    <tr style=\"text-align: right;\">\n",
       "      <th></th>\n",
       "      <th>fy</th>\n",
       "      <th>period</th>\n",
       "      <th>costctr</th>\n",
       "      <th>gl_accounts</th>\n",
       "      <th>actual</th>\n",
       "      <th>plan</th>\n",
       "      <th>target</th>\n",
       "    </tr>\n",
       "  </thead>\n",
       "  <tbody>\n",
       "    <tr>\n",
       "      <th>58558</th>\n",
       "      <td>2023</td>\n",
       "      <td>10</td>\n",
       "      <td>CY-999MK</td>\n",
       "      <td>S90808</td>\n",
       "      <td>-2161172</td>\n",
       "      <td>0</td>\n",
       "      <td>0</td>\n",
       "    </tr>\n",
       "    <tr>\n",
       "      <th>58559</th>\n",
       "      <td>2023</td>\n",
       "      <td>10</td>\n",
       "      <td>CY-599MK</td>\n",
       "      <td>S87561</td>\n",
       "      <td>8029640</td>\n",
       "      <td>9481530</td>\n",
       "      <td>9481530</td>\n",
       "    </tr>\n",
       "    <tr>\n",
       "      <th>58560</th>\n",
       "      <td>2023</td>\n",
       "      <td>10</td>\n",
       "      <td>CY-599MK</td>\n",
       "      <td>S90805</td>\n",
       "      <td>-8029640</td>\n",
       "      <td>0</td>\n",
       "      <td>0</td>\n",
       "    </tr>\n",
       "  </tbody>\n",
       "</table>\n",
       "</div>"
      ],
      "text/plain": [
       "         fy  period   costctr gl_accounts   actual     plan   target\n",
       "58558  2023      10  CY-999MK      S90808 -2161172        0        0\n",
       "58559  2023      10  CY-599MK      S87561  8029640  9481530  9481530\n",
       "58560  2023      10  CY-599MK      S90805 -8029640        0        0"
      ]
     },
     "execution_count": 6,
     "metadata": {},
     "output_type": "execute_result"
    }
   ],
   "source": [
    "df_pl = delete_last_month(db_file_pl)\n",
    "df_pl.tail(3)"
   ]
  },
  {
   "cell_type": "code",
   "execution_count": 7,
   "id": "73c271de-a192-4de4-a3bc-97b15124f309",
   "metadata": {},
   "outputs": [],
   "source": [
    "# Output data\n",
    "df_cf.to_csv(db_file_cf, index=False)\n",
    "df_pl.to_csv(db_file_pl, index=False)"
   ]
  },
  {
   "cell_type": "code",
   "execution_count": null,
   "id": "036df032",
   "metadata": {},
   "outputs": [],
   "source": []
  }
 ],
 "metadata": {
  "kernelspec": {
   "display_name": "Python 3 (ipykernel)",
   "language": "python",
   "name": "python3"
  },
  "language_info": {
   "codemirror_mode": {
    "name": "ipython",
    "version": 3
   },
   "file_extension": ".py",
   "mimetype": "text/x-python",
   "name": "python",
   "nbconvert_exporter": "python",
   "pygments_lexer": "ipython3",
   "version": "3.9.18"
  }
 },
 "nbformat": 4,
 "nbformat_minor": 5
}

{
 "cells": [
  {
   "cell_type": "code",
   "execution_count": 1,
   "id": "5ba413c7-4181-4ea1-8ebf-9775614aca90",
   "metadata": {
    "tags": []
   },
   "outputs": [],
   "source": [
    "# In Terminal, \"pip install ibis-framework[duckdb] pyjanitor\"\n",
    "import pandas as pd\n",
    "import ibis\n",
    "from ibis import selectors as s\n",
    "from ibis import _\n",
    "ibis.options.interactive = True"
   ]
  },
  {
   "cell_type": "code",
   "execution_count": 2,
   "id": "ca1156e0-ca08-409a-a71b-7a92016c4ed0",
   "metadata": {},
   "outputs": [],
   "source": [
    "# Path\n",
    "from pathlib import Path\n",
    "path = Path(\"~/datasets/home-dataset/jupyterlab/ZX05\")\n",
    "data_path = path / \"data\"\n",
    "db_path = path / \"db\""
   ]
  },
  {
   "cell_type": "code",
   "execution_count": 3,
   "id": "a98405d3-f4f0-451a-8545-3815675c4146",
   "metadata": {},
   "outputs": [],
   "source": [
    "# Year / Month\n",
    "year = \"2024\"\n",
    "month = \"02\"  # Monthly to be updated"
   ]
  },
  {
   "cell_type": "code",
   "execution_count": 4,
   "id": "3b6a43c7-79ca-4a97-ab3b-1f4d11f52d37",
   "metadata": {},
   "outputs": [],
   "source": [
    "# Input files\n",
    "input_file_cf = data_path / \"CF_2024_02.dat\"  # Monthly to be updated\n",
    "input_file_pl = data_path / \"PL_2024_02.dat\"  # Monthly to be updated"
   ]
  },
  {
   "cell_type": "code",
   "execution_count": 5,
   "id": "4c767030-2de6-454e-ab25-085bcbebca74",
   "metadata": {},
   "outputs": [],
   "source": [
    "# DB files\n",
    "db_file_cf = db_path / \"CF_2024.csv\"\n",
    "db_file_pl = db_path / \"PL_2024.csv\""
   ]
  },
  {
   "cell_type": "markdown",
   "id": "0b964a06-79e6-43de-80a7-a8e8ccc01c7d",
   "metadata": {},
   "source": [
    "## Add data to Database"
   ]
  },
  {
   "cell_type": "code",
   "execution_count": 6,
   "id": "cb5c1167-460d-411c-b544-74b9d250bd83",
   "metadata": {},
   "outputs": [],
   "source": [
    "def read_txt_file(path):\n",
    "    df = pd.read_csv(path, sep=\"\\t\", usecols=[0, 1, 2, 3])\n",
    "    # rename columns\n",
    "    df = df.rename(columns={\"Cost center\": \"text_col\",\n",
    "                            \"Act\": \"actual\",\n",
    "                            \"Plan\":\"plan\",\n",
    "                            \"Tgt\": \"target\"})\n",
    "    return df"
   ]
  },
  {
   "cell_type": "code",
   "execution_count": 7,
   "id": "0c93ab83",
   "metadata": {},
   "outputs": [],
   "source": [
    "# Extract Cost center and GL accounts using regex\n",
    "def extract_text(df):\n",
    "    df = df.assign(\n",
    "        costctr=df[\"text_col\"].str.extract(r\"(^[0-9]{4,5}|^IC-.{4,5}|^CY-.{4,5}|^DUMMY_.{3})\"),  # ICH-.{4,5}|\n",
    "        gl_accounts=df[\"text_col\"].str.extract(r\"(^K[0-9]+|^S[0-9]+)\"),\n",
    "    )\n",
    "    df[\"costctr\"] = df[\"costctr\"].str.strip()\n",
    "    # Fill in missing values for CostCtr\n",
    "    df[\"costctr\"] = df[\"costctr\"].bfill()  # .fillna(method=\"backfill\")\n",
    "    return df"
   ]
  },
  {
   "cell_type": "code",
   "execution_count": 8,
   "id": "f01fb0c5",
   "metadata": {},
   "outputs": [],
   "source": [
    "def ibis_wrangling(df):\n",
    "    df = (df\n",
    "        # add columns\n",
    "        .mutate(fy = year, period = month)\n",
    "        # change data type from string to integer\n",
    "        .mutate(fy = _.fy.cast(\"int\"), period = _.period.cast(\"int\"))\n",
    "        # reorder columns\n",
    "        .select(\"fy\", \"period\", \"costctr\", \"gl_accounts\", \"actual\", \"plan\", \"target\")\n",
    "        # filter out missing values\n",
    "        .filter(_.gl_accounts != ibis.NA)\n",
    "        # filter out rows with Actual, Plan and Target all equal to 0\n",
    "        .filter(~((_.actual == 0) & (_.plan == 0) & (_.target == 0)))\n",
    "    )\n",
    "    return df"
   ]
  },
  {
   "cell_type": "code",
   "execution_count": 9,
   "id": "6c116dbb",
   "metadata": {},
   "outputs": [
    {
     "data": {
      "text/html": [
       "<div>\n",
       "<style scoped>\n",
       "    .dataframe tbody tr th:only-of-type {\n",
       "        vertical-align: middle;\n",
       "    }\n",
       "\n",
       "    .dataframe tbody tr th {\n",
       "        vertical-align: top;\n",
       "    }\n",
       "\n",
       "    .dataframe thead th {\n",
       "        text-align: right;\n",
       "    }\n",
       "</style>\n",
       "<table border=\"1\" class=\"dataframe\">\n",
       "  <thead>\n",
       "    <tr style=\"text-align: right;\">\n",
       "      <th></th>\n",
       "      <th>text_col</th>\n",
       "      <th>actual</th>\n",
       "      <th>plan</th>\n",
       "      <th>target</th>\n",
       "    </tr>\n",
       "  </thead>\n",
       "  <tbody>\n",
       "    <tr>\n",
       "      <th>0</th>\n",
       "      <td>K082     Catering material</td>\n",
       "      <td>20060</td>\n",
       "      <td>0</td>\n",
       "      <td>0</td>\n",
       "    </tr>\n",
       "    <tr>\n",
       "      <th>1</th>\n",
       "      <td>K30001   Salary</td>\n",
       "      <td>22030000</td>\n",
       "      <td>21880000</td>\n",
       "      <td>21880000</td>\n",
       "    </tr>\n",
       "    <tr>\n",
       "      <th>2</th>\n",
       "      <td>K30002   Overtime salaries</td>\n",
       "      <td>238100</td>\n",
       "      <td>748516</td>\n",
       "      <td>748516</td>\n",
       "    </tr>\n",
       "  </tbody>\n",
       "</table>\n",
       "</div>"
      ],
      "text/plain": [
       "                     text_col    actual      plan    target\n",
       "0  K082     Catering material     20060         0         0\n",
       "1             K30001   Salary  22030000  21880000  21880000\n",
       "2  K30002   Overtime salaries    238100    748516    748516"
      ]
     },
     "execution_count": 9,
     "metadata": {},
     "output_type": "execute_result"
    }
   ],
   "source": [
    "# Central functions\n",
    "df = read_txt_file(input_file_cf)\n",
    "df.head(3)"
   ]
  },
  {
   "cell_type": "code",
   "execution_count": 10,
   "id": "c447b106",
   "metadata": {},
   "outputs": [
    {
     "data": {
      "text/html": [
       "<div>\n",
       "<style scoped>\n",
       "    .dataframe tbody tr th:only-of-type {\n",
       "        vertical-align: middle;\n",
       "    }\n",
       "\n",
       "    .dataframe tbody tr th {\n",
       "        vertical-align: top;\n",
       "    }\n",
       "\n",
       "    .dataframe thead th {\n",
       "        text-align: right;\n",
       "    }\n",
       "</style>\n",
       "<table border=\"1\" class=\"dataframe\">\n",
       "  <thead>\n",
       "    <tr style=\"text-align: right;\">\n",
       "      <th></th>\n",
       "      <th>text_col</th>\n",
       "      <th>actual</th>\n",
       "      <th>plan</th>\n",
       "      <th>target</th>\n",
       "      <th>costctr</th>\n",
       "      <th>gl_accounts</th>\n",
       "    </tr>\n",
       "  </thead>\n",
       "  <tbody>\n",
       "    <tr>\n",
       "      <th>0</th>\n",
       "      <td>K082     Catering material</td>\n",
       "      <td>20060</td>\n",
       "      <td>0</td>\n",
       "      <td>0</td>\n",
       "      <td>4110</td>\n",
       "      <td>K082</td>\n",
       "    </tr>\n",
       "    <tr>\n",
       "      <th>1</th>\n",
       "      <td>K30001   Salary</td>\n",
       "      <td>22030000</td>\n",
       "      <td>21880000</td>\n",
       "      <td>21880000</td>\n",
       "      <td>4110</td>\n",
       "      <td>K30001</td>\n",
       "    </tr>\n",
       "    <tr>\n",
       "      <th>2</th>\n",
       "      <td>K30002   Overtime salaries</td>\n",
       "      <td>238100</td>\n",
       "      <td>748516</td>\n",
       "      <td>748516</td>\n",
       "      <td>4110</td>\n",
       "      <td>K30002</td>\n",
       "    </tr>\n",
       "  </tbody>\n",
       "</table>\n",
       "</div>"
      ],
      "text/plain": [
       "                     text_col    actual      plan    target costctr  \\\n",
       "0  K082     Catering material     20060         0         0    4110   \n",
       "1             K30001   Salary  22030000  21880000  21880000    4110   \n",
       "2  K30002   Overtime salaries    238100    748516    748516    4110   \n",
       "\n",
       "  gl_accounts  \n",
       "0        K082  \n",
       "1      K30001  \n",
       "2      K30002  "
      ]
     },
     "execution_count": 10,
     "metadata": {},
     "output_type": "execute_result"
    }
   ],
   "source": [
    "df = extract_text(df)\n",
    "df.head(3)"
   ]
  },
  {
   "cell_type": "code",
   "execution_count": 11,
   "id": "a0a99dbc",
   "metadata": {},
   "outputs": [
    {
     "data": {
      "text/html": [
       "<pre style=\"white-space:pre;overflow-x:auto;line-height:normal;font-family:Menlo,'DejaVu Sans Mono',consolas,'Courier New',monospace\">┏━━━━━━━┳━━━━━━━━┳━━━━━━━━━┳━━━━━━━━━━━━━┳━━━━━━━━━━┳━━━━━━━━━━┳━━━━━━━━━━┓\n",
       "┃<span style=\"font-weight: bold\"> fy    </span>┃<span style=\"font-weight: bold\"> period </span>┃<span style=\"font-weight: bold\"> costctr </span>┃<span style=\"font-weight: bold\"> gl_accounts </span>┃<span style=\"font-weight: bold\"> actual   </span>┃<span style=\"font-weight: bold\"> plan     </span>┃<span style=\"font-weight: bold\"> target   </span>┃\n",
       "┡━━━━━━━╇━━━━━━━━╇━━━━━━━━━╇━━━━━━━━━━━━━╇━━━━━━━━━━╇━━━━━━━━━━╇━━━━━━━━━━┩\n",
       "│ <span style=\"color: #7f7f7f; text-decoration-color: #7f7f7f\">int64</span> │ <span style=\"color: #7f7f7f; text-decoration-color: #7f7f7f\">int64</span>  │ <span style=\"color: #7f7f7f; text-decoration-color: #7f7f7f\">string</span>  │ <span style=\"color: #7f7f7f; text-decoration-color: #7f7f7f\">string</span>      │ <span style=\"color: #7f7f7f; text-decoration-color: #7f7f7f\">int64</span>    │ <span style=\"color: #7f7f7f; text-decoration-color: #7f7f7f\">int64</span>    │ <span style=\"color: #7f7f7f; text-decoration-color: #7f7f7f\">int64</span>    │\n",
       "├───────┼────────┼─────────┼─────────────┼──────────┼──────────┼──────────┤\n",
       "│  <span style=\"color: #008080; text-decoration-color: #008080; font-weight: bold\">2024</span> │      <span style=\"color: #008080; text-decoration-color: #008080; font-weight: bold\">2</span> │ <span style=\"color: #008000; text-decoration-color: #008000\">4110   </span> │ <span style=\"color: #008000; text-decoration-color: #008000\">K082       </span> │    <span style=\"color: #008080; text-decoration-color: #008080; font-weight: bold\">20060</span> │        <span style=\"color: #008080; text-decoration-color: #008080; font-weight: bold\">0</span> │        <span style=\"color: #008080; text-decoration-color: #008080; font-weight: bold\">0</span> │\n",
       "│  <span style=\"color: #008080; text-decoration-color: #008080; font-weight: bold\">2024</span> │      <span style=\"color: #008080; text-decoration-color: #008080; font-weight: bold\">2</span> │ <span style=\"color: #008000; text-decoration-color: #008000\">4110   </span> │ <span style=\"color: #008000; text-decoration-color: #008000\">K30001     </span> │ <span style=\"color: #008080; text-decoration-color: #008080; font-weight: bold\">22030000</span> │ <span style=\"color: #008080; text-decoration-color: #008080; font-weight: bold\">21880000</span> │ <span style=\"color: #008080; text-decoration-color: #008080; font-weight: bold\">21880000</span> │\n",
       "│  <span style=\"color: #008080; text-decoration-color: #008080; font-weight: bold\">2024</span> │      <span style=\"color: #008080; text-decoration-color: #008080; font-weight: bold\">2</span> │ <span style=\"color: #008000; text-decoration-color: #008000\">4110   </span> │ <span style=\"color: #008000; text-decoration-color: #008000\">K30002     </span> │   <span style=\"color: #008080; text-decoration-color: #008080; font-weight: bold\">238100</span> │   <span style=\"color: #008080; text-decoration-color: #008080; font-weight: bold\">748516</span> │   <span style=\"color: #008080; text-decoration-color: #008080; font-weight: bold\">748516</span> │\n",
       "└───────┴────────┴─────────┴─────────────┴──────────┴──────────┴──────────┘\n",
       "</pre>\n"
      ],
      "text/plain": [
       "┏━━━━━━━┳━━━━━━━━┳━━━━━━━━━┳━━━━━━━━━━━━━┳━━━━━━━━━━┳━━━━━━━━━━┳━━━━━━━━━━┓\n",
       "┃\u001b[1m \u001b[0m\u001b[1mfy\u001b[0m\u001b[1m   \u001b[0m\u001b[1m \u001b[0m┃\u001b[1m \u001b[0m\u001b[1mperiod\u001b[0m\u001b[1m \u001b[0m┃\u001b[1m \u001b[0m\u001b[1mcostctr\u001b[0m\u001b[1m \u001b[0m┃\u001b[1m \u001b[0m\u001b[1mgl_accounts\u001b[0m\u001b[1m \u001b[0m┃\u001b[1m \u001b[0m\u001b[1mactual\u001b[0m\u001b[1m  \u001b[0m\u001b[1m \u001b[0m┃\u001b[1m \u001b[0m\u001b[1mplan\u001b[0m\u001b[1m    \u001b[0m\u001b[1m \u001b[0m┃\u001b[1m \u001b[0m\u001b[1mtarget\u001b[0m\u001b[1m  \u001b[0m\u001b[1m \u001b[0m┃\n",
       "┡━━━━━━━╇━━━━━━━━╇━━━━━━━━━╇━━━━━━━━━━━━━╇━━━━━━━━━━╇━━━━━━━━━━╇━━━━━━━━━━┩\n",
       "│ \u001b[2mint64\u001b[0m │ \u001b[2mint64\u001b[0m  │ \u001b[2mstring\u001b[0m  │ \u001b[2mstring\u001b[0m      │ \u001b[2mint64\u001b[0m    │ \u001b[2mint64\u001b[0m    │ \u001b[2mint64\u001b[0m    │\n",
       "├───────┼────────┼─────────┼─────────────┼──────────┼──────────┼──────────┤\n",
       "│  \u001b[1;36m2024\u001b[0m │      \u001b[1;36m2\u001b[0m │ \u001b[32m4110   \u001b[0m │ \u001b[32mK082       \u001b[0m │    \u001b[1;36m20060\u001b[0m │        \u001b[1;36m0\u001b[0m │        \u001b[1;36m0\u001b[0m │\n",
       "│  \u001b[1;36m2024\u001b[0m │      \u001b[1;36m2\u001b[0m │ \u001b[32m4110   \u001b[0m │ \u001b[32mK30001     \u001b[0m │ \u001b[1;36m22030000\u001b[0m │ \u001b[1;36m21880000\u001b[0m │ \u001b[1;36m21880000\u001b[0m │\n",
       "│  \u001b[1;36m2024\u001b[0m │      \u001b[1;36m2\u001b[0m │ \u001b[32m4110   \u001b[0m │ \u001b[32mK30002     \u001b[0m │   \u001b[1;36m238100\u001b[0m │   \u001b[1;36m748516\u001b[0m │   \u001b[1;36m748516\u001b[0m │\n",
       "└───────┴────────┴─────────┴─────────────┴──────────┴──────────┴──────────┘"
      ]
     },
     "execution_count": 11,
     "metadata": {},
     "output_type": "execute_result"
    }
   ],
   "source": [
    "cf = ibis.memtable(df)\n",
    "cf = ibis_wrangling(cf)\n",
    "cf.head(3)"
   ]
  },
  {
   "cell_type": "code",
   "execution_count": 12,
   "id": "b6df04e3",
   "metadata": {},
   "outputs": [
    {
     "data": {
      "text/html": [
       "<div>\n",
       "<style scoped>\n",
       "    .dataframe tbody tr th:only-of-type {\n",
       "        vertical-align: middle;\n",
       "    }\n",
       "\n",
       "    .dataframe tbody tr th {\n",
       "        vertical-align: top;\n",
       "    }\n",
       "\n",
       "    .dataframe thead th {\n",
       "        text-align: right;\n",
       "    }\n",
       "</style>\n",
       "<table border=\"1\" class=\"dataframe\">\n",
       "  <thead>\n",
       "    <tr style=\"text-align: right;\">\n",
       "      <th></th>\n",
       "      <th>text_col</th>\n",
       "      <th>actual</th>\n",
       "      <th>plan</th>\n",
       "      <th>target</th>\n",
       "    </tr>\n",
       "  </thead>\n",
       "  <tbody>\n",
       "    <tr>\n",
       "      <th>0</th>\n",
       "      <td>K66270   Allocation Material Management</td>\n",
       "      <td>27915074</td>\n",
       "      <td>27584485</td>\n",
       "      <td>27584485</td>\n",
       "    </tr>\n",
       "    <tr>\n",
       "      <th>1</th>\n",
       "      <td>K66271   Allocation Production</td>\n",
       "      <td>190384362</td>\n",
       "      <td>188129602</td>\n",
       "      <td>188129602</td>\n",
       "    </tr>\n",
       "    <tr>\n",
       "      <th>2</th>\n",
       "      <td>K66273   Allocation S&amp;D: Selling</td>\n",
       "      <td>117722855</td>\n",
       "      <td>116328686</td>\n",
       "      <td>116328686</td>\n",
       "    </tr>\n",
       "  </tbody>\n",
       "</table>\n",
       "</div>"
      ],
      "text/plain": [
       "                                  text_col     actual       plan     target\n",
       "0  K66270   Allocation Material Management   27915074   27584485   27584485\n",
       "1           K66271   Allocation Production  190384362  188129602  188129602\n",
       "2         K66273   Allocation S&D: Selling  117722855  116328686  116328686"
      ]
     },
     "execution_count": 12,
     "metadata": {},
     "output_type": "execute_result"
    }
   ],
   "source": [
    "# Productlines\n",
    "df = read_txt_file(input_file_pl)\n",
    "df.head(3)"
   ]
  },
  {
   "cell_type": "code",
   "execution_count": 13,
   "id": "18971293",
   "metadata": {},
   "outputs": [
    {
     "data": {
      "text/html": [
       "<div>\n",
       "<style scoped>\n",
       "    .dataframe tbody tr th:only-of-type {\n",
       "        vertical-align: middle;\n",
       "    }\n",
       "\n",
       "    .dataframe tbody tr th {\n",
       "        vertical-align: top;\n",
       "    }\n",
       "\n",
       "    .dataframe thead th {\n",
       "        text-align: right;\n",
       "    }\n",
       "</style>\n",
       "<table border=\"1\" class=\"dataframe\">\n",
       "  <thead>\n",
       "    <tr style=\"text-align: right;\">\n",
       "      <th></th>\n",
       "      <th>text_col</th>\n",
       "      <th>actual</th>\n",
       "      <th>plan</th>\n",
       "      <th>target</th>\n",
       "      <th>costctr</th>\n",
       "      <th>gl_accounts</th>\n",
       "    </tr>\n",
       "  </thead>\n",
       "  <tbody>\n",
       "    <tr>\n",
       "      <th>0</th>\n",
       "      <td>K66270   Allocation Material Management</td>\n",
       "      <td>27915074</td>\n",
       "      <td>27584485</td>\n",
       "      <td>27584485</td>\n",
       "      <td>IC-99LD</td>\n",
       "      <td>K66270</td>\n",
       "    </tr>\n",
       "    <tr>\n",
       "      <th>1</th>\n",
       "      <td>K66271   Allocation Production</td>\n",
       "      <td>190384362</td>\n",
       "      <td>188129602</td>\n",
       "      <td>188129602</td>\n",
       "      <td>IC-99LD</td>\n",
       "      <td>K66271</td>\n",
       "    </tr>\n",
       "    <tr>\n",
       "      <th>2</th>\n",
       "      <td>K66273   Allocation S&amp;D: Selling</td>\n",
       "      <td>117722855</td>\n",
       "      <td>116328686</td>\n",
       "      <td>116328686</td>\n",
       "      <td>IC-99LD</td>\n",
       "      <td>K66273</td>\n",
       "    </tr>\n",
       "  </tbody>\n",
       "</table>\n",
       "</div>"
      ],
      "text/plain": [
       "                                  text_col     actual       plan     target  \\\n",
       "0  K66270   Allocation Material Management   27915074   27584485   27584485   \n",
       "1           K66271   Allocation Production  190384362  188129602  188129602   \n",
       "2         K66273   Allocation S&D: Selling  117722855  116328686  116328686   \n",
       "\n",
       "   costctr gl_accounts  \n",
       "0  IC-99LD      K66270  \n",
       "1  IC-99LD      K66271  \n",
       "2  IC-99LD      K66273  "
      ]
     },
     "execution_count": 13,
     "metadata": {},
     "output_type": "execute_result"
    }
   ],
   "source": [
    "df = extract_text(df)\n",
    "df.head(3)"
   ]
  },
  {
   "cell_type": "code",
   "execution_count": 14,
   "id": "ffe66e4c",
   "metadata": {},
   "outputs": [
    {
     "data": {
      "text/html": [
       "<pre style=\"white-space:pre;overflow-x:auto;line-height:normal;font-family:Menlo,'DejaVu Sans Mono',consolas,'Courier New',monospace\">┏━━━━━━━┳━━━━━━━━┳━━━━━━━━━┳━━━━━━━━━━━━━┳━━━━━━━━━━━┳━━━━━━━━━━━┳━━━━━━━━━━━┓\n",
       "┃<span style=\"font-weight: bold\"> fy    </span>┃<span style=\"font-weight: bold\"> period </span>┃<span style=\"font-weight: bold\"> costctr </span>┃<span style=\"font-weight: bold\"> gl_accounts </span>┃<span style=\"font-weight: bold\"> actual    </span>┃<span style=\"font-weight: bold\"> plan      </span>┃<span style=\"font-weight: bold\"> target    </span>┃\n",
       "┡━━━━━━━╇━━━━━━━━╇━━━━━━━━━╇━━━━━━━━━━━━━╇━━━━━━━━━━━╇━━━━━━━━━━━╇━━━━━━━━━━━┩\n",
       "│ <span style=\"color: #7f7f7f; text-decoration-color: #7f7f7f\">int64</span> │ <span style=\"color: #7f7f7f; text-decoration-color: #7f7f7f\">int64</span>  │ <span style=\"color: #7f7f7f; text-decoration-color: #7f7f7f\">string</span>  │ <span style=\"color: #7f7f7f; text-decoration-color: #7f7f7f\">string</span>      │ <span style=\"color: #7f7f7f; text-decoration-color: #7f7f7f\">int64</span>     │ <span style=\"color: #7f7f7f; text-decoration-color: #7f7f7f\">int64</span>     │ <span style=\"color: #7f7f7f; text-decoration-color: #7f7f7f\">int64</span>     │\n",
       "├───────┼────────┼─────────┼─────────────┼───────────┼───────────┼───────────┤\n",
       "│  <span style=\"color: #008080; text-decoration-color: #008080; font-weight: bold\">2024</span> │      <span style=\"color: #008080; text-decoration-color: #008080; font-weight: bold\">2</span> │ <span style=\"color: #008000; text-decoration-color: #008000\">IC-99LD</span> │ <span style=\"color: #008000; text-decoration-color: #008000\">K66270     </span> │  <span style=\"color: #008080; text-decoration-color: #008080; font-weight: bold\">27915074</span> │  <span style=\"color: #008080; text-decoration-color: #008080; font-weight: bold\">27584485</span> │  <span style=\"color: #008080; text-decoration-color: #008080; font-weight: bold\">27584485</span> │\n",
       "│  <span style=\"color: #008080; text-decoration-color: #008080; font-weight: bold\">2024</span> │      <span style=\"color: #008080; text-decoration-color: #008080; font-weight: bold\">2</span> │ <span style=\"color: #008000; text-decoration-color: #008000\">IC-99LD</span> │ <span style=\"color: #008000; text-decoration-color: #008000\">K66271     </span> │ <span style=\"color: #008080; text-decoration-color: #008080; font-weight: bold\">190384362</span> │ <span style=\"color: #008080; text-decoration-color: #008080; font-weight: bold\">188129602</span> │ <span style=\"color: #008080; text-decoration-color: #008080; font-weight: bold\">188129602</span> │\n",
       "│  <span style=\"color: #008080; text-decoration-color: #008080; font-weight: bold\">2024</span> │      <span style=\"color: #008080; text-decoration-color: #008080; font-weight: bold\">2</span> │ <span style=\"color: #008000; text-decoration-color: #008000\">IC-99LD</span> │ <span style=\"color: #008000; text-decoration-color: #008000\">K66273     </span> │ <span style=\"color: #008080; text-decoration-color: #008080; font-weight: bold\">117722855</span> │ <span style=\"color: #008080; text-decoration-color: #008080; font-weight: bold\">116328686</span> │ <span style=\"color: #008080; text-decoration-color: #008080; font-weight: bold\">116328686</span> │\n",
       "└───────┴────────┴─────────┴─────────────┴───────────┴───────────┴───────────┘\n",
       "</pre>\n"
      ],
      "text/plain": [
       "┏━━━━━━━┳━━━━━━━━┳━━━━━━━━━┳━━━━━━━━━━━━━┳━━━━━━━━━━━┳━━━━━━━━━━━┳━━━━━━━━━━━┓\n",
       "┃\u001b[1m \u001b[0m\u001b[1mfy\u001b[0m\u001b[1m   \u001b[0m\u001b[1m \u001b[0m┃\u001b[1m \u001b[0m\u001b[1mperiod\u001b[0m\u001b[1m \u001b[0m┃\u001b[1m \u001b[0m\u001b[1mcostctr\u001b[0m\u001b[1m \u001b[0m┃\u001b[1m \u001b[0m\u001b[1mgl_accounts\u001b[0m\u001b[1m \u001b[0m┃\u001b[1m \u001b[0m\u001b[1mactual\u001b[0m\u001b[1m   \u001b[0m\u001b[1m \u001b[0m┃\u001b[1m \u001b[0m\u001b[1mplan\u001b[0m\u001b[1m     \u001b[0m\u001b[1m \u001b[0m┃\u001b[1m \u001b[0m\u001b[1mtarget\u001b[0m\u001b[1m   \u001b[0m\u001b[1m \u001b[0m┃\n",
       "┡━━━━━━━╇━━━━━━━━╇━━━━━━━━━╇━━━━━━━━━━━━━╇━━━━━━━━━━━╇━━━━━━━━━━━╇━━━━━━━━━━━┩\n",
       "│ \u001b[2mint64\u001b[0m │ \u001b[2mint64\u001b[0m  │ \u001b[2mstring\u001b[0m  │ \u001b[2mstring\u001b[0m      │ \u001b[2mint64\u001b[0m     │ \u001b[2mint64\u001b[0m     │ \u001b[2mint64\u001b[0m     │\n",
       "├───────┼────────┼─────────┼─────────────┼───────────┼───────────┼───────────┤\n",
       "│  \u001b[1;36m2024\u001b[0m │      \u001b[1;36m2\u001b[0m │ \u001b[32mIC-99LD\u001b[0m │ \u001b[32mK66270     \u001b[0m │  \u001b[1;36m27915074\u001b[0m │  \u001b[1;36m27584485\u001b[0m │  \u001b[1;36m27584485\u001b[0m │\n",
       "│  \u001b[1;36m2024\u001b[0m │      \u001b[1;36m2\u001b[0m │ \u001b[32mIC-99LD\u001b[0m │ \u001b[32mK66271     \u001b[0m │ \u001b[1;36m190384362\u001b[0m │ \u001b[1;36m188129602\u001b[0m │ \u001b[1;36m188129602\u001b[0m │\n",
       "│  \u001b[1;36m2024\u001b[0m │      \u001b[1;36m2\u001b[0m │ \u001b[32mIC-99LD\u001b[0m │ \u001b[32mK66273     \u001b[0m │ \u001b[1;36m117722855\u001b[0m │ \u001b[1;36m116328686\u001b[0m │ \u001b[1;36m116328686\u001b[0m │\n",
       "└───────┴────────┴─────────┴─────────────┴───────────┴───────────┴───────────┘"
      ]
     },
     "execution_count": 14,
     "metadata": {},
     "output_type": "execute_result"
    }
   ],
   "source": [
    "pl = ibis.memtable(df)\n",
    "pl = ibis_wrangling(pl)\n",
    "pl.head(3)"
   ]
  },
  {
   "cell_type": "code",
   "execution_count": 15,
   "id": "f4203304",
   "metadata": {},
   "outputs": [],
   "source": [
    "# Output data\n",
    "cf.to_pandas().to_csv(db_file_cf, mode=\"a\", header=False, index=False)\n",
    "pl.to_pandas().to_csv(db_file_pl, mode=\"a\", header=False, index=False)"
   ]
  },
  {
   "cell_type": "code",
   "execution_count": null,
   "id": "d6700d8a",
   "metadata": {},
   "outputs": [],
   "source": []
  }
 ],
 "metadata": {
  "kernelspec": {
   "display_name": "Python 3 (ipykernel)",
   "language": "python",
   "name": "python3"
  },
  "language_info": {
   "codemirror_mode": {
    "name": "ipython",
    "version": 3
   },
   "file_extension": ".py",
   "mimetype": "text/x-python",
   "name": "python",
   "nbconvert_exporter": "python",
   "pygments_lexer": "ipython3",
   "version": "3.9.18"
  }
 },
 "nbformat": 4,
 "nbformat_minor": 5
}

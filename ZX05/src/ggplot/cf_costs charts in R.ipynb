{
    "cells": [
        {
            "cell_type": "code",
            "execution_count": 25,
            "metadata": {
                "vscode": {
                    "languageId": "r"
                }
            },
            "outputs": [],
            "source": [
                "library(dplyr)\n",
                "library(readr)\n",
                "library(tidyr)\n",
                "library(forcats)\n",
                "library(janitor)\n",
                "library(ggplot2)\n",
                "library(scales)"
            ]
        },
        {
            "cell_type": "code",
            "execution_count": 35,
            "metadata": {
                "vscode": {
                    "languageId": "r"
                }
            },
            "outputs": [
                {
                    "name": "stderr",
                    "output_type": "stream",
                    "text": [
                        "Warning message:\n",
                        "\"\u001b[1m\u001b[22mOne or more parsing issues, call `problems()` on your data frame for details,\n",
                        "e.g.:\n",
                        "  dat <- vroom(...)\n",
                        "  problems(dat)\"\n"
                    ]
                }
            ],
            "source": [
                "# Path\n",
                "path <- \"../\"\n",
                "\n",
                "# Read the data\n",
                "df <- read_csv(paste0(path, \"output/ZX05/CF costs.csv\"), show_col_types = FALSE) %>%\n",
                "  clean_names()\n",
                "\n",
                "\n",
                "# Change data type\n",
                "df <- df %>%\n",
                "  mutate(across(cost_ctr, as.character))"
            ]
        },
        {
            "cell_type": "code",
            "execution_count": 27,
            "metadata": {
                "vscode": {
                    "languageId": "r"
                }
            },
            "outputs": [],
            "source": [
                "# Filter primary costs\n",
                "df <- df %>%\n",
                "  filter(acc_lv2 %in% c(\n",
                "    \"299 Total Labor Costs\",\n",
                "    \"465 Cost of materials\",\n",
                "    \"535 Services In/Out\"\n",
                "  ))\n",
                "\n",
                "\n",
                "# Select columns\n",
                "id_cols <- c(\n",
                "  \"fy\",\n",
                "  \"period\",\n",
                "  \"cost_ctr\",\n",
                "  \"gl_accounts\",\n",
                "  \"profit_ctr\",\n",
                "  \"fix_var\",\n",
                "  \"department\",\n",
                "  \"acc_lv2\"\n",
                ")\n",
                "numeric_cols <- c(\n",
                "  \"plan\",\n",
                "  \"actual\",\n",
                "  # \"target\",\n",
                "  \"delta_to_plan\"\n",
                ")\n",
                "\n",
                "df <- df %>%\n",
                "  select(all_of(id_cols), all_of(numeric_cols))\n",
                "\n",
                "\n",
                "# Change sign logic from RACE to SAP & from k LC to LC\n",
                "df <- df %>%\n",
                "  mutate(\n",
                "    across(numeric_cols, ~ (.x * -1e+3)),\n",
                "    across(c(\"delta_to_plan\"), ~ (.x * -1))\n",
                "  )"
            ]
        },
        {
            "cell_type": "code",
            "execution_count": 28,
            "metadata": {
                "vscode": {
                    "languageId": "r"
                }
            },
            "outputs": [
                {
                    "data": {
                        "text/html": [
                            "<table class=\"dataframe\">\n",
                            "<caption>A tibble: 6 × 11</caption>\n",
                            "<thead>\n",
                            "\t<tr><th scope=col>fy</th><th scope=col>period</th><th scope=col>cost_ctr</th><th scope=col>gl_accounts</th><th scope=col>profit_ctr</th><th scope=col>fix_var</th><th scope=col>department</th><th scope=col>acc_lv2</th><th scope=col>plan</th><th scope=col>actual</th><th scope=col>delta_to_plan</th></tr>\n",
                            "\t<tr><th scope=col>&lt;dbl&gt;</th><th scope=col>&lt;dbl&gt;</th><th scope=col>&lt;chr&gt;</th><th scope=col>&lt;chr&gt;</th><th scope=col>&lt;chr&gt;</th><th scope=col>&lt;chr&gt;</th><th scope=col>&lt;chr&gt;</th><th scope=col>&lt;chr&gt;</th><th scope=col>&lt;dbl&gt;</th><th scope=col>&lt;dbl&gt;</th><th scope=col>&lt;dbl&gt;</th></tr>\n",
                            "</thead>\n",
                            "<tbody>\n",
                            "\t<tr><td>2023</td><td>1</td><td>4110</td><td>K30001</td><td>50899-999</td><td>Fix</td><td>Purchasing</td><td>299 Total Labor Costs</td><td>15870312</td><td>12296700</td><td>3573612</td></tr>\n",
                            "\t<tr><td>2023</td><td>1</td><td>4110</td><td>K301  </td><td>50899-999</td><td>Fix</td><td>Purchasing</td><td>299 Total Labor Costs</td><td>       0</td><td>  293800</td><td>-293800</td></tr>\n",
                            "\t<tr><td>2023</td><td>1</td><td>4110</td><td>K359  </td><td>50899-999</td><td>Fix</td><td>Purchasing</td><td>299 Total Labor Costs</td><td>  189573</td><td>  200000</td><td> -10427</td></tr>\n",
                            "\t<tr><td>2023</td><td>1</td><td>4110</td><td>K4431 </td><td>50899-999</td><td>Fix</td><td>Purchasing</td><td>465 Cost of materials</td><td>   95949</td><td>   11996</td><td>  83953</td></tr>\n",
                            "\t<tr><td>2023</td><td>1</td><td>4110</td><td>K4490 </td><td>50899-999</td><td>Fix</td><td>Purchasing</td><td>465 Cost of materials</td><td>   30150</td><td>   30150</td><td>      0</td></tr>\n",
                            "\t<tr><td>2023</td><td>1</td><td>4110</td><td>K4500 </td><td>50899-999</td><td>Fix</td><td>Purchasing</td><td>465 Cost of materials</td><td>   49843</td><td>    2783</td><td>  47060</td></tr>\n",
                            "</tbody>\n",
                            "</table>\n"
                        ],
                        "text/latex": [
                            "A tibble: 6 × 11\n",
                            "\\begin{tabular}{lllllllllll}\n",
                            " fy & period & cost\\_ctr & gl\\_accounts & profit\\_ctr & fix\\_var & department & acc\\_lv2 & plan & actual & delta\\_to\\_plan\\\\\n",
                            " <dbl> & <dbl> & <chr> & <chr> & <chr> & <chr> & <chr> & <chr> & <dbl> & <dbl> & <dbl>\\\\\n",
                            "\\hline\n",
                            "\t 2023 & 1 & 4110 & K30001 & 50899-999 & Fix & Purchasing & 299 Total Labor Costs & 15870312 & 12296700 & 3573612\\\\\n",
                            "\t 2023 & 1 & 4110 & K301   & 50899-999 & Fix & Purchasing & 299 Total Labor Costs &        0 &   293800 & -293800\\\\\n",
                            "\t 2023 & 1 & 4110 & K359   & 50899-999 & Fix & Purchasing & 299 Total Labor Costs &   189573 &   200000 &  -10427\\\\\n",
                            "\t 2023 & 1 & 4110 & K4431  & 50899-999 & Fix & Purchasing & 465 Cost of materials &    95949 &    11996 &   83953\\\\\n",
                            "\t 2023 & 1 & 4110 & K4490  & 50899-999 & Fix & Purchasing & 465 Cost of materials &    30150 &    30150 &       0\\\\\n",
                            "\t 2023 & 1 & 4110 & K4500  & 50899-999 & Fix & Purchasing & 465 Cost of materials &    49843 &     2783 &   47060\\\\\n",
                            "\\end{tabular}\n"
                        ],
                        "text/markdown": [
                            "\n",
                            "A tibble: 6 × 11\n",
                            "\n",
                            "| fy &lt;dbl&gt; | period &lt;dbl&gt; | cost_ctr &lt;chr&gt; | gl_accounts &lt;chr&gt; | profit_ctr &lt;chr&gt; | fix_var &lt;chr&gt; | department &lt;chr&gt; | acc_lv2 &lt;chr&gt; | plan &lt;dbl&gt; | actual &lt;dbl&gt; | delta_to_plan &lt;dbl&gt; |\n",
                            "|---|---|---|---|---|---|---|---|---|---|---|\n",
                            "| 2023 | 1 | 4110 | K30001 | 50899-999 | Fix | Purchasing | 299 Total Labor Costs | 15870312 | 12296700 | 3573612 |\n",
                            "| 2023 | 1 | 4110 | K301   | 50899-999 | Fix | Purchasing | 299 Total Labor Costs |        0 |   293800 | -293800 |\n",
                            "| 2023 | 1 | 4110 | K359   | 50899-999 | Fix | Purchasing | 299 Total Labor Costs |   189573 |   200000 |  -10427 |\n",
                            "| 2023 | 1 | 4110 | K4431  | 50899-999 | Fix | Purchasing | 465 Cost of materials |    95949 |    11996 |   83953 |\n",
                            "| 2023 | 1 | 4110 | K4490  | 50899-999 | Fix | Purchasing | 465 Cost of materials |    30150 |    30150 |       0 |\n",
                            "| 2023 | 1 | 4110 | K4500  | 50899-999 | Fix | Purchasing | 465 Cost of materials |    49843 |     2783 |   47060 |\n",
                            "\n"
                        ],
                        "text/plain": [
                            "  fy   period cost_ctr gl_accounts profit_ctr fix_var department\n",
                            "1 2023 1      4110     K30001      50899-999  Fix     Purchasing\n",
                            "2 2023 1      4110     K301        50899-999  Fix     Purchasing\n",
                            "3 2023 1      4110     K359        50899-999  Fix     Purchasing\n",
                            "4 2023 1      4110     K4431       50899-999  Fix     Purchasing\n",
                            "5 2023 1      4110     K4490       50899-999  Fix     Purchasing\n",
                            "6 2023 1      4110     K4500       50899-999  Fix     Purchasing\n",
                            "  acc_lv2               plan     actual   delta_to_plan\n",
                            "1 299 Total Labor Costs 15870312 12296700 3573612      \n",
                            "2 299 Total Labor Costs        0   293800 -293800      \n",
                            "3 299 Total Labor Costs   189573   200000  -10427      \n",
                            "4 465 Cost of materials    95949    11996   83953      \n",
                            "5 465 Cost of materials    30150    30150       0      \n",
                            "6 465 Cost of materials    49843     2783   47060      "
                        ]
                    },
                    "metadata": {},
                    "output_type": "display_data"
                }
            ],
            "source": [
                "head(df)"
            ]
        },
        {
            "cell_type": "markdown",
            "metadata": {},
            "source": [
                "## Delta charts"
            ]
        },
        {
            "cell_type": "code",
            "execution_count": 29,
            "metadata": {
                "vscode": {
                    "languageId": "r"
                }
            },
            "outputs": [
                {
                    "data": {
                        "image/png": "[encoded data removed]",
                        "text/plain": [
                            "plot without title"
                        ]
                    },
                    "metadata": {
                        "image/png": {
                            "height": 420,
                            "width": 420
                        }
                    },
                    "output_type": "display_data"
                }
            ],
            "source": [
                "ggplot(\n",
                "    df,\n",
                "    aes(\n",
                "        x = delta_to_plan,\n",
                "        y = department,  # fct_reorder(department, desc(delta_to_plan)),\n",
                "        fill = acc_lv2\n",
                "    )\n",
                ") + \n",
                "    geom_bar(stat = \"summary\", fun = \"sum\", position = \"stack\") +\n",
                "    scale_x_continuous(labels = label_number(scale = 1 / 1e+6)) +\n",
                "    scale_fill_manual(values = c(\"#F2E500\", \"#4A4944\", \"#D7004B\")) +\n",
                "    labs(x = \"Delta to Plan in M KRW\", y = \"Departments\") +\n",
                "    theme_minimal()"
            ]
        },
        {
            "cell_type": "code",
            "execution_count": 30,
            "metadata": {
                "vscode": {
                    "languageId": "r"
                }
            },
            "outputs": [
                {
                    "data": {
                        "image/png": "[encoded data removed]",
                        "text/plain": [
                            "plot without title"
                        ]
                    },
                    "metadata": {
                        "image/png": {
                            "height": 420,
                            "width": 420
                        }
                    },
                    "output_type": "display_data"
                }
            ],
            "source": [
                "ggplot(\n",
                "    df,\n",
                "    aes(\n",
                "        x = delta_to_plan,\n",
                "        y = cost_ctr,\n",
                "        fill = acc_lv2\n",
                "    )\n",
                ") + \n",
                "    geom_bar(stat = \"summary\", fun = \"sum\", position = \"stack\") +\n",
                "    scale_x_continuous(labels = label_number(scale = 1 / 1e+6)) +\n",
                "    scale_fill_manual(values = c(\"#F2E500\", \"#4A4944\", \"#D7004B\")) +\n",
                "    labs(x = \"Delta to Plan in M KRW\", y = \"Cost centers\") +\n",
                "    theme_classic()"
            ]
        },
        {
            "cell_type": "code",
            "execution_count": 31,
            "metadata": {
                "vscode": {
                    "languageId": "r"
                }
            },
            "outputs": [
                {
                    "name": "stderr",
                    "output_type": "stream",
                    "text": [
                        "Warning message:\n",
                        "\"\u001b[1m\u001b[22mThere was 1 warning in `group_by()`.\n",
                        "\u001b[1m\u001b[22m\u001b[36mℹ\u001b[39m In argument: `pick(id_cols)`.\n",
                        "Caused by warning:\n",
                        "\u001b[1m\u001b[22m\u001b[33m!\u001b[39m Using an external vector in selections was deprecated in tidyselect 1.1.0.\n",
                        "\u001b[36mℹ\u001b[39m Please use `all_of()` or `any_of()` instead.\n",
                        "  # Was:\n",
                        "  data %>% select(id_cols)\n",
                        "\n",
                        "  # Now:\n",
                        "  data %>% select(all_of(id_cols))\n",
                        "\n",
                        "See <https://tidyselect.r-lib.org/reference/faq-external-vector.html>.\"\n",
                        "\u001b[1m\u001b[22m`summarise()` has grouped output by 'fy', 'period', 'cost_ctr', 'gl_accounts',\n",
                        "'profit_ctr', 'fix_var', 'department'. You can override using the `.groups`\n",
                        "argument.\n"
                    ]
                }
            ],
            "source": [
                "# Summarize the data ----\n",
                "df <- df %>%\n",
                "  group_by(pick(id_cols)) %>%\n",
                "  summarise(across(numeric_cols, sum)) %>%\n",
                "  ungroup()\n",
                "\n",
                "top_10_negative <- df %>%\n",
                "  arrange(delta_to_plan) %>%\n",
                "  slice_head(n = 10)\n",
                "\n",
                "top_10_positive <- df %>%\n",
                "  arrange(delta_to_plan) %>%\n",
                "  slice_tail(n = 10)\n",
                "\n",
                "df_sum <- df %>%\n",
                "  group_by() %>%\n",
                "  summarise(across(numeric_cols, sum)) %>%\n",
                "  ungroup()"
            ]
        },
        {
            "cell_type": "markdown",
            "metadata": {},
            "source": [
                "## Data tables"
            ]
        },
        {
            "cell_type": "code",
            "execution_count": 32,
            "metadata": {
                "vscode": {
                    "languageId": "r"
                }
            },
            "outputs": [
                {
                    "data": {
                        "text/html": [
                            "<table class=\"dataframe\">\n",
                            "<caption>A tibble: 10 × 11</caption>\n",
                            "<thead>\n",
                            "\t<tr><th scope=col>fy</th><th scope=col>period</th><th scope=col>cost_ctr</th><th scope=col>gl_accounts</th><th scope=col>profit_ctr</th><th scope=col>fix_var</th><th scope=col>department</th><th scope=col>acc_lv2</th><th scope=col>plan</th><th scope=col>actual</th><th scope=col>delta_to_plan</th></tr>\n",
                            "\t<tr><th scope=col>&lt;dbl&gt;</th><th scope=col>&lt;dbl&gt;</th><th scope=col>&lt;chr&gt;</th><th scope=col>&lt;chr&gt;</th><th scope=col>&lt;chr&gt;</th><th scope=col>&lt;chr&gt;</th><th scope=col>&lt;chr&gt;</th><th scope=col>&lt;chr&gt;</th><th scope=col>&lt;dbl&gt;</th><th scope=col>&lt;dbl&gt;</th><th scope=col>&lt;dbl&gt;</th></tr>\n",
                            "</thead>\n",
                            "<tbody>\n",
                            "\t<tr><td>2023</td><td>3</td><td>9000 </td><td>K32101</td><td>50899-999</td><td>Fix</td><td>Others    </td><td>299 Total Labor Costs</td><td>        0</td><td>240989348</td><td>-240989348</td></tr>\n",
                            "\t<tr><td>2023</td><td>6</td><td>2310 </td><td>K491  </td><td>50899-999</td><td>Fix</td><td>FM        </td><td>465 Cost of materials</td><td> 76666667</td><td>223871174</td><td>-147204507</td></tr>\n",
                            "\t<tr><td>2023</td><td>3</td><td>2300 </td><td>K45001</td><td>50899-999</td><td>Fix</td><td>FM        </td><td>465 Cost of materials</td><td>        0</td><td>140500000</td><td>-140500000</td></tr>\n",
                            "\t<tr><td>2023</td><td>3</td><td>2310 </td><td>K491  </td><td>50899-999</td><td>Fix</td><td>FM        </td><td>465 Cost of materials</td><td> 76666667</td><td>205835800</td><td>-129169133</td></tr>\n",
                            "\t<tr><td>2023</td><td>6</td><td>30801</td><td>K30001</td><td>50899-999</td><td>Fix</td><td>Production</td><td>299 Total Labor Costs</td><td>126969837</td><td>248126600</td><td>-121156763</td></tr>\n",
                            "\t<tr><td>2023</td><td>3</td><td>2300 </td><td>K4653 </td><td>50899-999</td><td>Fix</td><td>FM        </td><td>465 Cost of materials</td><td>        0</td><td>113513280</td><td>-113513280</td></tr>\n",
                            "\t<tr><td>2023</td><td>6</td><td>2300 </td><td>K45001</td><td>50899-999</td><td>Fix</td><td>FM        </td><td>465 Cost of materials</td><td>        0</td><td>105560718</td><td>-105560718</td></tr>\n",
                            "\t<tr><td>2023</td><td>2</td><td>2300 </td><td>K45001</td><td>50899-999</td><td>Fix</td><td>FM        </td><td>465 Cost of materials</td><td>        0</td><td> 92800000</td><td> -92800000</td></tr>\n",
                            "\t<tr><td>2023</td><td>6</td><td>2300 </td><td>K491  </td><td>50899-999</td><td>Fix</td><td>FM        </td><td>465 Cost of materials</td><td>        0</td><td> 89700000</td><td> -89700000</td></tr>\n",
                            "\t<tr><td>2023</td><td>2</td><td>2310 </td><td>K491  </td><td>50899-999</td><td>Fix</td><td>FM        </td><td>465 Cost of materials</td><td> 76666667</td><td>163004400</td><td> -86337733</td></tr>\n",
                            "</tbody>\n",
                            "</table>\n"
                        ],
                        "text/latex": [
                            "A tibble: 10 × 11\n",
                            "\\begin{tabular}{lllllllllll}\n",
                            " fy & period & cost\\_ctr & gl\\_accounts & profit\\_ctr & fix\\_var & department & acc\\_lv2 & plan & actual & delta\\_to\\_plan\\\\\n",
                            " <dbl> & <dbl> & <chr> & <chr> & <chr> & <chr> & <chr> & <chr> & <dbl> & <dbl> & <dbl>\\\\\n",
                            "\\hline\n",
                            "\t 2023 & 3 & 9000  & K32101 & 50899-999 & Fix & Others     & 299 Total Labor Costs &         0 & 240989348 & -240989348\\\\\n",
                            "\t 2023 & 6 & 2310  & K491   & 50899-999 & Fix & FM         & 465 Cost of materials &  76666667 & 223871174 & -147204507\\\\\n",
                            "\t 2023 & 3 & 2300  & K45001 & 50899-999 & Fix & FM         & 465 Cost of materials &         0 & 140500000 & -140500000\\\\\n",
                            "\t 2023 & 3 & 2310  & K491   & 50899-999 & Fix & FM         & 465 Cost of materials &  76666667 & 205835800 & -129169133\\\\\n",
                            "\t 2023 & 6 & 30801 & K30001 & 50899-999 & Fix & Production & 299 Total Labor Costs & 126969837 & 248126600 & -121156763\\\\\n",
                            "\t 2023 & 3 & 2300  & K4653  & 50899-999 & Fix & FM         & 465 Cost of materials &         0 & 113513280 & -113513280\\\\\n",
                            "\t 2023 & 6 & 2300  & K45001 & 50899-999 & Fix & FM         & 465 Cost of materials &         0 & 105560718 & -105560718\\\\\n",
                            "\t 2023 & 2 & 2300  & K45001 & 50899-999 & Fix & FM         & 465 Cost of materials &         0 &  92800000 &  -92800000\\\\\n",
                            "\t 2023 & 6 & 2300  & K491   & 50899-999 & Fix & FM         & 465 Cost of materials &         0 &  89700000 &  -89700000\\\\\n",
                            "\t 2023 & 2 & 2310  & K491   & 50899-999 & Fix & FM         & 465 Cost of materials &  76666667 & 163004400 &  -86337733\\\\\n",
                            "\\end{tabular}\n"
                        ],
                        "text/markdown": [
                            "\n",
                            "A tibble: 10 × 11\n",
                            "\n",
                            "| fy &lt;dbl&gt; | period &lt;dbl&gt; | cost_ctr &lt;chr&gt; | gl_accounts &lt;chr&gt; | profit_ctr &lt;chr&gt; | fix_var &lt;chr&gt; | department &lt;chr&gt; | acc_lv2 &lt;chr&gt; | plan &lt;dbl&gt; | actual &lt;dbl&gt; | delta_to_plan &lt;dbl&gt; |\n",
                            "|---|---|---|---|---|---|---|---|---|---|---|\n",
                            "| 2023 | 3 | 9000  | K32101 | 50899-999 | Fix | Others     | 299 Total Labor Costs |         0 | 240989348 | -240989348 |\n",
                            "| 2023 | 6 | 2310  | K491   | 50899-999 | Fix | FM         | 465 Cost of materials |  76666667 | 223871174 | -147204507 |\n",
                            "| 2023 | 3 | 2300  | K45001 | 50899-999 | Fix | FM         | 465 Cost of materials |         0 | 140500000 | -140500000 |\n",
                            "| 2023 | 3 | 2310  | K491   | 50899-999 | Fix | FM         | 465 Cost of materials |  76666667 | 205835800 | -129169133 |\n",
                            "| 2023 | 6 | 30801 | K30001 | 50899-999 | Fix | Production | 299 Total Labor Costs | 126969837 | 248126600 | -121156763 |\n",
                            "| 2023 | 3 | 2300  | K4653  | 50899-999 | Fix | FM         | 465 Cost of materials |         0 | 113513280 | -113513280 |\n",
                            "| 2023 | 6 | 2300  | K45001 | 50899-999 | Fix | FM         | 465 Cost of materials |         0 | 105560718 | -105560718 |\n",
                            "| 2023 | 2 | 2300  | K45001 | 50899-999 | Fix | FM         | 465 Cost of materials |         0 |  92800000 |  -92800000 |\n",
                            "| 2023 | 6 | 2300  | K491   | 50899-999 | Fix | FM         | 465 Cost of materials |         0 |  89700000 |  -89700000 |\n",
                            "| 2023 | 2 | 2310  | K491   | 50899-999 | Fix | FM         | 465 Cost of materials |  76666667 | 163004400 |  -86337733 |\n",
                            "\n"
                        ],
                        "text/plain": [
                            "   fy   period cost_ctr gl_accounts profit_ctr fix_var department\n",
                            "1  2023 3      9000     K32101      50899-999  Fix     Others    \n",
                            "2  2023 6      2310     K491        50899-999  Fix     FM        \n",
                            "3  2023 3      2300     K45001      50899-999  Fix     FM        \n",
                            "4  2023 3      2310     K491        50899-999  Fix     FM        \n",
                            "5  2023 6      30801    K30001      50899-999  Fix     Production\n",
                            "6  2023 3      2300     K4653       50899-999  Fix     FM        \n",
                            "7  2023 6      2300     K45001      50899-999  Fix     FM        \n",
                            "8  2023 2      2300     K45001      50899-999  Fix     FM        \n",
                            "9  2023 6      2300     K491        50899-999  Fix     FM        \n",
                            "10 2023 2      2310     K491        50899-999  Fix     FM        \n",
                            "   acc_lv2               plan      actual    delta_to_plan\n",
                            "1  299 Total Labor Costs         0 240989348 -240989348   \n",
                            "2  465 Cost of materials  76666667 223871174 -147204507   \n",
                            "3  465 Cost of materials         0 140500000 -140500000   \n",
                            "4  465 Cost of materials  76666667 205835800 -129169133   \n",
                            "5  299 Total Labor Costs 126969837 248126600 -121156763   \n",
                            "6  465 Cost of materials         0 113513280 -113513280   \n",
                            "7  465 Cost of materials         0 105560718 -105560718   \n",
                            "8  465 Cost of materials         0  92800000  -92800000   \n",
                            "9  465 Cost of materials         0  89700000  -89700000   \n",
                            "10 465 Cost of materials  76666667 163004400  -86337733   "
                        ]
                    },
                    "metadata": {},
                    "output_type": "display_data"
                }
            ],
            "source": [
                "top_10_negative"
            ]
        },
        {
            "cell_type": "code",
            "execution_count": 33,
            "metadata": {
                "vscode": {
                    "languageId": "r"
                }
            },
            "outputs": [
                {
                    "data": {
                        "text/html": [
                            "<table class=\"dataframe\">\n",
                            "<caption>A tibble: 10 × 11</caption>\n",
                            "<thead>\n",
                            "\t<tr><th scope=col>fy</th><th scope=col>period</th><th scope=col>cost_ctr</th><th scope=col>gl_accounts</th><th scope=col>profit_ctr</th><th scope=col>fix_var</th><th scope=col>department</th><th scope=col>acc_lv2</th><th scope=col>plan</th><th scope=col>actual</th><th scope=col>delta_to_plan</th></tr>\n",
                            "\t<tr><th scope=col>&lt;dbl&gt;</th><th scope=col>&lt;dbl&gt;</th><th scope=col>&lt;chr&gt;</th><th scope=col>&lt;chr&gt;</th><th scope=col>&lt;chr&gt;</th><th scope=col>&lt;chr&gt;</th><th scope=col>&lt;chr&gt;</th><th scope=col>&lt;chr&gt;</th><th scope=col>&lt;dbl&gt;</th><th scope=col>&lt;dbl&gt;</th><th scope=col>&lt;dbl&gt;</th></tr>\n",
                            "</thead>\n",
                            "<tbody>\n",
                            "\t<tr><td>2023</td><td>6</td><td>3040 </td><td>K30001</td><td>50899-999</td><td>Fix</td><td>QM        </td><td>299 Total Labor Costs</td><td>49140766</td><td> -3893500</td><td>53034266</td></tr>\n",
                            "\t<tr><td>2023</td><td>4</td><td>3040 </td><td>K30001</td><td>50899-999</td><td>Fix</td><td>QM        </td><td>299 Total Labor Costs</td><td>47328846</td><td> -7441100</td><td>54769946</td></tr>\n",
                            "\t<tr><td>2023</td><td>1</td><td>2113 </td><td>K5401 </td><td>50899-999</td><td>Fix</td><td>ESH       </td><td>465 Cost of materials</td><td>61477833</td><td>        0</td><td>61477833</td></tr>\n",
                            "\t<tr><td>2023</td><td>6</td><td>30801</td><td>K202  </td><td>50899-999</td><td>Fix</td><td>Production</td><td>299 Total Labor Costs</td><td>       0</td><td>-61964700</td><td>61964700</td></tr>\n",
                            "\t<tr><td>2023</td><td>1</td><td>2300 </td><td>K4500 </td><td>50899-999</td><td>Fix</td><td>FM        </td><td>465 Cost of materials</td><td>64844667</td><td>        0</td><td>64844667</td></tr>\n",
                            "\t<tr><td>2023</td><td>2</td><td>2300 </td><td>K4500 </td><td>50899-999</td><td>Fix</td><td>FM        </td><td>465 Cost of materials</td><td>64844667</td><td>        0</td><td>64844667</td></tr>\n",
                            "\t<tr><td>2023</td><td>3</td><td>2300 </td><td>K4500 </td><td>50899-999</td><td>Fix</td><td>FM        </td><td>465 Cost of materials</td><td>64844667</td><td>        0</td><td>64844667</td></tr>\n",
                            "\t<tr><td>2023</td><td>4</td><td>2300 </td><td>K4500 </td><td>50899-999</td><td>Fix</td><td>FM        </td><td>465 Cost of materials</td><td>64844667</td><td>        0</td><td>64844667</td></tr>\n",
                            "\t<tr><td>2023</td><td>5</td><td>2300 </td><td>K4500 </td><td>50899-999</td><td>Fix</td><td>FM        </td><td>465 Cost of materials</td><td>64844667</td><td>        0</td><td>64844667</td></tr>\n",
                            "\t<tr><td>2023</td><td>6</td><td>2300 </td><td>K4500 </td><td>50899-999</td><td>Fix</td><td>FM        </td><td>465 Cost of materials</td><td>68844667</td><td>        0</td><td>68844667</td></tr>\n",
                            "</tbody>\n",
                            "</table>\n"
                        ],
                        "text/latex": [
                            "A tibble: 10 × 11\n",
                            "\\begin{tabular}{lllllllllll}\n",
                            " fy & period & cost\\_ctr & gl\\_accounts & profit\\_ctr & fix\\_var & department & acc\\_lv2 & plan & actual & delta\\_to\\_plan\\\\\n",
                            " <dbl> & <dbl> & <chr> & <chr> & <chr> & <chr> & <chr> & <chr> & <dbl> & <dbl> & <dbl>\\\\\n",
                            "\\hline\n",
                            "\t 2023 & 6 & 3040  & K30001 & 50899-999 & Fix & QM         & 299 Total Labor Costs & 49140766 &  -3893500 & 53034266\\\\\n",
                            "\t 2023 & 4 & 3040  & K30001 & 50899-999 & Fix & QM         & 299 Total Labor Costs & 47328846 &  -7441100 & 54769946\\\\\n",
                            "\t 2023 & 1 & 2113  & K5401  & 50899-999 & Fix & ESH        & 465 Cost of materials & 61477833 &         0 & 61477833\\\\\n",
                            "\t 2023 & 6 & 30801 & K202   & 50899-999 & Fix & Production & 299 Total Labor Costs &        0 & -61964700 & 61964700\\\\\n",
                            "\t 2023 & 1 & 2300  & K4500  & 50899-999 & Fix & FM         & 465 Cost of materials & 64844667 &         0 & 64844667\\\\\n",
                            "\t 2023 & 2 & 2300  & K4500  & 50899-999 & Fix & FM         & 465 Cost of materials & 64844667 &         0 & 64844667\\\\\n",
                            "\t 2023 & 3 & 2300  & K4500  & 50899-999 & Fix & FM         & 465 Cost of materials & 64844667 &         0 & 64844667\\\\\n",
                            "\t 2023 & 4 & 2300  & K4500  & 50899-999 & Fix & FM         & 465 Cost of materials & 64844667 &         0 & 64844667\\\\\n",
                            "\t 2023 & 5 & 2300  & K4500  & 50899-999 & Fix & FM         & 465 Cost of materials & 64844667 &         0 & 64844667\\\\\n",
                            "\t 2023 & 6 & 2300  & K4500  & 50899-999 & Fix & FM         & 465 Cost of materials & 68844667 &         0 & 68844667\\\\\n",
                            "\\end{tabular}\n"
                        ],
                        "text/markdown": [
                            "\n",
                            "A tibble: 10 × 11\n",
                            "\n",
                            "| fy &lt;dbl&gt; | period &lt;dbl&gt; | cost_ctr &lt;chr&gt; | gl_accounts &lt;chr&gt; | profit_ctr &lt;chr&gt; | fix_var &lt;chr&gt; | department &lt;chr&gt; | acc_lv2 &lt;chr&gt; | plan &lt;dbl&gt; | actual &lt;dbl&gt; | delta_to_plan &lt;dbl&gt; |\n",
                            "|---|---|---|---|---|---|---|---|---|---|---|\n",
                            "| 2023 | 6 | 3040  | K30001 | 50899-999 | Fix | QM         | 299 Total Labor Costs | 49140766 |  -3893500 | 53034266 |\n",
                            "| 2023 | 4 | 3040  | K30001 | 50899-999 | Fix | QM         | 299 Total Labor Costs | 47328846 |  -7441100 | 54769946 |\n",
                            "| 2023 | 1 | 2113  | K5401  | 50899-999 | Fix | ESH        | 465 Cost of materials | 61477833 |         0 | 61477833 |\n",
                            "| 2023 | 6 | 30801 | K202   | 50899-999 | Fix | Production | 299 Total Labor Costs |        0 | -61964700 | 61964700 |\n",
                            "| 2023 | 1 | 2300  | K4500  | 50899-999 | Fix | FM         | 465 Cost of materials | 64844667 |         0 | 64844667 |\n",
                            "| 2023 | 2 | 2300  | K4500  | 50899-999 | Fix | FM         | 465 Cost of materials | 64844667 |         0 | 64844667 |\n",
                            "| 2023 | 3 | 2300  | K4500  | 50899-999 | Fix | FM         | 465 Cost of materials | 64844667 |         0 | 64844667 |\n",
                            "| 2023 | 4 | 2300  | K4500  | 50899-999 | Fix | FM         | 465 Cost of materials | 64844667 |         0 | 64844667 |\n",
                            "| 2023 | 5 | 2300  | K4500  | 50899-999 | Fix | FM         | 465 Cost of materials | 64844667 |         0 | 64844667 |\n",
                            "| 2023 | 6 | 2300  | K4500  | 50899-999 | Fix | FM         | 465 Cost of materials | 68844667 |         0 | 68844667 |\n",
                            "\n"
                        ],
                        "text/plain": [
                            "   fy   period cost_ctr gl_accounts profit_ctr fix_var department\n",
                            "1  2023 6      3040     K30001      50899-999  Fix     QM        \n",
                            "2  2023 4      3040     K30001      50899-999  Fix     QM        \n",
                            "3  2023 1      2113     K5401       50899-999  Fix     ESH       \n",
                            "4  2023 6      30801    K202        50899-999  Fix     Production\n",
                            "5  2023 1      2300     K4500       50899-999  Fix     FM        \n",
                            "6  2023 2      2300     K4500       50899-999  Fix     FM        \n",
                            "7  2023 3      2300     K4500       50899-999  Fix     FM        \n",
                            "8  2023 4      2300     K4500       50899-999  Fix     FM        \n",
                            "9  2023 5      2300     K4500       50899-999  Fix     FM        \n",
                            "10 2023 6      2300     K4500       50899-999  Fix     FM        \n",
                            "   acc_lv2               plan     actual    delta_to_plan\n",
                            "1  299 Total Labor Costs 49140766  -3893500 53034266     \n",
                            "2  299 Total Labor Costs 47328846  -7441100 54769946     \n",
                            "3  465 Cost of materials 61477833         0 61477833     \n",
                            "4  299 Total Labor Costs        0 -61964700 61964700     \n",
                            "5  465 Cost of materials 64844667         0 64844667     \n",
                            "6  465 Cost of materials 64844667         0 64844667     \n",
                            "7  465 Cost of materials 64844667         0 64844667     \n",
                            "8  465 Cost of materials 64844667         0 64844667     \n",
                            "9  465 Cost of materials 64844667         0 64844667     \n",
                            "10 465 Cost of materials 68844667         0 68844667     "
                        ]
                    },
                    "metadata": {},
                    "output_type": "display_data"
                }
            ],
            "source": [
                "top_10_positive"
            ]
        },
        {
            "cell_type": "code",
            "execution_count": 34,
            "metadata": {
                "vscode": {
                    "languageId": "r"
                }
            },
            "outputs": [
                {
                    "data": {
                        "text/html": [
                            "<table class=\"dataframe\">\n",
                            "<caption>A tibble: 5905 × 11</caption>\n",
                            "<thead>\n",
                            "\t<tr><th scope=col>fy</th><th scope=col>period</th><th scope=col>cost_ctr</th><th scope=col>gl_accounts</th><th scope=col>profit_ctr</th><th scope=col>fix_var</th><th scope=col>department</th><th scope=col>acc_lv2</th><th scope=col>plan</th><th scope=col>actual</th><th scope=col>delta_to_plan</th></tr>\n",
                            "\t<tr><th scope=col>&lt;dbl&gt;</th><th scope=col>&lt;dbl&gt;</th><th scope=col>&lt;chr&gt;</th><th scope=col>&lt;chr&gt;</th><th scope=col>&lt;chr&gt;</th><th scope=col>&lt;chr&gt;</th><th scope=col>&lt;chr&gt;</th><th scope=col>&lt;chr&gt;</th><th scope=col>&lt;dbl&gt;</th><th scope=col>&lt;dbl&gt;</th><th scope=col>&lt;dbl&gt;</th></tr>\n",
                            "</thead>\n",
                            "<tbody>\n",
                            "\t<tr><td>2023</td><td>1</td><td>1010</td><td>K30001</td><td>50899-999</td><td>Fix</td><td>Mgt</td><td>299 Total Labor Costs</td><td>66649587</td><td>51617300</td><td>15032287</td></tr>\n",
                            "\t<tr><td>2023</td><td>1</td><td>1010</td><td>K4224 </td><td>50899-999</td><td>Fix</td><td>Mgt</td><td>465 Cost of materials</td><td> 3861000</td><td> 3789181</td><td>   71819</td></tr>\n",
                            "\t<tr><td>2023</td><td>1</td><td>1010</td><td>K44199</td><td>50899-999</td><td>Fix</td><td>Mgt</td><td>465 Cost of materials</td><td>       0</td><td>-3861000</td><td> 3861000</td></tr>\n",
                            "\t<tr><td>2023</td><td>1</td><td>1010</td><td>K4431 </td><td>50899-999</td><td>Fix</td><td>Mgt</td><td>465 Cost of materials</td><td>  127932</td><td>   23991</td><td>  103941</td></tr>\n",
                            "\t<tr><td>2023</td><td>1</td><td>1010</td><td>K4461 </td><td>50899-999</td><td>Fix</td><td>Mgt</td><td>465 Cost of materials</td><td>       0</td><td> 3861000</td><td>-3861000</td></tr>\n",
                            "\t<tr><td>2023</td><td>1</td><td>1010</td><td>K4490 </td><td>50899-999</td><td>Fix</td><td>Mgt</td><td>465 Cost of materials</td><td>       0</td><td>  100481</td><td> -100481</td></tr>\n",
                            "\t<tr><td>2023</td><td>1</td><td>1010</td><td>K4500 </td><td>50899-999</td><td>Fix</td><td>Mgt</td><td>465 Cost of materials</td><td>  130457</td><td>   29356</td><td>  101101</td></tr>\n",
                            "\t<tr><td>2023</td><td>1</td><td>1010</td><td>K4611 </td><td>50899-999</td><td>Fix</td><td>Mgt</td><td>465 Cost of materials</td><td>  233934</td><td>  316629</td><td>  -82695</td></tr>\n",
                            "\t<tr><td>2023</td><td>1</td><td>1010</td><td>K4706 </td><td>50899-999</td><td>Fix</td><td>Mgt</td><td>299 Total Labor Costs</td><td> 5355000</td><td> 5172180</td><td>  182820</td></tr>\n",
                            "\t<tr><td>2023</td><td>1</td><td>1010</td><td>K4814 </td><td>50899-999</td><td>Fix</td><td>Mgt</td><td>465 Cost of materials</td><td>  100000</td><td>       0</td><td>  100000</td></tr>\n",
                            "\t<tr><td>2023</td><td>1</td><td>1010</td><td>K5002 </td><td>50899-999</td><td>Fix</td><td>Mgt</td><td>465 Cost of materials</td><td>  216137</td><td>  245004</td><td>  -28867</td></tr>\n",
                            "\t<tr><td>2023</td><td>1</td><td>1010</td><td>K5004 </td><td>50899-999</td><td>Fix</td><td>Mgt</td><td>465 Cost of materials</td><td>   40000</td><td>   39630</td><td>     370</td></tr>\n",
                            "\t<tr><td>2023</td><td>1</td><td>1010</td><td>K5007 </td><td>50899-999</td><td>Fix</td><td>Mgt</td><td>465 Cost of materials</td><td> 1600000</td><td>       0</td><td> 1600000</td></tr>\n",
                            "\t<tr><td>2023</td><td>1</td><td>1010</td><td>K5101 </td><td>50899-999</td><td>Fix</td><td>Mgt</td><td>465 Cost of materials</td><td>  300000</td><td>       0</td><td>  300000</td></tr>\n",
                            "\t<tr><td>2023</td><td>1</td><td>1010</td><td>K5102 </td><td>50899-999</td><td>Fix</td><td>Mgt</td><td>465 Cost of materials</td><td>  125000</td><td>       0</td><td>  125000</td></tr>\n",
                            "\t<tr><td>2023</td><td>1</td><td>1010</td><td>K5103 </td><td>50899-999</td><td>Fix</td><td>Mgt</td><td>465 Cost of materials</td><td>  800000</td><td>       0</td><td>  800000</td></tr>\n",
                            "\t<tr><td>2023</td><td>1</td><td>1010</td><td>K52011</td><td>50899-999</td><td>Fix</td><td>Mgt</td><td>465 Cost of materials</td><td>  175000</td><td>       0</td><td>  175000</td></tr>\n",
                            "\t<tr><td>2023</td><td>1</td><td>1010</td><td>K52014</td><td>50899-999</td><td>Fix</td><td>Mgt</td><td>465 Cost of materials</td><td>    8000</td><td>   10660</td><td>   -2660</td></tr>\n",
                            "\t<tr><td>2023</td><td>1</td><td>1010</td><td>K5202 </td><td>50899-999</td><td>Fix</td><td>Mgt</td><td>465 Cost of materials</td><td> 1100000</td><td>  730893</td><td>  369107</td></tr>\n",
                            "\t<tr><td>2023</td><td>1</td><td>1010</td><td>K5292 </td><td>50899-999</td><td>Fix</td><td>Mgt</td><td>465 Cost of materials</td><td>       0</td><td>  258800</td><td> -258800</td></tr>\n",
                            "\t<tr><td>2023</td><td>1</td><td>1010</td><td>K5335 </td><td>50899-999</td><td>Fix</td><td>Mgt</td><td>465 Cost of materials</td><td>       0</td><td> 5873000</td><td>-5873000</td></tr>\n",
                            "\t<tr><td>2023</td><td>1</td><td>1010</td><td>K5403 </td><td>50899-999</td><td>Fix</td><td>Mgt</td><td>465 Cost of materials</td><td>       0</td><td>   60000</td><td>  -60000</td></tr>\n",
                            "\t<tr><td>2023</td><td>1</td><td>1010</td><td>K5405 </td><td>50899-999</td><td>Fix</td><td>Mgt</td><td>465 Cost of materials</td><td>  319355</td><td>  297458</td><td>   21897</td></tr>\n",
                            "\t<tr><td>2023</td><td>1</td><td>1010</td><td>K55051</td><td>50899-999</td><td>Fix</td><td>Mgt</td><td>465 Cost of materials</td><td>  800000</td><td>       0</td><td>  800000</td></tr>\n",
                            "\t<tr><td>2023</td><td>1</td><td>1010</td><td>K5705 </td><td>50899-999</td><td>Fix</td><td>Mgt</td><td>465 Cost of materials</td><td>   89606</td><td>   85550</td><td>    4056</td></tr>\n",
                            "\t<tr><td>2023</td><td>1</td><td>1010</td><td>K5708 </td><td>50899-999</td><td>Fix</td><td>Mgt</td><td>465 Cost of materials</td><td>   20316</td><td>    5343</td><td>   14973</td></tr>\n",
                            "\t<tr><td>2023</td><td>1</td><td>1010</td><td>K5713 </td><td>50899-999</td><td>Fix</td><td>Mgt</td><td>465 Cost of materials</td><td>       0</td><td>    1329</td><td>   -1329</td></tr>\n",
                            "\t<tr><td>2023</td><td>1</td><td>1010</td><td>K5803 </td><td>50899-999</td><td>Fix</td><td>Mgt</td><td>299 Total Labor Costs</td><td> 1513704</td><td>   95500</td><td> 1418204</td></tr>\n",
                            "\t<tr><td>2023</td><td>1</td><td>1010</td><td>K5814 </td><td>50899-999</td><td>Fix</td><td>Mgt</td><td>299 Total Labor Costs</td><td>  321505</td><td>  343596</td><td>  -22091</td></tr>\n",
                            "\t<tr><td>2023</td><td>1</td><td>1010</td><td>K6301 </td><td>50899-999</td><td>Fix</td><td>Mgt</td><td>465 Cost of materials</td><td> 2000000</td><td>   20000</td><td> 1980000</td></tr>\n",
                            "\t<tr><td>⋮</td><td>⋮</td><td>⋮</td><td>⋮</td><td>⋮</td><td>⋮</td><td>⋮</td><td>⋮</td><td>⋮</td><td>⋮</td><td>⋮</td></tr>\n",
                            "\t<tr><td>2023</td><td> 6</td><td>4330</td><td>K47051</td><td>50899-999</td><td>Fix</td><td>SCM</td><td>465 Cost of materials</td><td>     600000</td><td>          0</td><td>     600000</td></tr>\n",
                            "\t<tr><td>2023</td><td> 6</td><td>4330</td><td>K5002 </td><td>50899-999</td><td>Fix</td><td>SCM</td><td>465 Cost of materials</td><td>      36307</td><td>      29701</td><td>       6606</td></tr>\n",
                            "\t<tr><td>2023</td><td> 6</td><td>4330</td><td>K5004 </td><td>50899-999</td><td>Fix</td><td>SCM</td><td>465 Cost of materials</td><td>     100000</td><td>          0</td><td>     100000</td></tr>\n",
                            "\t<tr><td>2023</td><td> 6</td><td>4330</td><td>K52013</td><td>50899-999</td><td>Fix</td><td>SCM</td><td>465 Cost of materials</td><td>    1252858</td><td>          0</td><td>    1252858</td></tr>\n",
                            "\t<tr><td>2023</td><td> 6</td><td>4330</td><td>K52014</td><td>50899-999</td><td>Fix</td><td>SCM</td><td>465 Cost of materials</td><td>          0</td><td>      34940</td><td>     -34940</td></tr>\n",
                            "\t<tr><td>2023</td><td> 6</td><td>4330</td><td>K5403 </td><td>50899-999</td><td>Fix</td><td>SCM</td><td>465 Cost of materials</td><td>    1873951</td><td>     602058</td><td>    1271893</td></tr>\n",
                            "\t<tr><td>2023</td><td> 6</td><td>4330</td><td>K5405 </td><td>50899-999</td><td>Fix</td><td>SCM</td><td>465 Cost of materials</td><td>     359274</td><td>     610026</td><td>    -250752</td></tr>\n",
                            "\t<tr><td>2023</td><td> 6</td><td>4330</td><td>K5505 </td><td>50899-999</td><td>Fix</td><td>SCM</td><td>465 Cost of materials</td><td>    1062500</td><td>          0</td><td>    1062500</td></tr>\n",
                            "\t<tr><td>2023</td><td> 6</td><td>4330</td><td>K55051</td><td>50899-999</td><td>Fix</td><td>SCM</td><td>465 Cost of materials</td><td>     600000</td><td>          0</td><td>     600000</td></tr>\n",
                            "\t<tr><td>2023</td><td> 6</td><td>4330</td><td>K5705 </td><td>50899-999</td><td>Fix</td><td>SCM</td><td>465 Cost of materials</td><td>     201613</td><td>     164503</td><td>      37110</td></tr>\n",
                            "\t<tr><td>2023</td><td> 6</td><td>4330</td><td>K5708 </td><td>50899-999</td><td>Fix</td><td>SCM</td><td>465 Cost of materials</td><td>      45711</td><td>      54916</td><td>      -9205</td></tr>\n",
                            "\t<tr><td>2023</td><td> 6</td><td>4330</td><td>K5713 </td><td>50899-999</td><td>Fix</td><td>SCM</td><td>465 Cost of materials</td><td>          0</td><td>       2450</td><td>      -2450</td></tr>\n",
                            "\t<tr><td>2023</td><td> 6</td><td>4330</td><td>K5803 </td><td>50899-999</td><td>Fix</td><td>SCM</td><td>299 Total Labor Costs</td><td>    4541111</td><td>     200000</td><td>    4341111</td></tr>\n",
                            "\t<tr><td>2023</td><td> 6</td><td>4330</td><td>K5814 </td><td>50899-999</td><td>Fix</td><td>SCM</td><td>299 Total Labor Costs</td><td>     723387</td><td>     656171</td><td>      67216</td></tr>\n",
                            "\t<tr><td>2023</td><td> 6</td><td>4330</td><td>K5901 </td><td>50899-999</td><td>Fix</td><td>SCM</td><td>465 Cost of materials</td><td>          0</td><td>    1133269</td><td>   -1133269</td></tr>\n",
                            "\t<tr><td>2023</td><td> 6</td><td>4330</td><td>K6833 </td><td>50899-999</td><td>Fix</td><td>SCM</td><td>465 Cost of materials</td><td>      50000</td><td>          0</td><td>      50000</td></tr>\n",
                            "\t<tr><td>2023</td><td> 6</td><td>4330</td><td>K6834 </td><td>50899-999</td><td>Fix</td><td>SCM</td><td>465 Cost of materials</td><td>      90000</td><td>          0</td><td>      90000</td></tr>\n",
                            "\t<tr><td>2023</td><td> 6</td><td>4330</td><td>K6835 </td><td>50899-999</td><td>Fix</td><td>SCM</td><td>465 Cost of materials</td><td>     630000</td><td>    1117500</td><td>    -487500</td></tr>\n",
                            "\t<tr><td>2023</td><td> 6</td><td>4330</td><td>K6851 </td><td>50899-999</td><td>Fix</td><td>SCM</td><td>465 Cost of materials</td><td>     145161</td><td>      80000</td><td>      65161</td></tr>\n",
                            "\t<tr><td>2023</td><td> 6</td><td>4330</td><td>K6852 </td><td>50899-999</td><td>Fix</td><td>SCM</td><td>465 Cost of materials</td><td>     139604</td><td>          0</td><td>     139604</td></tr>\n",
                            "\t<tr><td>2023</td><td> 6</td><td>4330</td><td>K6970 </td><td>50899-999</td><td>Fix</td><td>SCM</td><td>465 Cost of materials</td><td>     268261</td><td>     254537</td><td>      13724</td></tr>\n",
                            "\t<tr><td>2023</td><td> 6</td><td>4330</td><td>S95010</td><td>50899-999</td><td>Fix</td><td>SCM</td><td>299 Total Labor Costs</td><td>      78525</td><td>          0</td><td>      78525</td></tr>\n",
                            "\t<tr><td>2023</td><td> 6</td><td>4330</td><td>S95015</td><td>50899-999</td><td>Fix</td><td>SCM</td><td>299 Total Labor Costs</td><td>   18084466</td><td>   17354218</td><td>     730248</td></tr>\n",
                            "\t<tr><td>2023</td><td> 6</td><td>4330</td><td>S95040</td><td>50899-999</td><td>Fix</td><td>SCM</td><td>299 Total Labor Costs</td><td>     312909</td><td>     488808</td><td>    -175899</td></tr>\n",
                            "\t<tr><td>2023</td><td> 6</td><td>4330</td><td>S95055</td><td>50899-999</td><td>Fix</td><td>SCM</td><td>299 Total Labor Costs</td><td>    1661709</td><td>    2595822</td><td>    -934113</td></tr>\n",
                            "\t<tr><td>2023</td><td> 6</td><td>4330</td><td>S95060</td><td>50899-999</td><td>Fix</td><td>SCM</td><td>299 Total Labor Costs</td><td>    2293872</td><td>    3583350</td><td>   -1289478</td></tr>\n",
                            "\t<tr><td>2023</td><td> 6</td><td>4330</td><td>S95065</td><td>50899-999</td><td>Fix</td><td>SCM</td><td>299 Total Labor Costs</td><td>     847511</td><td>    1323931</td><td>    -476420</td></tr>\n",
                            "\t<tr><td>2023</td><td> 6</td><td>4330</td><td>S95070</td><td>50899-999</td><td>Fix</td><td>SCM</td><td>299 Total Labor Costs</td><td>     339084</td><td>     529696</td><td>    -190612</td></tr>\n",
                            "\t<tr><td>2023</td><td> 6</td><td>4330</td><td>S95140</td><td>50899-999</td><td>Fix</td><td>SCM</td><td>299 Total Labor Costs</td><td>    6998212</td><td>   10932191</td><td>   -3933979</td></tr>\n",
                            "\t<tr><td>  NA</td><td>NA</td><td>NA  </td><td>NA    </td><td>NA       </td><td>NA </td><td>NA </td><td>NA                   </td><td>18562138854</td><td>19789758179</td><td>-1227619325</td></tr>\n",
                            "</tbody>\n",
                            "</table>\n"
                        ],
                        "text/latex": [
                            "A tibble: 5905 × 11\n",
                            "\\begin{tabular}{lllllllllll}\n",
                            " fy & period & cost\\_ctr & gl\\_accounts & profit\\_ctr & fix\\_var & department & acc\\_lv2 & plan & actual & delta\\_to\\_plan\\\\\n",
                            " <dbl> & <dbl> & <chr> & <chr> & <chr> & <chr> & <chr> & <chr> & <dbl> & <dbl> & <dbl>\\\\\n",
                            "\\hline\n",
                            "\t 2023 & 1 & 1010 & K30001 & 50899-999 & Fix & Mgt & 299 Total Labor Costs & 66649587 & 51617300 & 15032287\\\\\n",
                            "\t 2023 & 1 & 1010 & K4224  & 50899-999 & Fix & Mgt & 465 Cost of materials &  3861000 &  3789181 &    71819\\\\\n",
                            "\t 2023 & 1 & 1010 & K44199 & 50899-999 & Fix & Mgt & 465 Cost of materials &        0 & -3861000 &  3861000\\\\\n",
                            "\t 2023 & 1 & 1010 & K4431  & 50899-999 & Fix & Mgt & 465 Cost of materials &   127932 &    23991 &   103941\\\\\n",
                            "\t 2023 & 1 & 1010 & K4461  & 50899-999 & Fix & Mgt & 465 Cost of materials &        0 &  3861000 & -3861000\\\\\n",
                            "\t 2023 & 1 & 1010 & K4490  & 50899-999 & Fix & Mgt & 465 Cost of materials &        0 &   100481 &  -100481\\\\\n",
                            "\t 2023 & 1 & 1010 & K4500  & 50899-999 & Fix & Mgt & 465 Cost of materials &   130457 &    29356 &   101101\\\\\n",
                            "\t 2023 & 1 & 1010 & K4611  & 50899-999 & Fix & Mgt & 465 Cost of materials &   233934 &   316629 &   -82695\\\\\n",
                            "\t 2023 & 1 & 1010 & K4706  & 50899-999 & Fix & Mgt & 299 Total Labor Costs &  5355000 &  5172180 &   182820\\\\\n",
                            "\t 2023 & 1 & 1010 & K4814  & 50899-999 & Fix & Mgt & 465 Cost of materials &   100000 &        0 &   100000\\\\\n",
                            "\t 2023 & 1 & 1010 & K5002  & 50899-999 & Fix & Mgt & 465 Cost of materials &   216137 &   245004 &   -28867\\\\\n",
                            "\t 2023 & 1 & 1010 & K5004  & 50899-999 & Fix & Mgt & 465 Cost of materials &    40000 &    39630 &      370\\\\\n",
                            "\t 2023 & 1 & 1010 & K5007  & 50899-999 & Fix & Mgt & 465 Cost of materials &  1600000 &        0 &  1600000\\\\\n",
                            "\t 2023 & 1 & 1010 & K5101  & 50899-999 & Fix & Mgt & 465 Cost of materials &   300000 &        0 &   300000\\\\\n",
                            "\t 2023 & 1 & 1010 & K5102  & 50899-999 & Fix & Mgt & 465 Cost of materials &   125000 &        0 &   125000\\\\\n",
                            "\t 2023 & 1 & 1010 & K5103  & 50899-999 & Fix & Mgt & 465 Cost of materials &   800000 &        0 &   800000\\\\\n",
                            "\t 2023 & 1 & 1010 & K52011 & 50899-999 & Fix & Mgt & 465 Cost of materials &   175000 &        0 &   175000\\\\\n",
                            "\t 2023 & 1 & 1010 & K52014 & 50899-999 & Fix & Mgt & 465 Cost of materials &     8000 &    10660 &    -2660\\\\\n",
                            "\t 2023 & 1 & 1010 & K5202  & 50899-999 & Fix & Mgt & 465 Cost of materials &  1100000 &   730893 &   369107\\\\\n",
                            "\t 2023 & 1 & 1010 & K5292  & 50899-999 & Fix & Mgt & 465 Cost of materials &        0 &   258800 &  -258800\\\\\n",
                            "\t 2023 & 1 & 1010 & K5335  & 50899-999 & Fix & Mgt & 465 Cost of materials &        0 &  5873000 & -5873000\\\\\n",
                            "\t 2023 & 1 & 1010 & K5403  & 50899-999 & Fix & Mgt & 465 Cost of materials &        0 &    60000 &   -60000\\\\\n",
                            "\t 2023 & 1 & 1010 & K5405  & 50899-999 & Fix & Mgt & 465 Cost of materials &   319355 &   297458 &    21897\\\\\n",
                            "\t 2023 & 1 & 1010 & K55051 & 50899-999 & Fix & Mgt & 465 Cost of materials &   800000 &        0 &   800000\\\\\n",
                            "\t 2023 & 1 & 1010 & K5705  & 50899-999 & Fix & Mgt & 465 Cost of materials &    89606 &    85550 &     4056\\\\\n",
                            "\t 2023 & 1 & 1010 & K5708  & 50899-999 & Fix & Mgt & 465 Cost of materials &    20316 &     5343 &    14973\\\\\n",
                            "\t 2023 & 1 & 1010 & K5713  & 50899-999 & Fix & Mgt & 465 Cost of materials &        0 &     1329 &    -1329\\\\\n",
                            "\t 2023 & 1 & 1010 & K5803  & 50899-999 & Fix & Mgt & 299 Total Labor Costs &  1513704 &    95500 &  1418204\\\\\n",
                            "\t 2023 & 1 & 1010 & K5814  & 50899-999 & Fix & Mgt & 299 Total Labor Costs &   321505 &   343596 &   -22091\\\\\n",
                            "\t 2023 & 1 & 1010 & K6301  & 50899-999 & Fix & Mgt & 465 Cost of materials &  2000000 &    20000 &  1980000\\\\\n",
                            "\t ⋮ & ⋮ & ⋮ & ⋮ & ⋮ & ⋮ & ⋮ & ⋮ & ⋮ & ⋮ & ⋮\\\\\n",
                            "\t 2023 &  6 & 4330 & K47051 & 50899-999 & Fix & SCM & 465 Cost of materials &      600000 &           0 &      600000\\\\\n",
                            "\t 2023 &  6 & 4330 & K5002  & 50899-999 & Fix & SCM & 465 Cost of materials &       36307 &       29701 &        6606\\\\\n",
                            "\t 2023 &  6 & 4330 & K5004  & 50899-999 & Fix & SCM & 465 Cost of materials &      100000 &           0 &      100000\\\\\n",
                            "\t 2023 &  6 & 4330 & K52013 & 50899-999 & Fix & SCM & 465 Cost of materials &     1252858 &           0 &     1252858\\\\\n",
                            "\t 2023 &  6 & 4330 & K52014 & 50899-999 & Fix & SCM & 465 Cost of materials &           0 &       34940 &      -34940\\\\\n",
                            "\t 2023 &  6 & 4330 & K5403  & 50899-999 & Fix & SCM & 465 Cost of materials &     1873951 &      602058 &     1271893\\\\\n",
                            "\t 2023 &  6 & 4330 & K5405  & 50899-999 & Fix & SCM & 465 Cost of materials &      359274 &      610026 &     -250752\\\\\n",
                            "\t 2023 &  6 & 4330 & K5505  & 50899-999 & Fix & SCM & 465 Cost of materials &     1062500 &           0 &     1062500\\\\\n",
                            "\t 2023 &  6 & 4330 & K55051 & 50899-999 & Fix & SCM & 465 Cost of materials &      600000 &           0 &      600000\\\\\n",
                            "\t 2023 &  6 & 4330 & K5705  & 50899-999 & Fix & SCM & 465 Cost of materials &      201613 &      164503 &       37110\\\\\n",
                            "\t 2023 &  6 & 4330 & K5708  & 50899-999 & Fix & SCM & 465 Cost of materials &       45711 &       54916 &       -9205\\\\\n",
                            "\t 2023 &  6 & 4330 & K5713  & 50899-999 & Fix & SCM & 465 Cost of materials &           0 &        2450 &       -2450\\\\\n",
                            "\t 2023 &  6 & 4330 & K5803  & 50899-999 & Fix & SCM & 299 Total Labor Costs &     4541111 &      200000 &     4341111\\\\\n",
                            "\t 2023 &  6 & 4330 & K5814  & 50899-999 & Fix & SCM & 299 Total Labor Costs &      723387 &      656171 &       67216\\\\\n",
                            "\t 2023 &  6 & 4330 & K5901  & 50899-999 & Fix & SCM & 465 Cost of materials &           0 &     1133269 &    -1133269\\\\\n",
                            "\t 2023 &  6 & 4330 & K6833  & 50899-999 & Fix & SCM & 465 Cost of materials &       50000 &           0 &       50000\\\\\n",
                            "\t 2023 &  6 & 4330 & K6834  & 50899-999 & Fix & SCM & 465 Cost of materials &       90000 &           0 &       90000\\\\\n",
                            "\t 2023 &  6 & 4330 & K6835  & 50899-999 & Fix & SCM & 465 Cost of materials &      630000 &     1117500 &     -487500\\\\\n",
                            "\t 2023 &  6 & 4330 & K6851  & 50899-999 & Fix & SCM & 465 Cost of materials &      145161 &       80000 &       65161\\\\\n",
                            "\t 2023 &  6 & 4330 & K6852  & 50899-999 & Fix & SCM & 465 Cost of materials &      139604 &           0 &      139604\\\\\n",
                            "\t 2023 &  6 & 4330 & K6970  & 50899-999 & Fix & SCM & 465 Cost of materials &      268261 &      254537 &       13724\\\\\n",
                            "\t 2023 &  6 & 4330 & S95010 & 50899-999 & Fix & SCM & 299 Total Labor Costs &       78525 &           0 &       78525\\\\\n",
                            "\t 2023 &  6 & 4330 & S95015 & 50899-999 & Fix & SCM & 299 Total Labor Costs &    18084466 &    17354218 &      730248\\\\\n",
                            "\t 2023 &  6 & 4330 & S95040 & 50899-999 & Fix & SCM & 299 Total Labor Costs &      312909 &      488808 &     -175899\\\\\n",
                            "\t 2023 &  6 & 4330 & S95055 & 50899-999 & Fix & SCM & 299 Total Labor Costs &     1661709 &     2595822 &     -934113\\\\\n",
                            "\t 2023 &  6 & 4330 & S95060 & 50899-999 & Fix & SCM & 299 Total Labor Costs &     2293872 &     3583350 &    -1289478\\\\\n",
                            "\t 2023 &  6 & 4330 & S95065 & 50899-999 & Fix & SCM & 299 Total Labor Costs &      847511 &     1323931 &     -476420\\\\\n",
                            "\t 2023 &  6 & 4330 & S95070 & 50899-999 & Fix & SCM & 299 Total Labor Costs &      339084 &      529696 &     -190612\\\\\n",
                            "\t 2023 &  6 & 4330 & S95140 & 50899-999 & Fix & SCM & 299 Total Labor Costs &     6998212 &    10932191 &    -3933979\\\\\n",
                            "\t   NA & NA & NA   & NA     & NA        & NA  & NA  & NA                    & 18562138854 & 19789758179 & -1227619325\\\\\n",
                            "\\end{tabular}\n"
                        ],
                        "text/markdown": [
                            "\n",
                            "A tibble: 5905 × 11\n",
                            "\n",
                            "| fy &lt;dbl&gt; | period &lt;dbl&gt; | cost_ctr &lt;chr&gt; | gl_accounts &lt;chr&gt; | profit_ctr &lt;chr&gt; | fix_var &lt;chr&gt; | department &lt;chr&gt; | acc_lv2 &lt;chr&gt; | plan &lt;dbl&gt; | actual &lt;dbl&gt; | delta_to_plan &lt;dbl&gt; |\n",
                            "|---|---|---|---|---|---|---|---|---|---|---|\n",
                            "| 2023 | 1 | 1010 | K30001 | 50899-999 | Fix | Mgt | 299 Total Labor Costs | 66649587 | 51617300 | 15032287 |\n",
                            "| 2023 | 1 | 1010 | K4224  | 50899-999 | Fix | Mgt | 465 Cost of materials |  3861000 |  3789181 |    71819 |\n",
                            "| 2023 | 1 | 1010 | K44199 | 50899-999 | Fix | Mgt | 465 Cost of materials |        0 | -3861000 |  3861000 |\n",
                            "| 2023 | 1 | 1010 | K4431  | 50899-999 | Fix | Mgt | 465 Cost of materials |   127932 |    23991 |   103941 |\n",
                            "| 2023 | 1 | 1010 | K4461  | 50899-999 | Fix | Mgt | 465 Cost of materials |        0 |  3861000 | -3861000 |\n",
                            "| 2023 | 1 | 1010 | K4490  | 50899-999 | Fix | Mgt | 465 Cost of materials |        0 |   100481 |  -100481 |\n",
                            "| 2023 | 1 | 1010 | K4500  | 50899-999 | Fix | Mgt | 465 Cost of materials |   130457 |    29356 |   101101 |\n",
                            "| 2023 | 1 | 1010 | K4611  | 50899-999 | Fix | Mgt | 465 Cost of materials |   233934 |   316629 |   -82695 |\n",
                            "| 2023 | 1 | 1010 | K4706  | 50899-999 | Fix | Mgt | 299 Total Labor Costs |  5355000 |  5172180 |   182820 |\n",
                            "| 2023 | 1 | 1010 | K4814  | 50899-999 | Fix | Mgt | 465 Cost of materials |   100000 |        0 |   100000 |\n",
                            "| 2023 | 1 | 1010 | K5002  | 50899-999 | Fix | Mgt | 465 Cost of materials |   216137 |   245004 |   -28867 |\n",
                            "| 2023 | 1 | 1010 | K5004  | 50899-999 | Fix | Mgt | 465 Cost of materials |    40000 |    39630 |      370 |\n",
                            "| 2023 | 1 | 1010 | K5007  | 50899-999 | Fix | Mgt | 465 Cost of materials |  1600000 |        0 |  1600000 |\n",
                            "| 2023 | 1 | 1010 | K5101  | 50899-999 | Fix | Mgt | 465 Cost of materials |   300000 |        0 |   300000 |\n",
                            "| 2023 | 1 | 1010 | K5102  | 50899-999 | Fix | Mgt | 465 Cost of materials |   125000 |        0 |   125000 |\n",
                            "| 2023 | 1 | 1010 | K5103  | 50899-999 | Fix | Mgt | 465 Cost of materials |   800000 |        0 |   800000 |\n",
                            "| 2023 | 1 | 1010 | K52011 | 50899-999 | Fix | Mgt | 465 Cost of materials |   175000 |        0 |   175000 |\n",
                            "| 2023 | 1 | 1010 | K52014 | 50899-999 | Fix | Mgt | 465 Cost of materials |     8000 |    10660 |    -2660 |\n",
                            "| 2023 | 1 | 1010 | K5202  | 50899-999 | Fix | Mgt | 465 Cost of materials |  1100000 |   730893 |   369107 |\n",
                            "| 2023 | 1 | 1010 | K5292  | 50899-999 | Fix | Mgt | 465 Cost of materials |        0 |   258800 |  -258800 |\n",
                            "| 2023 | 1 | 1010 | K5335  | 50899-999 | Fix | Mgt | 465 Cost of materials |        0 |  5873000 | -5873000 |\n",
                            "| 2023 | 1 | 1010 | K5403  | 50899-999 | Fix | Mgt | 465 Cost of materials |        0 |    60000 |   -60000 |\n",
                            "| 2023 | 1 | 1010 | K5405  | 50899-999 | Fix | Mgt | 465 Cost of materials |   319355 |   297458 |    21897 |\n",
                            "| 2023 | 1 | 1010 | K55051 | 50899-999 | Fix | Mgt | 465 Cost of materials |   800000 |        0 |   800000 |\n",
                            "| 2023 | 1 | 1010 | K5705  | 50899-999 | Fix | Mgt | 465 Cost of materials |    89606 |    85550 |     4056 |\n",
                            "| 2023 | 1 | 1010 | K5708  | 50899-999 | Fix | Mgt | 465 Cost of materials |    20316 |     5343 |    14973 |\n",
                            "| 2023 | 1 | 1010 | K5713  | 50899-999 | Fix | Mgt | 465 Cost of materials |        0 |     1329 |    -1329 |\n",
                            "| 2023 | 1 | 1010 | K5803  | 50899-999 | Fix | Mgt | 299 Total Labor Costs |  1513704 |    95500 |  1418204 |\n",
                            "| 2023 | 1 | 1010 | K5814  | 50899-999 | Fix | Mgt | 299 Total Labor Costs |   321505 |   343596 |   -22091 |\n",
                            "| 2023 | 1 | 1010 | K6301  | 50899-999 | Fix | Mgt | 465 Cost of materials |  2000000 |    20000 |  1980000 |\n",
                            "| ⋮ | ⋮ | ⋮ | ⋮ | ⋮ | ⋮ | ⋮ | ⋮ | ⋮ | ⋮ | ⋮ |\n",
                            "| 2023 |  6 | 4330 | K47051 | 50899-999 | Fix | SCM | 465 Cost of materials |      600000 |           0 |      600000 |\n",
                            "| 2023 |  6 | 4330 | K5002  | 50899-999 | Fix | SCM | 465 Cost of materials |       36307 |       29701 |        6606 |\n",
                            "| 2023 |  6 | 4330 | K5004  | 50899-999 | Fix | SCM | 465 Cost of materials |      100000 |           0 |      100000 |\n",
                            "| 2023 |  6 | 4330 | K52013 | 50899-999 | Fix | SCM | 465 Cost of materials |     1252858 |           0 |     1252858 |\n",
                            "| 2023 |  6 | 4330 | K52014 | 50899-999 | Fix | SCM | 465 Cost of materials |           0 |       34940 |      -34940 |\n",
                            "| 2023 |  6 | 4330 | K5403  | 50899-999 | Fix | SCM | 465 Cost of materials |     1873951 |      602058 |     1271893 |\n",
                            "| 2023 |  6 | 4330 | K5405  | 50899-999 | Fix | SCM | 465 Cost of materials |      359274 |      610026 |     -250752 |\n",
                            "| 2023 |  6 | 4330 | K5505  | 50899-999 | Fix | SCM | 465 Cost of materials |     1062500 |           0 |     1062500 |\n",
                            "| 2023 |  6 | 4330 | K55051 | 50899-999 | Fix | SCM | 465 Cost of materials |      600000 |           0 |      600000 |\n",
                            "| 2023 |  6 | 4330 | K5705  | 50899-999 | Fix | SCM | 465 Cost of materials |      201613 |      164503 |       37110 |\n",
                            "| 2023 |  6 | 4330 | K5708  | 50899-999 | Fix | SCM | 465 Cost of materials |       45711 |       54916 |       -9205 |\n",
                            "| 2023 |  6 | 4330 | K5713  | 50899-999 | Fix | SCM | 465 Cost of materials |           0 |        2450 |       -2450 |\n",
                            "| 2023 |  6 | 4330 | K5803  | 50899-999 | Fix | SCM | 299 Total Labor Costs |     4541111 |      200000 |     4341111 |\n",
                            "| 2023 |  6 | 4330 | K5814  | 50899-999 | Fix | SCM | 299 Total Labor Costs |      723387 |      656171 |       67216 |\n",
                            "| 2023 |  6 | 4330 | K5901  | 50899-999 | Fix | SCM | 465 Cost of materials |           0 |     1133269 |    -1133269 |\n",
                            "| 2023 |  6 | 4330 | K6833  | 50899-999 | Fix | SCM | 465 Cost of materials |       50000 |           0 |       50000 |\n",
                            "| 2023 |  6 | 4330 | K6834  | 50899-999 | Fix | SCM | 465 Cost of materials |       90000 |           0 |       90000 |\n",
                            "| 2023 |  6 | 4330 | K6835  | 50899-999 | Fix | SCM | 465 Cost of materials |      630000 |     1117500 |     -487500 |\n",
                            "| 2023 |  6 | 4330 | K6851  | 50899-999 | Fix | SCM | 465 Cost of materials |      145161 |       80000 |       65161 |\n",
                            "| 2023 |  6 | 4330 | K6852  | 50899-999 | Fix | SCM | 465 Cost of materials |      139604 |           0 |      139604 |\n",
                            "| 2023 |  6 | 4330 | K6970  | 50899-999 | Fix | SCM | 465 Cost of materials |      268261 |      254537 |       13724 |\n",
                            "| 2023 |  6 | 4330 | S95010 | 50899-999 | Fix | SCM | 299 Total Labor Costs |       78525 |           0 |       78525 |\n",
                            "| 2023 |  6 | 4330 | S95015 | 50899-999 | Fix | SCM | 299 Total Labor Costs |    18084466 |    17354218 |      730248 |\n",
                            "| 2023 |  6 | 4330 | S95040 | 50899-999 | Fix | SCM | 299 Total Labor Costs |      312909 |      488808 |     -175899 |\n",
                            "| 2023 |  6 | 4330 | S95055 | 50899-999 | Fix | SCM | 299 Total Labor Costs |     1661709 |     2595822 |     -934113 |\n",
                            "| 2023 |  6 | 4330 | S95060 | 50899-999 | Fix | SCM | 299 Total Labor Costs |     2293872 |     3583350 |    -1289478 |\n",
                            "| 2023 |  6 | 4330 | S95065 | 50899-999 | Fix | SCM | 299 Total Labor Costs |      847511 |     1323931 |     -476420 |\n",
                            "| 2023 |  6 | 4330 | S95070 | 50899-999 | Fix | SCM | 299 Total Labor Costs |      339084 |      529696 |     -190612 |\n",
                            "| 2023 |  6 | 4330 | S95140 | 50899-999 | Fix | SCM | 299 Total Labor Costs |     6998212 |    10932191 |    -3933979 |\n",
                            "|   NA | NA | NA   | NA     | NA        | NA  | NA  | NA                    | 18562138854 | 19789758179 | -1227619325 |\n",
                            "\n"
                        ],
                        "text/plain": [
                            "     fy   period cost_ctr gl_accounts profit_ctr fix_var department\n",
                            "1    2023 1      1010     K30001      50899-999  Fix     Mgt       \n",
                            "2    2023 1      1010     K4224       50899-999  Fix     Mgt       \n",
                            "3    2023 1      1010     K44199      50899-999  Fix     Mgt       \n",
                            "4    2023 1      1010     K4431       50899-999  Fix     Mgt       \n",
                            "5    2023 1      1010     K4461       50899-999  Fix     Mgt       \n",
                            "6    2023 1      1010     K4490       50899-999  Fix     Mgt       \n",
                            "7    2023 1      1010     K4500       50899-999  Fix     Mgt       \n",
                            "8    2023 1      1010     K4611       50899-999  Fix     Mgt       \n",
                            "9    2023 1      1010     K4706       50899-999  Fix     Mgt       \n",
                            "10   2023 1      1010     K4814       50899-999  Fix     Mgt       \n",
                            "11   2023 1      1010     K5002       50899-999  Fix     Mgt       \n",
                            "12   2023 1      1010     K5004       50899-999  Fix     Mgt       \n",
                            "13   2023 1      1010     K5007       50899-999  Fix     Mgt       \n",
                            "14   2023 1      1010     K5101       50899-999  Fix     Mgt       \n",
                            "15   2023 1      1010     K5102       50899-999  Fix     Mgt       \n",
                            "16   2023 1      1010     K5103       50899-999  Fix     Mgt       \n",
                            "17   2023 1      1010     K52011      50899-999  Fix     Mgt       \n",
                            "18   2023 1      1010     K52014      50899-999  Fix     Mgt       \n",
                            "19   2023 1      1010     K5202       50899-999  Fix     Mgt       \n",
                            "20   2023 1      1010     K5292       50899-999  Fix     Mgt       \n",
                            "21   2023 1      1010     K5335       50899-999  Fix     Mgt       \n",
                            "22   2023 1      1010     K5403       50899-999  Fix     Mgt       \n",
                            "23   2023 1      1010     K5405       50899-999  Fix     Mgt       \n",
                            "24   2023 1      1010     K55051      50899-999  Fix     Mgt       \n",
                            "25   2023 1      1010     K5705       50899-999  Fix     Mgt       \n",
                            "26   2023 1      1010     K5708       50899-999  Fix     Mgt       \n",
                            "27   2023 1      1010     K5713       50899-999  Fix     Mgt       \n",
                            "28   2023 1      1010     K5803       50899-999  Fix     Mgt       \n",
                            "29   2023 1      1010     K5814       50899-999  Fix     Mgt       \n",
                            "30   2023 1      1010     K6301       50899-999  Fix     Mgt       \n",
                            "⋮    ⋮    ⋮      ⋮        ⋮           ⋮          ⋮       ⋮         \n",
                            "5876 2023  6     4330     K47051      50899-999  Fix     SCM       \n",
                            "5877 2023  6     4330     K5002       50899-999  Fix     SCM       \n",
                            "5878 2023  6     4330     K5004       50899-999  Fix     SCM       \n",
                            "5879 2023  6     4330     K52013      50899-999  Fix     SCM       \n",
                            "5880 2023  6     4330     K52014      50899-999  Fix     SCM       \n",
                            "5881 2023  6     4330     K5403       50899-999  Fix     SCM       \n",
                            "5882 2023  6     4330     K5405       50899-999  Fix     SCM       \n",
                            "5883 2023  6     4330     K5505       50899-999  Fix     SCM       \n",
                            "5884 2023  6     4330     K55051      50899-999  Fix     SCM       \n",
                            "5885 2023  6     4330     K5705       50899-999  Fix     SCM       \n",
                            "5886 2023  6     4330     K5708       50899-999  Fix     SCM       \n",
                            "5887 2023  6     4330     K5713       50899-999  Fix     SCM       \n",
                            "5888 2023  6     4330     K5803       50899-999  Fix     SCM       \n",
                            "5889 2023  6     4330     K5814       50899-999  Fix     SCM       \n",
                            "5890 2023  6     4330     K5901       50899-999  Fix     SCM       \n",
                            "5891 2023  6     4330     K6833       50899-999  Fix     SCM       \n",
                            "5892 2023  6     4330     K6834       50899-999  Fix     SCM       \n",
                            "5893 2023  6     4330     K6835       50899-999  Fix     SCM       \n",
                            "5894 2023  6     4330     K6851       50899-999  Fix     SCM       \n",
                            "5895 2023  6     4330     K6852       50899-999  Fix     SCM       \n",
                            "5896 2023  6     4330     K6970       50899-999  Fix     SCM       \n",
                            "5897 2023  6     4330     S95010      50899-999  Fix     SCM       \n",
                            "5898 2023  6     4330     S95015      50899-999  Fix     SCM       \n",
                            "5899 2023  6     4330     S95040      50899-999  Fix     SCM       \n",
                            "5900 2023  6     4330     S95055      50899-999  Fix     SCM       \n",
                            "5901 2023  6     4330     S95060      50899-999  Fix     SCM       \n",
                            "5902 2023  6     4330     S95065      50899-999  Fix     SCM       \n",
                            "5903 2023  6     4330     S95070      50899-999  Fix     SCM       \n",
                            "5904 2023  6     4330     S95140      50899-999  Fix     SCM       \n",
                            "5905   NA NA     NA       NA          NA         NA      NA        \n",
                            "     acc_lv2               plan        actual      delta_to_plan\n",
                            "1    299 Total Labor Costs 66649587    51617300    15032287     \n",
                            "2    465 Cost of materials  3861000     3789181       71819     \n",
                            "3    465 Cost of materials        0    -3861000     3861000     \n",
                            "4    465 Cost of materials   127932       23991      103941     \n",
                            "5    465 Cost of materials        0     3861000    -3861000     \n",
                            "6    465 Cost of materials        0      100481     -100481     \n",
                            "7    465 Cost of materials   130457       29356      101101     \n",
                            "8    465 Cost of materials   233934      316629      -82695     \n",
                            "9    299 Total Labor Costs  5355000     5172180      182820     \n",
                            "10   465 Cost of materials   100000           0      100000     \n",
                            "11   465 Cost of materials   216137      245004      -28867     \n",
                            "12   465 Cost of materials    40000       39630         370     \n",
                            "13   465 Cost of materials  1600000           0     1600000     \n",
                            "14   465 Cost of materials   300000           0      300000     \n",
                            "15   465 Cost of materials   125000           0      125000     \n",
                            "16   465 Cost of materials   800000           0      800000     \n",
                            "17   465 Cost of materials   175000           0      175000     \n",
                            "18   465 Cost of materials     8000       10660       -2660     \n",
                            "19   465 Cost of materials  1100000      730893      369107     \n",
                            "20   465 Cost of materials        0      258800     -258800     \n",
                            "21   465 Cost of materials        0     5873000    -5873000     \n",
                            "22   465 Cost of materials        0       60000      -60000     \n",
                            "23   465 Cost of materials   319355      297458       21897     \n",
                            "24   465 Cost of materials   800000           0      800000     \n",
                            "25   465 Cost of materials    89606       85550        4056     \n",
                            "26   465 Cost of materials    20316        5343       14973     \n",
                            "27   465 Cost of materials        0        1329       -1329     \n",
                            "28   299 Total Labor Costs  1513704       95500     1418204     \n",
                            "29   299 Total Labor Costs   321505      343596      -22091     \n",
                            "30   465 Cost of materials  2000000       20000     1980000     \n",
                            "⋮    ⋮                     ⋮           ⋮           ⋮            \n",
                            "5876 465 Cost of materials      600000           0      600000  \n",
                            "5877 465 Cost of materials       36307       29701        6606  \n",
                            "5878 465 Cost of materials      100000           0      100000  \n",
                            "5879 465 Cost of materials     1252858           0     1252858  \n",
                            "5880 465 Cost of materials           0       34940      -34940  \n",
                            "5881 465 Cost of materials     1873951      602058     1271893  \n",
                            "5882 465 Cost of materials      359274      610026     -250752  \n",
                            "5883 465 Cost of materials     1062500           0     1062500  \n",
                            "5884 465 Cost of materials      600000           0      600000  \n",
                            "5885 465 Cost of materials      201613      164503       37110  \n",
                            "5886 465 Cost of materials       45711       54916       -9205  \n",
                            "5887 465 Cost of materials           0        2450       -2450  \n",
                            "5888 299 Total Labor Costs     4541111      200000     4341111  \n",
                            "5889 299 Total Labor Costs      723387      656171       67216  \n",
                            "5890 465 Cost of materials           0     1133269    -1133269  \n",
                            "5891 465 Cost of materials       50000           0       50000  \n",
                            "5892 465 Cost of materials       90000           0       90000  \n",
                            "5893 465 Cost of materials      630000     1117500     -487500  \n",
                            "5894 465 Cost of materials      145161       80000       65161  \n",
                            "5895 465 Cost of materials      139604           0      139604  \n",
                            "5896 465 Cost of materials      268261      254537       13724  \n",
                            "5897 299 Total Labor Costs       78525           0       78525  \n",
                            "5898 299 Total Labor Costs    18084466    17354218      730248  \n",
                            "5899 299 Total Labor Costs      312909      488808     -175899  \n",
                            "5900 299 Total Labor Costs     1661709     2595822     -934113  \n",
                            "5901 299 Total Labor Costs     2293872     3583350    -1289478  \n",
                            "5902 299 Total Labor Costs      847511     1323931     -476420  \n",
                            "5903 299 Total Labor Costs      339084      529696     -190612  \n",
                            "5904 299 Total Labor Costs     6998212    10932191    -3933979  \n",
                            "5905 NA                    18562138854 19789758179 -1227619325  "
                        ]
                    },
                    "metadata": {},
                    "output_type": "display_data"
                }
            ],
            "source": [
                "bind_rows(df, df_sum)\n"
            ]
        }
    ],
    "metadata": {
        "kernelspec": {
            "display_name": "R",
            "language": "R",
            "name": "ir"
        },
        "language_info": {
            "codemirror_mode": "r",
            "file_extension": ".r",
            "mimetype": "text/x-r-source",
            "name": "R",
            "pygments_lexer": "r",
            "version": "4.3.0"
        },
        "orig_nbformat": 4
    },
    "nbformat": 4,
    "nbformat_minor": 2
}
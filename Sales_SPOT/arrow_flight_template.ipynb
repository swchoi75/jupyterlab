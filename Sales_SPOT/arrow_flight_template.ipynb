{
 "cells": [
  {
   "cell_type": "code",
   "execution_count": 20,
   "metadata": {
    "tags": []
   },
   "outputs": [],
   "source": [
    "from pyarrow import flight\n",
    "import pyarrow as pa\n",
    "\n",
    "import base64, time, os\n",
    "\n",
    "import getpass\n",
    "\n",
    "import pandas as pd"
   ]
  },
  {
   "cell_type": "code",
   "execution_count": 21,
   "metadata": {
    "tags": []
   },
   "outputs": [
    {
     "name": "stdin",
     "output_type": "stream",
     "text": [
      "Password:  ········\n"
     ]
    }
   ],
   "source": [
    "user = \"uid98421\"\n",
    "\n",
    "password = getpass.getpass(prompt='Password: ')\n",
    "\n",
    "host = 'dremio.aws1630.vitesco.io'"
   ]
  },
  {
   "cell_type": "code",
   "execution_count": 22,
   "metadata": {
    "tags": []
   },
   "outputs": [],
   "source": [
    "sql = 'SELECT * FROM \"rworkspace-space\".\"sales with bom costs\" limit 10'"
   ]
  },
  {
   "cell_type": "markdown",
   "metadata": {},
   "source": [
    "## Query Data with Arrow-Flight"
   ]
  },
  {
   "cell_type": "code",
   "execution_count": 23,
   "metadata": {
    "tags": []
   },
   "outputs": [],
   "source": [
    "class HttpDremioClientAuthHandler(flight.ClientAuthHandler):\n",
    "\n",
    "    def __init__(self, username, password):\n",
    "        super(flight.ClientAuthHandler, self).__init__()\n",
    "        self.basic_auth = flight.BasicAuth(username, password)\n",
    "        self.token = None\n",
    "\n",
    "    def authenticate(self, outgoing, incoming):\n",
    "        auth = self.basic_auth.serialize()\n",
    "        outgoing.write(auth)\n",
    "        self.token = incoming.read()\n",
    "\n",
    "    def get_token(self):\n",
    "        return self.token"
   ]
  },
  {
   "cell_type": "code",
   "execution_count": 24,
   "metadata": {
    "tags": []
   },
   "outputs": [],
   "source": [
    "def flight_query(sql,host):\n",
    "    start = time.time()\n",
    "    client = flight.FlightClient(f'grpc+tcp://{host}:32010')\n",
    "    client.authenticate(HttpDremioClientAuthHandler(user, password)) \n",
    "    info = client.get_flight_info(flight.FlightDescriptor.for_command(sql + ' -- arrow flight'))\n",
    "    reader = client.do_get(info.endpoints[0].ticket)\n",
    "    batches = []\n",
    "    while True:\n",
    "        try:\n",
    "            batch, metadata = reader.read_chunk()\n",
    "            batches.append(batch)\n",
    "        except StopIteration:\n",
    "            break\n",
    "    data = pa.Table.from_batches(batches)\n",
    "    df = data.to_pandas()\n",
    "    size = df.shape[0]\n",
    "    elapsed = time.time() - start\n",
    "    return df, size, elapsed"
   ]
  },
  {
   "cell_type": "code",
   "execution_count": 25,
   "metadata": {
    "tags": []
   },
   "outputs": [
    {
     "name": "stdout",
     "output_type": "stream",
     "text": [
      "     fy  period recordtype customer_group material_type  product_hierarchy  \\\n",
      "0  2019       1          B            HMG          FERT  00F03DA150241PV13   \n",
      "1  2019       1          B            HMG          FERT  00F03DA150241PV16   \n",
      "2  2019       1          B            HMG          FERT  00F03DA150242PV13   \n",
      "3  2019       1          B            HMG          FERT  00F03DA150245PV17   \n",
      "4  2019       1          B            HMG          FERT  00F03DA150251PV12   \n",
      "5  2019       1          B            HMG          FERT  00F03DA150251PV14   \n",
      "6  2019       1          B            HMG          FERT  00F03DA150251PV15   \n",
      "7  2019       1          B            HMG          FERT  00F03DA150251PV16   \n",
      "8  2019       1          B            HMG          FERT  00F03DA150341OV01   \n",
      "9  2019       1          B            HMG          FERT  00F03DA150341OV02   \n",
      "\n",
      "                                PH_description   customer_engines  \\\n",
      "0          SIM2K-241 PCU LIN VCM ISG Smart-BEM         누우 MPI LIN   \n",
      "1                  SIM2K-241 PCU BIN Smart-BEM         누우 MPI BIN   \n",
      "2                        SIM2K-242 PCU LIN ISG         누우 LPI LIN   \n",
      "3                       SIM2K-245 PCU CVVL LIN               None   \n",
      "4          SIM2K-251 PCU V12 (Atkinson, N-ISG)  누우아킨슨 MPI LIN w/B   \n",
      "5       SIM2K-251 PCU V14 (MPI LIN/BIN, N-ISG)      누우아킨슨 MPI LIN   \n",
      "6    SIM2K-251 PCU V15 (MPI BIN/BIN, FFV, ISG)               None   \n",
      "7  SIM2K-251 PCU V16 (MPI BIN/BIN, FFV, N-ISG)      누우아킨슨 MPI BIN   \n",
      "8                   SIM2K-341 PCU 1738 ETC BIN        세타2 MPI LIN   \n",
      "9                   SIM2K-341 PCU 1738 ETC LIN               None   \n",
      "\n",
      "      customer_products product_group  ... sop_year_month fx_bud  fx_HMG  \\\n",
      "0  COMPUTER & BRKT ASSY           F03  ...           None    NaN     NaN   \n",
      "1  COMPUTER & BRKT ASSY           F03  ...           None    NaN     NaN   \n",
      "2  COMPUTER & BRKT ASSY           F03  ...           None    NaN     NaN   \n",
      "3                  None           F03  ...           None    NaN     NaN   \n",
      "4         COMPUTER ASSY           F03  ...           None    NaN     NaN   \n",
      "5  COMPUTER & BRKT ASSY           F03  ...           None    NaN     NaN   \n",
      "6                  None           F03  ...           None    NaN     NaN   \n",
      "7  COMPUTER & BRKT ASSY           F03  ...           None    NaN     NaN   \n",
      "8  COMPUTER & BRKT ASSY           F03  ...           None    NaN     NaN   \n",
      "9                  None           F03  ...           None    NaN     NaN   \n",
      "\n",
      "   fx_act fx_diff_to_bud  fx_diff_to_HMG  delta_price_to_bud_fx  \\\n",
      "0     NaN            NaN             NaN                    NaN   \n",
      "1     NaN            NaN             NaN                    NaN   \n",
      "2     NaN            NaN             NaN                    NaN   \n",
      "3     NaN            NaN             NaN                    NaN   \n",
      "4     NaN            NaN             NaN                    NaN   \n",
      "5     NaN            NaN             NaN                    NaN   \n",
      "6     NaN            NaN             NaN                    NaN   \n",
      "7     NaN            NaN             NaN                    NaN   \n",
      "8     NaN            NaN             NaN                    NaN   \n",
      "9     NaN            NaN             NaN                    NaN   \n",
      "\n",
      "  delta_price_to_HMG_fx  delta_costs_to_bud_fx  delta_costs_to_HMG_fx  \n",
      "0                   NaN                    NaN                    NaN  \n",
      "1                   NaN                    NaN                    NaN  \n",
      "2                   NaN                    NaN                    NaN  \n",
      "3                   NaN                    NaN                    NaN  \n",
      "4                   NaN                    NaN                    NaN  \n",
      "5                   NaN                    NaN                    NaN  \n",
      "6                   NaN                    NaN                    NaN  \n",
      "7                   NaN                    NaN                    NaN  \n",
      "8                   NaN                    NaN                    NaN  \n",
      "9                   NaN                    NaN                    NaN  \n",
      "\n",
      "[10 rows x 27 columns] 10\n"
     ]
    }
   ],
   "source": [
    "e_flight, s, df = flight_query(sql,host)\n",
    "print(e_flight, s)"
   ]
  },
  {
   "cell_type": "code",
   "execution_count": null,
   "metadata": {},
   "outputs": [],
   "source": []
  }
 ],
 "metadata": {
  "kernelspec": {
   "display_name": "Python 3 (ipykernel)",
   "language": "python",
   "name": "python3"
  },
  "language_info": {
   "codemirror_mode": {
    "name": "ipython",
    "version": 3
   },
   "file_extension": ".py",
   "mimetype": "text/x-python",
   "name": "python",
   "nbconvert_exporter": "python",
   "pygments_lexer": "ipython3",
   "version": "3.9.19"
  },
  "vscode": {
   "interpreter": {
    "hash": "369f2c481f4da34e4445cda3fffd2e751bd1c4d706f27375911949ba6bb62e1c"
   }
  }
 },
 "nbformat": 4,
 "nbformat_minor": 4
}

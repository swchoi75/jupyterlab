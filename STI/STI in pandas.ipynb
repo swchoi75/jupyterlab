{
 "cells": [
  {
   "cell_type": "code",
   "execution_count": 18,
   "metadata": {},
   "outputs": [],
   "source": [
    "import pandas as pd\n",
    "import seaborn as sns"
   ]
  },
  {
   "cell_type": "code",
   "execution_count": 19,
   "metadata": {},
   "outputs": [
    {
     "data": {
      "text/html": [
       "<div>\n",
       "<style scoped>\n",
       "    .dataframe tbody tr th:only-of-type {\n",
       "        vertical-align: middle;\n",
       "    }\n",
       "\n",
       "    .dataframe tbody tr th {\n",
       "        vertical-align: top;\n",
       "    }\n",
       "\n",
       "    .dataframe thead th {\n",
       "        text-align: right;\n",
       "    }\n",
       "</style>\n",
       "<table border=\"1\" class=\"dataframe\">\n",
       "  <thead>\n",
       "    <tr style=\"text-align: right;\">\n",
       "      <th></th>\n",
       "      <th>no.</th>\n",
       "      <th>salary</th>\n",
       "    </tr>\n",
       "  </thead>\n",
       "  <tbody>\n",
       "    <tr>\n",
       "      <th>0</th>\n",
       "      <td>1</td>\n",
       "      <td>58152000</td>\n",
       "    </tr>\n",
       "    <tr>\n",
       "      <th>1</th>\n",
       "      <td>2</td>\n",
       "      <td>65448000</td>\n",
       "    </tr>\n",
       "    <tr>\n",
       "      <th>2</th>\n",
       "      <td>3</td>\n",
       "      <td>55728000</td>\n",
       "    </tr>\n",
       "  </tbody>\n",
       "</table>\n",
       "</div>"
      ],
      "text/plain": [
       "   no.    salary\n",
       "0    1  58152000\n",
       "1    2  65448000\n",
       "2    3  55728000"
      ]
     },
     "execution_count": 19,
     "metadata": {},
     "output_type": "execute_result"
    }
   ],
   "source": [
    "df1 = pd.read_csv(\"STI sample.csv\")\n",
    "df1.head(3)"
   ]
  },
  {
   "cell_type": "code",
   "execution_count": 20,
   "metadata": {},
   "outputs": [
    {
     "data": {
      "text/html": [
       "<div>\n",
       "<style scoped>\n",
       "    .dataframe tbody tr th:only-of-type {\n",
       "        vertical-align: middle;\n",
       "    }\n",
       "\n",
       "    .dataframe tbody tr th {\n",
       "        vertical-align: top;\n",
       "    }\n",
       "\n",
       "    .dataframe thead th {\n",
       "        text-align: right;\n",
       "    }\n",
       "</style>\n",
       "<table border=\"1\" class=\"dataframe\">\n",
       "  <thead>\n",
       "    <tr style=\"text-align: right;\">\n",
       "      <th></th>\n",
       "      <th>vt_group</th>\n",
       "    </tr>\n",
       "  </thead>\n",
       "  <tbody>\n",
       "    <tr>\n",
       "      <th>0</th>\n",
       "      <td>0</td>\n",
       "    </tr>\n",
       "    <tr>\n",
       "      <th>1</th>\n",
       "      <td>1</td>\n",
       "    </tr>\n",
       "    <tr>\n",
       "      <th>2</th>\n",
       "      <td>2</td>\n",
       "    </tr>\n",
       "  </tbody>\n",
       "</table>\n",
       "</div>"
      ],
      "text/plain": [
       "   vt_group\n",
       "0         0\n",
       "1         1\n",
       "2         2"
      ]
     },
     "execution_count": 20,
     "metadata": {},
     "output_type": "execute_result"
    }
   ],
   "source": [
    "vt_group = pd.Series(range(201))\n",
    "df2 = pd.DataFrame({\"vt_group\": vt_group})\n",
    "df2.head(3)"
   ]
  },
  {
   "cell_type": "code",
   "execution_count": 21,
   "metadata": {},
   "outputs": [],
   "source": [
    "personal_contribution = [\"Outstanding\", \"Exceptional\", \"Accomplished\", \"Below Ambition\"]"
   ]
  },
  {
   "cell_type": "code",
   "execution_count": 22,
   "metadata": {},
   "outputs": [],
   "source": [
    "# personal_contribution = \"Accomplished\"\n",
    "def personal(value):\n",
    "    if value < 50:\n",
    "        return 80\n",
    "    elif value < 85:\n",
    "        return 100\n",
    "    elif value < 140:\n",
    "        return 120\n",
    "    else:\n",
    "        return 160"
   ]
  },
  {
   "cell_type": "code",
   "execution_count": 23,
   "metadata": {},
   "outputs": [],
   "source": [
    "def financial_calc(value):\n",
    "    a = value * 0.5\n",
    "    b = personal(value) * 0.5\n",
    "    return a + b"
   ]
  },
  {
   "cell_type": "markdown",
   "metadata": {},
   "source": [
    "### Individual case with vt_group 153% and incentive target 10%"
   ]
  },
  {
   "cell_type": "code",
   "execution_count": 24,
   "metadata": {},
   "outputs": [
    {
     "data": {
      "text/html": [
       "<div>\n",
       "<style scoped>\n",
       "    .dataframe tbody tr th:only-of-type {\n",
       "        vertical-align: middle;\n",
       "    }\n",
       "\n",
       "    .dataframe tbody tr th {\n",
       "        vertical-align: top;\n",
       "    }\n",
       "\n",
       "    .dataframe thead th {\n",
       "        text-align: right;\n",
       "    }\n",
       "</style>\n",
       "<table border=\"1\" class=\"dataframe\">\n",
       "  <thead>\n",
       "    <tr style=\"text-align: right;\">\n",
       "      <th></th>\n",
       "      <th>no.</th>\n",
       "      <th>salary</th>\n",
       "      <th>financial_achievement</th>\n",
       "      <th>incentive_target</th>\n",
       "      <th>incentive</th>\n",
       "    </tr>\n",
       "  </thead>\n",
       "  <tbody>\n",
       "    <tr>\n",
       "      <th>0</th>\n",
       "      <td>1</td>\n",
       "      <td>58152000</td>\n",
       "      <td>156.5</td>\n",
       "      <td>10</td>\n",
       "      <td>9100788.0</td>\n",
       "    </tr>\n",
       "    <tr>\n",
       "      <th>1</th>\n",
       "      <td>2</td>\n",
       "      <td>65448000</td>\n",
       "      <td>156.5</td>\n",
       "      <td>10</td>\n",
       "      <td>10242612.0</td>\n",
       "    </tr>\n",
       "    <tr>\n",
       "      <th>2</th>\n",
       "      <td>3</td>\n",
       "      <td>55728000</td>\n",
       "      <td>156.5</td>\n",
       "      <td>10</td>\n",
       "      <td>8721432.0</td>\n",
       "    </tr>\n",
       "  </tbody>\n",
       "</table>\n",
       "</div>"
      ],
      "text/plain": [
       "   no.    salary  financial_achievement  incentive_target   incentive\n",
       "0    1  58152000                  156.5                10   9100788.0\n",
       "1    2  65448000                  156.5                10  10242612.0\n",
       "2    3  55728000                  156.5                10   8721432.0"
      ]
     },
     "execution_count": 24,
     "metadata": {},
     "output_type": "execute_result"
    }
   ],
   "source": [
    "# vt_group = 153 or 50\n",
    "def add_columns(df):\n",
    "    df[\"financial_achievement\"] = financial_calc(153)\n",
    "    df[\"incentive_target\"] = 10\n",
    "    df[\"incentive\"] = df[\"salary\"] * df[\"financial_achievement\"] * df[\"incentive_target\"] / 10**4\n",
    "    return df\n",
    "df1 = add_columns(df1)\n",
    "df1.head(3)"
   ]
  },
  {
   "cell_type": "code",
   "execution_count": 25,
   "metadata": {},
   "outputs": [
    {
     "data": {
      "text/html": [
       "<div>\n",
       "<style scoped>\n",
       "    .dataframe tbody tr th:only-of-type {\n",
       "        vertical-align: middle;\n",
       "    }\n",
       "\n",
       "    .dataframe tbody tr th {\n",
       "        vertical-align: top;\n",
       "    }\n",
       "\n",
       "    .dataframe thead th {\n",
       "        text-align: right;\n",
       "    }\n",
       "</style>\n",
       "<table border=\"1\" class=\"dataframe\">\n",
       "  <thead>\n",
       "    <tr style=\"text-align: right;\">\n",
       "      <th></th>\n",
       "      <th>average</th>\n",
       "      <th>total</th>\n",
       "    </tr>\n",
       "  </thead>\n",
       "  <tbody>\n",
       "    <tr>\n",
       "      <th>0</th>\n",
       "      <td>9.658615e+06</td>\n",
       "      <td>2.095919e+09</td>\n",
       "    </tr>\n",
       "  </tbody>\n",
       "</table>\n",
       "</div>"
      ],
      "text/plain": [
       "        average         total\n",
       "0  9.658615e+06  2.095919e+09"
      ]
     },
     "execution_count": 25,
     "metadata": {},
     "output_type": "execute_result"
    }
   ],
   "source": [
    "def summarize(df):\n",
    "    average = df['incentive'].mean()\n",
    "    total = df['incentive'].sum()\n",
    "    result_df = pd.DataFrame({'average': [average], 'total': [total]})\n",
    "    return result_df\n",
    "result_df1 = summarize(df1)\n",
    "result_df1"
   ]
  },
  {
   "cell_type": "markdown",
   "metadata": {},
   "source": [
    "### Cross Join for various vt_group, under incentive target 10%"
   ]
  },
  {
   "cell_type": "code",
   "execution_count": 26,
   "metadata": {},
   "outputs": [
    {
     "data": {
      "text/html": [
       "<div>\n",
       "<style scoped>\n",
       "    .dataframe tbody tr th:only-of-type {\n",
       "        vertical-align: middle;\n",
       "    }\n",
       "\n",
       "    .dataframe tbody tr th {\n",
       "        vertical-align: top;\n",
       "    }\n",
       "\n",
       "    .dataframe thead th {\n",
       "        text-align: right;\n",
       "    }\n",
       "</style>\n",
       "<table border=\"1\" class=\"dataframe\">\n",
       "  <thead>\n",
       "    <tr style=\"text-align: right;\">\n",
       "      <th></th>\n",
       "      <th>vt_group</th>\n",
       "      <th>no.</th>\n",
       "      <th>salary</th>\n",
       "      <th>financial_achievement</th>\n",
       "      <th>incentive_target</th>\n",
       "      <th>incentive</th>\n",
       "    </tr>\n",
       "  </thead>\n",
       "  <tbody>\n",
       "    <tr>\n",
       "      <th>0</th>\n",
       "      <td>0</td>\n",
       "      <td>1</td>\n",
       "      <td>58152000</td>\n",
       "      <td>156.5</td>\n",
       "      <td>10</td>\n",
       "      <td>9100788.0</td>\n",
       "    </tr>\n",
       "    <tr>\n",
       "      <th>1</th>\n",
       "      <td>0</td>\n",
       "      <td>2</td>\n",
       "      <td>65448000</td>\n",
       "      <td>156.5</td>\n",
       "      <td>10</td>\n",
       "      <td>10242612.0</td>\n",
       "    </tr>\n",
       "    <tr>\n",
       "      <th>2</th>\n",
       "      <td>0</td>\n",
       "      <td>3</td>\n",
       "      <td>55728000</td>\n",
       "      <td>156.5</td>\n",
       "      <td>10</td>\n",
       "      <td>8721432.0</td>\n",
       "    </tr>\n",
       "  </tbody>\n",
       "</table>\n",
       "</div>"
      ],
      "text/plain": [
       "   vt_group  no.    salary  financial_achievement  incentive_target  \\\n",
       "0         0    1  58152000                  156.5                10   \n",
       "1         0    2  65448000                  156.5                10   \n",
       "2         0    3  55728000                  156.5                10   \n",
       "\n",
       "    incentive  \n",
       "0   9100788.0  \n",
       "1  10242612.0  \n",
       "2   8721432.0  "
      ]
     },
     "execution_count": 26,
     "metadata": {},
     "output_type": "execute_result"
    }
   ],
   "source": [
    "def cross_join_df(df1, df2):\n",
    "    df = df2.merge(df1, how=\"cross\", on=None)\n",
    "    df.reset_index(drop=True, inplace=True)\n",
    "    return df\n",
    "df = cross_join_df(df1, df2)\n",
    "df.head(3)"
   ]
  },
  {
   "cell_type": "code",
   "execution_count": 27,
   "metadata": {},
   "outputs": [
    {
     "data": {
      "text/html": [
       "<div>\n",
       "<style scoped>\n",
       "    .dataframe tbody tr th:only-of-type {\n",
       "        vertical-align: middle;\n",
       "    }\n",
       "\n",
       "    .dataframe tbody tr th {\n",
       "        vertical-align: top;\n",
       "    }\n",
       "\n",
       "    .dataframe thead th {\n",
       "        text-align: right;\n",
       "    }\n",
       "</style>\n",
       "<table border=\"1\" class=\"dataframe\">\n",
       "  <thead>\n",
       "    <tr style=\"text-align: right;\">\n",
       "      <th></th>\n",
       "      <th>vt_group</th>\n",
       "      <th>no.</th>\n",
       "      <th>salary</th>\n",
       "      <th>financial_achievement</th>\n",
       "      <th>incentive_target</th>\n",
       "      <th>incentive</th>\n",
       "      <th>a</th>\n",
       "      <th>b</th>\n",
       "    </tr>\n",
       "  </thead>\n",
       "  <tbody>\n",
       "    <tr>\n",
       "      <th>0</th>\n",
       "      <td>0</td>\n",
       "      <td>1</td>\n",
       "      <td>58152000</td>\n",
       "      <td>40.0</td>\n",
       "      <td>10</td>\n",
       "      <td>2326080.0</td>\n",
       "      <td>0.0</td>\n",
       "      <td>40.0</td>\n",
       "    </tr>\n",
       "    <tr>\n",
       "      <th>1</th>\n",
       "      <td>0</td>\n",
       "      <td>2</td>\n",
       "      <td>65448000</td>\n",
       "      <td>40.0</td>\n",
       "      <td>10</td>\n",
       "      <td>2617920.0</td>\n",
       "      <td>0.0</td>\n",
       "      <td>40.0</td>\n",
       "    </tr>\n",
       "    <tr>\n",
       "      <th>2</th>\n",
       "      <td>0</td>\n",
       "      <td>3</td>\n",
       "      <td>55728000</td>\n",
       "      <td>40.0</td>\n",
       "      <td>10</td>\n",
       "      <td>2229120.0</td>\n",
       "      <td>0.0</td>\n",
       "      <td>40.0</td>\n",
       "    </tr>\n",
       "  </tbody>\n",
       "</table>\n",
       "</div>"
      ],
      "text/plain": [
       "   vt_group  no.    salary  financial_achievement  incentive_target  \\\n",
       "0         0    1  58152000                   40.0                10   \n",
       "1         0    2  65448000                   40.0                10   \n",
       "2         0    3  55728000                   40.0                10   \n",
       "\n",
       "   incentive    a     b  \n",
       "0  2326080.0  0.0  40.0  \n",
       "1  2617920.0  0.0  40.0  \n",
       "2  2229120.0  0.0  40.0  "
      ]
     },
     "execution_count": 27,
     "metadata": {},
     "output_type": "execute_result"
    }
   ],
   "source": [
    "def add_columns(df):\n",
    "    df[\"a\"] = df[\"vt_group\"] * 0.5\n",
    "    df[\"b\"] = df[\"vt_group\"].apply(personal) * 0.5\n",
    "    df[\"financial_achievement\"] = df[\"vt_group\"].apply(financial_calc)\n",
    "    df[\"incentive_target\"] = 10\n",
    "    df[\"incentive\"] = df[\"salary\"] * df[\"financial_achievement\"] * df[\"incentive_target\"] / 10**4\n",
    "    return df\n",
    "df = add_columns(df)\n",
    "df.head(3)"
   ]
  },
  {
   "cell_type": "code",
   "execution_count": 28,
   "metadata": {},
   "outputs": [],
   "source": [
    "df.to_csv(\"temp.csv\", index=False)"
   ]
  },
  {
   "cell_type": "code",
   "execution_count": 29,
   "metadata": {},
   "outputs": [
    {
     "data": {
      "text/html": [
       "<div>\n",
       "<style scoped>\n",
       "    .dataframe tbody tr th:only-of-type {\n",
       "        vertical-align: middle;\n",
       "    }\n",
       "\n",
       "    .dataframe tbody tr th {\n",
       "        vertical-align: top;\n",
       "    }\n",
       "\n",
       "    .dataframe thead th {\n",
       "        text-align: right;\n",
       "    }\n",
       "</style>\n",
       "<table border=\"1\" class=\"dataframe\">\n",
       "  <thead>\n",
       "    <tr style=\"text-align: right;\">\n",
       "      <th></th>\n",
       "      <th>vt_group</th>\n",
       "      <th>a</th>\n",
       "      <th>b</th>\n",
       "      <th>financial_achievement</th>\n",
       "      <th>incentive_target</th>\n",
       "      <th>salary_mean</th>\n",
       "      <th>salary_sum</th>\n",
       "      <th>incentive_mean</th>\n",
       "      <th>incentive_sum</th>\n",
       "    </tr>\n",
       "  </thead>\n",
       "  <tbody>\n",
       "    <tr>\n",
       "      <th>0</th>\n",
       "      <td>0</td>\n",
       "      <td>0.0</td>\n",
       "      <td>40.0</td>\n",
       "      <td>40.0</td>\n",
       "      <td>10</td>\n",
       "      <td>6.171639e+07</td>\n",
       "      <td>13392456000</td>\n",
       "      <td>2.468655e+06</td>\n",
       "      <td>535698240.0</td>\n",
       "    </tr>\n",
       "    <tr>\n",
       "      <th>1</th>\n",
       "      <td>1</td>\n",
       "      <td>0.5</td>\n",
       "      <td>40.0</td>\n",
       "      <td>40.5</td>\n",
       "      <td>10</td>\n",
       "      <td>6.171639e+07</td>\n",
       "      <td>13392456000</td>\n",
       "      <td>2.499514e+06</td>\n",
       "      <td>542394468.0</td>\n",
       "    </tr>\n",
       "    <tr>\n",
       "      <th>2</th>\n",
       "      <td>2</td>\n",
       "      <td>1.0</td>\n",
       "      <td>40.0</td>\n",
       "      <td>41.0</td>\n",
       "      <td>10</td>\n",
       "      <td>6.171639e+07</td>\n",
       "      <td>13392456000</td>\n",
       "      <td>2.530372e+06</td>\n",
       "      <td>549090696.0</td>\n",
       "    </tr>\n",
       "  </tbody>\n",
       "</table>\n",
       "</div>"
      ],
      "text/plain": [
       "   vt_group    a     b  financial_achievement  incentive_target   salary_mean  \\\n",
       "0         0  0.0  40.0                   40.0                10  6.171639e+07   \n",
       "1         1  0.5  40.0                   40.5                10  6.171639e+07   \n",
       "2         2  1.0  40.0                   41.0                10  6.171639e+07   \n",
       "\n",
       "    salary_sum  incentive_mean  incentive_sum  \n",
       "0  13392456000    2.468655e+06    535698240.0  \n",
       "1  13392456000    2.499514e+06    542394468.0  \n",
       "2  13392456000    2.530372e+06    549090696.0  "
      ]
     },
     "execution_count": 29,
     "metadata": {},
     "output_type": "execute_result"
    }
   ],
   "source": [
    "def summarize(df):\n",
    "    result = df.groupby([\"vt_group\", \"a\", \"b\", \"financial_achievement\", \"incentive_target\"]).aggregate(\n",
    "        {\n",
    "            \"salary\":[\"mean\", \"sum\"],\n",
    "            \"incentive\":[\"mean\", \"sum\"],\n",
    "        }\n",
    "    )\n",
    "    # Remove MultiIndex\n",
    "    result = result.reset_index()\n",
    "    result.columns = [\n",
    "        col[0] if col[1] == '' else '_'.join(col).strip()\n",
    "        for col in result.columns.values\n",
    "    ]\n",
    "    return result\n",
    "result = summarize(df)\n",
    "result.head(3)"
   ]
  },
  {
   "cell_type": "code",
   "execution_count": 30,
   "metadata": {},
   "outputs": [],
   "source": [
    "# Output data\n",
    "result.to_csv(\"result.csv\", index=False)"
   ]
  },
  {
   "cell_type": "markdown",
   "metadata": {},
   "source": [
    "### Visualization"
   ]
  },
  {
   "cell_type": "code",
   "execution_count": 31,
   "metadata": {},
   "outputs": [
    {
     "data": {
      "image/png": "[encoded data removed]",
      "text/plain": [
       "<Figure size 500x500 with 1 Axes>"
      ]
     },
     "metadata": {},
     "output_type": "display_data"
    }
   ],
   "source": [
    "# Average incentive\n",
    "sns.catplot(data=result,\n",
    "            x=\"vt_group\", y=\"incentive_mean\");"
   ]
  },
  {
   "cell_type": "code",
   "execution_count": 32,
   "metadata": {},
   "outputs": [
    {
     "data": {
      "image/png": "[encoded data removed]",
      "text/plain": [
       "<Figure size 500x500 with 1 Axes>"
      ]
     },
     "metadata": {},
     "output_type": "display_data"
    }
   ],
   "source": [
    "# Total incentive\n",
    "sns.catplot(data=result,\n",
    "            x=\"vt_group\", y=\"incentive_sum\");"
   ]
  },
  {
   "cell_type": "code",
   "execution_count": 33,
   "metadata": {},
   "outputs": [
    {
     "data": {
      "image/png": "[encoded data removed]",
      "text/plain": [
       "<Figure size 500x500 with 1 Axes>"
      ]
     },
     "metadata": {},
     "output_type": "display_data"
    }
   ],
   "source": [
    "# Average salary\n",
    "sns.catplot(data=result,\n",
    "            x=\"vt_group\", y=\"salary_mean\");"
   ]
  },
  {
   "cell_type": "code",
   "execution_count": 35,
   "metadata": {},
   "outputs": [
    {
     "data": {
      "image/png": "[encoded data removed]",
      "text/plain": [
       "<Figure size 500x500 with 1 Axes>"
      ]
     },
     "metadata": {},
     "output_type": "display_data"
    }
   ],
   "source": [
    "# Total salary\n",
    "sns.catplot(data=result,\n",
    "            x=\"vt_group\", y=\"salary_sum\");"
   ]
  },
  {
   "cell_type": "code",
   "execution_count": null,
   "metadata": {},
   "outputs": [],
   "source": []
  }
 ],
 "metadata": {
  "kernelspec": {
   "display_name": "jupyter",
   "language": "python",
   "name": "python3"
  },
  "language_info": {
   "codemirror_mode": {
    "name": "ipython",
    "version": 3
   },
   "file_extension": ".py",
   "mimetype": "text/x-python",
   "name": "python",
   "nbconvert_exporter": "python",
   "pygments_lexer": "ipython3",
   "version": "3.11.3"
  },
  "orig_nbformat": 4
 },
 "nbformat": 4,
 "nbformat_minor": 2
}

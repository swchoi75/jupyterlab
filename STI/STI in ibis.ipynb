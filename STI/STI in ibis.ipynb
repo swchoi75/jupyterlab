{
 "cells": [
  {
   "cell_type": "code",
   "execution_count": 1,
   "metadata": {},
   "outputs": [],
   "source": [
    "# In Terminal, \"pip install ibis-framework[duckdb] pyjanitor\"\n",
    "import pandas as pd\n",
    "import ibis\n",
    "from ibis import selectors as s\n",
    "from ibis import _\n",
    "ibis.options.interactive = True"
   ]
  },
  {
   "cell_type": "code",
   "execution_count": 2,
   "metadata": {},
   "outputs": [],
   "source": [
    "import seaborn as sns"
   ]
  },
  {
   "cell_type": "markdown",
   "metadata": {},
   "source": [
    "### Input data"
   ]
  },
  {
   "cell_type": "code",
   "execution_count": 3,
   "metadata": {},
   "outputs": [],
   "source": [
    "df1 = pd.read_csv(\"STI sample.csv\")"
   ]
  },
  {
   "cell_type": "code",
   "execution_count": 4,
   "metadata": {},
   "outputs": [
    {
     "data": {
      "text/html": [
       "<pre style=\"white-space:pre;overflow-x:auto;line-height:normal;font-family:Menlo,'DejaVu Sans Mono',consolas,'Courier New',monospace\">┏━━━━━━━┳━━━━━━━━━━┓\n",
       "┃<span style=\"font-weight: bold\"> no.   </span>┃<span style=\"font-weight: bold\"> salary   </span>┃\n",
       "┡━━━━━━━╇━━━━━━━━━━┩\n",
       "│ <span style=\"color: #7f7f7f; text-decoration-color: #7f7f7f\">int64</span> │ <span style=\"color: #7f7f7f; text-decoration-color: #7f7f7f\">int64</span>    │\n",
       "├───────┼──────────┤\n",
       "│     <span style=\"color: #008080; text-decoration-color: #008080; font-weight: bold\">1</span> │ <span style=\"color: #008080; text-decoration-color: #008080; font-weight: bold\">58152000</span> │\n",
       "│     <span style=\"color: #008080; text-decoration-color: #008080; font-weight: bold\">2</span> │ <span style=\"color: #008080; text-decoration-color: #008080; font-weight: bold\">65448000</span> │\n",
       "│     <span style=\"color: #008080; text-decoration-color: #008080; font-weight: bold\">3</span> │ <span style=\"color: #008080; text-decoration-color: #008080; font-weight: bold\">55728000</span> │\n",
       "└───────┴──────────┘\n",
       "</pre>\n"
      ],
      "text/plain": [
       "┏━━━━━━━┳━━━━━━━━━━┓\n",
       "┃\u001b[1m \u001b[0m\u001b[1mno.\u001b[0m\u001b[1m  \u001b[0m\u001b[1m \u001b[0m┃\u001b[1m \u001b[0m\u001b[1msalary\u001b[0m\u001b[1m  \u001b[0m\u001b[1m \u001b[0m┃\n",
       "┡━━━━━━━╇━━━━━━━━━━┩\n",
       "│ \u001b[2mint64\u001b[0m │ \u001b[2mint64\u001b[0m    │\n",
       "├───────┼──────────┤\n",
       "│     \u001b[1;36m1\u001b[0m │ \u001b[1;36m58152000\u001b[0m │\n",
       "│     \u001b[1;36m2\u001b[0m │ \u001b[1;36m65448000\u001b[0m │\n",
       "│     \u001b[1;36m3\u001b[0m │ \u001b[1;36m55728000\u001b[0m │\n",
       "└───────┴──────────┘"
      ]
     },
     "execution_count": 4,
     "metadata": {},
     "output_type": "execute_result"
    }
   ],
   "source": [
    "t1 = ibis.memtable(df1)\n",
    "t1.head(3)"
   ]
  },
  {
   "cell_type": "code",
   "execution_count": 5,
   "metadata": {},
   "outputs": [],
   "source": [
    "vt_group = pd.Series(range(201))\n",
    "df2 = pd.DataFrame({\"vt_group\": vt_group})"
   ]
  },
  {
   "cell_type": "code",
   "execution_count": 6,
   "metadata": {},
   "outputs": [
    {
     "data": {
      "text/html": [
       "<pre style=\"white-space:pre;overflow-x:auto;line-height:normal;font-family:Menlo,'DejaVu Sans Mono',consolas,'Courier New',monospace\">┏━━━━━━━━━━┓\n",
       "┃<span style=\"font-weight: bold\"> vt_group </span>┃\n",
       "┡━━━━━━━━━━┩\n",
       "│ <span style=\"color: #7f7f7f; text-decoration-color: #7f7f7f\">int64</span>    │\n",
       "├──────────┤\n",
       "│        <span style=\"color: #008080; text-decoration-color: #008080; font-weight: bold\">0</span> │\n",
       "│        <span style=\"color: #008080; text-decoration-color: #008080; font-weight: bold\">1</span> │\n",
       "│        <span style=\"color: #008080; text-decoration-color: #008080; font-weight: bold\">2</span> │\n",
       "└──────────┘\n",
       "</pre>\n"
      ],
      "text/plain": [
       "┏━━━━━━━━━━┓\n",
       "┃\u001b[1m \u001b[0m\u001b[1mvt_group\u001b[0m\u001b[1m \u001b[0m┃\n",
       "┡━━━━━━━━━━┩\n",
       "│ \u001b[2mint64\u001b[0m    │\n",
       "├──────────┤\n",
       "│        \u001b[1;36m0\u001b[0m │\n",
       "│        \u001b[1;36m1\u001b[0m │\n",
       "│        \u001b[1;36m2\u001b[0m │\n",
       "└──────────┘"
      ]
     },
     "execution_count": 6,
     "metadata": {},
     "output_type": "execute_result"
    }
   ],
   "source": [
    "t2 = ibis.memtable(df2)\n",
    "t2.head(3)"
   ]
  },
  {
   "cell_type": "code",
   "execution_count": 13,
   "metadata": {},
   "outputs": [],
   "source": [
    "incentive_target = [5, 10, 15]\n",
    "df3 = pd.DataFrame({'incentive_target': incentive_target})"
   ]
  },
  {
   "cell_type": "code",
   "execution_count": 14,
   "metadata": {},
   "outputs": [
    {
     "data": {
      "text/html": [
       "<pre style=\"white-space:pre;overflow-x:auto;line-height:normal;font-family:Menlo,'DejaVu Sans Mono',consolas,'Courier New',monospace\">┏━━━━━━━━━━━━━━━━━━┓\n",
       "┃<span style=\"font-weight: bold\"> incentive_target </span>┃\n",
       "┡━━━━━━━━━━━━━━━━━━┩\n",
       "│ <span style=\"color: #7f7f7f; text-decoration-color: #7f7f7f\">int64</span>            │\n",
       "├──────────────────┤\n",
       "│                <span style=\"color: #008080; text-decoration-color: #008080; font-weight: bold\">5</span> │\n",
       "│               <span style=\"color: #008080; text-decoration-color: #008080; font-weight: bold\">10</span> │\n",
       "│               <span style=\"color: #008080; text-decoration-color: #008080; font-weight: bold\">15</span> │\n",
       "└──────────────────┘\n",
       "</pre>\n"
      ],
      "text/plain": [
       "┏━━━━━━━━━━━━━━━━━━┓\n",
       "┃\u001b[1m \u001b[0m\u001b[1mincentive_target\u001b[0m\u001b[1m \u001b[0m┃\n",
       "┡━━━━━━━━━━━━━━━━━━┩\n",
       "│ \u001b[2mint64\u001b[0m            │\n",
       "├──────────────────┤\n",
       "│                \u001b[1;36m5\u001b[0m │\n",
       "│               \u001b[1;36m10\u001b[0m │\n",
       "│               \u001b[1;36m15\u001b[0m │\n",
       "└──────────────────┘"
      ]
     },
     "execution_count": 14,
     "metadata": {},
     "output_type": "execute_result"
    }
   ],
   "source": [
    "t3 = ibis.memtable(df3)\n",
    "t3.head()"
   ]
  },
  {
   "cell_type": "code",
   "execution_count": null,
   "metadata": {},
   "outputs": [],
   "source": [
    "personal_contribution = [\"Outstanding\", \"Exceptional\", \"Accomplished\", \"Below Ambition\"]"
   ]
  },
  {
   "cell_type": "markdown",
   "metadata": {},
   "source": [
    "### Test for an individual case: group performance 153% and incentive target 10%"
   ]
  },
  {
   "cell_type": "code",
   "execution_count": 93,
   "metadata": {},
   "outputs": [],
   "source": [
    "# personal_contribution_pick = \"Accomplished\"\n",
    "def personal(vt_group_value):\n",
    "    if vt_group_value < 50:\n",
    "        return 80\n",
    "    elif vt_group_value < 85:\n",
    "        return 100\n",
    "    elif vt_group_value < 140:\n",
    "        return 120\n",
    "    else:\n",
    "        return 160"
   ]
  },
  {
   "cell_type": "code",
   "execution_count": 94,
   "metadata": {},
   "outputs": [],
   "source": [
    "def financial_calc(vt_group_value):\n",
    "    a = vt_group_value * 0.5\n",
    "    b = personal(vt_group_value) * 0.5\n",
    "    return a + b"
   ]
  },
  {
   "cell_type": "code",
   "execution_count": 95,
   "metadata": {},
   "outputs": [
    {
     "data": {
      "text/html": [
       "<pre style=\"white-space:pre;overflow-x:auto;line-height:normal;font-family:Menlo,'DejaVu Sans Mono',consolas,'Courier New',monospace\">┏━━━━━━━┳━━━━━━━━━━┳━━━━━━━━━┳━━━━━━━━━┳━━━━━━━━━━━━━━━━━━━━━━━┳━━━━━━━━━━━━━━━━━━┳━━━━━━━━━━━━━━┓\n",
       "┃<span style=\"font-weight: bold\"> no.   </span>┃<span style=\"font-weight: bold\"> salary   </span>┃<span style=\"font-weight: bold\"> a       </span>┃<span style=\"font-weight: bold\"> b       </span>┃<span style=\"font-weight: bold\"> financial_achievement </span>┃<span style=\"font-weight: bold\"> incentive_target </span>┃<span style=\"font-weight: bold\"> incentive    </span>┃\n",
       "┡━━━━━━━╇━━━━━━━━━━╇━━━━━━━━━╇━━━━━━━━━╇━━━━━━━━━━━━━━━━━━━━━━━╇━━━━━━━━━━━━━━━━━━╇━━━━━━━━━━━━━━┩\n",
       "│ <span style=\"color: #7f7f7f; text-decoration-color: #7f7f7f\">int64</span> │ <span style=\"color: #7f7f7f; text-decoration-color: #7f7f7f\">int64</span>    │ <span style=\"color: #7f7f7f; text-decoration-color: #7f7f7f\">float64</span> │ <span style=\"color: #7f7f7f; text-decoration-color: #7f7f7f\">float64</span> │ <span style=\"color: #7f7f7f; text-decoration-color: #7f7f7f\">float64</span>               │ <span style=\"color: #7f7f7f; text-decoration-color: #7f7f7f\">int8</span>             │ <span style=\"color: #7f7f7f; text-decoration-color: #7f7f7f\">float64</span>      │\n",
       "├───────┼──────────┼─────────┼─────────┼───────────────────────┼──────────────────┼──────────────┤\n",
       "│     <span style=\"color: #008080; text-decoration-color: #008080; font-weight: bold\">1</span> │ <span style=\"color: #008080; text-decoration-color: #008080; font-weight: bold\">58152000</span> │    <span style=\"color: #008080; text-decoration-color: #008080; font-weight: bold\">76.5</span> │    <span style=\"color: #008080; text-decoration-color: #008080; font-weight: bold\">80.0</span> │                 <span style=\"color: #008080; text-decoration-color: #008080; font-weight: bold\">156.5</span> │               <span style=\"color: #008080; text-decoration-color: #008080; font-weight: bold\">10</span> │ <span style=\"color: #008080; text-decoration-color: #008080; font-weight: bold\">9.100788e+06</span> │\n",
       "│     <span style=\"color: #008080; text-decoration-color: #008080; font-weight: bold\">2</span> │ <span style=\"color: #008080; text-decoration-color: #008080; font-weight: bold\">65448000</span> │    <span style=\"color: #008080; text-decoration-color: #008080; font-weight: bold\">76.5</span> │    <span style=\"color: #008080; text-decoration-color: #008080; font-weight: bold\">80.0</span> │                 <span style=\"color: #008080; text-decoration-color: #008080; font-weight: bold\">156.5</span> │               <span style=\"color: #008080; text-decoration-color: #008080; font-weight: bold\">10</span> │ <span style=\"color: #008080; text-decoration-color: #008080; font-weight: bold\">1.024261e+07</span> │\n",
       "│     <span style=\"color: #008080; text-decoration-color: #008080; font-weight: bold\">3</span> │ <span style=\"color: #008080; text-decoration-color: #008080; font-weight: bold\">55728000</span> │    <span style=\"color: #008080; text-decoration-color: #008080; font-weight: bold\">76.5</span> │    <span style=\"color: #008080; text-decoration-color: #008080; font-weight: bold\">80.0</span> │                 <span style=\"color: #008080; text-decoration-color: #008080; font-weight: bold\">156.5</span> │               <span style=\"color: #008080; text-decoration-color: #008080; font-weight: bold\">10</span> │ <span style=\"color: #008080; text-decoration-color: #008080; font-weight: bold\">8.721432e+06</span> │\n",
       "└───────┴──────────┴─────────┴─────────┴───────────────────────┴──────────────────┴──────────────┘\n",
       "</pre>\n"
      ],
      "text/plain": [
       "┏━━━━━━━┳━━━━━━━━━━┳━━━━━━━━━┳━━━━━━━━━┳━━━━━━━━━━━━━━━━━━━━━━━┳━━━━━━━━━━━━━━━━━━┳━━━━━━━━━━━━━━┓\n",
       "┃\u001b[1m \u001b[0m\u001b[1mno.\u001b[0m\u001b[1m  \u001b[0m\u001b[1m \u001b[0m┃\u001b[1m \u001b[0m\u001b[1msalary\u001b[0m\u001b[1m  \u001b[0m\u001b[1m \u001b[0m┃\u001b[1m \u001b[0m\u001b[1ma\u001b[0m\u001b[1m      \u001b[0m\u001b[1m \u001b[0m┃\u001b[1m \u001b[0m\u001b[1mb\u001b[0m\u001b[1m      \u001b[0m\u001b[1m \u001b[0m┃\u001b[1m \u001b[0m\u001b[1mfinancial_achievement\u001b[0m\u001b[1m \u001b[0m┃\u001b[1m \u001b[0m\u001b[1mincentive_target\u001b[0m\u001b[1m \u001b[0m┃\u001b[1m \u001b[0m\u001b[1mincentive\u001b[0m\u001b[1m   \u001b[0m\u001b[1m \u001b[0m┃\n",
       "┡━━━━━━━╇━━━━━━━━━━╇━━━━━━━━━╇━━━━━━━━━╇━━━━━━━━━━━━━━━━━━━━━━━╇━━━━━━━━━━━━━━━━━━╇━━━━━━━━━━━━━━┩\n",
       "│ \u001b[2mint64\u001b[0m │ \u001b[2mint64\u001b[0m    │ \u001b[2mfloat64\u001b[0m │ \u001b[2mfloat64\u001b[0m │ \u001b[2mfloat64\u001b[0m               │ \u001b[2mint8\u001b[0m             │ \u001b[2mfloat64\u001b[0m      │\n",
       "├───────┼──────────┼─────────┼─────────┼───────────────────────┼──────────────────┼──────────────┤\n",
       "│     \u001b[1;36m1\u001b[0m │ \u001b[1;36m58152000\u001b[0m │    \u001b[1;36m76.5\u001b[0m │    \u001b[1;36m80.0\u001b[0m │                 \u001b[1;36m156.5\u001b[0m │               \u001b[1;36m10\u001b[0m │ \u001b[1;36m9.100788e+06\u001b[0m │\n",
       "│     \u001b[1;36m2\u001b[0m │ \u001b[1;36m65448000\u001b[0m │    \u001b[1;36m76.5\u001b[0m │    \u001b[1;36m80.0\u001b[0m │                 \u001b[1;36m156.5\u001b[0m │               \u001b[1;36m10\u001b[0m │ \u001b[1;36m1.024261e+07\u001b[0m │\n",
       "│     \u001b[1;36m3\u001b[0m │ \u001b[1;36m55728000\u001b[0m │    \u001b[1;36m76.5\u001b[0m │    \u001b[1;36m80.0\u001b[0m │                 \u001b[1;36m156.5\u001b[0m │               \u001b[1;36m10\u001b[0m │ \u001b[1;36m8.721432e+06\u001b[0m │\n",
       "└───────┴──────────┴─────────┴─────────┴───────────────────────┴──────────────────┴──────────────┘"
      ]
     },
     "execution_count": 95,
     "metadata": {},
     "output_type": "execute_result"
    }
   ],
   "source": [
    "# vt_group = 153 or 50\n",
    "temp = (t1\n",
    "    .mutate(\n",
    "        a = (153) * 0.5,\n",
    "        b = personal(153) * 0.5,\n",
    "        financial_achievement = financial_calc(153),\n",
    "        incentive_target = 10,\n",
    "    )\n",
    "    .mutate(incentive = (_.salary * _.financial_achievement * _.incentive_target / 10**4).round(0))\n",
    " )\n",
    "temp.head(3)"
   ]
  },
  {
   "cell_type": "code",
   "execution_count": 96,
   "metadata": {},
   "outputs": [
    {
     "data": {
      "text/html": [
       "<pre style=\"white-space:pre;overflow-x:auto;line-height:normal;font-family:Menlo,'DejaVu Sans Mono',consolas,'Courier New',monospace\">┏━━━━━━━━━━━━━━┳━━━━━━━━━━━━━━┓\n",
       "┃<span style=\"font-weight: bold\"> average      </span>┃<span style=\"font-weight: bold\"> total        </span>┃\n",
       "┡━━━━━━━━━━━━━━╇━━━━━━━━━━━━━━┩\n",
       "│ <span style=\"color: #7f7f7f; text-decoration-color: #7f7f7f\">float64</span>      │ <span style=\"color: #7f7f7f; text-decoration-color: #7f7f7f\">float64</span>      │\n",
       "├──────────────┼──────────────┤\n",
       "│ <span style=\"color: #008080; text-decoration-color: #008080; font-weight: bold\">9.658615e+06</span> │ <span style=\"color: #008080; text-decoration-color: #008080; font-weight: bold\">2.095919e+09</span> │\n",
       "└──────────────┴──────────────┘\n",
       "</pre>\n"
      ],
      "text/plain": [
       "┏━━━━━━━━━━━━━━┳━━━━━━━━━━━━━━┓\n",
       "┃\u001b[1m \u001b[0m\u001b[1maverage\u001b[0m\u001b[1m     \u001b[0m\u001b[1m \u001b[0m┃\u001b[1m \u001b[0m\u001b[1mtotal\u001b[0m\u001b[1m       \u001b[0m\u001b[1m \u001b[0m┃\n",
       "┡━━━━━━━━━━━━━━╇━━━━━━━━━━━━━━┩\n",
       "│ \u001b[2mfloat64\u001b[0m      │ \u001b[2mfloat64\u001b[0m      │\n",
       "├──────────────┼──────────────┤\n",
       "│ \u001b[1;36m9.658615e+06\u001b[0m │ \u001b[1;36m2.095919e+09\u001b[0m │\n",
       "└──────────────┴──────────────┘"
      ]
     },
     "execution_count": 96,
     "metadata": {},
     "output_type": "execute_result"
    }
   ],
   "source": [
    "temp.aggregate(average = _.incentive.mean(), total = _.incentive.sum())"
   ]
  },
  {
   "cell_type": "markdown",
   "metadata": {},
   "source": [
    "### Cross Join for various vt_group, with incentive target 10%"
   ]
  },
  {
   "cell_type": "code",
   "execution_count": 15,
   "metadata": {},
   "outputs": [
    {
     "data": {
      "text/html": [
       "<pre style=\"white-space:pre;overflow-x:auto;line-height:normal;font-family:Menlo,'DejaVu Sans Mono',consolas,'Courier New',monospace\">┏━━━━━━━━━━━━━━━━━━┳━━━━━━━━━━┳━━━━━━━┳━━━━━━━━━━┓\n",
       "┃<span style=\"font-weight: bold\"> incentive_target </span>┃<span style=\"font-weight: bold\"> vt_group </span>┃<span style=\"font-weight: bold\"> no.   </span>┃<span style=\"font-weight: bold\"> salary   </span>┃\n",
       "┡━━━━━━━━━━━━━━━━━━╇━━━━━━━━━━╇━━━━━━━╇━━━━━━━━━━┩\n",
       "│ <span style=\"color: #7f7f7f; text-decoration-color: #7f7f7f\">int64</span>            │ <span style=\"color: #7f7f7f; text-decoration-color: #7f7f7f\">int64</span>    │ <span style=\"color: #7f7f7f; text-decoration-color: #7f7f7f\">int64</span> │ <span style=\"color: #7f7f7f; text-decoration-color: #7f7f7f\">int64</span>    │\n",
       "├──────────────────┼──────────┼───────┼──────────┤\n",
       "│                <span style=\"color: #008080; text-decoration-color: #008080; font-weight: bold\">5</span> │        <span style=\"color: #008080; text-decoration-color: #008080; font-weight: bold\">0</span> │     <span style=\"color: #008080; text-decoration-color: #008080; font-weight: bold\">1</span> │ <span style=\"color: #008080; text-decoration-color: #008080; font-weight: bold\">58152000</span> │\n",
       "│                <span style=\"color: #008080; text-decoration-color: #008080; font-weight: bold\">5</span> │        <span style=\"color: #008080; text-decoration-color: #008080; font-weight: bold\">0</span> │     <span style=\"color: #008080; text-decoration-color: #008080; font-weight: bold\">2</span> │ <span style=\"color: #008080; text-decoration-color: #008080; font-weight: bold\">65448000</span> │\n",
       "│                <span style=\"color: #008080; text-decoration-color: #008080; font-weight: bold\">5</span> │        <span style=\"color: #008080; text-decoration-color: #008080; font-weight: bold\">0</span> │     <span style=\"color: #008080; text-decoration-color: #008080; font-weight: bold\">3</span> │ <span style=\"color: #008080; text-decoration-color: #008080; font-weight: bold\">55728000</span> │\n",
       "└──────────────────┴──────────┴───────┴──────────┘\n",
       "</pre>\n"
      ],
      "text/plain": [
       "┏━━━━━━━━━━━━━━━━━━┳━━━━━━━━━━┳━━━━━━━┳━━━━━━━━━━┓\n",
       "┃\u001b[1m \u001b[0m\u001b[1mincentive_target\u001b[0m\u001b[1m \u001b[0m┃\u001b[1m \u001b[0m\u001b[1mvt_group\u001b[0m\u001b[1m \u001b[0m┃\u001b[1m \u001b[0m\u001b[1mno.\u001b[0m\u001b[1m  \u001b[0m\u001b[1m \u001b[0m┃\u001b[1m \u001b[0m\u001b[1msalary\u001b[0m\u001b[1m  \u001b[0m\u001b[1m \u001b[0m┃\n",
       "┡━━━━━━━━━━━━━━━━━━╇━━━━━━━━━━╇━━━━━━━╇━━━━━━━━━━┩\n",
       "│ \u001b[2mint64\u001b[0m            │ \u001b[2mint64\u001b[0m    │ \u001b[2mint64\u001b[0m │ \u001b[2mint64\u001b[0m    │\n",
       "├──────────────────┼──────────┼───────┼──────────┤\n",
       "│                \u001b[1;36m5\u001b[0m │        \u001b[1;36m0\u001b[0m │     \u001b[1;36m1\u001b[0m │ \u001b[1;36m58152000\u001b[0m │\n",
       "│                \u001b[1;36m5\u001b[0m │        \u001b[1;36m0\u001b[0m │     \u001b[1;36m2\u001b[0m │ \u001b[1;36m65448000\u001b[0m │\n",
       "│                \u001b[1;36m5\u001b[0m │        \u001b[1;36m0\u001b[0m │     \u001b[1;36m3\u001b[0m │ \u001b[1;36m55728000\u001b[0m │\n",
       "└──────────────────┴──────────┴───────┴──────────┘"
      ]
     },
     "execution_count": 15,
     "metadata": {},
     "output_type": "execute_result"
    }
   ],
   "source": [
    "t = (t3\n",
    "    .join(t2, how=\"cross\")\n",
    "    .join(t1, how=\"cross\")\n",
    ")\n",
    "t.head(3)"
   ]
  },
  {
   "cell_type": "code",
   "execution_count": 16,
   "metadata": {},
   "outputs": [
    {
     "data": {
      "text/html": [
       "<pre style=\"white-space:pre;overflow-x:auto;line-height:normal;font-family:Menlo,'DejaVu Sans Mono',consolas,'Courier New',monospace\">┏━━━━━━━━━━━━━━━━━━┳━━━━━━━━━━┳━━━━━━━┳━━━━━━━━━━┳━━━━━━━━━┳━━━━━━━━━┳━━━━━━━━━━━━━━━━━━━━━━━┳━━━━━━━━━━━━━━┓\n",
       "┃<span style=\"font-weight: bold\"> incentive_target </span>┃<span style=\"font-weight: bold\"> vt_group </span>┃<span style=\"font-weight: bold\"> no.   </span>┃<span style=\"font-weight: bold\"> salary   </span>┃<span style=\"font-weight: bold\"> a       </span>┃<span style=\"font-weight: bold\"> b       </span>┃<span style=\"font-weight: bold\"> financial_achievement </span>┃<span style=\"font-weight: bold\"> incentive    </span>┃\n",
       "┡━━━━━━━━━━━━━━━━━━╇━━━━━━━━━━╇━━━━━━━╇━━━━━━━━━━╇━━━━━━━━━╇━━━━━━━━━╇━━━━━━━━━━━━━━━━━━━━━━━╇━━━━━━━━━━━━━━┩\n",
       "│ <span style=\"color: #7f7f7f; text-decoration-color: #7f7f7f\">int64</span>            │ <span style=\"color: #7f7f7f; text-decoration-color: #7f7f7f\">int64</span>    │ <span style=\"color: #7f7f7f; text-decoration-color: #7f7f7f\">int64</span> │ <span style=\"color: #7f7f7f; text-decoration-color: #7f7f7f\">int64</span>    │ <span style=\"color: #7f7f7f; text-decoration-color: #7f7f7f\">float64</span> │ <span style=\"color: #7f7f7f; text-decoration-color: #7f7f7f\">float64</span> │ <span style=\"color: #7f7f7f; text-decoration-color: #7f7f7f\">float64</span>               │ <span style=\"color: #7f7f7f; text-decoration-color: #7f7f7f\">float64</span>      │\n",
       "├──────────────────┼──────────┼───────┼──────────┼─────────┼─────────┼───────────────────────┼──────────────┤\n",
       "│                <span style=\"color: #008080; text-decoration-color: #008080; font-weight: bold\">5</span> │        <span style=\"color: #008080; text-decoration-color: #008080; font-weight: bold\">0</span> │     <span style=\"color: #008080; text-decoration-color: #008080; font-weight: bold\">1</span> │ <span style=\"color: #008080; text-decoration-color: #008080; font-weight: bold\">58152000</span> │     <span style=\"color: #008080; text-decoration-color: #008080; font-weight: bold\">0.0</span> │    <span style=\"color: #008080; text-decoration-color: #008080; font-weight: bold\">40.0</span> │                  <span style=\"color: #008080; text-decoration-color: #008080; font-weight: bold\">40.0</span> │ <span style=\"color: #008080; text-decoration-color: #008080; font-weight: bold\">1.163040e+06</span> │\n",
       "│                <span style=\"color: #008080; text-decoration-color: #008080; font-weight: bold\">5</span> │        <span style=\"color: #008080; text-decoration-color: #008080; font-weight: bold\">0</span> │     <span style=\"color: #008080; text-decoration-color: #008080; font-weight: bold\">2</span> │ <span style=\"color: #008080; text-decoration-color: #008080; font-weight: bold\">65448000</span> │     <span style=\"color: #008080; text-decoration-color: #008080; font-weight: bold\">0.0</span> │    <span style=\"color: #008080; text-decoration-color: #008080; font-weight: bold\">40.0</span> │                  <span style=\"color: #008080; text-decoration-color: #008080; font-weight: bold\">40.0</span> │ <span style=\"color: #008080; text-decoration-color: #008080; font-weight: bold\">1.308960e+06</span> │\n",
       "│                <span style=\"color: #008080; text-decoration-color: #008080; font-weight: bold\">5</span> │        <span style=\"color: #008080; text-decoration-color: #008080; font-weight: bold\">0</span> │     <span style=\"color: #008080; text-decoration-color: #008080; font-weight: bold\">3</span> │ <span style=\"color: #008080; text-decoration-color: #008080; font-weight: bold\">55728000</span> │     <span style=\"color: #008080; text-decoration-color: #008080; font-weight: bold\">0.0</span> │    <span style=\"color: #008080; text-decoration-color: #008080; font-weight: bold\">40.0</span> │                  <span style=\"color: #008080; text-decoration-color: #008080; font-weight: bold\">40.0</span> │ <span style=\"color: #008080; text-decoration-color: #008080; font-weight: bold\">1.114560e+06</span> │\n",
       "└──────────────────┴──────────┴───────┴──────────┴─────────┴─────────┴───────────────────────┴──────────────┘\n",
       "</pre>\n"
      ],
      "text/plain": [
       "┏━━━━━━━━━━━━━━━━━━┳━━━━━━━━━━┳━━━━━━━┳━━━━━━━━━━┳━━━━━━━━━┳━━━━━━━━━┳━━━━━━━━━━━━━━━━━━━━━━━┳━━━━━━━━━━━━━━┓\n",
       "┃\u001b[1m \u001b[0m\u001b[1mincentive_target\u001b[0m\u001b[1m \u001b[0m┃\u001b[1m \u001b[0m\u001b[1mvt_group\u001b[0m\u001b[1m \u001b[0m┃\u001b[1m \u001b[0m\u001b[1mno.\u001b[0m\u001b[1m  \u001b[0m\u001b[1m \u001b[0m┃\u001b[1m \u001b[0m\u001b[1msalary\u001b[0m\u001b[1m  \u001b[0m\u001b[1m \u001b[0m┃\u001b[1m \u001b[0m\u001b[1ma\u001b[0m\u001b[1m      \u001b[0m\u001b[1m \u001b[0m┃\u001b[1m \u001b[0m\u001b[1mb\u001b[0m\u001b[1m      \u001b[0m\u001b[1m \u001b[0m┃\u001b[1m \u001b[0m\u001b[1mfinancial_achievement\u001b[0m\u001b[1m \u001b[0m┃\u001b[1m \u001b[0m\u001b[1mincentive\u001b[0m\u001b[1m   \u001b[0m\u001b[1m \u001b[0m┃\n",
       "┡━━━━━━━━━━━━━━━━━━╇━━━━━━━━━━╇━━━━━━━╇━━━━━━━━━━╇━━━━━━━━━╇━━━━━━━━━╇━━━━━━━━━━━━━━━━━━━━━━━╇━━━━━━━━━━━━━━┩\n",
       "│ \u001b[2mint64\u001b[0m            │ \u001b[2mint64\u001b[0m    │ \u001b[2mint64\u001b[0m │ \u001b[2mint64\u001b[0m    │ \u001b[2mfloat64\u001b[0m │ \u001b[2mfloat64\u001b[0m │ \u001b[2mfloat64\u001b[0m               │ \u001b[2mfloat64\u001b[0m      │\n",
       "├──────────────────┼──────────┼───────┼──────────┼─────────┼─────────┼───────────────────────┼──────────────┤\n",
       "│                \u001b[1;36m5\u001b[0m │        \u001b[1;36m0\u001b[0m │     \u001b[1;36m1\u001b[0m │ \u001b[1;36m58152000\u001b[0m │     \u001b[1;36m0.0\u001b[0m │    \u001b[1;36m40.0\u001b[0m │                  \u001b[1;36m40.0\u001b[0m │ \u001b[1;36m1.163040e+06\u001b[0m │\n",
       "│                \u001b[1;36m5\u001b[0m │        \u001b[1;36m0\u001b[0m │     \u001b[1;36m2\u001b[0m │ \u001b[1;36m65448000\u001b[0m │     \u001b[1;36m0.0\u001b[0m │    \u001b[1;36m40.0\u001b[0m │                  \u001b[1;36m40.0\u001b[0m │ \u001b[1;36m1.308960e+06\u001b[0m │\n",
       "│                \u001b[1;36m5\u001b[0m │        \u001b[1;36m0\u001b[0m │     \u001b[1;36m3\u001b[0m │ \u001b[1;36m55728000\u001b[0m │     \u001b[1;36m0.0\u001b[0m │    \u001b[1;36m40.0\u001b[0m │                  \u001b[1;36m40.0\u001b[0m │ \u001b[1;36m1.114560e+06\u001b[0m │\n",
       "└──────────────────┴──────────┴───────┴──────────┴─────────┴─────────┴───────────────────────┴──────────────┘"
      ]
     },
     "execution_count": 16,
     "metadata": {},
     "output_type": "execute_result"
    }
   ],
   "source": [
    "t = (t\n",
    "    .mutate(\n",
    "        a = _.vt_group * 0.5,\n",
    "        b = ibis.case()\n",
    "            .when(t.vt_group < 50, 80)\n",
    "            .when(t.vt_group < 85, 100)\n",
    "            .when(t.vt_group < 140, 120)\n",
    "            .when(True, 160)\n",
    "            .end() * 0.5,\n",
    "    )\n",
    "    .mutate(\n",
    "        financial_achievement = _.a + _.b,\n",
    "        # incentive_target = 10,\n",
    "    )\n",
    "    .mutate(incentive = (_.salary * _.financial_achievement * _.incentive_target / 10**4).round(0))\n",
    " )\n",
    "t.head(3)"
   ]
  },
  {
   "cell_type": "code",
   "execution_count": 17,
   "metadata": {},
   "outputs": [
    {
     "data": {
      "text/html": [
       "<div>\n",
       "<style scoped>\n",
       "    .dataframe tbody tr th:only-of-type {\n",
       "        vertical-align: middle;\n",
       "    }\n",
       "\n",
       "    .dataframe tbody tr th {\n",
       "        vertical-align: top;\n",
       "    }\n",
       "\n",
       "    .dataframe thead th {\n",
       "        text-align: right;\n",
       "    }\n",
       "</style>\n",
       "<table border=\"1\" class=\"dataframe\">\n",
       "  <thead>\n",
       "    <tr style=\"text-align: right;\">\n",
       "      <th></th>\n",
       "      <th>incentive_target</th>\n",
       "      <th>vt_group</th>\n",
       "      <th>no.</th>\n",
       "      <th>salary</th>\n",
       "      <th>a</th>\n",
       "      <th>b</th>\n",
       "      <th>financial_achievement</th>\n",
       "      <th>incentive</th>\n",
       "    </tr>\n",
       "  </thead>\n",
       "  <tbody>\n",
       "    <tr>\n",
       "      <th>0</th>\n",
       "      <td>5</td>\n",
       "      <td>0</td>\n",
       "      <td>1</td>\n",
       "      <td>58152000</td>\n",
       "      <td>0.0</td>\n",
       "      <td>40.0</td>\n",
       "      <td>40.0</td>\n",
       "      <td>1163040.0</td>\n",
       "    </tr>\n",
       "    <tr>\n",
       "      <th>1</th>\n",
       "      <td>5</td>\n",
       "      <td>0</td>\n",
       "      <td>2</td>\n",
       "      <td>65448000</td>\n",
       "      <td>0.0</td>\n",
       "      <td>40.0</td>\n",
       "      <td>40.0</td>\n",
       "      <td>1308960.0</td>\n",
       "    </tr>\n",
       "    <tr>\n",
       "      <th>2</th>\n",
       "      <td>5</td>\n",
       "      <td>0</td>\n",
       "      <td>3</td>\n",
       "      <td>55728000</td>\n",
       "      <td>0.0</td>\n",
       "      <td>40.0</td>\n",
       "      <td>40.0</td>\n",
       "      <td>1114560.0</td>\n",
       "    </tr>\n",
       "    <tr>\n",
       "      <th>3</th>\n",
       "      <td>5</td>\n",
       "      <td>0</td>\n",
       "      <td>4</td>\n",
       "      <td>57336000</td>\n",
       "      <td>0.0</td>\n",
       "      <td>40.0</td>\n",
       "      <td>40.0</td>\n",
       "      <td>1146720.0</td>\n",
       "    </tr>\n",
       "    <tr>\n",
       "      <th>4</th>\n",
       "      <td>5</td>\n",
       "      <td>0</td>\n",
       "      <td>5</td>\n",
       "      <td>62736000</td>\n",
       "      <td>0.0</td>\n",
       "      <td>40.0</td>\n",
       "      <td>40.0</td>\n",
       "      <td>1254720.0</td>\n",
       "    </tr>\n",
       "    <tr>\n",
       "      <th>...</th>\n",
       "      <td>...</td>\n",
       "      <td>...</td>\n",
       "      <td>...</td>\n",
       "      <td>...</td>\n",
       "      <td>...</td>\n",
       "      <td>...</td>\n",
       "      <td>...</td>\n",
       "      <td>...</td>\n",
       "    </tr>\n",
       "    <tr>\n",
       "      <th>130846</th>\n",
       "      <td>15</td>\n",
       "      <td>200</td>\n",
       "      <td>213</td>\n",
       "      <td>57576000</td>\n",
       "      <td>100.0</td>\n",
       "      <td>80.0</td>\n",
       "      <td>180.0</td>\n",
       "      <td>15545520.0</td>\n",
       "    </tr>\n",
       "    <tr>\n",
       "      <th>130847</th>\n",
       "      <td>15</td>\n",
       "      <td>200</td>\n",
       "      <td>214</td>\n",
       "      <td>57384000</td>\n",
       "      <td>100.0</td>\n",
       "      <td>80.0</td>\n",
       "      <td>180.0</td>\n",
       "      <td>15493680.0</td>\n",
       "    </tr>\n",
       "    <tr>\n",
       "      <th>130848</th>\n",
       "      <td>15</td>\n",
       "      <td>200</td>\n",
       "      <td>215</td>\n",
       "      <td>65760000</td>\n",
       "      <td>100.0</td>\n",
       "      <td>80.0</td>\n",
       "      <td>180.0</td>\n",
       "      <td>17755200.0</td>\n",
       "    </tr>\n",
       "    <tr>\n",
       "      <th>130849</th>\n",
       "      <td>15</td>\n",
       "      <td>200</td>\n",
       "      <td>216</td>\n",
       "      <td>75264000</td>\n",
       "      <td>100.0</td>\n",
       "      <td>80.0</td>\n",
       "      <td>180.0</td>\n",
       "      <td>20321280.0</td>\n",
       "    </tr>\n",
       "    <tr>\n",
       "      <th>130850</th>\n",
       "      <td>15</td>\n",
       "      <td>200</td>\n",
       "      <td>217</td>\n",
       "      <td>64848000</td>\n",
       "      <td>100.0</td>\n",
       "      <td>80.0</td>\n",
       "      <td>180.0</td>\n",
       "      <td>17508960.0</td>\n",
       "    </tr>\n",
       "  </tbody>\n",
       "</table>\n",
       "<p>130851 rows × 8 columns</p>\n",
       "</div>"
      ],
      "text/plain": [
       "        incentive_target  vt_group  no.    salary      a     b  \\\n",
       "0                      5         0    1  58152000    0.0  40.0   \n",
       "1                      5         0    2  65448000    0.0  40.0   \n",
       "2                      5         0    3  55728000    0.0  40.0   \n",
       "3                      5         0    4  57336000    0.0  40.0   \n",
       "4                      5         0    5  62736000    0.0  40.0   \n",
       "...                  ...       ...  ...       ...    ...   ...   \n",
       "130846                15       200  213  57576000  100.0  80.0   \n",
       "130847                15       200  214  57384000  100.0  80.0   \n",
       "130848                15       200  215  65760000  100.0  80.0   \n",
       "130849                15       200  216  75264000  100.0  80.0   \n",
       "130850                15       200  217  64848000  100.0  80.0   \n",
       "\n",
       "        financial_achievement   incentive  \n",
       "0                        40.0   1163040.0  \n",
       "1                        40.0   1308960.0  \n",
       "2                        40.0   1114560.0  \n",
       "3                        40.0   1146720.0  \n",
       "4                        40.0   1254720.0  \n",
       "...                       ...         ...  \n",
       "130846                  180.0  15545520.0  \n",
       "130847                  180.0  15493680.0  \n",
       "130848                  180.0  17755200.0  \n",
       "130849                  180.0  20321280.0  \n",
       "130850                  180.0  17508960.0  \n",
       "\n",
       "[130851 rows x 8 columns]"
      ]
     },
     "execution_count": 17,
     "metadata": {},
     "output_type": "execute_result"
    }
   ],
   "source": [
    "interim = t.to_pandas()\n",
    "interim.to_csv(\"temp.csv\", index=False)\n",
    "interim"
   ]
  },
  {
   "cell_type": "code",
   "execution_count": 19,
   "metadata": {},
   "outputs": [
    {
     "data": {
      "text/html": [
       "<pre style=\"white-space:pre;overflow-x:auto;line-height:normal;font-family:Menlo,'DejaVu Sans Mono',consolas,'Courier New',monospace\">┏━━━━━━━━━━━━━━━━━━┳━━━━━━━━━━┳━━━━━━━━━┳━━━━━━━━━┳━━━━━━━━━━━━━━━━━━━━━━━┳━━━━━━━━━━━━━━━━┳━━━━━━━━━━━━━━┳━━━━━━━━━━━━━━━━━━━┳━━━━━━━━━━━━━━━━━┓\n",
       "┃<span style=\"font-weight: bold\"> incentive_target </span>┃<span style=\"font-weight: bold\"> vt_group </span>┃<span style=\"font-weight: bold\"> a       </span>┃<span style=\"font-weight: bold\"> b       </span>┃<span style=\"font-weight: bold\"> financial_achievement </span>┃<span style=\"font-weight: bold\"> average_salary </span>┃<span style=\"font-weight: bold\"> total_salary </span>┃<span style=\"font-weight: bold\"> average_incentive </span>┃<span style=\"font-weight: bold\"> total_incentive </span>┃\n",
       "┡━━━━━━━━━━━━━━━━━━╇━━━━━━━━━━╇━━━━━━━━━╇━━━━━━━━━╇━━━━━━━━━━━━━━━━━━━━━━━╇━━━━━━━━━━━━━━━━╇━━━━━━━━━━━━━━╇━━━━━━━━━━━━━━━━━━━╇━━━━━━━━━━━━━━━━━┩\n",
       "│ <span style=\"color: #7f7f7f; text-decoration-color: #7f7f7f\">int64</span>            │ <span style=\"color: #7f7f7f; text-decoration-color: #7f7f7f\">int64</span>    │ <span style=\"color: #7f7f7f; text-decoration-color: #7f7f7f\">float64</span> │ <span style=\"color: #7f7f7f; text-decoration-color: #7f7f7f\">float64</span> │ <span style=\"color: #7f7f7f; text-decoration-color: #7f7f7f\">float64</span>               │ <span style=\"color: #7f7f7f; text-decoration-color: #7f7f7f\">float64</span>        │ <span style=\"color: #7f7f7f; text-decoration-color: #7f7f7f\">int64</span>        │ <span style=\"color: #7f7f7f; text-decoration-color: #7f7f7f\">float64</span>           │ <span style=\"color: #7f7f7f; text-decoration-color: #7f7f7f\">float64</span>         │\n",
       "├──────────────────┼──────────┼─────────┼─────────┼───────────────────────┼────────────────┼──────────────┼───────────────────┼─────────────────┤\n",
       "│                <span style=\"color: #008080; text-decoration-color: #008080; font-weight: bold\">5</span> │        <span style=\"color: #008080; text-decoration-color: #008080; font-weight: bold\">0</span> │     <span style=\"color: #008080; text-decoration-color: #008080; font-weight: bold\">0.0</span> │    <span style=\"color: #008080; text-decoration-color: #008080; font-weight: bold\">40.0</span> │                  <span style=\"color: #008080; text-decoration-color: #008080; font-weight: bold\">40.0</span> │   <span style=\"color: #008080; text-decoration-color: #008080; font-weight: bold\">6.171639e+07</span> │  <span style=\"color: #008080; text-decoration-color: #008080; font-weight: bold\">13392456000</span> │      <span style=\"color: #008080; text-decoration-color: #008080; font-weight: bold\">1.234328e+06</span> │    <span style=\"color: #008080; text-decoration-color: #008080; font-weight: bold\">2.678491e+08</span> │\n",
       "│                <span style=\"color: #008080; text-decoration-color: #008080; font-weight: bold\">5</span> │        <span style=\"color: #008080; text-decoration-color: #008080; font-weight: bold\">1</span> │     <span style=\"color: #008080; text-decoration-color: #008080; font-weight: bold\">0.5</span> │    <span style=\"color: #008080; text-decoration-color: #008080; font-weight: bold\">40.0</span> │                  <span style=\"color: #008080; text-decoration-color: #008080; font-weight: bold\">40.5</span> │   <span style=\"color: #008080; text-decoration-color: #008080; font-weight: bold\">6.171639e+07</span> │  <span style=\"color: #008080; text-decoration-color: #008080; font-weight: bold\">13392456000</span> │      <span style=\"color: #008080; text-decoration-color: #008080; font-weight: bold\">1.249757e+06</span> │    <span style=\"color: #008080; text-decoration-color: #008080; font-weight: bold\">2.711972e+08</span> │\n",
       "│                <span style=\"color: #008080; text-decoration-color: #008080; font-weight: bold\">5</span> │        <span style=\"color: #008080; text-decoration-color: #008080; font-weight: bold\">2</span> │     <span style=\"color: #008080; text-decoration-color: #008080; font-weight: bold\">1.0</span> │    <span style=\"color: #008080; text-decoration-color: #008080; font-weight: bold\">40.0</span> │                  <span style=\"color: #008080; text-decoration-color: #008080; font-weight: bold\">41.0</span> │   <span style=\"color: #008080; text-decoration-color: #008080; font-weight: bold\">6.171639e+07</span> │  <span style=\"color: #008080; text-decoration-color: #008080; font-weight: bold\">13392456000</span> │      <span style=\"color: #008080; text-decoration-color: #008080; font-weight: bold\">1.265186e+06</span> │    <span style=\"color: #008080; text-decoration-color: #008080; font-weight: bold\">2.745453e+08</span> │\n",
       "└──────────────────┴──────────┴─────────┴─────────┴───────────────────────┴────────────────┴──────────────┴───────────────────┴─────────────────┘\n",
       "</pre>\n"
      ],
      "text/plain": [
       "┏━━━━━━━━━━━━━━━━━━┳━━━━━━━━━━┳━━━━━━━━━┳━━━━━━━━━┳━━━━━━━━━━━━━━━━━━━━━━━┳━━━━━━━━━━━━━━━━┳━━━━━━━━━━━━━━┳━━━━━━━━━━━━━━━━━━━┳━━━━━━━━━━━━━━━━━┓\n",
       "┃\u001b[1m \u001b[0m\u001b[1mincentive_target\u001b[0m\u001b[1m \u001b[0m┃\u001b[1m \u001b[0m\u001b[1mvt_group\u001b[0m\u001b[1m \u001b[0m┃\u001b[1m \u001b[0m\u001b[1ma\u001b[0m\u001b[1m      \u001b[0m\u001b[1m \u001b[0m┃\u001b[1m \u001b[0m\u001b[1mb\u001b[0m\u001b[1m      \u001b[0m\u001b[1m \u001b[0m┃\u001b[1m \u001b[0m\u001b[1mfinancial_achievement\u001b[0m\u001b[1m \u001b[0m┃\u001b[1m \u001b[0m\u001b[1maverage_salary\u001b[0m\u001b[1m \u001b[0m┃\u001b[1m \u001b[0m\u001b[1mtotal_salary\u001b[0m\u001b[1m \u001b[0m┃\u001b[1m \u001b[0m\u001b[1maverage_incentive\u001b[0m\u001b[1m \u001b[0m┃\u001b[1m \u001b[0m\u001b[1mtotal_incentive\u001b[0m\u001b[1m \u001b[0m┃\n",
       "┡━━━━━━━━━━━━━━━━━━╇━━━━━━━━━━╇━━━━━━━━━╇━━━━━━━━━╇━━━━━━━━━━━━━━━━━━━━━━━╇━━━━━━━━━━━━━━━━╇━━━━━━━━━━━━━━╇━━━━━━━━━━━━━━━━━━━╇━━━━━━━━━━━━━━━━━┩\n",
       "│ \u001b[2mint64\u001b[0m            │ \u001b[2mint64\u001b[0m    │ \u001b[2mfloat64\u001b[0m │ \u001b[2mfloat64\u001b[0m │ \u001b[2mfloat64\u001b[0m               │ \u001b[2mfloat64\u001b[0m        │ \u001b[2mint64\u001b[0m        │ \u001b[2mfloat64\u001b[0m           │ \u001b[2mfloat64\u001b[0m         │\n",
       "├──────────────────┼──────────┼─────────┼─────────┼───────────────────────┼────────────────┼──────────────┼───────────────────┼─────────────────┤\n",
       "│                \u001b[1;36m5\u001b[0m │        \u001b[1;36m0\u001b[0m │     \u001b[1;36m0.0\u001b[0m │    \u001b[1;36m40.0\u001b[0m │                  \u001b[1;36m40.0\u001b[0m │   \u001b[1;36m6.171639e+07\u001b[0m │  \u001b[1;36m13392456000\u001b[0m │      \u001b[1;36m1.234328e+06\u001b[0m │    \u001b[1;36m2.678491e+08\u001b[0m │\n",
       "│                \u001b[1;36m5\u001b[0m │        \u001b[1;36m1\u001b[0m │     \u001b[1;36m0.5\u001b[0m │    \u001b[1;36m40.0\u001b[0m │                  \u001b[1;36m40.5\u001b[0m │   \u001b[1;36m6.171639e+07\u001b[0m │  \u001b[1;36m13392456000\u001b[0m │      \u001b[1;36m1.249757e+06\u001b[0m │    \u001b[1;36m2.711972e+08\u001b[0m │\n",
       "│                \u001b[1;36m5\u001b[0m │        \u001b[1;36m2\u001b[0m │     \u001b[1;36m1.0\u001b[0m │    \u001b[1;36m40.0\u001b[0m │                  \u001b[1;36m41.0\u001b[0m │   \u001b[1;36m6.171639e+07\u001b[0m │  \u001b[1;36m13392456000\u001b[0m │      \u001b[1;36m1.265186e+06\u001b[0m │    \u001b[1;36m2.745453e+08\u001b[0m │\n",
       "└──────────────────┴──────────┴─────────┴─────────┴───────────────────────┴────────────────┴──────────────┴───────────────────┴─────────────────┘"
      ]
     },
     "execution_count": 19,
     "metadata": {},
     "output_type": "execute_result"
    }
   ],
   "source": [
    "result = t.group_by([\"incentive_target\", \"vt_group\", \"a\", \"b\", \"financial_achievement\"]).aggregate(\n",
    "    average_salary = _.salary.mean(),\n",
    "    total_salary = _.salary.sum(),\n",
    "    average_incentive = _.incentive.mean(),\n",
    "    total_incentive = _.incentive.sum(),\n",
    "    )\n",
    "result.head(3)\n"
   ]
  },
  {
   "cell_type": "code",
   "execution_count": 20,
   "metadata": {},
   "outputs": [
    {
     "data": {
      "text/html": [
       "<div>\n",
       "<style scoped>\n",
       "    .dataframe tbody tr th:only-of-type {\n",
       "        vertical-align: middle;\n",
       "    }\n",
       "\n",
       "    .dataframe tbody tr th {\n",
       "        vertical-align: top;\n",
       "    }\n",
       "\n",
       "    .dataframe thead th {\n",
       "        text-align: right;\n",
       "    }\n",
       "</style>\n",
       "<table border=\"1\" class=\"dataframe\">\n",
       "  <thead>\n",
       "    <tr style=\"text-align: right;\">\n",
       "      <th></th>\n",
       "      <th>incentive_target</th>\n",
       "      <th>vt_group</th>\n",
       "      <th>a</th>\n",
       "      <th>b</th>\n",
       "      <th>financial_achievement</th>\n",
       "      <th>average_salary</th>\n",
       "      <th>total_salary</th>\n",
       "      <th>average_incentive</th>\n",
       "      <th>total_incentive</th>\n",
       "    </tr>\n",
       "  </thead>\n",
       "  <tbody>\n",
       "    <tr>\n",
       "      <th>0</th>\n",
       "      <td>5</td>\n",
       "      <td>0</td>\n",
       "      <td>0.0</td>\n",
       "      <td>40.0</td>\n",
       "      <td>40.0</td>\n",
       "      <td>6.171639e+07</td>\n",
       "      <td>13392456000</td>\n",
       "      <td>1.234328e+06</td>\n",
       "      <td>2.678491e+08</td>\n",
       "    </tr>\n",
       "    <tr>\n",
       "      <th>1</th>\n",
       "      <td>5</td>\n",
       "      <td>1</td>\n",
       "      <td>0.5</td>\n",
       "      <td>40.0</td>\n",
       "      <td>40.5</td>\n",
       "      <td>6.171639e+07</td>\n",
       "      <td>13392456000</td>\n",
       "      <td>1.249757e+06</td>\n",
       "      <td>2.711972e+08</td>\n",
       "    </tr>\n",
       "    <tr>\n",
       "      <th>2</th>\n",
       "      <td>5</td>\n",
       "      <td>2</td>\n",
       "      <td>1.0</td>\n",
       "      <td>40.0</td>\n",
       "      <td>41.0</td>\n",
       "      <td>6.171639e+07</td>\n",
       "      <td>13392456000</td>\n",
       "      <td>1.265186e+06</td>\n",
       "      <td>2.745453e+08</td>\n",
       "    </tr>\n",
       "    <tr>\n",
       "      <th>3</th>\n",
       "      <td>5</td>\n",
       "      <td>3</td>\n",
       "      <td>1.5</td>\n",
       "      <td>40.0</td>\n",
       "      <td>41.5</td>\n",
       "      <td>6.171639e+07</td>\n",
       "      <td>13392456000</td>\n",
       "      <td>1.280615e+06</td>\n",
       "      <td>2.778935e+08</td>\n",
       "    </tr>\n",
       "    <tr>\n",
       "      <th>4</th>\n",
       "      <td>5</td>\n",
       "      <td>4</td>\n",
       "      <td>2.0</td>\n",
       "      <td>40.0</td>\n",
       "      <td>42.0</td>\n",
       "      <td>6.171639e+07</td>\n",
       "      <td>13392456000</td>\n",
       "      <td>1.296044e+06</td>\n",
       "      <td>2.812416e+08</td>\n",
       "    </tr>\n",
       "    <tr>\n",
       "      <th>...</th>\n",
       "      <td>...</td>\n",
       "      <td>...</td>\n",
       "      <td>...</td>\n",
       "      <td>...</td>\n",
       "      <td>...</td>\n",
       "      <td>...</td>\n",
       "      <td>...</td>\n",
       "      <td>...</td>\n",
       "      <td>...</td>\n",
       "    </tr>\n",
       "    <tr>\n",
       "      <th>598</th>\n",
       "      <td>10</td>\n",
       "      <td>149</td>\n",
       "      <td>74.5</td>\n",
       "      <td>80.0</td>\n",
       "      <td>154.5</td>\n",
       "      <td>6.171639e+07</td>\n",
       "      <td>13392456000</td>\n",
       "      <td>9.535182e+06</td>\n",
       "      <td>2.069134e+09</td>\n",
       "    </tr>\n",
       "    <tr>\n",
       "      <th>599</th>\n",
       "      <td>15</td>\n",
       "      <td>59</td>\n",
       "      <td>29.5</td>\n",
       "      <td>50.0</td>\n",
       "      <td>79.5</td>\n",
       "      <td>6.171639e+07</td>\n",
       "      <td>13392456000</td>\n",
       "      <td>7.359679e+06</td>\n",
       "      <td>1.597050e+09</td>\n",
       "    </tr>\n",
       "    <tr>\n",
       "      <th>600</th>\n",
       "      <td>15</td>\n",
       "      <td>70</td>\n",
       "      <td>35.0</td>\n",
       "      <td>50.0</td>\n",
       "      <td>85.0</td>\n",
       "      <td>6.171639e+07</td>\n",
       "      <td>13392456000</td>\n",
       "      <td>7.868839e+06</td>\n",
       "      <td>1.707538e+09</td>\n",
       "    </tr>\n",
       "    <tr>\n",
       "      <th>601</th>\n",
       "      <td>15</td>\n",
       "      <td>112</td>\n",
       "      <td>56.0</td>\n",
       "      <td>60.0</td>\n",
       "      <td>116.0</td>\n",
       "      <td>6.171639e+07</td>\n",
       "      <td>13392456000</td>\n",
       "      <td>1.073865e+07</td>\n",
       "      <td>2.330287e+09</td>\n",
       "    </tr>\n",
       "    <tr>\n",
       "      <th>602</th>\n",
       "      <td>15</td>\n",
       "      <td>128</td>\n",
       "      <td>64.0</td>\n",
       "      <td>60.0</td>\n",
       "      <td>124.0</td>\n",
       "      <td>6.171639e+07</td>\n",
       "      <td>13392456000</td>\n",
       "      <td>1.147925e+07</td>\n",
       "      <td>2.490997e+09</td>\n",
       "    </tr>\n",
       "  </tbody>\n",
       "</table>\n",
       "<p>603 rows × 9 columns</p>\n",
       "</div>"
      ],
      "text/plain": [
       "     incentive_target  vt_group     a     b  financial_achievement  \\\n",
       "0                   5         0   0.0  40.0                   40.0   \n",
       "1                   5         1   0.5  40.0                   40.5   \n",
       "2                   5         2   1.0  40.0                   41.0   \n",
       "3                   5         3   1.5  40.0                   41.5   \n",
       "4                   5         4   2.0  40.0                   42.0   \n",
       "..                ...       ...   ...   ...                    ...   \n",
       "598                10       149  74.5  80.0                  154.5   \n",
       "599                15        59  29.5  50.0                   79.5   \n",
       "600                15        70  35.0  50.0                   85.0   \n",
       "601                15       112  56.0  60.0                  116.0   \n",
       "602                15       128  64.0  60.0                  124.0   \n",
       "\n",
       "     average_salary  total_salary  average_incentive  total_incentive  \n",
       "0      6.171639e+07   13392456000       1.234328e+06     2.678491e+08  \n",
       "1      6.171639e+07   13392456000       1.249757e+06     2.711972e+08  \n",
       "2      6.171639e+07   13392456000       1.265186e+06     2.745453e+08  \n",
       "3      6.171639e+07   13392456000       1.280615e+06     2.778935e+08  \n",
       "4      6.171639e+07   13392456000       1.296044e+06     2.812416e+08  \n",
       "..              ...           ...                ...              ...  \n",
       "598    6.171639e+07   13392456000       9.535182e+06     2.069134e+09  \n",
       "599    6.171639e+07   13392456000       7.359679e+06     1.597050e+09  \n",
       "600    6.171639e+07   13392456000       7.868839e+06     1.707538e+09  \n",
       "601    6.171639e+07   13392456000       1.073865e+07     2.330287e+09  \n",
       "602    6.171639e+07   13392456000       1.147925e+07     2.490997e+09  \n",
       "\n",
       "[603 rows x 9 columns]"
      ]
     },
     "execution_count": 20,
     "metadata": {},
     "output_type": "execute_result"
    }
   ],
   "source": [
    "# Output data\n",
    "df_result = result.to_pandas()\n",
    "df_result.to_csv(\"result.csv\", index=False)\n",
    "df_result\n"
   ]
  },
  {
   "cell_type": "markdown",
   "metadata": {},
   "source": [
    "### Visualization"
   ]
  },
  {
   "cell_type": "code",
   "execution_count": 21,
   "metadata": {},
   "outputs": [
    {
     "data": {
      "image/png": "[encoded data removed]",
      "text/plain": [
       "<Figure size 624.236x500 with 1 Axes>"
      ]
     },
     "metadata": {},
     "output_type": "display_data"
    }
   ],
   "source": [
    "# Average incentive\n",
    "sns.catplot(data=df_result, hue=\"incentive_target\",\n",
    "            x=\"vt_group\", y=\"average_incentive\");"
   ]
  },
  {
   "cell_type": "code",
   "execution_count": 22,
   "metadata": {},
   "outputs": [
    {
     "data": {
      "image/png": "[encoded data removed]",
      "text/plain": [
       "<Figure size 624.236x500 with 1 Axes>"
      ]
     },
     "metadata": {},
     "output_type": "display_data"
    }
   ],
   "source": [
    "# Total incentive\n",
    "sns.catplot(data=df_result, hue=\"incentive_target\",\n",
    "            x=\"vt_group\", y=\"total_incentive\");"
   ]
  },
  {
   "cell_type": "code",
   "execution_count": 26,
   "metadata": {},
   "outputs": [
    {
     "data": {
      "image/png": "[encoded data removed]",
      "text/plain": [
       "<Figure size 500x500 with 1 Axes>"
      ]
     },
     "metadata": {},
     "output_type": "display_data"
    }
   ],
   "source": [
    "# Average salary\n",
    "sns.catplot(data=df_result,\n",
    "            x=\"vt_group\", y=\"average_salary\");"
   ]
  },
  {
   "cell_type": "code",
   "execution_count": 27,
   "metadata": {},
   "outputs": [
    {
     "data": {
      "image/png": "[encoded data removed]",
      "text/plain": [
       "<Figure size 500x500 with 1 Axes>"
      ]
     },
     "metadata": {},
     "output_type": "display_data"
    }
   ],
   "source": [
    "# Total salary\n",
    "sns.catplot(data=df_result,\n",
    "            x=\"vt_group\", y=\"total_salary\");"
   ]
  },
  {
   "cell_type": "code",
   "execution_count": null,
   "metadata": {},
   "outputs": [],
   "source": []
  }
 ],
 "metadata": {
  "kernelspec": {
   "display_name": "jupyter",
   "language": "python",
   "name": "python3"
  },
  "language_info": {
   "codemirror_mode": {
    "name": "ipython",
    "version": 3
   },
   "file_extension": ".py",
   "mimetype": "text/x-python",
   "name": "python",
   "nbconvert_exporter": "python",
   "pygments_lexer": "ipython3",
   "version": "3.11.3"
  },
  "orig_nbformat": 4
 },
 "nbformat": 4,
 "nbformat_minor": 2
}

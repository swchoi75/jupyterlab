{
 "cells": [
  {
   "cell_type": "code",
   "execution_count": 2,
   "metadata": {},
   "outputs": [
    {
     "ename": "AttributeError",
     "evalue": "'str' object has no attribute 'get'",
     "output_type": "error",
     "traceback": [
      "\u001b[1;31m---------------------------------------------------------------------------\u001b[0m",
      "\u001b[1;31mAttributeError\u001b[0m                            Traceback (most recent call last)",
      "\u001b[1;32mc:\\Users\\uid98421\\OneDrive - Vitesco Technologies\\GitHub\\jupyterlab\\Plots_Charts\\test_pyecharts.ipynb 셀 1\u001b[0m line \u001b[0;36m3\n\u001b[0;32m      <a href='vscode-notebook-cell:/c%3A/Users/uid98421/OneDrive%20-%20Vitesco%20Technologies/GitHub/jupyterlab/Plots_Charts/test_pyecharts.ipynb#W0sZmlsZQ%3D%3D?line=0'>1</a>\u001b[0m \u001b[39mfrom\u001b[39;00m \u001b[39mpyecharts\u001b[39;00m\u001b[39m.\u001b[39;00m\u001b[39mcharts\u001b[39;00m \u001b[39mimport\u001b[39;00m Bar\n\u001b[1;32m----> <a href='vscode-notebook-cell:/c%3A/Users/uid98421/OneDrive%20-%20Vitesco%20Technologies/GitHub/jupyterlab/Plots_Charts/test_pyecharts.ipynb#W0sZmlsZQ%3D%3D?line=2'>3</a>\u001b[0m bar \u001b[39m=\u001b[39m Bar(\u001b[39m\"\u001b[39;49m\u001b[39mMy first bar chart\u001b[39;49m\u001b[39m\"\u001b[39;49m, \u001b[39m\"\u001b[39;49m\u001b[39mFor our fashion shop client\u001b[39;49m\u001b[39m\"\u001b[39;49m)\n\u001b[0;32m      <a href='vscode-notebook-cell:/c%3A/Users/uid98421/OneDrive%20-%20Vitesco%20Technologies/GitHub/jupyterlab/Plots_Charts/test_pyecharts.ipynb#W0sZmlsZQ%3D%3D?line=3'>4</a>\u001b[0m bar\u001b[39m.\u001b[39madd(\u001b[39m\"\u001b[39m\u001b[39mClothes\u001b[39m\u001b[39m\"\u001b[39m, [\u001b[39m\"\u001b[39m\u001b[39mT-shirt\u001b[39m\u001b[39m\"\u001b[39m, \u001b[39m\"\u001b[39m\u001b[39mSweater\u001b[39m\u001b[39m\"\u001b[39m, \u001b[39m\"\u001b[39m\u001b[39mGeorgette\u001b[39m\u001b[39m\"\u001b[39m, \u001b[39m\"\u001b[39m\u001b[39mTrousers\u001b[39m\u001b[39m\"\u001b[39m, \u001b[39m\"\u001b[39m\u001b[39mHigh-heels\u001b[39m\u001b[39m\"\u001b[39m, \u001b[39m\"\u001b[39m\u001b[39mSocks\u001b[39m\u001b[39m\"\u001b[39m], [\u001b[39m5\u001b[39m, \u001b[39m20\u001b[39m, \u001b[39m36\u001b[39m, \u001b[39m10\u001b[39m, \u001b[39m75\u001b[39m, \u001b[39m90\u001b[39m])\n\u001b[0;32m      <a href='vscode-notebook-cell:/c%3A/Users/uid98421/OneDrive%20-%20Vitesco%20Technologies/GitHub/jupyterlab/Plots_Charts/test_pyecharts.ipynb#W0sZmlsZQ%3D%3D?line=4'>5</a>\u001b[0m \u001b[39m# bar.print_echarts_options() # This line is only for printing configuration items, which is convenient for debugging.\u001b[39;00m\n",
      "File \u001b[1;32mc:\\bin\\miniconda3\\envs\\py39\\lib\\site-packages\\pyecharts\\charts\\chart.py:216\u001b[0m, in \u001b[0;36mRectChart.__init__\u001b[1;34m(self, init_opts, render_opts)\u001b[0m\n\u001b[0;32m    211\u001b[0m \u001b[39mdef\u001b[39;00m \u001b[39m__init__\u001b[39m(\n\u001b[0;32m    212\u001b[0m     \u001b[39mself\u001b[39m,\n\u001b[0;32m    213\u001b[0m     init_opts: types\u001b[39m.\u001b[39mInit \u001b[39m=\u001b[39m opts\u001b[39m.\u001b[39mInitOpts(),\n\u001b[0;32m    214\u001b[0m     render_opts: types\u001b[39m.\u001b[39mRenderInit \u001b[39m=\u001b[39m opts\u001b[39m.\u001b[39mRenderOpts(),\n\u001b[0;32m    215\u001b[0m ):\n\u001b[1;32m--> 216\u001b[0m     \u001b[39msuper\u001b[39;49m()\u001b[39m.\u001b[39;49m\u001b[39m__init__\u001b[39;49m(init_opts\u001b[39m=\u001b[39;49minit_opts, render_opts\u001b[39m=\u001b[39;49mrender_opts)\n\u001b[0;32m    217\u001b[0m     \u001b[39mself\u001b[39m\u001b[39m.\u001b[39moptions\u001b[39m.\u001b[39mupdate(xAxis\u001b[39m=\u001b[39m[opts\u001b[39m.\u001b[39mAxisOpts()\u001b[39m.\u001b[39mopts], yAxis\u001b[39m=\u001b[39m[opts\u001b[39m.\u001b[39mAxisOpts()\u001b[39m.\u001b[39mopts])\n",
      "File \u001b[1;32mc:\\bin\\miniconda3\\envs\\py39\\lib\\site-packages\\pyecharts\\charts\\chart.py:18\u001b[0m, in \u001b[0;36mChart.__init__\u001b[1;34m(self, init_opts, render_opts)\u001b[0m\n\u001b[0;32m     16\u001b[0m     temp_opts\u001b[39m.\u001b[39mupdate(\u001b[39m*\u001b[39m\u001b[39m*\u001b[39minit_opts)\n\u001b[0;32m     17\u001b[0m     init_opts \u001b[39m=\u001b[39m temp_opts\n\u001b[1;32m---> 18\u001b[0m \u001b[39msuper\u001b[39;49m()\u001b[39m.\u001b[39;49m\u001b[39m__init__\u001b[39;49m(init_opts\u001b[39m=\u001b[39;49minit_opts, render_opts\u001b[39m=\u001b[39;49mrender_opts)\n\u001b[0;32m     19\u001b[0m \u001b[39m# Change to Echarts V5 default color list\u001b[39;00m\n\u001b[0;32m     20\u001b[0m \u001b[39mself\u001b[39m\u001b[39m.\u001b[39mcolors \u001b[39m=\u001b[39m (\n\u001b[0;32m     21\u001b[0m     \u001b[39m\"\u001b[39m\u001b[39m#5470c6 #91cc75 #fac858 #ee6666 #73c0de #3ba272 #fc8452 #9a60b4 \u001b[39m\u001b[39m\"\u001b[39m \u001b[39m\"\u001b[39m\u001b[39m#ea7ccc\u001b[39m\u001b[39m\"\u001b[39m\n\u001b[0;32m     22\u001b[0m )\u001b[39m.\u001b[39msplit()\n",
      "File \u001b[1;32mc:\\bin\\miniconda3\\envs\\py39\\lib\\site-packages\\pyecharts\\charts\\base.py:36\u001b[0m, in \u001b[0;36mBase.__init__\u001b[1;34m(self, init_opts, render_opts)\u001b[0m\n\u001b[0;32m     33\u001b[0m \u001b[39mif\u001b[39;00m \u001b[39misinstance\u001b[39m(render_opts, RenderOpts):\n\u001b[0;32m     34\u001b[0m     _render_opts \u001b[39m=\u001b[39m render_opts\u001b[39m.\u001b[39mopts\n\u001b[1;32m---> 36\u001b[0m \u001b[39mself\u001b[39m\u001b[39m.\u001b[39mwidth \u001b[39m=\u001b[39m _opts\u001b[39m.\u001b[39;49mget(\u001b[39m\"\u001b[39m\u001b[39mwidth\u001b[39m\u001b[39m\"\u001b[39m, \u001b[39m\"\u001b[39m\u001b[39m900px\u001b[39m\u001b[39m\"\u001b[39m)\n\u001b[0;32m     37\u001b[0m \u001b[39mself\u001b[39m\u001b[39m.\u001b[39mheight \u001b[39m=\u001b[39m _opts\u001b[39m.\u001b[39mget(\u001b[39m\"\u001b[39m\u001b[39mheight\u001b[39m\u001b[39m\"\u001b[39m, \u001b[39m\"\u001b[39m\u001b[39m500px\u001b[39m\u001b[39m\"\u001b[39m)\n\u001b[0;32m     38\u001b[0m \u001b[39mself\u001b[39m\u001b[39m.\u001b[39mhorizontal_center \u001b[39m=\u001b[39m (\n\u001b[0;32m     39\u001b[0m     \u001b[39m\"\u001b[39m\u001b[39mtext-align:center; margin: auto\u001b[39m\u001b[39m\"\u001b[39m\n\u001b[0;32m     40\u001b[0m     \u001b[39mif\u001b[39;00m _opts\u001b[39m.\u001b[39mget(\u001b[39m\"\u001b[39m\u001b[39mis_horizontal_center\u001b[39m\u001b[39m\"\u001b[39m, \u001b[39mFalse\u001b[39;00m)\n\u001b[0;32m     41\u001b[0m     \u001b[39melse\u001b[39;00m \u001b[39m\"\u001b[39m\u001b[39m\"\u001b[39m\n\u001b[0;32m     42\u001b[0m )\n",
      "\u001b[1;31mAttributeError\u001b[0m: 'str' object has no attribute 'get'"
     ]
    }
   ],
   "source": [
    "from pyecharts.charts import Bar\n",
    "from pyecharts import options as opts\n",
    "\n",
    "# V1 版本开始支持链式调用\n",
    "bar = (\n",
    "    Bar()\n",
    "    .add_xaxis([\"衬衫\", \"毛衣\", \"领带\", \"裤子\", \"风衣\", \"高跟鞋\", \"袜子\"])\n",
    "    .add_yaxis(\"商家A\", [114, 55, 27, 101, 125, 27, 105])\n",
    "    .add_yaxis(\"商家B\", [57, 134, 137, 129, 145, 60, 49])\n",
    "    .set_global_opts(title_opts=opts.TitleOpts(title=\"某商场销售情况\"))\n",
    ")\n",
    "bar.render()\n",
    "\n",
    "# 不习惯链式调用的开发者依旧可以单独调用方法\n",
    "bar = Bar()\n",
    "bar.add_xaxis([\"衬衫\", \"毛衣\", \"领带\", \"裤子\", \"风衣\", \"高跟鞋\", \"袜子\"])\n",
    "bar.add_yaxis(\"商家A\", [114, 55, 27, 101, 125, 27, 105])\n",
    "bar.add_yaxis(\"商家B\", [57, 134, 137, 129, 145, 60, 49])\n",
    "bar.set_global_opts(title_opts=opts.TitleOpts(title=\"某商场销售情况\"))\n",
    "bar.render()"
   ]
  },
  {
   "cell_type": "code",
   "execution_count": null,
   "metadata": {},
   "outputs": [],
   "source": []
  }
 ],
 "metadata": {
  "kernelspec": {
   "display_name": "py39",
   "language": "python",
   "name": "python3"
  },
  "language_info": {
   "codemirror_mode": {
    "name": "ipython",
    "version": 3
   },
   "file_extension": ".py",
   "mimetype": "text/x-python",
   "name": "python",
   "nbconvert_exporter": "python",
   "pygments_lexer": "ipython3",
   "version": "3.9.18"
  }
 },
 "nbformat": 4,
 "nbformat_minor": 2
}

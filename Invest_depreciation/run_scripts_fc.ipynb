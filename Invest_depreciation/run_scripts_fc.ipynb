{
 "cells": [
  {
   "cell_type": "markdown",
   "metadata": {},
   "source": [
    "## Pre-processing"
   ]
  },
  {
   "cell_type": "markdown",
   "metadata": {},
   "source": [
    "#### Import Libraries"
   ]
  },
  {
   "cell_type": "code",
   "execution_count": 1,
   "metadata": {},
   "outputs": [],
   "source": [
    "import re\n",
    "import pandas as pd\n",
    "import numpy as np\n",
    "from pathlib import Path\n",
    "from janitor import clean_names"
   ]
  },
  {
   "cell_type": "markdown",
   "metadata": {},
   "source": [
    "#### Derive cost centers from SAP for the GPA sub master\n",
    "``` python\n",
    "# Filenames\n",
    "input_1 = path / \"meta_cc\" / \"IMPR.xlsx\"\n",
    "input_2 = path / \"meta_cc\" / \"IMZO.xlsx\"\n",
    "input_3 = path / \"meta_cc\" / \"PRPS.xlsx\"\n",
    "output_file = path / \"meta\" / \"cost_centers.csv\"\n",
    "```"
   ]
  },
  {
   "cell_type": "code",
   "execution_count": 2,
   "metadata": {},
   "outputs": [
    {
     "name": "stdout",
     "output_type": "stream",
     "text": [
      "A files is created\n"
     ]
    }
   ],
   "source": [
    "!python \"0_derive_cost_centers.py\""
   ]
  },
  {
   "cell_type": "markdown",
   "metadata": {},
   "source": [
    "## GPA"
   ]
  },
  {
   "cell_type": "markdown",
   "metadata": {},
   "source": [
    "#### Process GPA spending data\n",
    "``` python\n",
    "# Filenames\n",
    "input_file = path / \"fc_data\" / \"2023-11_GPA_WMS - All data report_FC.xlsx\"\n",
    "output_file = path / \"fc_output\" / \"fc_monthly_spending.csv\"\n",
    "```"
   ]
  },
  {
   "cell_type": "code",
   "execution_count": 3,
   "metadata": {},
   "outputs": [
    {
     "name": "stdout",
     "output_type": "stream",
     "text": [
      "A file is created\n"
     ]
    }
   ],
   "source": [
    "!python \"1_fc_GPA_spending.py\""
   ]
  },
  {
   "cell_type": "markdown",
   "metadata": {},
   "source": [
    "#### Process asset acquisition from GPA spending\n",
    "``` python\n",
    "input_file = path / \"fc_output\" / \"fc_monthly_spending.csv\"\n",
    "output_file = path / \"fc_output\" / \"fc_acquisition_future_assets.csv\"\n",
    "```"
   ]
  },
  {
   "cell_type": "code",
   "execution_count": 4,
   "metadata": {},
   "outputs": [
    {
     "name": "stdout",
     "output_type": "stream",
     "text": [
      "A file is created\n"
     ]
    }
   ],
   "source": [
    "!python \"2_fc_acquisition.py\""
   ]
  },
  {
   "cell_type": "markdown",
   "metadata": {},
   "source": [
    "#### Calculate the monthly deprecation of acquisitions of future assets from GPA\n",
    "``` python\n",
    "# Filenames\n",
    "input_file = path / \"fc_output\" / \"fc_acquisition_future_assets.csv\"\n",
    "output_file = path / \"fc_output\" / \"fc_depreciation_future_assets.csv\"\n",
    "```\n",
    "The key function for calculating monthly depreciation is as follows.\n",
    "```python\n",
    "def calc_monthly_depr(row):\n",
    "    monthly_depr = row[\"acquisition\"] / (row[\"useful_life_year\"] * 12)\n",
    "    return monthly_depr\n",
    "```"
   ]
  },
  {
   "cell_type": "code",
   "execution_count": 5,
   "metadata": {},
   "outputs": [
    {
     "name": "stdout",
     "output_type": "stream",
     "text": [
      "A file is created\n"
     ]
    }
   ],
   "source": [
    "!python \"3_fc_depreciation.py\""
   ]
  },
  {
   "cell_type": "markdown",
   "metadata": {},
   "source": [
    "## SAP"
   ]
  },
  {
   "cell_type": "markdown",
   "metadata": {},
   "source": [
    "#### Process asset acquisition from SAP asset list\n",
    "``` python\n",
    "# Filenames\n",
    "input_file = path / \"fc_data\" / \"2023-11_Asset History Leger_20231130.xlsx\"\n",
    "output_file = path / \"fc_output\" / \"fc_acquisition_existing_assets.csv\"\n",
    "```"
   ]
  },
  {
   "cell_type": "code",
   "execution_count": null,
   "metadata": {},
   "outputs": [],
   "source": [
    "!python \"2_act_SAP_acquisition.py\""
   ]
  },
  {
   "cell_type": "markdown",
   "metadata": {},
   "source": [
    "#### Calculate the monthly depreciation of acquisitions of existing assets from SAP asset list\n",
    "``` python\n",
    "# Filenames\n",
    "input_file = path / \"fc_output\" / \"fc_acquisition_existing_assets.csv\"\n",
    "output_file = path / \"fc_output\" / \"fc_depreciation_existing_assets.csv\"\n",
    "```\n",
    "##### Please wait, as this step takes around 15 seconds, The key function for calculating monthly depreciation is as follows.\n",
    "``` python\n",
    "def calc_monthly_depr(row, period_start, period_end):\n",
    "    if (\n",
    "        # To avoid Division by zero error (e.g. Asset under construction)\n",
    "        row[\"useful_life_year\"]\n",
    "        == row[\"useful_life_month\"]\n",
    "        == 0\n",
    "    ):\n",
    "        return 0\n",
    "\n",
    "    # Main calculation logic\n",
    "    monthly_depr = row[\"acquisition\"] / (\n",
    "        row[\"useful_life_year\"] * 12 + row[\"useful_life_month\"]\n",
    "    )\n",
    "    alterative_monthly_depr = row[\"current\"] * -1 / 12\n",
    "\n",
    "    # If the depreciation starts after period_start\n",
    "    if pd.to_datetime(period_start) < row[\"depr_start\"]:\n",
    "        date1 = pd.to_datetime(period_start)\n",
    "        date2 = row[\"depr_start\"]\n",
    "        months_difference = (date2.year - date1.year) * 12 + date2.month - date1.month\n",
    "        return row[\"current\"] * -1 / (12 - months_difference)\n",
    "\n",
    "    # If the depreciation ends between period_start and period_end\n",
    "    elif pd.to_datetime(period_start) < row[\"depr_end\"] and row[\n",
    "        \"depr_end\"\n",
    "    ] < pd.to_datetime(period_end):\n",
    "        date1 = row[\"depr_end\"]\n",
    "        date2 = pd.to_datetime(period_end)\n",
    "        months_difference = (date2.year - date1.year) * 12 + date2.month - date1.month\n",
    "        return row[\"current\"] * -1 / (12 - months_difference)\n",
    "\n",
    "    # If it is still depreciated even after depr_end date because usage is restarted\n",
    "    elif row[\"depr_end\"] < pd.to_datetime(period_start) and abs(row[\"current\"]) > 0:\n",
    "        return alterative_monthly_depr\n",
    "\n",
    "    # Yearly Depreciation is not equal to the expected value\n",
    "    # due to additional investment, ICO asset transfer, etc\n",
    "    elif abs(row[\"current\"] + (monthly_depr * 12)) > 1:\n",
    "        return alterative_monthly_depr\n",
    "\n",
    "    else:\n",
    "        return monthly_depr\n",
    "\n",
    "```"
   ]
  },
  {
   "cell_type": "code",
   "execution_count": 6,
   "metadata": {},
   "outputs": [
    {
     "name": "stdout",
     "output_type": "stream",
     "text": [
      "A file is created\n"
     ]
    }
   ],
   "source": [
    "!python \"3_act_depreciation.py\""
   ]
  },
  {
   "cell_type": "markdown",
   "metadata": {},
   "source": [
    "## GPA + SAP"
   ]
  },
  {
   "cell_type": "markdown",
   "metadata": {},
   "source": [
    "#### Combine the monthly depreciations of future assets from GPA and existing assets from SAP\n",
    "``` python\n",
    "# Filenames\n",
    "input_1 = path / \"fc_output\" / \"fc_depreciation_future_assets.csv\"\n",
    "input_2 = path / \"fc_output\" / \"fc_depreciation_existing_assets.csv\"\n",
    "output_file = path / \"fc_output\" / \"fc_depreciation_combined.csv\"\n",
    "```\n",
    "##### And, we add \"responsibilities\" column with the following function.\n",
    "``` python\n",
    "def add_responsibilities(row):\n",
    "    # define variable\n",
    "    outlet_cf = [\"Central Functions\"]\n",
    "    outlet_pl1 = [\"PL ENC\", \"PL DTC\", \"PL MTC\", \"PL VBC\"]\n",
    "    outlet_pl2 = [\n",
    "        \"PL HVD\",\n",
    "        \"PL EAC\",\n",
    "        \"PL DAC\",\n",
    "        \"PL MES\",\n",
    "        \"PL HYD\",\n",
    "        \"PL CM CCN\",\n",
    "        \"PL CM CVS\",\n",
    "        \"PL CM PSS\",\n",
    "    ]\n",
    "    outlet_rnd = [\"DIV E Eng.\", \"PL DAC\", \"PL MES\"]\n",
    "    outlet_shs = [\"DIV E C\", \"DIV P C\", \"PT - Quality\"]\n",
    "    # If conditions\n",
    "    if row[\"outlet_sender\"] in outlet_cf:\n",
    "        return \"Central Functions\"\n",
    "    elif (row[\"location_receiver\"] == \"Icheon\") & (row[\"outlet_sender\"] in outlet_pl1):\n",
    "        return \"Productlines_1\"\n",
    "    elif (row[\"location_receiver\"] == \"Icheon\") & (row[\"outlet_sender\"] in outlet_pl2):\n",
    "        return \"Productlines_2\"\n",
    "    elif row[\"location_receiver\"] == \"Sejong\":  # CM Inbound\n",
    "        return \"Productlines_2\"\n",
    "    elif (row[\"location_receiver\"] == \"Icheon NPF\") & (\n",
    "        row[\"outlet_sender\"] in outlet_rnd\n",
    "    ):\n",
    "        return \"R&D\"\n",
    "    elif (row[\"location_receiver\"] == \"Icheon NPF\") & (\n",
    "        row[\"outlet_sender\"] in outlet_shs\n",
    "    ):\n",
    "        return \"Share Service\"\n",
    "```"
   ]
  },
  {
   "cell_type": "code",
   "execution_count": 7,
   "metadata": {},
   "outputs": [
    {
     "name": "stdout",
     "output_type": "stream",
     "text": [
      "A file is created\n"
     ]
    }
   ],
   "source": [
    "!python \"4_combine_versions.py\""
   ]
  },
  {
   "cell_type": "markdown",
   "metadata": {},
   "source": [
    "#### Export GPA master and SAP Asset Under Construction for manual input\n",
    "``` python\n",
    "# Filenames\n",
    "input_file = path / \"fc_output\" / \"fc_depreciation_combined.csv\"\n",
    "output_master = path / \"fc_output\" / \"fc_GPA_master.csv\"\n",
    "output_auc = path / \"fc_output\" / \"fc_SAP_AUC.csv\"\n",
    "```"
   ]
  },
  {
   "cell_type": "code",
   "execution_count": 8,
   "metadata": {},
   "outputs": [
    {
     "name": "stdout",
     "output_type": "stream",
     "text": [
      "Files are created\n"
     ]
    }
   ],
   "source": [
    "!python \"4_export_additional_data.py\""
   ]
  }
 ],
 "metadata": {
  "kernelspec": {
   "display_name": "py39",
   "language": "python",
   "name": "python3"
  },
  "language_info": {
   "codemirror_mode": {
    "name": "ipython",
    "version": 3
   },
   "file_extension": ".py",
   "mimetype": "text/x-python",
   "name": "python",
   "nbconvert_exporter": "python",
   "pygments_lexer": "ipython3",
   "version": "3.9.18"
  }
 },
 "nbformat": 4,
 "nbformat_minor": 2
}

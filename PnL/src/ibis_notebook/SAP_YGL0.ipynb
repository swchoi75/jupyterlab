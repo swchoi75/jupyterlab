{
 "cells": [
  {
   "cell_type": "code",
   "execution_count": 1,
   "metadata": {},
   "outputs": [],
   "source": [
    " # In Terminal, \"pip install ibis-framework[duckdb] pyjanitor\"\n",
    "import pandas as pd\n",
    "import ibis\n",
    "from ibis import selectors as s\n",
    "from ibis import _\n",
    "ibis.options.interactive = True"
   ]
  },
  {
   "cell_type": "code",
   "execution_count": 2,
   "metadata": {},
   "outputs": [],
   "source": [
    "# Path\n",
    "from pathlib import Path\n",
    "path = Path(\"/home/uiv17345/datasets/home-dataset/jupyterlab/PnL\")\n",
    "data_path = path / \"data\" / \"SAP YGL0\"\n",
    "meta_path = path / \"meta\"\n",
    "output_path = path / \"output\""
   ]
  },
  {
   "cell_type": "markdown",
   "metadata": {},
   "source": [
    "### Input data: List of multiple text files"
   ]
  },
  {
   "cell_type": "code",
   "execution_count": 3,
   "metadata": {},
   "outputs": [
    {
     "data": {
      "text/plain": [
       "[PosixPath('/home/uiv17345/datasets/home-dataset/jupyterlab/PnL/data/SAP YGL0/50802-018.dat'),\n",
       " PosixPath('/home/uiv17345/datasets/home-dataset/jupyterlab/PnL/data/SAP YGL0/50803-009.dat'),\n",
       " PosixPath('/home/uiv17345/datasets/home-dataset/jupyterlab/PnL/data/SAP YGL0/50803-010.dat'),\n",
       " PosixPath('/home/uiv17345/datasets/home-dataset/jupyterlab/PnL/data/SAP YGL0/50803-026.dat'),\n",
       " PosixPath('/home/uiv17345/datasets/home-dataset/jupyterlab/PnL/data/SAP YGL0/50803-034.dat'),\n",
       " PosixPath('/home/uiv17345/datasets/home-dataset/jupyterlab/PnL/data/SAP YGL0/50803-045.dat'),\n",
       " PosixPath('/home/uiv17345/datasets/home-dataset/jupyterlab/PnL/data/SAP YGL0/50803-047.dat'),\n",
       " PosixPath('/home/uiv17345/datasets/home-dataset/jupyterlab/PnL/data/SAP YGL0/50803-049.dat'),\n",
       " PosixPath('/home/uiv17345/datasets/home-dataset/jupyterlab/PnL/data/SAP YGL0/50803-050.dat'),\n",
       " PosixPath('/home/uiv17345/datasets/home-dataset/jupyterlab/PnL/data/SAP YGL0/50803-051.dat'),\n",
       " PosixPath('/home/uiv17345/datasets/home-dataset/jupyterlab/PnL/data/SAP YGL0/50803-063.dat')]"
      ]
     },
     "execution_count": 3,
     "metadata": {},
     "output_type": "execute_result"
    }
   ],
   "source": [
    "# Input data: List of multiple text files\n",
    "dat_files = [file for file in data_path.iterdir() if file.is_file() and file.suffix == \".dat\"]\n",
    "dat_files"
   ]
  },
  {
   "cell_type": "code",
   "execution_count": 4,
   "metadata": {},
   "outputs": [],
   "source": [
    "def read_multiple_files(list_of_files):\n",
    "    dataframes = [\n",
    "        pd.read_csv(\n",
    "            file,\n",
    "            sep=\"\\t\",\n",
    "        )\n",
    "        for file in list_of_files\n",
    "    ]\n",
    "    \n",
    "    # Add a new column with filename to each DataFrame\n",
    "    for i, df in enumerate(dataframes):\n",
    "        df[\"source\"] = list_of_files[i].stem\n",
    "\n",
    "    # Merge the list of DataFrames into a single DataFrame\n",
    "    df = pd.concat(dataframes)\n",
    "\n",
    "    # reorder columns\n",
    "    df = df[[\"source\"] + [col for col in df.columns if col not in [\"source\"]]]\n",
    "    \n",
    "    return df"
   ]
  },
  {
   "cell_type": "code",
   "execution_count": 5,
   "metadata": {},
   "outputs": [],
   "source": [
    "def change_column_names(df):\n",
    "    return df.rename(\n",
    "        columns={\n",
    "            # \"source\": \"PrCr\",\n",
    "            \"OneGL B/S + P/L\": \"OneGL\",\n",
    "            \"01\": \"Jan\", \"02\": \"Feb\", \"03\": \"Mar\",\n",
    "            \"04\": \"Apr\", \"05\": \"May\", \"06\": \"Jun\",\n",
    "            \"07\": \"Jul\", \"08\": \"Aug\", \"09\": \"Sep\",\n",
    "            \"10\": \"Oct\", \"11\": \"Nov\", \"12\": \"Dec\"\n",
    "        }\n",
    "    )"
   ]
  },
  {
   "cell_type": "code",
   "execution_count": 6,
   "metadata": {},
   "outputs": [
    {
     "data": {
      "text/html": [
       "<div>\n",
       "<style scoped>\n",
       "    .dataframe tbody tr th:only-of-type {\n",
       "        vertical-align: middle;\n",
       "    }\n",
       "\n",
       "    .dataframe tbody tr th {\n",
       "        vertical-align: top;\n",
       "    }\n",
       "\n",
       "    .dataframe thead th {\n",
       "        text-align: right;\n",
       "    }\n",
       "</style>\n",
       "<table border=\"1\" class=\"dataframe\">\n",
       "  <thead>\n",
       "    <tr style=\"text-align: right;\">\n",
       "      <th></th>\n",
       "      <th>source</th>\n",
       "      <th>OneGL</th>\n",
       "      <th>0-2</th>\n",
       "      <th>1-2</th>\n",
       "      <th>CF</th>\n",
       "      <th>Jan</th>\n",
       "      <th>Feb</th>\n",
       "      <th>Mar</th>\n",
       "      <th>Apr</th>\n",
       "      <th>May</th>\n",
       "      <th>...</th>\n",
       "      <th>Unnamed: 36</th>\n",
       "      <th>Unnamed: 37</th>\n",
       "      <th>Unnamed: 38</th>\n",
       "      <th>Unnamed: 39</th>\n",
       "      <th>Unnamed: 40</th>\n",
       "      <th>Unnamed: 41</th>\n",
       "      <th>Unnamed: 42</th>\n",
       "      <th>Unnamed: 43</th>\n",
       "      <th>Unnamed: 44</th>\n",
       "      <th>Unnamed: 45</th>\n",
       "    </tr>\n",
       "  </thead>\n",
       "  <tbody>\n",
       "    <tr>\n",
       "      <th>0</th>\n",
       "      <td>50802-018</td>\n",
       "      <td>A041     Other intangible assets - APC</td>\n",
       "      <td>0</td>\n",
       "      <td>-3344000000</td>\n",
       "      <td>3344000000</td>\n",
       "      <td>-3.344000e+09</td>\n",
       "      <td>0.0</td>\n",
       "      <td>0.0</td>\n",
       "      <td>0.0</td>\n",
       "      <td>0.0</td>\n",
       "      <td>...</td>\n",
       "      <td>NaN</td>\n",
       "      <td>NaN</td>\n",
       "      <td>NaN</td>\n",
       "      <td>NaN</td>\n",
       "      <td>NaN</td>\n",
       "      <td>NaN</td>\n",
       "      <td>NaN</td>\n",
       "      <td>NaN</td>\n",
       "      <td>NaN</td>\n",
       "      <td>NaN</td>\n",
       "    </tr>\n",
       "    <tr>\n",
       "      <th>1</th>\n",
       "      <td>50802-018</td>\n",
       "      <td>+,*,-\" SL (M11, partner x) gross</td>\n",
       "      <td>0</td>\n",
       "      <td>-3344000000</td>\n",
       "      <td>3344000000</td>\n",
       "      <td>-3.344000e+09</td>\n",
       "      <td>0.0</td>\n",
       "      <td>0.0</td>\n",
       "      <td>0.0</td>\n",
       "      <td>0.0</td>\n",
       "      <td>...</td>\n",
       "      <td>NaN</td>\n",
       "      <td>NaN</td>\n",
       "      <td>NaN</td>\n",
       "      <td>NaN</td>\n",
       "      <td>NaN</td>\n",
       "      <td>NaN</td>\n",
       "      <td>NaN</td>\n",
       "      <td>NaN</td>\n",
       "      <td>NaN</td>\n",
       "      <td>NaN</td>\n",
       "    </tr>\n",
       "    <tr>\n",
       "      <th>2</th>\n",
       "      <td>50802-018</td>\n",
       "      <td>A046     Adj. - Other intangible assets</td>\n",
       "      <td>0</td>\n",
       "      <td>2006400000</td>\n",
       "      <td>-2006400000</td>\n",
       "      <td>2.006400e+09</td>\n",
       "      <td>0.0</td>\n",
       "      <td>0.0</td>\n",
       "      <td>0.0</td>\n",
       "      <td>0.0</td>\n",
       "      <td>...</td>\n",
       "      <td>NaN</td>\n",
       "      <td>NaN</td>\n",
       "      <td>NaN</td>\n",
       "      <td>NaN</td>\n",
       "      <td>NaN</td>\n",
       "      <td>NaN</td>\n",
       "      <td>NaN</td>\n",
       "      <td>NaN</td>\n",
       "      <td>NaN</td>\n",
       "      <td>NaN</td>\n",
       "    </tr>\n",
       "  </tbody>\n",
       "</table>\n",
       "<p>3 rows × 47 columns</p>\n",
       "</div>"
      ],
      "text/plain": [
       "      source                                    OneGL 0-2          1-2  \\\n",
       "0  50802-018   A041     Other intangible assets - APC   0  -3344000000   \n",
       "1  50802-018         +,*,-\" SL (M11, partner x) gross   0  -3344000000   \n",
       "2  50802-018  A046     Adj. - Other intangible assets   0   2006400000   \n",
       "\n",
       "            CF           Jan  Feb  Mar  Apr  May  ...  Unnamed: 36  \\\n",
       "0   3344000000 -3.344000e+09  0.0  0.0  0.0  0.0  ...          NaN   \n",
       "1   3344000000 -3.344000e+09  0.0  0.0  0.0  0.0  ...          NaN   \n",
       "2  -2006400000  2.006400e+09  0.0  0.0  0.0  0.0  ...          NaN   \n",
       "\n",
       "   Unnamed: 37  Unnamed: 38  Unnamed: 39  Unnamed: 40  Unnamed: 41  \\\n",
       "0          NaN          NaN          NaN          NaN          NaN   \n",
       "1          NaN          NaN          NaN          NaN          NaN   \n",
       "2          NaN          NaN          NaN          NaN          NaN   \n",
       "\n",
       "   Unnamed: 42  Unnamed: 43  Unnamed: 44  Unnamed: 45  \n",
       "0          NaN          NaN          NaN          NaN  \n",
       "1          NaN          NaN          NaN          NaN  \n",
       "2          NaN          NaN          NaN          NaN  \n",
       "\n",
       "[3 rows x 47 columns]"
      ]
     },
     "execution_count": 6,
     "metadata": {},
     "output_type": "execute_result"
    }
   ],
   "source": [
    "df = read_multiple_files(dat_files)\n",
    "df = change_column_names(df)\n",
    "df.head(3)"
   ]
  },
  {
   "cell_type": "markdown",
   "metadata": {},
   "source": [
    "### Data wrangling"
   ]
  },
  {
   "cell_type": "code",
   "execution_count": 7,
   "metadata": {},
   "outputs": [
    {
     "data": {
      "text/html": [
       "<pre style=\"white-space:pre;overflow-x:auto;line-height:normal;font-family:Menlo,'DejaVu Sans Mono',consolas,'Courier New',monospace\">┏━━━━━━━━━━━┳━━━━━━━━━━━━━━━━━━━━━━━━━━━━━━━━━━━━━━━━━━━━━━━━━━━━━━━━━┳━━━━━━━━━━━━━━━┳━━━━━━━━━┳━━━━━━━━━┳━━━━━━━━━┳━━━━━━━━━┳━━━━━━━━━┳━━━━━━━━━┳━━━━━━━━━┳━━━━━━━━━┳━━━━━━━━━┳━━━━━━━━━┳━━━━━━━━━┳━━━━━━━━━━━━┓\n",
       "┃<span style=\"font-weight: bold\"> PrCr      </span>┃<span style=\"font-weight: bold\"> OneGL                                                   </span>┃<span style=\"font-weight: bold\"> Jan           </span>┃<span style=\"font-weight: bold\"> Feb     </span>┃<span style=\"font-weight: bold\"> Mar     </span>┃<span style=\"font-weight: bold\"> Apr     </span>┃<span style=\"font-weight: bold\"> May     </span>┃<span style=\"font-weight: bold\"> Jun     </span>┃<span style=\"font-weight: bold\"> Jul     </span>┃<span style=\"font-weight: bold\"> Aug     </span>┃<span style=\"font-weight: bold\"> Sep     </span>┃<span style=\"font-weight: bold\"> Oct     </span>┃<span style=\"font-weight: bold\"> Nov     </span>┃<span style=\"font-weight: bold\"> Dec     </span>┃<span style=\"font-weight: bold\"> Key        </span>┃\n",
       "┡━━━━━━━━━━━╇━━━━━━━━━━━━━━━━━━━━━━━━━━━━━━━━━━━━━━━━━━━━━━━━━━━━━━━━━╇━━━━━━━━━━━━━━━╇━━━━━━━━━╇━━━━━━━━━╇━━━━━━━━━╇━━━━━━━━━╇━━━━━━━━━╇━━━━━━━━━╇━━━━━━━━━╇━━━━━━━━━╇━━━━━━━━━╇━━━━━━━━━╇━━━━━━━━━╇━━━━━━━━━━━━┩\n",
       "│ <span style=\"color: #7f7f7f; text-decoration-color: #7f7f7f\">string</span>    │ <span style=\"color: #7f7f7f; text-decoration-color: #7f7f7f\">string</span>                                                  │ <span style=\"color: #7f7f7f; text-decoration-color: #7f7f7f\">float64</span>       │ <span style=\"color: #7f7f7f; text-decoration-color: #7f7f7f\">float64</span> │ <span style=\"color: #7f7f7f; text-decoration-color: #7f7f7f\">float64</span> │ <span style=\"color: #7f7f7f; text-decoration-color: #7f7f7f\">float64</span> │ <span style=\"color: #7f7f7f; text-decoration-color: #7f7f7f\">float64</span> │ <span style=\"color: #7f7f7f; text-decoration-color: #7f7f7f\">float64</span> │ <span style=\"color: #7f7f7f; text-decoration-color: #7f7f7f\">float64</span> │ <span style=\"color: #7f7f7f; text-decoration-color: #7f7f7f\">float64</span> │ <span style=\"color: #7f7f7f; text-decoration-color: #7f7f7f\">float64</span> │ <span style=\"color: #7f7f7f; text-decoration-color: #7f7f7f\">float64</span> │ <span style=\"color: #7f7f7f; text-decoration-color: #7f7f7f\">float64</span> │ <span style=\"color: #7f7f7f; text-decoration-color: #7f7f7f\">float64</span> │ <span style=\"color: #7f7f7f; text-decoration-color: #7f7f7f\">string</span>     │\n",
       "├───────────┼─────────────────────────────────────────────────────────┼───────────────┼─────────┼─────────┼─────────┼─────────┼─────────┼─────────┼─────────┼─────────┼─────────┼─────────┼─────────┼────────────┤\n",
       "│ <span style=\"color: #008000; text-decoration-color: #008000\">50802-018</span> │ <span style=\"color: #008000; text-decoration-color: #008000\">A041     Other intangible assets - APC                 </span> │  <span style=\"color: #008080; text-decoration-color: #008080; font-weight: bold\">3.344000e+06</span> │    <span style=\"color: #008080; text-decoration-color: #008080; font-weight: bold\">-0.0</span> │    <span style=\"color: #008080; text-decoration-color: #008080; font-weight: bold\">-0.0</span> │    <span style=\"color: #008080; text-decoration-color: #008080; font-weight: bold\">-0.0</span> │    <span style=\"color: #008080; text-decoration-color: #008080; font-weight: bold\">-0.0</span> │    <span style=\"color: #008080; text-decoration-color: #008080; font-weight: bold\">-0.0</span> │    <span style=\"color: #008080; text-decoration-color: #008080; font-weight: bold\">-0.0</span> │    <span style=\"color: #008080; text-decoration-color: #008080; font-weight: bold\">-0.0</span> │    <span style=\"color: #008080; text-decoration-color: #008080; font-weight: bold\">-0.0</span> │    <span style=\"color: #008080; text-decoration-color: #008080; font-weight: bold\">-0.0</span> │    <span style=\"color: #008080; text-decoration-color: #008080; font-weight: bold\">-0.0</span> │    <span style=\"color: #008080; text-decoration-color: #008080; font-weight: bold\">-0.0</span> │ <span style=\"color: #008000; text-decoration-color: #008000\">041       </span> │\n",
       "│ <span style=\"color: #008000; text-decoration-color: #008000\">50802-018</span> │ <span style=\"color: #008000; text-decoration-color: #008000\">+,*,-\" SL (M11, partner x) gross                       </span> │  <span style=\"color: #008080; text-decoration-color: #008080; font-weight: bold\">3.344000e+06</span> │    <span style=\"color: #008080; text-decoration-color: #008080; font-weight: bold\">-0.0</span> │    <span style=\"color: #008080; text-decoration-color: #008080; font-weight: bold\">-0.0</span> │    <span style=\"color: #008080; text-decoration-color: #008080; font-weight: bold\">-0.0</span> │    <span style=\"color: #008080; text-decoration-color: #008080; font-weight: bold\">-0.0</span> │    <span style=\"color: #008080; text-decoration-color: #008080; font-weight: bold\">-0.0</span> │    <span style=\"color: #008080; text-decoration-color: #008080; font-weight: bold\">-0.0</span> │    <span style=\"color: #008080; text-decoration-color: #008080; font-weight: bold\">-0.0</span> │    <span style=\"color: #008080; text-decoration-color: #008080; font-weight: bold\">-0.0</span> │    <span style=\"color: #008080; text-decoration-color: #008080; font-weight: bold\">-0.0</span> │    <span style=\"color: #008080; text-decoration-color: #008080; font-weight: bold\">-0.0</span> │    <span style=\"color: #008080; text-decoration-color: #008080; font-weight: bold\">-0.0</span> │ <span style=\"color: #008000; text-decoration-color: #008000\">11        </span> │\n",
       "│ <span style=\"color: #008000; text-decoration-color: #008000\">50802-018</span> │ <span style=\"color: #008000; text-decoration-color: #008000\">A046     Adj. - Other intangible assets                </span> │ <span style=\"color: #008080; text-decoration-color: #008080; font-weight: bold\">-2.006400e+06</span> │    <span style=\"color: #008080; text-decoration-color: #008080; font-weight: bold\">-0.0</span> │    <span style=\"color: #008080; text-decoration-color: #008080; font-weight: bold\">-0.0</span> │    <span style=\"color: #008080; text-decoration-color: #008080; font-weight: bold\">-0.0</span> │    <span style=\"color: #008080; text-decoration-color: #008080; font-weight: bold\">-0.0</span> │    <span style=\"color: #008080; text-decoration-color: #008080; font-weight: bold\">-0.0</span> │    <span style=\"color: #008080; text-decoration-color: #008080; font-weight: bold\">-0.0</span> │    <span style=\"color: #008080; text-decoration-color: #008080; font-weight: bold\">-0.0</span> │    <span style=\"color: #008080; text-decoration-color: #008080; font-weight: bold\">-0.0</span> │    <span style=\"color: #008080; text-decoration-color: #008080; font-weight: bold\">-0.0</span> │    <span style=\"color: #008080; text-decoration-color: #008080; font-weight: bold\">-0.0</span> │    <span style=\"color: #008080; text-decoration-color: #008080; font-weight: bold\">-0.0</span> │ <span style=\"color: #008000; text-decoration-color: #008000\">046       </span> │\n",
       "│ <span style=\"color: #008000; text-decoration-color: #008000\">50802-018</span> │ <span style=\"color: #008000; text-decoration-color: #008000\">-,*,-\" SL (M11, partner x) allowance                   </span> │ <span style=\"color: #008080; text-decoration-color: #008080; font-weight: bold\">-2.006400e+06</span> │    <span style=\"color: #008080; text-decoration-color: #008080; font-weight: bold\">-0.0</span> │    <span style=\"color: #008080; text-decoration-color: #008080; font-weight: bold\">-0.0</span> │    <span style=\"color: #008080; text-decoration-color: #008080; font-weight: bold\">-0.0</span> │    <span style=\"color: #008080; text-decoration-color: #008080; font-weight: bold\">-0.0</span> │    <span style=\"color: #008080; text-decoration-color: #008080; font-weight: bold\">-0.0</span> │    <span style=\"color: #008080; text-decoration-color: #008080; font-weight: bold\">-0.0</span> │    <span style=\"color: #008080; text-decoration-color: #008080; font-weight: bold\">-0.0</span> │    <span style=\"color: #008080; text-decoration-color: #008080; font-weight: bold\">-0.0</span> │    <span style=\"color: #008080; text-decoration-color: #008080; font-weight: bold\">-0.0</span> │    <span style=\"color: #008080; text-decoration-color: #008080; font-weight: bold\">-0.0</span> │    <span style=\"color: #008080; text-decoration-color: #008080; font-weight: bold\">-0.0</span> │ <span style=\"color: #008000; text-decoration-color: #008000\">11        </span> │\n",
       "│ <span style=\"color: #008000; text-decoration-color: #008000\">50802-018</span> │ <span style=\"color: #008000; text-decoration-color: #008000\">0122152000 ' Other intangible assets                   </span> │  <span style=\"color: #008080; text-decoration-color: #008080; font-weight: bold\">1.337600e+06</span> │    <span style=\"color: #008080; text-decoration-color: #008080; font-weight: bold\">-0.0</span> │    <span style=\"color: #008080; text-decoration-color: #008080; font-weight: bold\">-0.0</span> │    <span style=\"color: #008080; text-decoration-color: #008080; font-weight: bold\">-0.0</span> │    <span style=\"color: #008080; text-decoration-color: #008080; font-weight: bold\">-0.0</span> │    <span style=\"color: #008080; text-decoration-color: #008080; font-weight: bold\">-0.0</span> │    <span style=\"color: #008080; text-decoration-color: #008080; font-weight: bold\">-0.0</span> │    <span style=\"color: #008080; text-decoration-color: #008080; font-weight: bold\">-0.0</span> │    <span style=\"color: #008080; text-decoration-color: #008080; font-weight: bold\">-0.0</span> │    <span style=\"color: #008080; text-decoration-color: #008080; font-weight: bold\">-0.0</span> │    <span style=\"color: #008080; text-decoration-color: #008080; font-weight: bold\">-0.0</span> │    <span style=\"color: #008080; text-decoration-color: #008080; font-weight: bold\">-0.0</span> │ <span style=\"color: #008000; text-decoration-color: #008000\">0122152000</span> │\n",
       "│ <span style=\"color: #008000; text-decoration-color: #008000\">50802-018</span> │ <span style=\"color: #008000; text-decoration-color: #008000\">0122100000 # Other intangible assets                   </span> │  <span style=\"color: #008080; text-decoration-color: #008080; font-weight: bold\">1.337600e+06</span> │    <span style=\"color: #008080; text-decoration-color: #008080; font-weight: bold\">-0.0</span> │    <span style=\"color: #008080; text-decoration-color: #008080; font-weight: bold\">-0.0</span> │    <span style=\"color: #008080; text-decoration-color: #008080; font-weight: bold\">-0.0</span> │    <span style=\"color: #008080; text-decoration-color: #008080; font-weight: bold\">-0.0</span> │    <span style=\"color: #008080; text-decoration-color: #008080; font-weight: bold\">-0.0</span> │    <span style=\"color: #008080; text-decoration-color: #008080; font-weight: bold\">-0.0</span> │    <span style=\"color: #008080; text-decoration-color: #008080; font-weight: bold\">-0.0</span> │    <span style=\"color: #008080; text-decoration-color: #008080; font-weight: bold\">-0.0</span> │    <span style=\"color: #008080; text-decoration-color: #008080; font-weight: bold\">-0.0</span> │    <span style=\"color: #008080; text-decoration-color: #008080; font-weight: bold\">-0.0</span> │    <span style=\"color: #008080; text-decoration-color: #008080; font-weight: bold\">-0.0</span> │ <span style=\"color: #008000; text-decoration-color: #008000\">0122100000</span> │\n",
       "│ <span style=\"color: #008000; text-decoration-color: #008000\">50802-018</span> │ <span style=\"color: #008000; text-decoration-color: #008000\">0120000000 # Non-current assets                        </span> │  <span style=\"color: #008080; text-decoration-color: #008080; font-weight: bold\">1.337600e+06</span> │    <span style=\"color: #008080; text-decoration-color: #008080; font-weight: bold\">-0.0</span> │    <span style=\"color: #008080; text-decoration-color: #008080; font-weight: bold\">-0.0</span> │    <span style=\"color: #008080; text-decoration-color: #008080; font-weight: bold\">-0.0</span> │    <span style=\"color: #008080; text-decoration-color: #008080; font-weight: bold\">-0.0</span> │    <span style=\"color: #008080; text-decoration-color: #008080; font-weight: bold\">-0.0</span> │    <span style=\"color: #008080; text-decoration-color: #008080; font-weight: bold\">-0.0</span> │    <span style=\"color: #008080; text-decoration-color: #008080; font-weight: bold\">-0.0</span> │    <span style=\"color: #008080; text-decoration-color: #008080; font-weight: bold\">-0.0</span> │    <span style=\"color: #008080; text-decoration-color: #008080; font-weight: bold\">-0.0</span> │    <span style=\"color: #008080; text-decoration-color: #008080; font-weight: bold\">-0.0</span> │    <span style=\"color: #008080; text-decoration-color: #008080; font-weight: bold\">-0.0</span> │ <span style=\"color: #008000; text-decoration-color: #008000\">0120000000</span> │\n",
       "│ <span style=\"color: #008000; text-decoration-color: #008000\">50802-018</span> │ <span style=\"color: #008000; text-decoration-color: #008000\">A53001   Finished Goods - Stock at acquisition costs   </span> │  <span style=\"color: #008080; text-decoration-color: #008080; font-weight: bold\">1.741905e+03</span> │    <span style=\"color: #008080; text-decoration-color: #008080; font-weight: bold\">-0.0</span> │    <span style=\"color: #008080; text-decoration-color: #008080; font-weight: bold\">-0.0</span> │    <span style=\"color: #008080; text-decoration-color: #008080; font-weight: bold\">-0.0</span> │    <span style=\"color: #008080; text-decoration-color: #008080; font-weight: bold\">-0.0</span> │    <span style=\"color: #008080; text-decoration-color: #008080; font-weight: bold\">-0.0</span> │    <span style=\"color: #008080; text-decoration-color: #008080; font-weight: bold\">-0.0</span> │    <span style=\"color: #008080; text-decoration-color: #008080; font-weight: bold\">-0.0</span> │    <span style=\"color: #008080; text-decoration-color: #008080; font-weight: bold\">-0.0</span> │    <span style=\"color: #008080; text-decoration-color: #008080; font-weight: bold\">-0.0</span> │    <span style=\"color: #008080; text-decoration-color: #008080; font-weight: bold\">-0.0</span> │    <span style=\"color: #008080; text-decoration-color: #008080; font-weight: bold\">-0.0</span> │ <span style=\"color: #008000; text-decoration-color: #008000\">53001     </span> │\n",
       "│ <span style=\"color: #008000; text-decoration-color: #008000\">50802-018</span> │ <span style=\"color: #008000; text-decoration-color: #008000\">A538     Finished Goods - Adjustment fixed costes HB II</span> │  <span style=\"color: #008080; text-decoration-color: #008080; font-weight: bold\">9.452400e+01</span> │    <span style=\"color: #008080; text-decoration-color: #008080; font-weight: bold\">-0.0</span> │    <span style=\"color: #008080; text-decoration-color: #008080; font-weight: bold\">-0.0</span> │    <span style=\"color: #008080; text-decoration-color: #008080; font-weight: bold\">-0.0</span> │    <span style=\"color: #008080; text-decoration-color: #008080; font-weight: bold\">-0.0</span> │    <span style=\"color: #008080; text-decoration-color: #008080; font-weight: bold\">-0.0</span> │    <span style=\"color: #008080; text-decoration-color: #008080; font-weight: bold\">-0.0</span> │    <span style=\"color: #008080; text-decoration-color: #008080; font-weight: bold\">-0.0</span> │    <span style=\"color: #008080; text-decoration-color: #008080; font-weight: bold\">-0.0</span> │    <span style=\"color: #008080; text-decoration-color: #008080; font-weight: bold\">-0.0</span> │    <span style=\"color: #008080; text-decoration-color: #008080; font-weight: bold\">-0.0</span> │    <span style=\"color: #008080; text-decoration-color: #008080; font-weight: bold\">-0.0</span> │ <span style=\"color: #008000; text-decoration-color: #008000\">538       </span> │\n",
       "│ <span style=\"color: #008000; text-decoration-color: #008000\">50802-018</span> │ <span style=\"color: #008000; text-decoration-color: #008000\"># Finished goods                                       </span> │  <span style=\"color: #008080; text-decoration-color: #008080; font-weight: bold\">1.836429e+03</span> │    <span style=\"color: #008080; text-decoration-color: #008080; font-weight: bold\">-0.0</span> │    <span style=\"color: #008080; text-decoration-color: #008080; font-weight: bold\">-0.0</span> │    <span style=\"color: #008080; text-decoration-color: #008080; font-weight: bold\">-0.0</span> │    <span style=\"color: #008080; text-decoration-color: #008080; font-weight: bold\">-0.0</span> │    <span style=\"color: #008080; text-decoration-color: #008080; font-weight: bold\">-0.0</span> │    <span style=\"color: #008080; text-decoration-color: #008080; font-weight: bold\">-0.0</span> │    <span style=\"color: #008080; text-decoration-color: #008080; font-weight: bold\">-0.0</span> │    <span style=\"color: #008080; text-decoration-color: #008080; font-weight: bold\">-0.0</span> │    <span style=\"color: #008080; text-decoration-color: #008080; font-weight: bold\">-0.0</span> │    <span style=\"color: #008080; text-decoration-color: #008080; font-weight: bold\">-0.0</span> │    <span style=\"color: #008080; text-decoration-color: #008080; font-weight: bold\">-0.0</span> │ <span style=\"color: #7f7f7f; text-decoration-color: #7f7f7f\">~</span>          │\n",
       "│ <span style=\"color: #7f7f7f; text-decoration-color: #7f7f7f\">…</span>         │ <span style=\"color: #7f7f7f; text-decoration-color: #7f7f7f\">…</span>                                                       │             <span style=\"color: #7f7f7f; text-decoration-color: #7f7f7f\">…</span> │       <span style=\"color: #7f7f7f; text-decoration-color: #7f7f7f\">…</span> │       <span style=\"color: #7f7f7f; text-decoration-color: #7f7f7f\">…</span> │       <span style=\"color: #7f7f7f; text-decoration-color: #7f7f7f\">…</span> │       <span style=\"color: #7f7f7f; text-decoration-color: #7f7f7f\">…</span> │       <span style=\"color: #7f7f7f; text-decoration-color: #7f7f7f\">…</span> │       <span style=\"color: #7f7f7f; text-decoration-color: #7f7f7f\">…</span> │       <span style=\"color: #7f7f7f; text-decoration-color: #7f7f7f\">…</span> │       <span style=\"color: #7f7f7f; text-decoration-color: #7f7f7f\">…</span> │       <span style=\"color: #7f7f7f; text-decoration-color: #7f7f7f\">…</span> │       <span style=\"color: #7f7f7f; text-decoration-color: #7f7f7f\">…</span> │       <span style=\"color: #7f7f7f; text-decoration-color: #7f7f7f\">…</span> │ <span style=\"color: #7f7f7f; text-decoration-color: #7f7f7f\">…</span>          │\n",
       "└───────────┴─────────────────────────────────────────────────────────┴───────────────┴─────────┴─────────┴─────────┴─────────┴─────────┴─────────┴─────────┴─────────┴─────────┴─────────┴─────────┴────────────┘\n",
       "</pre>\n"
      ],
      "text/plain": [
       "┏━━━━━━━━━━━┳━━━━━━━━━━━━━━━━━━━━━━━━━━━━━━━━━━━━━━━━━━━━━━━━━━━━━━━━━┳━━━━━━━━━━━━━━━┳━━━━━━━━━┳━━━━━━━━━┳━━━━━━━━━┳━━━━━━━━━┳━━━━━━━━━┳━━━━━━━━━┳━━━━━━━━━┳━━━━━━━━━┳━━━━━━━━━┳━━━━━━━━━┳━━━━━━━━━┳━━━━━━━━━━━━┓\n",
       "┃\u001b[1m \u001b[0m\u001b[1mPrCr\u001b[0m\u001b[1m     \u001b[0m\u001b[1m \u001b[0m┃\u001b[1m \u001b[0m\u001b[1mOneGL\u001b[0m\u001b[1m                                                  \u001b[0m\u001b[1m \u001b[0m┃\u001b[1m \u001b[0m\u001b[1mJan\u001b[0m\u001b[1m          \u001b[0m\u001b[1m \u001b[0m┃\u001b[1m \u001b[0m\u001b[1mFeb\u001b[0m\u001b[1m    \u001b[0m\u001b[1m \u001b[0m┃\u001b[1m \u001b[0m\u001b[1mMar\u001b[0m\u001b[1m    \u001b[0m\u001b[1m \u001b[0m┃\u001b[1m \u001b[0m\u001b[1mApr\u001b[0m\u001b[1m    \u001b[0m\u001b[1m \u001b[0m┃\u001b[1m \u001b[0m\u001b[1mMay\u001b[0m\u001b[1m    \u001b[0m\u001b[1m \u001b[0m┃\u001b[1m \u001b[0m\u001b[1mJun\u001b[0m\u001b[1m    \u001b[0m\u001b[1m \u001b[0m┃\u001b[1m \u001b[0m\u001b[1mJul\u001b[0m\u001b[1m    \u001b[0m\u001b[1m \u001b[0m┃\u001b[1m \u001b[0m\u001b[1mAug\u001b[0m\u001b[1m    \u001b[0m\u001b[1m \u001b[0m┃\u001b[1m \u001b[0m\u001b[1mSep\u001b[0m\u001b[1m    \u001b[0m\u001b[1m \u001b[0m┃\u001b[1m \u001b[0m\u001b[1mOct\u001b[0m\u001b[1m    \u001b[0m\u001b[1m \u001b[0m┃\u001b[1m \u001b[0m\u001b[1mNov\u001b[0m\u001b[1m    \u001b[0m\u001b[1m \u001b[0m┃\u001b[1m \u001b[0m\u001b[1mDec\u001b[0m\u001b[1m    \u001b[0m\u001b[1m \u001b[0m┃\u001b[1m \u001b[0m\u001b[1mKey\u001b[0m\u001b[1m       \u001b[0m\u001b[1m \u001b[0m┃\n",
       "┡━━━━━━━━━━━╇━━━━━━━━━━━━━━━━━━━━━━━━━━━━━━━━━━━━━━━━━━━━━━━━━━━━━━━━━╇━━━━━━━━━━━━━━━╇━━━━━━━━━╇━━━━━━━━━╇━━━━━━━━━╇━━━━━━━━━╇━━━━━━━━━╇━━━━━━━━━╇━━━━━━━━━╇━━━━━━━━━╇━━━━━━━━━╇━━━━━━━━━╇━━━━━━━━━╇━━━━━━━━━━━━┩\n",
       "│ \u001b[2mstring\u001b[0m    │ \u001b[2mstring\u001b[0m                                                  │ \u001b[2mfloat64\u001b[0m       │ \u001b[2mfloat64\u001b[0m │ \u001b[2mfloat64\u001b[0m │ \u001b[2mfloat64\u001b[0m │ \u001b[2mfloat64\u001b[0m │ \u001b[2mfloat64\u001b[0m │ \u001b[2mfloat64\u001b[0m │ \u001b[2mfloat64\u001b[0m │ \u001b[2mfloat64\u001b[0m │ \u001b[2mfloat64\u001b[0m │ \u001b[2mfloat64\u001b[0m │ \u001b[2mfloat64\u001b[0m │ \u001b[2mstring\u001b[0m     │\n",
       "├───────────┼─────────────────────────────────────────────────────────┼───────────────┼─────────┼─────────┼─────────┼─────────┼─────────┼─────────┼─────────┼─────────┼─────────┼─────────┼─────────┼────────────┤\n",
       "│ \u001b[32m50802-018\u001b[0m │ \u001b[32mA041     Other intangible assets - APC                 \u001b[0m │  \u001b[1;36m3.344000e+06\u001b[0m │    \u001b[1;36m-0.0\u001b[0m │    \u001b[1;36m-0.0\u001b[0m │    \u001b[1;36m-0.0\u001b[0m │    \u001b[1;36m-0.0\u001b[0m │    \u001b[1;36m-0.0\u001b[0m │    \u001b[1;36m-0.0\u001b[0m │    \u001b[1;36m-0.0\u001b[0m │    \u001b[1;36m-0.0\u001b[0m │    \u001b[1;36m-0.0\u001b[0m │    \u001b[1;36m-0.0\u001b[0m │    \u001b[1;36m-0.0\u001b[0m │ \u001b[32m041       \u001b[0m │\n",
       "│ \u001b[32m50802-018\u001b[0m │ \u001b[32m+,*,-\" SL (M11, partner x) gross                       \u001b[0m │  \u001b[1;36m3.344000e+06\u001b[0m │    \u001b[1;36m-0.0\u001b[0m │    \u001b[1;36m-0.0\u001b[0m │    \u001b[1;36m-0.0\u001b[0m │    \u001b[1;36m-0.0\u001b[0m │    \u001b[1;36m-0.0\u001b[0m │    \u001b[1;36m-0.0\u001b[0m │    \u001b[1;36m-0.0\u001b[0m │    \u001b[1;36m-0.0\u001b[0m │    \u001b[1;36m-0.0\u001b[0m │    \u001b[1;36m-0.0\u001b[0m │    \u001b[1;36m-0.0\u001b[0m │ \u001b[32m11        \u001b[0m │\n",
       "│ \u001b[32m50802-018\u001b[0m │ \u001b[32mA046     Adj. - Other intangible assets                \u001b[0m │ \u001b[1;36m-2.006400e+06\u001b[0m │    \u001b[1;36m-0.0\u001b[0m │    \u001b[1;36m-0.0\u001b[0m │    \u001b[1;36m-0.0\u001b[0m │    \u001b[1;36m-0.0\u001b[0m │    \u001b[1;36m-0.0\u001b[0m │    \u001b[1;36m-0.0\u001b[0m │    \u001b[1;36m-0.0\u001b[0m │    \u001b[1;36m-0.0\u001b[0m │    \u001b[1;36m-0.0\u001b[0m │    \u001b[1;36m-0.0\u001b[0m │    \u001b[1;36m-0.0\u001b[0m │ \u001b[32m046       \u001b[0m │\n",
       "│ \u001b[32m50802-018\u001b[0m │ \u001b[32m-,*,-\" SL (M11, partner x) allowance                   \u001b[0m │ \u001b[1;36m-2.006400e+06\u001b[0m │    \u001b[1;36m-0.0\u001b[0m │    \u001b[1;36m-0.0\u001b[0m │    \u001b[1;36m-0.0\u001b[0m │    \u001b[1;36m-0.0\u001b[0m │    \u001b[1;36m-0.0\u001b[0m │    \u001b[1;36m-0.0\u001b[0m │    \u001b[1;36m-0.0\u001b[0m │    \u001b[1;36m-0.0\u001b[0m │    \u001b[1;36m-0.0\u001b[0m │    \u001b[1;36m-0.0\u001b[0m │    \u001b[1;36m-0.0\u001b[0m │ \u001b[32m11        \u001b[0m │\n",
       "│ \u001b[32m50802-018\u001b[0m │ \u001b[32m0122152000 ' Other intangible assets                   \u001b[0m │  \u001b[1;36m1.337600e+06\u001b[0m │    \u001b[1;36m-0.0\u001b[0m │    \u001b[1;36m-0.0\u001b[0m │    \u001b[1;36m-0.0\u001b[0m │    \u001b[1;36m-0.0\u001b[0m │    \u001b[1;36m-0.0\u001b[0m │    \u001b[1;36m-0.0\u001b[0m │    \u001b[1;36m-0.0\u001b[0m │    \u001b[1;36m-0.0\u001b[0m │    \u001b[1;36m-0.0\u001b[0m │    \u001b[1;36m-0.0\u001b[0m │    \u001b[1;36m-0.0\u001b[0m │ \u001b[32m0122152000\u001b[0m │\n",
       "│ \u001b[32m50802-018\u001b[0m │ \u001b[32m0122100000 # Other intangible assets                   \u001b[0m │  \u001b[1;36m1.337600e+06\u001b[0m │    \u001b[1;36m-0.0\u001b[0m │    \u001b[1;36m-0.0\u001b[0m │    \u001b[1;36m-0.0\u001b[0m │    \u001b[1;36m-0.0\u001b[0m │    \u001b[1;36m-0.0\u001b[0m │    \u001b[1;36m-0.0\u001b[0m │    \u001b[1;36m-0.0\u001b[0m │    \u001b[1;36m-0.0\u001b[0m │    \u001b[1;36m-0.0\u001b[0m │    \u001b[1;36m-0.0\u001b[0m │    \u001b[1;36m-0.0\u001b[0m │ \u001b[32m0122100000\u001b[0m │\n",
       "│ \u001b[32m50802-018\u001b[0m │ \u001b[32m0120000000 # Non-current assets                        \u001b[0m │  \u001b[1;36m1.337600e+06\u001b[0m │    \u001b[1;36m-0.0\u001b[0m │    \u001b[1;36m-0.0\u001b[0m │    \u001b[1;36m-0.0\u001b[0m │    \u001b[1;36m-0.0\u001b[0m │    \u001b[1;36m-0.0\u001b[0m │    \u001b[1;36m-0.0\u001b[0m │    \u001b[1;36m-0.0\u001b[0m │    \u001b[1;36m-0.0\u001b[0m │    \u001b[1;36m-0.0\u001b[0m │    \u001b[1;36m-0.0\u001b[0m │    \u001b[1;36m-0.0\u001b[0m │ \u001b[32m0120000000\u001b[0m │\n",
       "│ \u001b[32m50802-018\u001b[0m │ \u001b[32mA53001   Finished Goods - Stock at acquisition costs   \u001b[0m │  \u001b[1;36m1.741905e+03\u001b[0m │    \u001b[1;36m-0.0\u001b[0m │    \u001b[1;36m-0.0\u001b[0m │    \u001b[1;36m-0.0\u001b[0m │    \u001b[1;36m-0.0\u001b[0m │    \u001b[1;36m-0.0\u001b[0m │    \u001b[1;36m-0.0\u001b[0m │    \u001b[1;36m-0.0\u001b[0m │    \u001b[1;36m-0.0\u001b[0m │    \u001b[1;36m-0.0\u001b[0m │    \u001b[1;36m-0.0\u001b[0m │    \u001b[1;36m-0.0\u001b[0m │ \u001b[32m53001     \u001b[0m │\n",
       "│ \u001b[32m50802-018\u001b[0m │ \u001b[32mA538     Finished Goods - Adjustment fixed costes HB II\u001b[0m │  \u001b[1;36m9.452400e+01\u001b[0m │    \u001b[1;36m-0.0\u001b[0m │    \u001b[1;36m-0.0\u001b[0m │    \u001b[1;36m-0.0\u001b[0m │    \u001b[1;36m-0.0\u001b[0m │    \u001b[1;36m-0.0\u001b[0m │    \u001b[1;36m-0.0\u001b[0m │    \u001b[1;36m-0.0\u001b[0m │    \u001b[1;36m-0.0\u001b[0m │    \u001b[1;36m-0.0\u001b[0m │    \u001b[1;36m-0.0\u001b[0m │    \u001b[1;36m-0.0\u001b[0m │ \u001b[32m538       \u001b[0m │\n",
       "│ \u001b[32m50802-018\u001b[0m │ \u001b[32m# Finished goods                                       \u001b[0m │  \u001b[1;36m1.836429e+03\u001b[0m │    \u001b[1;36m-0.0\u001b[0m │    \u001b[1;36m-0.0\u001b[0m │    \u001b[1;36m-0.0\u001b[0m │    \u001b[1;36m-0.0\u001b[0m │    \u001b[1;36m-0.0\u001b[0m │    \u001b[1;36m-0.0\u001b[0m │    \u001b[1;36m-0.0\u001b[0m │    \u001b[1;36m-0.0\u001b[0m │    \u001b[1;36m-0.0\u001b[0m │    \u001b[1;36m-0.0\u001b[0m │    \u001b[1;36m-0.0\u001b[0m │ \u001b[2m~\u001b[0m          │\n",
       "│ \u001b[2m…\u001b[0m         │ \u001b[2m…\u001b[0m                                                       │             \u001b[2m…\u001b[0m │       \u001b[2m…\u001b[0m │       \u001b[2m…\u001b[0m │       \u001b[2m…\u001b[0m │       \u001b[2m…\u001b[0m │       \u001b[2m…\u001b[0m │       \u001b[2m…\u001b[0m │       \u001b[2m…\u001b[0m │       \u001b[2m…\u001b[0m │       \u001b[2m…\u001b[0m │       \u001b[2m…\u001b[0m │       \u001b[2m…\u001b[0m │ \u001b[2m…\u001b[0m          │\n",
       "└───────────┴─────────────────────────────────────────────────────────┴───────────────┴─────────┴─────────┴─────────┴─────────┴─────────┴─────────┴─────────┴─────────┴─────────┴─────────┴─────────┴────────────┘"
      ]
     },
     "execution_count": 7,
     "metadata": {},
     "output_type": "execute_result"
    }
   ],
   "source": [
    "t = ibis.memtable(df, name=\"t\")\n",
    "t = t.select(\"source\", \"OneGL\", \"Jan\", \"Feb\", \"Mar\", \"Apr\", \"May\", \"Jun\", \"Jul\", \"Aug\", \"Sep\", \"Oct\", \"Nov\", \"Dec\")\n",
    "t = (t\n",
    "        .mutate(source = _.source.replace(\".dat\", \"\"))\n",
    "        .mutate(Key = _.OneGL.re_extract(r\"([0-9]+|^K[0-9]+|^P[0-9]+)\", 1))\n",
    "        .mutate(s.across(s.numeric(), _ / -1000))\n",
    "        .rename({'PrCr':\"source\"})\n",
    "    )\n",
    "t"
   ]
  },
  {
   "cell_type": "code",
   "execution_count": 8,
   "metadata": {},
   "outputs": [
    {
     "data": {
      "text/html": [
       "<pre style=\"white-space:pre;overflow-x:auto;line-height:normal;font-family:Menlo,'DejaVu Sans Mono',consolas,'Courier New',monospace\">┏━━━━━━━━━━━━┳━━━━━━━━━━━━┳━━━━━━━━┳━━━━━━━━━━━━━━━━━━━━━━━━━━━━━━━━━━━━━━━━━━━━━━━━━━━━━┳━━━━━━━━━━━┓\n",
       "┃<span style=\"font-weight: bold\"> Key        </span>┃<span style=\"font-weight: bold\"> A          </span>┃<span style=\"font-weight: bold\"> B      </span>┃<span style=\"font-weight: bold\"> C                                                   </span>┃<span style=\"font-weight: bold\"> D         </span>┃\n",
       "┡━━━━━━━━━━━━╇━━━━━━━━━━━━╇━━━━━━━━╇━━━━━━━━━━━━━━━━━━━━━━━━━━━━━━━━━━━━━━━━━━━━━━━━━━━━━╇━━━━━━━━━━━┩\n",
       "│ <span style=\"color: #7f7f7f; text-decoration-color: #7f7f7f\">string</span>     │ <span style=\"color: #7f7f7f; text-decoration-color: #7f7f7f\">string</span>     │ <span style=\"color: #7f7f7f; text-decoration-color: #7f7f7f\">string</span> │ <span style=\"color: #7f7f7f; text-decoration-color: #7f7f7f\">string</span>                                              │ <span style=\"color: #7f7f7f; text-decoration-color: #7f7f7f\">string</span>    │\n",
       "├────────────┼────────────┼────────┼─────────────────────────────────────────────────────┼───────────┤\n",
       "│ <span style=\"color: #008000; text-decoration-color: #008000\">0308001100</span> │ <span style=\"color: #008000; text-decoration-color: #008000\">Variations</span> │ <span style=\"color: #008000; text-decoration-color: #008000\">1     </span> │ <span style=\"color: #008000; text-decoration-color: #008000\">Var. to material price  (PPV)                      </span> │ <span style=\"color: #008000; text-decoration-color: #008000\">308001100</span> │\n",
       "│ <span style=\"color: #008000; text-decoration-color: #008000\">0308001600</span> │ <span style=\"color: #008000; text-decoration-color: #008000\">Variations</span> │ <span style=\"color: #008000; text-decoration-color: #008000\">4     </span> │ <span style=\"color: #008000; text-decoration-color: #008000\">Inv. valuation &amp; variations (raw material &amp; supply)</span> │ <span style=\"color: #008000; text-decoration-color: #008000\">308001600</span> │\n",
       "│ <span style=\"color: #008000; text-decoration-color: #008000\">0308002100</span> │ <span style=\"color: #008000; text-decoration-color: #008000\">Variations</span> │ <span style=\"color: #008000; text-decoration-color: #008000\">4     </span> │ <span style=\"color: #008000; text-decoration-color: #008000\">Inv. valuation &amp; variations (raw material &amp; supply)</span> │ <span style=\"color: #008000; text-decoration-color: #008000\">308002100</span> │\n",
       "└────────────┴────────────┴────────┴─────────────────────────────────────────────────────┴───────────┘\n",
       "</pre>\n"
      ],
      "text/plain": [
       "┏━━━━━━━━━━━━┳━━━━━━━━━━━━┳━━━━━━━━┳━━━━━━━━━━━━━━━━━━━━━━━━━━━━━━━━━━━━━━━━━━━━━━━━━━━━━┳━━━━━━━━━━━┓\n",
       "┃\u001b[1m \u001b[0m\u001b[1mKey\u001b[0m\u001b[1m       \u001b[0m\u001b[1m \u001b[0m┃\u001b[1m \u001b[0m\u001b[1mA\u001b[0m\u001b[1m         \u001b[0m\u001b[1m \u001b[0m┃\u001b[1m \u001b[0m\u001b[1mB\u001b[0m\u001b[1m     \u001b[0m\u001b[1m \u001b[0m┃\u001b[1m \u001b[0m\u001b[1mC\u001b[0m\u001b[1m                                                  \u001b[0m\u001b[1m \u001b[0m┃\u001b[1m \u001b[0m\u001b[1mD\u001b[0m\u001b[1m        \u001b[0m\u001b[1m \u001b[0m┃\n",
       "┡━━━━━━━━━━━━╇━━━━━━━━━━━━╇━━━━━━━━╇━━━━━━━━━━━━━━━━━━━━━━━━━━━━━━━━━━━━━━━━━━━━━━━━━━━━━╇━━━━━━━━━━━┩\n",
       "│ \u001b[2mstring\u001b[0m     │ \u001b[2mstring\u001b[0m     │ \u001b[2mstring\u001b[0m │ \u001b[2mstring\u001b[0m                                              │ \u001b[2mstring\u001b[0m    │\n",
       "├────────────┼────────────┼────────┼─────────────────────────────────────────────────────┼───────────┤\n",
       "│ \u001b[32m0308001100\u001b[0m │ \u001b[32mVariations\u001b[0m │ \u001b[32m1     \u001b[0m │ \u001b[32mVar. to material price  (PPV)                      \u001b[0m │ \u001b[32m308001100\u001b[0m │\n",
       "│ \u001b[32m0308001600\u001b[0m │ \u001b[32mVariations\u001b[0m │ \u001b[32m4     \u001b[0m │ \u001b[32mInv. valuation & variations (raw material & supply)\u001b[0m │ \u001b[32m308001600\u001b[0m │\n",
       "│ \u001b[32m0308002100\u001b[0m │ \u001b[32mVariations\u001b[0m │ \u001b[32m4     \u001b[0m │ \u001b[32mInv. valuation & variations (raw material & supply)\u001b[0m │ \u001b[32m308002100\u001b[0m │\n",
       "└────────────┴────────────┴────────┴─────────────────────────────────────────────────────┴───────────┘"
      ]
     },
     "execution_count": 8,
     "metadata": {},
     "output_type": "execute_result"
    }
   ],
   "source": [
    "lookup_df = pd.read_csv(meta_path / \"Lookup_table.csv\", dtype=str)\n",
    "l = ibis.memtable(lookup_df, name=\"l\")\n",
    "l = l.mutate(Key = _.Key.re_extract(r\"([0-9]+|^K[0-9]+|^P[0-9]+)\", 1))\n",
    "l.head(3)"
   ]
  },
  {
   "cell_type": "code",
   "execution_count": 9,
   "metadata": {},
   "outputs": [
    {
     "data": {
      "text/html": [
       "<pre style=\"white-space:pre;overflow-x:auto;line-height:normal;font-family:Menlo,'DejaVu Sans Mono',consolas,'Courier New',monospace\">┏━━━━━━━━━━━┳━━━━━━━━━━━━━━━━━━━━━━┳━━━━━━━━┳━━━━━━━━━━━━━━━━━━━━━━━━━━━━━━━━━━━━━━━━━━━━━━━━━━━━━┳━━━━━━━━━━━┳━━━━━━━━━━━┳━━━━━━━━━━━┳━━━━━━━━━┳━━━━━━━━━┳━━━━━━━━━┳━━━━━━━━━┳━━━━━━━━━┳━━━━━━━━━┳━━━━━━━━━┳━━━━━━━━━┳━━━━━━━━━┳━━━━━━━━━┳━━━━━━━━━━━━┳━━━━━━━━━━━━━━━━━━━━━━━━━━━━━━━━━━━━━━━━━━━━━━━━━━━┓\n",
       "┃<span style=\"font-weight: bold\"> PrCr      </span>┃<span style=\"font-weight: bold\"> A                    </span>┃<span style=\"font-weight: bold\"> B      </span>┃<span style=\"font-weight: bold\"> C                                                   </span>┃<span style=\"font-weight: bold\"> D         </span>┃<span style=\"font-weight: bold\"> Jan       </span>┃<span style=\"font-weight: bold\"> Feb       </span>┃<span style=\"font-weight: bold\"> Mar     </span>┃<span style=\"font-weight: bold\"> Apr     </span>┃<span style=\"font-weight: bold\"> May     </span>┃<span style=\"font-weight: bold\"> Jun     </span>┃<span style=\"font-weight: bold\"> Jul     </span>┃<span style=\"font-weight: bold\"> Aug     </span>┃<span style=\"font-weight: bold\"> Sep     </span>┃<span style=\"font-weight: bold\"> Oct     </span>┃<span style=\"font-weight: bold\"> Nov     </span>┃<span style=\"font-weight: bold\"> Dec     </span>┃<span style=\"font-weight: bold\"> Key        </span>┃<span style=\"font-weight: bold\"> OneGL                                             </span>┃\n",
       "┡━━━━━━━━━━━╇━━━━━━━━━━━━━━━━━━━━━━╇━━━━━━━━╇━━━━━━━━━━━━━━━━━━━━━━━━━━━━━━━━━━━━━━━━━━━━━━━━━━━━━╇━━━━━━━━━━━╇━━━━━━━━━━━╇━━━━━━━━━━━╇━━━━━━━━━╇━━━━━━━━━╇━━━━━━━━━╇━━━━━━━━━╇━━━━━━━━━╇━━━━━━━━━╇━━━━━━━━━╇━━━━━━━━━╇━━━━━━━━━╇━━━━━━━━━╇━━━━━━━━━━━━╇━━━━━━━━━━━━━━━━━━━━━━━━━━━━━━━━━━━━━━━━━━━━━━━━━━━┩\n",
       "│ <span style=\"color: #7f7f7f; text-decoration-color: #7f7f7f\">string</span>    │ <span style=\"color: #7f7f7f; text-decoration-color: #7f7f7f\">string</span>               │ <span style=\"color: #7f7f7f; text-decoration-color: #7f7f7f\">string</span> │ <span style=\"color: #7f7f7f; text-decoration-color: #7f7f7f\">string</span>                                              │ <span style=\"color: #7f7f7f; text-decoration-color: #7f7f7f\">string</span>    │ <span style=\"color: #7f7f7f; text-decoration-color: #7f7f7f\">float64</span>   │ <span style=\"color: #7f7f7f; text-decoration-color: #7f7f7f\">float64</span>   │ <span style=\"color: #7f7f7f; text-decoration-color: #7f7f7f\">float64</span> │ <span style=\"color: #7f7f7f; text-decoration-color: #7f7f7f\">float64</span> │ <span style=\"color: #7f7f7f; text-decoration-color: #7f7f7f\">float64</span> │ <span style=\"color: #7f7f7f; text-decoration-color: #7f7f7f\">float64</span> │ <span style=\"color: #7f7f7f; text-decoration-color: #7f7f7f\">float64</span> │ <span style=\"color: #7f7f7f; text-decoration-color: #7f7f7f\">float64</span> │ <span style=\"color: #7f7f7f; text-decoration-color: #7f7f7f\">float64</span> │ <span style=\"color: #7f7f7f; text-decoration-color: #7f7f7f\">float64</span> │ <span style=\"color: #7f7f7f; text-decoration-color: #7f7f7f\">float64</span> │ <span style=\"color: #7f7f7f; text-decoration-color: #7f7f7f\">float64</span> │ <span style=\"color: #7f7f7f; text-decoration-color: #7f7f7f\">string</span>     │ <span style=\"color: #7f7f7f; text-decoration-color: #7f7f7f\">string</span>                                            │\n",
       "├───────────┼──────────────────────┼────────┼─────────────────────────────────────────────────────┼───────────┼───────────┼───────────┼─────────┼─────────┼─────────┼─────────┼─────────┼─────────┼─────────┼─────────┼─────────┼─────────┼────────────┼───────────────────────────────────────────────────┤\n",
       "│ <span style=\"color: #008000; text-decoration-color: #008000\">50802-018</span> │ <span style=\"color: #008000; text-decoration-color: #008000\">Variations          </span> │ <span style=\"color: #008000; text-decoration-color: #008000\">5     </span> │ <span style=\"color: #008000; text-decoration-color: #008000\">Var. rework/spoilage/scrap                         </span> │ <span style=\"color: #008000; text-decoration-color: #008000\">delta    </span> │    <span style=\"color: #008080; text-decoration-color: #008080; font-weight: bold\">-0.000</span> │    <span style=\"color: #008080; text-decoration-color: #008080; font-weight: bold\">-0.000</span> │    <span style=\"color: #008080; text-decoration-color: #008080; font-weight: bold\">-0.0</span> │    <span style=\"color: #008080; text-decoration-color: #008080; font-weight: bold\">-0.0</span> │    <span style=\"color: #008080; text-decoration-color: #008080; font-weight: bold\">-0.0</span> │    <span style=\"color: #008080; text-decoration-color: #008080; font-weight: bold\">-0.0</span> │    <span style=\"color: #008080; text-decoration-color: #008080; font-weight: bold\">-0.0</span> │    <span style=\"color: #008080; text-decoration-color: #008080; font-weight: bold\">-0.0</span> │    <span style=\"color: #008080; text-decoration-color: #008080; font-weight: bold\">-0.0</span> │    <span style=\"color: #008080; text-decoration-color: #008080; font-weight: bold\">-0.0</span> │    <span style=\"color: #008080; text-decoration-color: #008080; font-weight: bold\">-0.0</span> │    <span style=\"color: #008080; text-decoration-color: #008080; font-weight: bold\">-0.0</span> │ <span style=\"color: #008000; text-decoration-color: #008000\">0309503100</span> │ <span style=\"color: #008000; text-decoration-color: #008000\">0309503100 ' Var.rework/spoilage/scrap           </span> │\n",
       "│ <span style=\"color: #008000; text-decoration-color: #008000\">50802-018</span> │ <span style=\"color: #008000; text-decoration-color: #008000\">Variations          </span> │ <span style=\"color: #008000; text-decoration-color: #008000\">8     </span> │ <span style=\"color: #008000; text-decoration-color: #008000\">Replacement&amp;Adj&amp;General Warranty                   </span> │ <span style=\"color: #008000; text-decoration-color: #008000\">delta    </span> │  <span style=\"color: #008080; text-decoration-color: #008080; font-weight: bold\">2511.180</span> │  <span style=\"color: #008080; text-decoration-color: #008080; font-weight: bold\">2708.063</span> │    <span style=\"color: #008080; text-decoration-color: #008080; font-weight: bold\">-0.0</span> │    <span style=\"color: #008080; text-decoration-color: #008080; font-weight: bold\">-0.0</span> │    <span style=\"color: #008080; text-decoration-color: #008080; font-weight: bold\">-0.0</span> │    <span style=\"color: #008080; text-decoration-color: #008080; font-weight: bold\">-0.0</span> │    <span style=\"color: #008080; text-decoration-color: #008080; font-weight: bold\">-0.0</span> │    <span style=\"color: #008080; text-decoration-color: #008080; font-weight: bold\">-0.0</span> │    <span style=\"color: #008080; text-decoration-color: #008080; font-weight: bold\">-0.0</span> │    <span style=\"color: #008080; text-decoration-color: #008080; font-weight: bold\">-0.0</span> │    <span style=\"color: #008080; text-decoration-color: #008080; font-weight: bold\">-0.0</span> │    <span style=\"color: #008080; text-decoration-color: #008080; font-weight: bold\">-0.0</span> │ <span style=\"color: #008000; text-decoration-color: #008000\">0310003100</span> │ <span style=\"color: #008000; text-decoration-color: #008000\">0310003100 ' Repl.,adjust.,gen.warranty          </span> │\n",
       "│ <span style=\"color: #008000; text-decoration-color: #008000\">50802-018</span> │ <span style=\"color: #008000; text-decoration-color: #008000\">All Other Variations</span> │ <span style=\"color: #008000; text-decoration-color: #008000\">3     </span> │ <span style=\"color: #008000; text-decoration-color: #008000\">Var. to handling                                   </span> │ <span style=\"color: #008000; text-decoration-color: #008000\">P90717   </span> │    <span style=\"color: #008080; text-decoration-color: #008080; font-weight: bold\">32.885</span> │    <span style=\"color: #008080; text-decoration-color: #008080; font-weight: bold\">24.664</span> │    <span style=\"color: #008080; text-decoration-color: #008080; font-weight: bold\">-0.0</span> │    <span style=\"color: #008080; text-decoration-color: #008080; font-weight: bold\">-0.0</span> │    <span style=\"color: #008080; text-decoration-color: #008080; font-weight: bold\">-0.0</span> │    <span style=\"color: #008080; text-decoration-color: #008080; font-weight: bold\">-0.0</span> │    <span style=\"color: #008080; text-decoration-color: #008080; font-weight: bold\">-0.0</span> │    <span style=\"color: #008080; text-decoration-color: #008080; font-weight: bold\">-0.0</span> │    <span style=\"color: #008080; text-decoration-color: #008080; font-weight: bold\">-0.0</span> │    <span style=\"color: #008080; text-decoration-color: #008080; font-weight: bold\">-0.0</span> │    <span style=\"color: #008080; text-decoration-color: #008080; font-weight: bold\">-0.0</span> │    <span style=\"color: #008080; text-decoration-color: #008080; font-weight: bold\">-0.0</span> │ <span style=\"color: #008000; text-decoration-color: #008000\">P90717    </span> │ <span style=\"color: #008000; text-decoration-color: #008000\">P90717   Handling variation                      </span> │\n",
       "│ <span style=\"color: #008000; text-decoration-color: #008000\">50802-018</span> │ <span style=\"color: #008000; text-decoration-color: #008000\">Variations          </span> │ <span style=\"color: #008000; text-decoration-color: #008000\">7     </span> │ <span style=\"color: #008000; text-decoration-color: #008000\">Var. to freight                                    </span> │ <span style=\"color: #008000; text-decoration-color: #008000\">310004100</span> │     <span style=\"color: #008080; text-decoration-color: #008080; font-weight: bold\">0.001</span> │     <span style=\"color: #008080; text-decoration-color: #008080; font-weight: bold\">0.001</span> │    <span style=\"color: #008080; text-decoration-color: #008080; font-weight: bold\">-0.0</span> │    <span style=\"color: #008080; text-decoration-color: #008080; font-weight: bold\">-0.0</span> │    <span style=\"color: #008080; text-decoration-color: #008080; font-weight: bold\">-0.0</span> │    <span style=\"color: #008080; text-decoration-color: #008080; font-weight: bold\">-0.0</span> │    <span style=\"color: #008080; text-decoration-color: #008080; font-weight: bold\">-0.0</span> │    <span style=\"color: #008080; text-decoration-color: #008080; font-weight: bold\">-0.0</span> │    <span style=\"color: #008080; text-decoration-color: #008080; font-weight: bold\">-0.0</span> │    <span style=\"color: #008080; text-decoration-color: #008080; font-weight: bold\">-0.0</span> │    <span style=\"color: #008080; text-decoration-color: #008080; font-weight: bold\">-0.0</span> │    <span style=\"color: #008080; text-decoration-color: #008080; font-weight: bold\">-0.0</span> │ <span style=\"color: #008000; text-decoration-color: #008000\">0310004100</span> │ <span style=\"color: #008000; text-decoration-color: #008000\">0310004100 ' Var.to freight                      </span> │\n",
       "│ <span style=\"color: #008000; text-decoration-color: #008000\">50803-009</span> │ <span style=\"color: #008000; text-decoration-color: #008000\">Variations          </span> │ <span style=\"color: #008000; text-decoration-color: #008000\">4     </span> │ <span style=\"color: #008000; text-decoration-color: #008000\">Inv. valuation &amp; variations (raw material &amp; supply)</span> │ <span style=\"color: #008000; text-decoration-color: #008000\">308001600</span> │ <span style=\"color: #008080; text-decoration-color: #008080; font-weight: bold\">22973.875</span> │   <span style=\"color: #008080; text-decoration-color: #008080; font-weight: bold\">618.869</span> │    <span style=\"color: #008080; text-decoration-color: #008080; font-weight: bold\">-0.0</span> │    <span style=\"color: #008080; text-decoration-color: #008080; font-weight: bold\">-0.0</span> │    <span style=\"color: #008080; text-decoration-color: #008080; font-weight: bold\">-0.0</span> │    <span style=\"color: #008080; text-decoration-color: #008080; font-weight: bold\">-0.0</span> │    <span style=\"color: #008080; text-decoration-color: #008080; font-weight: bold\">-0.0</span> │    <span style=\"color: #008080; text-decoration-color: #008080; font-weight: bold\">-0.0</span> │    <span style=\"color: #008080; text-decoration-color: #008080; font-weight: bold\">-0.0</span> │    <span style=\"color: #008080; text-decoration-color: #008080; font-weight: bold\">-0.0</span> │    <span style=\"color: #008080; text-decoration-color: #008080; font-weight: bold\">-0.0</span> │    <span style=\"color: #008080; text-decoration-color: #008080; font-weight: bold\">-0.0</span> │ <span style=\"color: #008000; text-decoration-color: #008000\">0308001600</span> │ <span style=\"color: #008000; text-decoration-color: #008000\">0308001600 ' Inv.valuat.allow(raw.mat&amp;su         </span> │\n",
       "│ <span style=\"color: #008000; text-decoration-color: #008000\">50803-009</span> │ <span style=\"color: #008000; text-decoration-color: #008000\">Variations          </span> │ <span style=\"color: #008000; text-decoration-color: #008000\">4     </span> │ <span style=\"color: #008000; text-decoration-color: #008000\">Inv. valuation &amp; variations (raw material &amp; supply)</span> │ <span style=\"color: #008000; text-decoration-color: #008000\">308002100</span> │    <span style=\"color: #008080; text-decoration-color: #008080; font-weight: bold\">-0.000</span> │    <span style=\"color: #008080; text-decoration-color: #008080; font-weight: bold\">-7.918</span> │    <span style=\"color: #008080; text-decoration-color: #008080; font-weight: bold\">-0.0</span> │    <span style=\"color: #008080; text-decoration-color: #008080; font-weight: bold\">-0.0</span> │    <span style=\"color: #008080; text-decoration-color: #008080; font-weight: bold\">-0.0</span> │    <span style=\"color: #008080; text-decoration-color: #008080; font-weight: bold\">-0.0</span> │    <span style=\"color: #008080; text-decoration-color: #008080; font-weight: bold\">-0.0</span> │    <span style=\"color: #008080; text-decoration-color: #008080; font-weight: bold\">-0.0</span> │    <span style=\"color: #008080; text-decoration-color: #008080; font-weight: bold\">-0.0</span> │    <span style=\"color: #008080; text-decoration-color: #008080; font-weight: bold\">-0.0</span> │    <span style=\"color: #008080; text-decoration-color: #008080; font-weight: bold\">-0.0</span> │    <span style=\"color: #008080; text-decoration-color: #008080; font-weight: bold\">-0.0</span> │ <span style=\"color: #008000; text-decoration-color: #008000\">0308002100</span> │ <span style=\"color: #008000; text-decoration-color: #008000\">0308002100 ' Inv.variations (raw.mat&amp;sup         </span> │\n",
       "│ <span style=\"color: #008000; text-decoration-color: #008000\">50803-009</span> │ <span style=\"color: #008000; text-decoration-color: #008000\">All Other Variations</span> │ <span style=\"color: #008000; text-decoration-color: #008000\">6     </span> │ <span style=\"color: #008000; text-decoration-color: #008000\">Var.to mfg oth.inp. - LDC                          </span> │ <span style=\"color: #008000; text-decoration-color: #008000\">K96009   </span> │   <span style=\"color: #008080; text-decoration-color: #008080; font-weight: bold\">-25.964</span> │     <span style=\"color: #008080; text-decoration-color: #008080; font-weight: bold\">0.047</span> │    <span style=\"color: #008080; text-decoration-color: #008080; font-weight: bold\">-0.0</span> │    <span style=\"color: #008080; text-decoration-color: #008080; font-weight: bold\">-0.0</span> │    <span style=\"color: #008080; text-decoration-color: #008080; font-weight: bold\">-0.0</span> │    <span style=\"color: #008080; text-decoration-color: #008080; font-weight: bold\">-0.0</span> │    <span style=\"color: #008080; text-decoration-color: #008080; font-weight: bold\">-0.0</span> │    <span style=\"color: #008080; text-decoration-color: #008080; font-weight: bold\">-0.0</span> │    <span style=\"color: #008080; text-decoration-color: #008080; font-weight: bold\">-0.0</span> │    <span style=\"color: #008080; text-decoration-color: #008080; font-weight: bold\">-0.0</span> │    <span style=\"color: #008080; text-decoration-color: #008080; font-weight: bold\">-0.0</span> │    <span style=\"color: #008080; text-decoration-color: #008080; font-weight: bold\">-0.0</span> │ <span style=\"color: #008000; text-decoration-color: #008000\">K96009    </span> │ <span style=\"color: #008000; text-decoration-color: #008000\">K96009      Settlement - Own services capitalized</span> │\n",
       "│ <span style=\"color: #008000; text-decoration-color: #008000\">50803-009</span> │ <span style=\"color: #008000; text-decoration-color: #008000\">All Other Variations</span> │ <span style=\"color: #008000; text-decoration-color: #008000\">7     </span> │ <span style=\"color: #008000; text-decoration-color: #008000\">Var.to mfg oth.inp. - MDC                          </span> │ <span style=\"color: #008000; text-decoration-color: #008000\">K96007   </span> │   <span style=\"color: #008080; text-decoration-color: #008080; font-weight: bold\">-18.938</span> │    <span style=\"color: #008080; text-decoration-color: #008080; font-weight: bold\">-0.012</span> │    <span style=\"color: #008080; text-decoration-color: #008080; font-weight: bold\">-0.0</span> │    <span style=\"color: #008080; text-decoration-color: #008080; font-weight: bold\">-0.0</span> │    <span style=\"color: #008080; text-decoration-color: #008080; font-weight: bold\">-0.0</span> │    <span style=\"color: #008080; text-decoration-color: #008080; font-weight: bold\">-0.0</span> │    <span style=\"color: #008080; text-decoration-color: #008080; font-weight: bold\">-0.0</span> │    <span style=\"color: #008080; text-decoration-color: #008080; font-weight: bold\">-0.0</span> │    <span style=\"color: #008080; text-decoration-color: #008080; font-weight: bold\">-0.0</span> │    <span style=\"color: #008080; text-decoration-color: #008080; font-weight: bold\">-0.0</span> │    <span style=\"color: #008080; text-decoration-color: #008080; font-weight: bold\">-0.0</span> │    <span style=\"color: #008080; text-decoration-color: #008080; font-weight: bold\">-0.0</span> │ <span style=\"color: #008000; text-decoration-color: #008000\">K96007    </span> │ <span style=\"color: #008000; text-decoration-color: #008000\">K96007      Variance - Other                     </span> │\n",
       "│ <span style=\"color: #008000; text-decoration-color: #008000\">50803-009</span> │ <span style=\"color: #008000; text-decoration-color: #008000\">All Other Variations</span> │ <span style=\"color: #008000; text-decoration-color: #008000\">8     </span> │ <span style=\"color: #008000; text-decoration-color: #008000\">Variations in Production Cost Centers - LDC        </span> │ <span style=\"color: #008000; text-decoration-color: #008000\">P90707   </span> │ <span style=\"color: #008080; text-decoration-color: #008080; font-weight: bold\">-3732.131</span> │ <span style=\"color: #008080; text-decoration-color: #008080; font-weight: bold\">-8027.438</span> │    <span style=\"color: #008080; text-decoration-color: #008080; font-weight: bold\">-0.0</span> │    <span style=\"color: #008080; text-decoration-color: #008080; font-weight: bold\">-0.0</span> │    <span style=\"color: #008080; text-decoration-color: #008080; font-weight: bold\">-0.0</span> │    <span style=\"color: #008080; text-decoration-color: #008080; font-weight: bold\">-0.0</span> │    <span style=\"color: #008080; text-decoration-color: #008080; font-weight: bold\">-0.0</span> │    <span style=\"color: #008080; text-decoration-color: #008080; font-weight: bold\">-0.0</span> │    <span style=\"color: #008080; text-decoration-color: #008080; font-weight: bold\">-0.0</span> │    <span style=\"color: #008080; text-decoration-color: #008080; font-weight: bold\">-0.0</span> │    <span style=\"color: #008080; text-decoration-color: #008080; font-weight: bold\">-0.0</span> │    <span style=\"color: #008080; text-decoration-color: #008080; font-weight: bold\">-0.0</span> │ <span style=\"color: #008000; text-decoration-color: #008000\">P90707    </span> │ <span style=\"color: #008000; text-decoration-color: #008000\">P90707      Var.f.Standard-Labor Rate            </span> │\n",
       "│ <span style=\"color: #008000; text-decoration-color: #008000\">50803-009</span> │ <span style=\"color: #008000; text-decoration-color: #008000\">All Other Variations</span> │ <span style=\"color: #008000; text-decoration-color: #008000\">9     </span> │ <span style=\"color: #008000; text-decoration-color: #008000\">Variations in Production Cost Centers - MDC        </span> │ <span style=\"color: #008000; text-decoration-color: #008000\">P90708   </span> │ <span style=\"color: #008080; text-decoration-color: #008080; font-weight: bold\">-6755.391</span> │ <span style=\"color: #008080; text-decoration-color: #008080; font-weight: bold\">-5546.616</span> │    <span style=\"color: #008080; text-decoration-color: #008080; font-weight: bold\">-0.0</span> │    <span style=\"color: #008080; text-decoration-color: #008080; font-weight: bold\">-0.0</span> │    <span style=\"color: #008080; text-decoration-color: #008080; font-weight: bold\">-0.0</span> │    <span style=\"color: #008080; text-decoration-color: #008080; font-weight: bold\">-0.0</span> │    <span style=\"color: #008080; text-decoration-color: #008080; font-weight: bold\">-0.0</span> │    <span style=\"color: #008080; text-decoration-color: #008080; font-weight: bold\">-0.0</span> │    <span style=\"color: #008080; text-decoration-color: #008080; font-weight: bold\">-0.0</span> │    <span style=\"color: #008080; text-decoration-color: #008080; font-weight: bold\">-0.0</span> │    <span style=\"color: #008080; text-decoration-color: #008080; font-weight: bold\">-0.0</span> │    <span style=\"color: #008080; text-decoration-color: #008080; font-weight: bold\">-0.0</span> │ <span style=\"color: #008000; text-decoration-color: #008000\">P90708    </span> │ <span style=\"color: #008000; text-decoration-color: #008000\">P90708      Var.Cost-Production Area             </span> │\n",
       "│ <span style=\"color: #7f7f7f; text-decoration-color: #7f7f7f\">…</span>         │ <span style=\"color: #7f7f7f; text-decoration-color: #7f7f7f\">…</span>                    │ <span style=\"color: #7f7f7f; text-decoration-color: #7f7f7f\">…</span>      │ <span style=\"color: #7f7f7f; text-decoration-color: #7f7f7f\">…</span>                                                   │ <span style=\"color: #7f7f7f; text-decoration-color: #7f7f7f\">…</span>         │         <span style=\"color: #7f7f7f; text-decoration-color: #7f7f7f\">…</span> │         <span style=\"color: #7f7f7f; text-decoration-color: #7f7f7f\">…</span> │       <span style=\"color: #7f7f7f; text-decoration-color: #7f7f7f\">…</span> │       <span style=\"color: #7f7f7f; text-decoration-color: #7f7f7f\">…</span> │       <span style=\"color: #7f7f7f; text-decoration-color: #7f7f7f\">…</span> │       <span style=\"color: #7f7f7f; text-decoration-color: #7f7f7f\">…</span> │       <span style=\"color: #7f7f7f; text-decoration-color: #7f7f7f\">…</span> │       <span style=\"color: #7f7f7f; text-decoration-color: #7f7f7f\">…</span> │       <span style=\"color: #7f7f7f; text-decoration-color: #7f7f7f\">…</span> │       <span style=\"color: #7f7f7f; text-decoration-color: #7f7f7f\">…</span> │       <span style=\"color: #7f7f7f; text-decoration-color: #7f7f7f\">…</span> │       <span style=\"color: #7f7f7f; text-decoration-color: #7f7f7f\">…</span> │ <span style=\"color: #7f7f7f; text-decoration-color: #7f7f7f\">…</span>          │ <span style=\"color: #7f7f7f; text-decoration-color: #7f7f7f\">…</span>                                                 │\n",
       "└───────────┴──────────────────────┴────────┴─────────────────────────────────────────────────────┴───────────┴───────────┴───────────┴─────────┴─────────┴─────────┴─────────┴─────────┴─────────┴─────────┴─────────┴─────────┴─────────┴────────────┴───────────────────────────────────────────────────┘\n",
       "</pre>\n"
      ],
      "text/plain": [
       "┏━━━━━━━━━━━┳━━━━━━━━━━━━━━━━━━━━━━┳━━━━━━━━┳━━━━━━━━━━━━━━━━━━━━━━━━━━━━━━━━━━━━━━━━━━━━━━━━━━━━━┳━━━━━━━━━━━┳━━━━━━━━━━━┳━━━━━━━━━━━┳━━━━━━━━━┳━━━━━━━━━┳━━━━━━━━━┳━━━━━━━━━┳━━━━━━━━━┳━━━━━━━━━┳━━━━━━━━━┳━━━━━━━━━┳━━━━━━━━━┳━━━━━━━━━┳━━━━━━━━━━━━┳━━━━━━━━━━━━━━━━━━━━━━━━━━━━━━━━━━━━━━━━━━━━━━━━━━━┓\n",
       "┃\u001b[1m \u001b[0m\u001b[1mPrCr\u001b[0m\u001b[1m     \u001b[0m\u001b[1m \u001b[0m┃\u001b[1m \u001b[0m\u001b[1mA\u001b[0m\u001b[1m                   \u001b[0m\u001b[1m \u001b[0m┃\u001b[1m \u001b[0m\u001b[1mB\u001b[0m\u001b[1m     \u001b[0m\u001b[1m \u001b[0m┃\u001b[1m \u001b[0m\u001b[1mC\u001b[0m\u001b[1m                                                  \u001b[0m\u001b[1m \u001b[0m┃\u001b[1m \u001b[0m\u001b[1mD\u001b[0m\u001b[1m        \u001b[0m\u001b[1m \u001b[0m┃\u001b[1m \u001b[0m\u001b[1mJan\u001b[0m\u001b[1m      \u001b[0m\u001b[1m \u001b[0m┃\u001b[1m \u001b[0m\u001b[1mFeb\u001b[0m\u001b[1m      \u001b[0m\u001b[1m \u001b[0m┃\u001b[1m \u001b[0m\u001b[1mMar\u001b[0m\u001b[1m    \u001b[0m\u001b[1m \u001b[0m┃\u001b[1m \u001b[0m\u001b[1mApr\u001b[0m\u001b[1m    \u001b[0m\u001b[1m \u001b[0m┃\u001b[1m \u001b[0m\u001b[1mMay\u001b[0m\u001b[1m    \u001b[0m\u001b[1m \u001b[0m┃\u001b[1m \u001b[0m\u001b[1mJun\u001b[0m\u001b[1m    \u001b[0m\u001b[1m \u001b[0m┃\u001b[1m \u001b[0m\u001b[1mJul\u001b[0m\u001b[1m    \u001b[0m\u001b[1m \u001b[0m┃\u001b[1m \u001b[0m\u001b[1mAug\u001b[0m\u001b[1m    \u001b[0m\u001b[1m \u001b[0m┃\u001b[1m \u001b[0m\u001b[1mSep\u001b[0m\u001b[1m    \u001b[0m\u001b[1m \u001b[0m┃\u001b[1m \u001b[0m\u001b[1mOct\u001b[0m\u001b[1m    \u001b[0m\u001b[1m \u001b[0m┃\u001b[1m \u001b[0m\u001b[1mNov\u001b[0m\u001b[1m    \u001b[0m\u001b[1m \u001b[0m┃\u001b[1m \u001b[0m\u001b[1mDec\u001b[0m\u001b[1m    \u001b[0m\u001b[1m \u001b[0m┃\u001b[1m \u001b[0m\u001b[1mKey\u001b[0m\u001b[1m       \u001b[0m\u001b[1m \u001b[0m┃\u001b[1m \u001b[0m\u001b[1mOneGL\u001b[0m\u001b[1m                                            \u001b[0m\u001b[1m \u001b[0m┃\n",
       "┡━━━━━━━━━━━╇━━━━━━━━━━━━━━━━━━━━━━╇━━━━━━━━╇━━━━━━━━━━━━━━━━━━━━━━━━━━━━━━━━━━━━━━━━━━━━━━━━━━━━━╇━━━━━━━━━━━╇━━━━━━━━━━━╇━━━━━━━━━━━╇━━━━━━━━━╇━━━━━━━━━╇━━━━━━━━━╇━━━━━━━━━╇━━━━━━━━━╇━━━━━━━━━╇━━━━━━━━━╇━━━━━━━━━╇━━━━━━━━━╇━━━━━━━━━╇━━━━━━━━━━━━╇━━━━━━━━━━━━━━━━━━━━━━━━━━━━━━━━━━━━━━━━━━━━━━━━━━━┩\n",
       "│ \u001b[2mstring\u001b[0m    │ \u001b[2mstring\u001b[0m               │ \u001b[2mstring\u001b[0m │ \u001b[2mstring\u001b[0m                                              │ \u001b[2mstring\u001b[0m    │ \u001b[2mfloat64\u001b[0m   │ \u001b[2mfloat64\u001b[0m   │ \u001b[2mfloat64\u001b[0m │ \u001b[2mfloat64\u001b[0m │ \u001b[2mfloat64\u001b[0m │ \u001b[2mfloat64\u001b[0m │ \u001b[2mfloat64\u001b[0m │ \u001b[2mfloat64\u001b[0m │ \u001b[2mfloat64\u001b[0m │ \u001b[2mfloat64\u001b[0m │ \u001b[2mfloat64\u001b[0m │ \u001b[2mfloat64\u001b[0m │ \u001b[2mstring\u001b[0m     │ \u001b[2mstring\u001b[0m                                            │\n",
       "├───────────┼──────────────────────┼────────┼─────────────────────────────────────────────────────┼───────────┼───────────┼───────────┼─────────┼─────────┼─────────┼─────────┼─────────┼─────────┼─────────┼─────────┼─────────┼─────────┼────────────┼───────────────────────────────────────────────────┤\n",
       "│ \u001b[32m50802-018\u001b[0m │ \u001b[32mVariations          \u001b[0m │ \u001b[32m5     \u001b[0m │ \u001b[32mVar. rework/spoilage/scrap                         \u001b[0m │ \u001b[32mdelta    \u001b[0m │    \u001b[1;36m-0.000\u001b[0m │    \u001b[1;36m-0.000\u001b[0m │    \u001b[1;36m-0.0\u001b[0m │    \u001b[1;36m-0.0\u001b[0m │    \u001b[1;36m-0.0\u001b[0m │    \u001b[1;36m-0.0\u001b[0m │    \u001b[1;36m-0.0\u001b[0m │    \u001b[1;36m-0.0\u001b[0m │    \u001b[1;36m-0.0\u001b[0m │    \u001b[1;36m-0.0\u001b[0m │    \u001b[1;36m-0.0\u001b[0m │    \u001b[1;36m-0.0\u001b[0m │ \u001b[32m0309503100\u001b[0m │ \u001b[32m0309503100 ' Var.rework/spoilage/scrap           \u001b[0m │\n",
       "│ \u001b[32m50802-018\u001b[0m │ \u001b[32mVariations          \u001b[0m │ \u001b[32m8     \u001b[0m │ \u001b[32mReplacement&Adj&General Warranty                   \u001b[0m │ \u001b[32mdelta    \u001b[0m │  \u001b[1;36m2511.180\u001b[0m │  \u001b[1;36m2708.063\u001b[0m │    \u001b[1;36m-0.0\u001b[0m │    \u001b[1;36m-0.0\u001b[0m │    \u001b[1;36m-0.0\u001b[0m │    \u001b[1;36m-0.0\u001b[0m │    \u001b[1;36m-0.0\u001b[0m │    \u001b[1;36m-0.0\u001b[0m │    \u001b[1;36m-0.0\u001b[0m │    \u001b[1;36m-0.0\u001b[0m │    \u001b[1;36m-0.0\u001b[0m │    \u001b[1;36m-0.0\u001b[0m │ \u001b[32m0310003100\u001b[0m │ \u001b[32m0310003100 ' Repl.,adjust.,gen.warranty          \u001b[0m │\n",
       "│ \u001b[32m50802-018\u001b[0m │ \u001b[32mAll Other Variations\u001b[0m │ \u001b[32m3     \u001b[0m │ \u001b[32mVar. to handling                                   \u001b[0m │ \u001b[32mP90717   \u001b[0m │    \u001b[1;36m32.885\u001b[0m │    \u001b[1;36m24.664\u001b[0m │    \u001b[1;36m-0.0\u001b[0m │    \u001b[1;36m-0.0\u001b[0m │    \u001b[1;36m-0.0\u001b[0m │    \u001b[1;36m-0.0\u001b[0m │    \u001b[1;36m-0.0\u001b[0m │    \u001b[1;36m-0.0\u001b[0m │    \u001b[1;36m-0.0\u001b[0m │    \u001b[1;36m-0.0\u001b[0m │    \u001b[1;36m-0.0\u001b[0m │    \u001b[1;36m-0.0\u001b[0m │ \u001b[32mP90717    \u001b[0m │ \u001b[32mP90717   Handling variation                      \u001b[0m │\n",
       "│ \u001b[32m50802-018\u001b[0m │ \u001b[32mVariations          \u001b[0m │ \u001b[32m7     \u001b[0m │ \u001b[32mVar. to freight                                    \u001b[0m │ \u001b[32m310004100\u001b[0m │     \u001b[1;36m0.001\u001b[0m │     \u001b[1;36m0.001\u001b[0m │    \u001b[1;36m-0.0\u001b[0m │    \u001b[1;36m-0.0\u001b[0m │    \u001b[1;36m-0.0\u001b[0m │    \u001b[1;36m-0.0\u001b[0m │    \u001b[1;36m-0.0\u001b[0m │    \u001b[1;36m-0.0\u001b[0m │    \u001b[1;36m-0.0\u001b[0m │    \u001b[1;36m-0.0\u001b[0m │    \u001b[1;36m-0.0\u001b[0m │    \u001b[1;36m-0.0\u001b[0m │ \u001b[32m0310004100\u001b[0m │ \u001b[32m0310004100 ' Var.to freight                      \u001b[0m │\n",
       "│ \u001b[32m50803-009\u001b[0m │ \u001b[32mVariations          \u001b[0m │ \u001b[32m4     \u001b[0m │ \u001b[32mInv. valuation & variations (raw material & supply)\u001b[0m │ \u001b[32m308001600\u001b[0m │ \u001b[1;36m22973.875\u001b[0m │   \u001b[1;36m618.869\u001b[0m │    \u001b[1;36m-0.0\u001b[0m │    \u001b[1;36m-0.0\u001b[0m │    \u001b[1;36m-0.0\u001b[0m │    \u001b[1;36m-0.0\u001b[0m │    \u001b[1;36m-0.0\u001b[0m │    \u001b[1;36m-0.0\u001b[0m │    \u001b[1;36m-0.0\u001b[0m │    \u001b[1;36m-0.0\u001b[0m │    \u001b[1;36m-0.0\u001b[0m │    \u001b[1;36m-0.0\u001b[0m │ \u001b[32m0308001600\u001b[0m │ \u001b[32m0308001600 ' Inv.valuat.allow(raw.mat&su         \u001b[0m │\n",
       "│ \u001b[32m50803-009\u001b[0m │ \u001b[32mVariations          \u001b[0m │ \u001b[32m4     \u001b[0m │ \u001b[32mInv. valuation & variations (raw material & supply)\u001b[0m │ \u001b[32m308002100\u001b[0m │    \u001b[1;36m-0.000\u001b[0m │    \u001b[1;36m-7.918\u001b[0m │    \u001b[1;36m-0.0\u001b[0m │    \u001b[1;36m-0.0\u001b[0m │    \u001b[1;36m-0.0\u001b[0m │    \u001b[1;36m-0.0\u001b[0m │    \u001b[1;36m-0.0\u001b[0m │    \u001b[1;36m-0.0\u001b[0m │    \u001b[1;36m-0.0\u001b[0m │    \u001b[1;36m-0.0\u001b[0m │    \u001b[1;36m-0.0\u001b[0m │    \u001b[1;36m-0.0\u001b[0m │ \u001b[32m0308002100\u001b[0m │ \u001b[32m0308002100 ' Inv.variations (raw.mat&sup         \u001b[0m │\n",
       "│ \u001b[32m50803-009\u001b[0m │ \u001b[32mAll Other Variations\u001b[0m │ \u001b[32m6     \u001b[0m │ \u001b[32mVar.to mfg oth.inp. - LDC                          \u001b[0m │ \u001b[32mK96009   \u001b[0m │   \u001b[1;36m-25.964\u001b[0m │     \u001b[1;36m0.047\u001b[0m │    \u001b[1;36m-0.0\u001b[0m │    \u001b[1;36m-0.0\u001b[0m │    \u001b[1;36m-0.0\u001b[0m │    \u001b[1;36m-0.0\u001b[0m │    \u001b[1;36m-0.0\u001b[0m │    \u001b[1;36m-0.0\u001b[0m │    \u001b[1;36m-0.0\u001b[0m │    \u001b[1;36m-0.0\u001b[0m │    \u001b[1;36m-0.0\u001b[0m │    \u001b[1;36m-0.0\u001b[0m │ \u001b[32mK96009    \u001b[0m │ \u001b[32mK96009      Settlement - Own services capitalized\u001b[0m │\n",
       "│ \u001b[32m50803-009\u001b[0m │ \u001b[32mAll Other Variations\u001b[0m │ \u001b[32m7     \u001b[0m │ \u001b[32mVar.to mfg oth.inp. - MDC                          \u001b[0m │ \u001b[32mK96007   \u001b[0m │   \u001b[1;36m-18.938\u001b[0m │    \u001b[1;36m-0.012\u001b[0m │    \u001b[1;36m-0.0\u001b[0m │    \u001b[1;36m-0.0\u001b[0m │    \u001b[1;36m-0.0\u001b[0m │    \u001b[1;36m-0.0\u001b[0m │    \u001b[1;36m-0.0\u001b[0m │    \u001b[1;36m-0.0\u001b[0m │    \u001b[1;36m-0.0\u001b[0m │    \u001b[1;36m-0.0\u001b[0m │    \u001b[1;36m-0.0\u001b[0m │    \u001b[1;36m-0.0\u001b[0m │ \u001b[32mK96007    \u001b[0m │ \u001b[32mK96007      Variance - Other                     \u001b[0m │\n",
       "│ \u001b[32m50803-009\u001b[0m │ \u001b[32mAll Other Variations\u001b[0m │ \u001b[32m8     \u001b[0m │ \u001b[32mVariations in Production Cost Centers - LDC        \u001b[0m │ \u001b[32mP90707   \u001b[0m │ \u001b[1;36m-3732.131\u001b[0m │ \u001b[1;36m-8027.438\u001b[0m │    \u001b[1;36m-0.0\u001b[0m │    \u001b[1;36m-0.0\u001b[0m │    \u001b[1;36m-0.0\u001b[0m │    \u001b[1;36m-0.0\u001b[0m │    \u001b[1;36m-0.0\u001b[0m │    \u001b[1;36m-0.0\u001b[0m │    \u001b[1;36m-0.0\u001b[0m │    \u001b[1;36m-0.0\u001b[0m │    \u001b[1;36m-0.0\u001b[0m │    \u001b[1;36m-0.0\u001b[0m │ \u001b[32mP90707    \u001b[0m │ \u001b[32mP90707      Var.f.Standard-Labor Rate            \u001b[0m │\n",
       "│ \u001b[32m50803-009\u001b[0m │ \u001b[32mAll Other Variations\u001b[0m │ \u001b[32m9     \u001b[0m │ \u001b[32mVariations in Production Cost Centers - MDC        \u001b[0m │ \u001b[32mP90708   \u001b[0m │ \u001b[1;36m-6755.391\u001b[0m │ \u001b[1;36m-5546.616\u001b[0m │    \u001b[1;36m-0.0\u001b[0m │    \u001b[1;36m-0.0\u001b[0m │    \u001b[1;36m-0.0\u001b[0m │    \u001b[1;36m-0.0\u001b[0m │    \u001b[1;36m-0.0\u001b[0m │    \u001b[1;36m-0.0\u001b[0m │    \u001b[1;36m-0.0\u001b[0m │    \u001b[1;36m-0.0\u001b[0m │    \u001b[1;36m-0.0\u001b[0m │    \u001b[1;36m-0.0\u001b[0m │ \u001b[32mP90708    \u001b[0m │ \u001b[32mP90708      Var.Cost-Production Area             \u001b[0m │\n",
       "│ \u001b[2m…\u001b[0m         │ \u001b[2m…\u001b[0m                    │ \u001b[2m…\u001b[0m      │ \u001b[2m…\u001b[0m                                                   │ \u001b[2m…\u001b[0m         │         \u001b[2m…\u001b[0m │         \u001b[2m…\u001b[0m │       \u001b[2m…\u001b[0m │       \u001b[2m…\u001b[0m │       \u001b[2m…\u001b[0m │       \u001b[2m…\u001b[0m │       \u001b[2m…\u001b[0m │       \u001b[2m…\u001b[0m │       \u001b[2m…\u001b[0m │       \u001b[2m…\u001b[0m │       \u001b[2m…\u001b[0m │       \u001b[2m…\u001b[0m │ \u001b[2m…\u001b[0m          │ \u001b[2m…\u001b[0m                                                 │\n",
       "└───────────┴──────────────────────┴────────┴─────────────────────────────────────────────────────┴───────────┴───────────┴───────────┴─────────┴─────────┴─────────┴─────────┴─────────┴─────────┴─────────┴─────────┴─────────┴─────────┴────────────┴───────────────────────────────────────────────────┘"
      ]
     },
     "execution_count": 9,
     "metadata": {},
     "output_type": "execute_result"
    }
   ],
   "source": [
    "joined = t.join(l, \"Key\", how=\"inner\")\n",
    "joined = joined.select([\"PrCr\", \"A\", \"B\", \"C\", \"D\"], s.numeric(), [\"Key\", \"OneGL\"])\n",
    "joined"
   ]
  },
  {
   "cell_type": "code",
   "execution_count": 10,
   "metadata": {},
   "outputs": [],
   "source": [
    "df = joined.to_pandas()\n",
    "df.to_csv(output_path / \"SAP YGL0 P&L.csv\", index=False)"
   ]
  },
  {
   "cell_type": "code",
   "execution_count": null,
   "metadata": {},
   "outputs": [],
   "source": []
  }
 ],
 "metadata": {
  "kernelspec": {
   "display_name": "Python 3 (ipykernel)",
   "language": "python",
   "name": "python3"
  },
  "language_info": {
   "codemirror_mode": {
    "name": "ipython",
    "version": 3
   },
   "file_extension": ".py",
   "mimetype": "text/x-python",
   "name": "python",
   "nbconvert_exporter": "python",
   "pygments_lexer": "ipython3",
   "version": "3.9.18"
  }
 },
 "nbformat": 4,
 "nbformat_minor": 4
}

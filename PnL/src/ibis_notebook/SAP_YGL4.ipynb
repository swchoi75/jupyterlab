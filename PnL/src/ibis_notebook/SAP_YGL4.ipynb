{
 "cells": [
  {
   "cell_type": "code",
   "execution_count": 1,
   "metadata": {},
   "outputs": [],
   "source": [
    " # In Terminal, \"pip install ibis-framework[duckdb] pyjanitor\"\n",
    "import pandas as pd\n",
    "import ibis\n",
    "from ibis import selectors as s\n",
    "from ibis import _\n",
    "ibis.options.interactive = True"
   ]
  },
  {
   "cell_type": "code",
   "execution_count": 2,
   "metadata": {},
   "outputs": [],
   "source": [
    "# Path\n",
    "from pathlib import Path\n",
    "path = Path(\"/home/uiv17345/datasets/home-dataset/jupyterlab/PnL\")\n",
    "data_path = path / \"data\" / \"SAP YGL4\"\n",
    "output_path = path / \"output\""
   ]
  },
  {
   "cell_type": "code",
   "execution_count": 3,
   "metadata": {
    "tags": []
   },
   "outputs": [
    {
     "data": {
      "text/plain": [
       "PosixPath('/home/uiv17345/datasets/home-dataset/jupyterlab/PnL/data/SAP YGL4')"
      ]
     },
     "execution_count": 3,
     "metadata": {},
     "output_type": "execute_result"
    }
   ],
   "source": [
    "data_path"
   ]
  },
  {
   "cell_type": "markdown",
   "metadata": {},
   "source": [
    "### Input data: List of multiple text files"
   ]
  },
  {
   "cell_type": "code",
   "execution_count": 4,
   "metadata": {},
   "outputs": [
    {
     "data": {
      "text/plain": [
       "[PosixPath('/home/uiv17345/datasets/home-dataset/jupyterlab/PnL/data/SAP YGL4/EBIT.dat'),\n",
       " PosixPath('/home/uiv17345/datasets/home-dataset/jupyterlab/PnL/data/SAP YGL4/FX trading.dat'),\n",
       " PosixPath('/home/uiv17345/datasets/home-dataset/jupyterlab/PnL/data/SAP YGL4/Sales.dat'),\n",
       " PosixPath('/home/uiv17345/datasets/home-dataset/jupyterlab/PnL/data/SAP YGL4/Variable Costs over STD.dat')]"
      ]
     },
     "execution_count": 4,
     "metadata": {},
     "output_type": "execute_result"
    }
   ],
   "source": [
    "# Input data: List of multiple text files\n",
    "dat_files = [file for file in data_path.iterdir() if file.is_file() and file.suffix == \".dat\"]\n",
    "dat_files"
   ]
  },
  {
   "cell_type": "code",
   "execution_count": 5,
   "metadata": {},
   "outputs": [],
   "source": [
    "def read_multiple_files(list_of_files):\n",
    "    dataframes = [\n",
    "        pd.read_csv(\n",
    "            file,\n",
    "            sep=\"\\t\",\n",
    "        )\n",
    "        for file in list_of_files\n",
    "    ]\n",
    "    \n",
    "    # Add a new column with filename to each DataFrame\n",
    "    for i, df in enumerate(dataframes):\n",
    "        df[\"source\"] = list_of_files[i].stem\n",
    "\n",
    "    # Merge the list of DataFrames into a single DataFrame\n",
    "    df = pd.concat(dataframes)\n",
    "\n",
    "    # reorder columns\n",
    "    df = df[[\"source\"] + [col for col in df.columns if col not in [\"source\"]]]\n",
    "    \n",
    "    return df"
   ]
  },
  {
   "cell_type": "code",
   "execution_count": 6,
   "metadata": {},
   "outputs": [],
   "source": [
    "def change_column_names(df):\n",
    "    return df.rename(\n",
    "        columns={\n",
    "            # \"source\": \"Items\",\n",
    "            \"OneGL B/S + P/L\": \"OneGL\",\n",
    "            \"01\": \"Jan\", \"02\": \"Feb\", \"03\": \"Mar\",\n",
    "            \"04\": \"Apr\", \"05\": \"May\", \"06\": \"Jun\",\n",
    "            \"07\": \"Jul\", \"08\": \"Aug\", \"09\": \"Sep\",\n",
    "            \"10\": \"Oct\", \"11\": \"Nov\", \"12\": \"Dec\"\n",
    "        }\n",
    "    )"
   ]
  },
  {
   "cell_type": "code",
   "execution_count": 7,
   "metadata": {},
   "outputs": [
    {
     "data": {
      "text/html": [
       "<div>\n",
       "<style scoped>\n",
       "    .dataframe tbody tr th:only-of-type {\n",
       "        vertical-align: middle;\n",
       "    }\n",
       "\n",
       "    .dataframe tbody tr th {\n",
       "        vertical-align: top;\n",
       "    }\n",
       "\n",
       "    .dataframe thead th {\n",
       "        text-align: right;\n",
       "    }\n",
       "</style>\n",
       "<table border=\"1\" class=\"dataframe\">\n",
       "  <thead>\n",
       "    <tr style=\"text-align: right;\">\n",
       "      <th></th>\n",
       "      <th>source</th>\n",
       "      <th>OneGL</th>\n",
       "      <th>0-2</th>\n",
       "      <th>1-2</th>\n",
       "      <th>CF</th>\n",
       "      <th>Jan</th>\n",
       "      <th>Feb</th>\n",
       "      <th>Mar</th>\n",
       "      <th>Apr</th>\n",
       "      <th>May</th>\n",
       "      <th>...</th>\n",
       "      <th>Unnamed: 36</th>\n",
       "      <th>Unnamed: 37</th>\n",
       "      <th>Unnamed: 38</th>\n",
       "      <th>Unnamed: 39</th>\n",
       "      <th>Unnamed: 40</th>\n",
       "      <th>Unnamed: 41</th>\n",
       "      <th>Unnamed: 42</th>\n",
       "      <th>Unnamed: 43</th>\n",
       "      <th>Unnamed: 44</th>\n",
       "      <th>Unnamed: 45</th>\n",
       "    </tr>\n",
       "  </thead>\n",
       "  <tbody>\n",
       "    <tr>\n",
       "      <th>0</th>\n",
       "      <td>EBIT</td>\n",
       "      <td>50802-018  P SC Mechatronic Sensors Sejong</td>\n",
       "      <td>208503808</td>\n",
       "      <td>208503808</td>\n",
       "      <td>0.0</td>\n",
       "      <td>-25508605.0</td>\n",
       "      <td>2.340124e+08</td>\n",
       "      <td>0.0</td>\n",
       "      <td>0.0</td>\n",
       "      <td>0.0</td>\n",
       "      <td>...</td>\n",
       "      <td>NaN</td>\n",
       "      <td>NaN</td>\n",
       "      <td>NaN</td>\n",
       "      <td>NaN</td>\n",
       "      <td>NaN</td>\n",
       "      <td>NaN</td>\n",
       "      <td>NaN</td>\n",
       "      <td>NaN</td>\n",
       "      <td>NaN</td>\n",
       "      <td>NaN</td>\n",
       "    </tr>\n",
       "    <tr>\n",
       "      <th>1</th>\n",
       "      <td>EBIT</td>\n",
       "      <td>50803-003  E CT Engine Controls Icheon</td>\n",
       "      <td>0</td>\n",
       "      <td>0</td>\n",
       "      <td>0.0</td>\n",
       "      <td>0.0</td>\n",
       "      <td>0.000000e+00</td>\n",
       "      <td>0.0</td>\n",
       "      <td>0.0</td>\n",
       "      <td>0.0</td>\n",
       "      <td>...</td>\n",
       "      <td>NaN</td>\n",
       "      <td>NaN</td>\n",
       "      <td>NaN</td>\n",
       "      <td>NaN</td>\n",
       "      <td>NaN</td>\n",
       "      <td>NaN</td>\n",
       "      <td>NaN</td>\n",
       "      <td>NaN</td>\n",
       "      <td>NaN</td>\n",
       "      <td>NaN</td>\n",
       "    </tr>\n",
       "    <tr>\n",
       "      <th>2</th>\n",
       "      <td>EBIT</td>\n",
       "      <td>50803-004  E Central Icheon NPF</td>\n",
       "      <td>1654517315</td>\n",
       "      <td>1654517315</td>\n",
       "      <td>0.0</td>\n",
       "      <td>-137988495.0</td>\n",
       "      <td>1.792506e+09</td>\n",
       "      <td>0.0</td>\n",
       "      <td>0.0</td>\n",
       "      <td>0.0</td>\n",
       "      <td>...</td>\n",
       "      <td>NaN</td>\n",
       "      <td>NaN</td>\n",
       "      <td>NaN</td>\n",
       "      <td>NaN</td>\n",
       "      <td>NaN</td>\n",
       "      <td>NaN</td>\n",
       "      <td>NaN</td>\n",
       "      <td>NaN</td>\n",
       "      <td>NaN</td>\n",
       "      <td>NaN</td>\n",
       "    </tr>\n",
       "  </tbody>\n",
       "</table>\n",
       "<p>3 rows × 47 columns</p>\n",
       "</div>"
      ],
      "text/plain": [
       "  source                                       OneGL         0-2         1-2  \\\n",
       "0   EBIT  50802-018  P SC Mechatronic Sensors Sejong   208503808   208503808   \n",
       "1   EBIT      50803-003  E CT Engine Controls Icheon           0           0   \n",
       "2   EBIT             50803-004  E Central Icheon NPF  1654517315  1654517315   \n",
       "\n",
       "    CF          Jan           Feb  Mar  Apr  May  ...  Unnamed: 36  \\\n",
       "0  0.0  -25508605.0  2.340124e+08  0.0  0.0  0.0  ...          NaN   \n",
       "1  0.0          0.0  0.000000e+00  0.0  0.0  0.0  ...          NaN   \n",
       "2  0.0 -137988495.0  1.792506e+09  0.0  0.0  0.0  ...          NaN   \n",
       "\n",
       "   Unnamed: 37  Unnamed: 38  Unnamed: 39  Unnamed: 40  Unnamed: 41  \\\n",
       "0          NaN          NaN          NaN          NaN          NaN   \n",
       "1          NaN          NaN          NaN          NaN          NaN   \n",
       "2          NaN          NaN          NaN          NaN          NaN   \n",
       "\n",
       "   Unnamed: 42  Unnamed: 43  Unnamed: 44  Unnamed: 45  \n",
       "0          NaN          NaN          NaN          NaN  \n",
       "1          NaN          NaN          NaN          NaN  \n",
       "2          NaN          NaN          NaN          NaN  \n",
       "\n",
       "[3 rows x 47 columns]"
      ]
     },
     "execution_count": 7,
     "metadata": {},
     "output_type": "execute_result"
    }
   ],
   "source": [
    "df = read_multiple_files(dat_files)\n",
    "df = change_column_names(df)\n",
    "df.head(3)"
   ]
  },
  {
   "cell_type": "markdown",
   "metadata": {},
   "source": [
    "### Data wrangling"
   ]
  },
  {
   "cell_type": "code",
   "execution_count": 8,
   "metadata": {},
   "outputs": [
    {
     "data": {
      "text/html": [
       "<pre style=\"white-space:pre;overflow-x:auto;line-height:normal;font-family:Menlo,'DejaVu Sans Mono',consolas,'Courier New',monospace\">┏━━━━━━━━┳━━━━━━━━━━━━━━━━━━━━━━━━━━━━━━━━━━━━━━━━━━━━━━━━┳━━━━━━━━━━━━━┳━━━━━━━━━━━━━━┳━━━━━━━━━┳━━━━━━━━━┳━━━━━━━━━┳━━━━━━━━━┳━━━━━━━━━┳━━━━━━━━━┳━━━━━━━━━┳━━━━━━━━━┳━━━━━━━━━┳━━━━━━━━━┳━━━━━━━━━━━┓\n",
       "┃<span style=\"font-weight: bold\"> Items  </span>┃<span style=\"font-weight: bold\"> OneGL                                          </span>┃<span style=\"font-weight: bold\"> Jan         </span>┃<span style=\"font-weight: bold\"> Feb          </span>┃<span style=\"font-weight: bold\"> Mar     </span>┃<span style=\"font-weight: bold\"> Apr     </span>┃<span style=\"font-weight: bold\"> May     </span>┃<span style=\"font-weight: bold\"> Jun     </span>┃<span style=\"font-weight: bold\"> Jul     </span>┃<span style=\"font-weight: bold\"> Aug     </span>┃<span style=\"font-weight: bold\"> Sep     </span>┃<span style=\"font-weight: bold\"> Oct     </span>┃<span style=\"font-weight: bold\"> Nov     </span>┃<span style=\"font-weight: bold\"> Dec     </span>┃<span style=\"font-weight: bold\"> PrCr      </span>┃\n",
       "┡━━━━━━━━╇━━━━━━━━━━━━━━━━━━━━━━━━━━━━━━━━━━━━━━━━━━━━━━━━╇━━━━━━━━━━━━━╇━━━━━━━━━━━━━━╇━━━━━━━━━╇━━━━━━━━━╇━━━━━━━━━╇━━━━━━━━━╇━━━━━━━━━╇━━━━━━━━━╇━━━━━━━━━╇━━━━━━━━━╇━━━━━━━━━╇━━━━━━━━━╇━━━━━━━━━━━┩\n",
       "│ <span style=\"color: #7f7f7f; text-decoration-color: #7f7f7f\">string</span> │ <span style=\"color: #7f7f7f; text-decoration-color: #7f7f7f\">string</span>                                         │ <span style=\"color: #7f7f7f; text-decoration-color: #7f7f7f\">float64</span>     │ <span style=\"color: #7f7f7f; text-decoration-color: #7f7f7f\">float64</span>      │ <span style=\"color: #7f7f7f; text-decoration-color: #7f7f7f\">float64</span> │ <span style=\"color: #7f7f7f; text-decoration-color: #7f7f7f\">float64</span> │ <span style=\"color: #7f7f7f; text-decoration-color: #7f7f7f\">float64</span> │ <span style=\"color: #7f7f7f; text-decoration-color: #7f7f7f\">float64</span> │ <span style=\"color: #7f7f7f; text-decoration-color: #7f7f7f\">float64</span> │ <span style=\"color: #7f7f7f; text-decoration-color: #7f7f7f\">float64</span> │ <span style=\"color: #7f7f7f; text-decoration-color: #7f7f7f\">float64</span> │ <span style=\"color: #7f7f7f; text-decoration-color: #7f7f7f\">float64</span> │ <span style=\"color: #7f7f7f; text-decoration-color: #7f7f7f\">float64</span> │ <span style=\"color: #7f7f7f; text-decoration-color: #7f7f7f\">float64</span> │ <span style=\"color: #7f7f7f; text-decoration-color: #7f7f7f\">string</span>    │\n",
       "├────────┼────────────────────────────────────────────────┼─────────────┼──────────────┼─────────┼─────────┼─────────┼─────────┼─────────┼─────────┼─────────┼─────────┼─────────┼─────────┼───────────┤\n",
       "│ <span style=\"color: #008000; text-decoration-color: #008000\">EBIT  </span> │ <span style=\"color: #008000; text-decoration-color: #008000\">50802-018  P SC Mechatronic Sensors Sejong    </span> │   <span style=\"color: #008080; text-decoration-color: #008080; font-weight: bold\">25.508605</span> │  <span style=\"color: #008080; text-decoration-color: #008080; font-weight: bold\">-234.012413</span> │    <span style=\"color: #008080; text-decoration-color: #008080; font-weight: bold\">-0.0</span> │    <span style=\"color: #008080; text-decoration-color: #008080; font-weight: bold\">-0.0</span> │    <span style=\"color: #008080; text-decoration-color: #008080; font-weight: bold\">-0.0</span> │    <span style=\"color: #008080; text-decoration-color: #008080; font-weight: bold\">-0.0</span> │    <span style=\"color: #008080; text-decoration-color: #008080; font-weight: bold\">-0.0</span> │    <span style=\"color: #008080; text-decoration-color: #008080; font-weight: bold\">-0.0</span> │    <span style=\"color: #008080; text-decoration-color: #008080; font-weight: bold\">-0.0</span> │    <span style=\"color: #008080; text-decoration-color: #008080; font-weight: bold\">-0.0</span> │    <span style=\"color: #008080; text-decoration-color: #008080; font-weight: bold\">-0.0</span> │    <span style=\"color: #008080; text-decoration-color: #008080; font-weight: bold\">-0.0</span> │ <span style=\"color: #008000; text-decoration-color: #008000\">50802-018</span> │\n",
       "│ <span style=\"color: #008000; text-decoration-color: #008000\">EBIT  </span> │ <span style=\"color: #008000; text-decoration-color: #008000\">50803-003  E CT Engine Controls Icheon        </span> │   <span style=\"color: #008080; text-decoration-color: #008080; font-weight: bold\">-0.000000</span> │    <span style=\"color: #008080; text-decoration-color: #008080; font-weight: bold\">-0.000000</span> │    <span style=\"color: #008080; text-decoration-color: #008080; font-weight: bold\">-0.0</span> │    <span style=\"color: #008080; text-decoration-color: #008080; font-weight: bold\">-0.0</span> │    <span style=\"color: #008080; text-decoration-color: #008080; font-weight: bold\">-0.0</span> │    <span style=\"color: #008080; text-decoration-color: #008080; font-weight: bold\">-0.0</span> │    <span style=\"color: #008080; text-decoration-color: #008080; font-weight: bold\">-0.0</span> │    <span style=\"color: #008080; text-decoration-color: #008080; font-weight: bold\">-0.0</span> │    <span style=\"color: #008080; text-decoration-color: #008080; font-weight: bold\">-0.0</span> │    <span style=\"color: #008080; text-decoration-color: #008080; font-weight: bold\">-0.0</span> │    <span style=\"color: #008080; text-decoration-color: #008080; font-weight: bold\">-0.0</span> │    <span style=\"color: #008080; text-decoration-color: #008080; font-weight: bold\">-0.0</span> │ <span style=\"color: #008000; text-decoration-color: #008000\">50803-003</span> │\n",
       "│ <span style=\"color: #008000; text-decoration-color: #008000\">EBIT  </span> │ <span style=\"color: #008000; text-decoration-color: #008000\">50803-004  E Central Icheon NPF               </span> │  <span style=\"color: #008080; text-decoration-color: #008080; font-weight: bold\">137.988495</span> │ <span style=\"color: #008080; text-decoration-color: #008080; font-weight: bold\">-1792.505810</span> │    <span style=\"color: #008080; text-decoration-color: #008080; font-weight: bold\">-0.0</span> │    <span style=\"color: #008080; text-decoration-color: #008080; font-weight: bold\">-0.0</span> │    <span style=\"color: #008080; text-decoration-color: #008080; font-weight: bold\">-0.0</span> │    <span style=\"color: #008080; text-decoration-color: #008080; font-weight: bold\">-0.0</span> │    <span style=\"color: #008080; text-decoration-color: #008080; font-weight: bold\">-0.0</span> │    <span style=\"color: #008080; text-decoration-color: #008080; font-weight: bold\">-0.0</span> │    <span style=\"color: #008080; text-decoration-color: #008080; font-weight: bold\">-0.0</span> │    <span style=\"color: #008080; text-decoration-color: #008080; font-weight: bold\">-0.0</span> │    <span style=\"color: #008080; text-decoration-color: #008080; font-weight: bold\">-0.0</span> │    <span style=\"color: #008080; text-decoration-color: #008080; font-weight: bold\">-0.0</span> │ <span style=\"color: #008000; text-decoration-color: #008000\">50803-004</span> │\n",
       "│ <span style=\"color: #008000; text-decoration-color: #008000\">EBIT  </span> │ <span style=\"color: #008000; text-decoration-color: #008000\">50803-009  P AC Engine Actuators Icheon       </span> │  <span style=\"color: #008080; text-decoration-color: #008080; font-weight: bold\">175.435656</span> │  <span style=\"color: #008080; text-decoration-color: #008080; font-weight: bold\">-949.955687</span> │    <span style=\"color: #008080; text-decoration-color: #008080; font-weight: bold\">-0.0</span> │    <span style=\"color: #008080; text-decoration-color: #008080; font-weight: bold\">-0.0</span> │    <span style=\"color: #008080; text-decoration-color: #008080; font-weight: bold\">-0.0</span> │    <span style=\"color: #008080; text-decoration-color: #008080; font-weight: bold\">-0.0</span> │    <span style=\"color: #008080; text-decoration-color: #008080; font-weight: bold\">-0.0</span> │    <span style=\"color: #008080; text-decoration-color: #008080; font-weight: bold\">-0.0</span> │    <span style=\"color: #008080; text-decoration-color: #008080; font-weight: bold\">-0.0</span> │    <span style=\"color: #008080; text-decoration-color: #008080; font-weight: bold\">-0.0</span> │    <span style=\"color: #008080; text-decoration-color: #008080; font-weight: bold\">-0.0</span> │    <span style=\"color: #008080; text-decoration-color: #008080; font-weight: bold\">-0.0</span> │ <span style=\"color: #008000; text-decoration-color: #008000\">50803-009</span> │\n",
       "│ <span style=\"color: #008000; text-decoration-color: #008000\">EBIT  </span> │ <span style=\"color: #008000; text-decoration-color: #008000\">50803-010  E CT Drivetrain Controls Icheon    </span> │ <span style=\"color: #008080; text-decoration-color: #008080; font-weight: bold\">1360.279978</span> │   <span style=\"color: #008080; text-decoration-color: #008080; font-weight: bold\">909.398731</span> │    <span style=\"color: #008080; text-decoration-color: #008080; font-weight: bold\">-0.0</span> │    <span style=\"color: #008080; text-decoration-color: #008080; font-weight: bold\">-0.0</span> │    <span style=\"color: #008080; text-decoration-color: #008080; font-weight: bold\">-0.0</span> │    <span style=\"color: #008080; text-decoration-color: #008080; font-weight: bold\">-0.0</span> │    <span style=\"color: #008080; text-decoration-color: #008080; font-weight: bold\">-0.0</span> │    <span style=\"color: #008080; text-decoration-color: #008080; font-weight: bold\">-0.0</span> │    <span style=\"color: #008080; text-decoration-color: #008080; font-weight: bold\">-0.0</span> │    <span style=\"color: #008080; text-decoration-color: #008080; font-weight: bold\">-0.0</span> │    <span style=\"color: #008080; text-decoration-color: #008080; font-weight: bold\">-0.0</span> │    <span style=\"color: #008080; text-decoration-color: #008080; font-weight: bold\">-0.0</span> │ <span style=\"color: #008000; text-decoration-color: #008000\">50803-010</span> │\n",
       "│ <span style=\"color: #008000; text-decoration-color: #008000\">EBIT  </span> │ <span style=\"color: #008000; text-decoration-color: #008000\">50803-025  E CT Engine Controls Icheon NPF    </span> │   <span style=\"color: #008080; text-decoration-color: #008080; font-weight: bold\">-0.000000</span> │    <span style=\"color: #008080; text-decoration-color: #008080; font-weight: bold\">-0.000000</span> │    <span style=\"color: #008080; text-decoration-color: #008080; font-weight: bold\">-0.0</span> │    <span style=\"color: #008080; text-decoration-color: #008080; font-weight: bold\">-0.0</span> │    <span style=\"color: #008080; text-decoration-color: #008080; font-weight: bold\">-0.0</span> │    <span style=\"color: #008080; text-decoration-color: #008080; font-weight: bold\">-0.0</span> │    <span style=\"color: #008080; text-decoration-color: #008080; font-weight: bold\">-0.0</span> │    <span style=\"color: #008080; text-decoration-color: #008080; font-weight: bold\">-0.0</span> │    <span style=\"color: #008080; text-decoration-color: #008080; font-weight: bold\">-0.0</span> │    <span style=\"color: #008080; text-decoration-color: #008080; font-weight: bold\">-0.0</span> │    <span style=\"color: #008080; text-decoration-color: #008080; font-weight: bold\">-0.0</span> │    <span style=\"color: #008080; text-decoration-color: #008080; font-weight: bold\">-0.0</span> │ <span style=\"color: #008000; text-decoration-color: #008000\">50803-025</span> │\n",
       "│ <span style=\"color: #008000; text-decoration-color: #008000\">EBIT  </span> │ <span style=\"color: #008000; text-decoration-color: #008000\">50803-026  P HT Hydraulics Icheon             </span> │  <span style=\"color: #008080; text-decoration-color: #008080; font-weight: bold\">455.111380</span> │ <span style=\"color: #008080; text-decoration-color: #008080; font-weight: bold\">-1113.243374</span> │    <span style=\"color: #008080; text-decoration-color: #008080; font-weight: bold\">-0.0</span> │    <span style=\"color: #008080; text-decoration-color: #008080; font-weight: bold\">-0.0</span> │    <span style=\"color: #008080; text-decoration-color: #008080; font-weight: bold\">-0.0</span> │    <span style=\"color: #008080; text-decoration-color: #008080; font-weight: bold\">-0.0</span> │    <span style=\"color: #008080; text-decoration-color: #008080; font-weight: bold\">-0.0</span> │    <span style=\"color: #008080; text-decoration-color: #008080; font-weight: bold\">-0.0</span> │    <span style=\"color: #008080; text-decoration-color: #008080; font-weight: bold\">-0.0</span> │    <span style=\"color: #008080; text-decoration-color: #008080; font-weight: bold\">-0.0</span> │    <span style=\"color: #008080; text-decoration-color: #008080; font-weight: bold\">-0.0</span> │    <span style=\"color: #008080; text-decoration-color: #008080; font-weight: bold\">-0.0</span> │ <span style=\"color: #008000; text-decoration-color: #008000\">50803-026</span> │\n",
       "│ <span style=\"color: #008000; text-decoration-color: #008000\">EBIT  </span> │ <span style=\"color: #008000; text-decoration-color: #008000\">50803-028  E CT Drivetrain Controls Icheon NPF</span> │   <span style=\"color: #008080; text-decoration-color: #008080; font-weight: bold\">-0.000000</span> │    <span style=\"color: #008080; text-decoration-color: #008080; font-weight: bold\">-0.000000</span> │    <span style=\"color: #008080; text-decoration-color: #008080; font-weight: bold\">-0.0</span> │    <span style=\"color: #008080; text-decoration-color: #008080; font-weight: bold\">-0.0</span> │    <span style=\"color: #008080; text-decoration-color: #008080; font-weight: bold\">-0.0</span> │    <span style=\"color: #008080; text-decoration-color: #008080; font-weight: bold\">-0.0</span> │    <span style=\"color: #008080; text-decoration-color: #008080; font-weight: bold\">-0.0</span> │    <span style=\"color: #008080; text-decoration-color: #008080; font-weight: bold\">-0.0</span> │    <span style=\"color: #008080; text-decoration-color: #008080; font-weight: bold\">-0.0</span> │    <span style=\"color: #008080; text-decoration-color: #008080; font-weight: bold\">-0.0</span> │    <span style=\"color: #008080; text-decoration-color: #008080; font-weight: bold\">-0.0</span> │    <span style=\"color: #008080; text-decoration-color: #008080; font-weight: bold\">-0.0</span> │ <span style=\"color: #008000; text-decoration-color: #008000\">50803-028</span> │\n",
       "│ <span style=\"color: #008000; text-decoration-color: #008000\">EBIT  </span> │ <span style=\"color: #008000; text-decoration-color: #008000\">50803-034  P SC Mechatronic Sensors Icheon    </span> │  <span style=\"color: #008080; text-decoration-color: #008080; font-weight: bold\">-93.457999</span> │   <span style=\"color: #008080; text-decoration-color: #008080; font-weight: bold\">144.088114</span> │    <span style=\"color: #008080; text-decoration-color: #008080; font-weight: bold\">-0.0</span> │    <span style=\"color: #008080; text-decoration-color: #008080; font-weight: bold\">-0.0</span> │    <span style=\"color: #008080; text-decoration-color: #008080; font-weight: bold\">-0.0</span> │    <span style=\"color: #008080; text-decoration-color: #008080; font-weight: bold\">-0.0</span> │    <span style=\"color: #008080; text-decoration-color: #008080; font-weight: bold\">-0.0</span> │    <span style=\"color: #008080; text-decoration-color: #008080; font-weight: bold\">-0.0</span> │    <span style=\"color: #008080; text-decoration-color: #008080; font-weight: bold\">-0.0</span> │    <span style=\"color: #008080; text-decoration-color: #008080; font-weight: bold\">-0.0</span> │    <span style=\"color: #008080; text-decoration-color: #008080; font-weight: bold\">-0.0</span> │    <span style=\"color: #008080; text-decoration-color: #008080; font-weight: bold\">-0.0</span> │ <span style=\"color: #008000; text-decoration-color: #008000\">50803-034</span> │\n",
       "│ <span style=\"color: #008000; text-decoration-color: #008000\">EBIT  </span> │ <span style=\"color: #008000; text-decoration-color: #008000\">50803-04   E CT eMotor Controls Icheon NPF    </span> │   <span style=\"color: #008080; text-decoration-color: #008080; font-weight: bold\">44.954346</span> │  <span style=\"color: #008080; text-decoration-color: #008080; font-weight: bold\">1538.675937</span> │    <span style=\"color: #008080; text-decoration-color: #008080; font-weight: bold\">-0.0</span> │    <span style=\"color: #008080; text-decoration-color: #008080; font-weight: bold\">-0.0</span> │    <span style=\"color: #008080; text-decoration-color: #008080; font-weight: bold\">-0.0</span> │    <span style=\"color: #008080; text-decoration-color: #008080; font-weight: bold\">-0.0</span> │    <span style=\"color: #008080; text-decoration-color: #008080; font-weight: bold\">-0.0</span> │    <span style=\"color: #008080; text-decoration-color: #008080; font-weight: bold\">-0.0</span> │    <span style=\"color: #008080; text-decoration-color: #008080; font-weight: bold\">-0.0</span> │    <span style=\"color: #008080; text-decoration-color: #008080; font-weight: bold\">-0.0</span> │    <span style=\"color: #008080; text-decoration-color: #008080; font-weight: bold\">-0.0</span> │    <span style=\"color: #008080; text-decoration-color: #008080; font-weight: bold\">-0.0</span> │ <span style=\"color: #008000; text-decoration-color: #008000\">50803-04 </span> │\n",
       "│ <span style=\"color: #7f7f7f; text-decoration-color: #7f7f7f\">…</span>      │ <span style=\"color: #7f7f7f; text-decoration-color: #7f7f7f\">…</span>                                              │           <span style=\"color: #7f7f7f; text-decoration-color: #7f7f7f\">…</span> │            <span style=\"color: #7f7f7f; text-decoration-color: #7f7f7f\">…</span> │       <span style=\"color: #7f7f7f; text-decoration-color: #7f7f7f\">…</span> │       <span style=\"color: #7f7f7f; text-decoration-color: #7f7f7f\">…</span> │       <span style=\"color: #7f7f7f; text-decoration-color: #7f7f7f\">…</span> │       <span style=\"color: #7f7f7f; text-decoration-color: #7f7f7f\">…</span> │       <span style=\"color: #7f7f7f; text-decoration-color: #7f7f7f\">…</span> │       <span style=\"color: #7f7f7f; text-decoration-color: #7f7f7f\">…</span> │       <span style=\"color: #7f7f7f; text-decoration-color: #7f7f7f\">…</span> │       <span style=\"color: #7f7f7f; text-decoration-color: #7f7f7f\">…</span> │       <span style=\"color: #7f7f7f; text-decoration-color: #7f7f7f\">…</span> │       <span style=\"color: #7f7f7f; text-decoration-color: #7f7f7f\">…</span> │ <span style=\"color: #7f7f7f; text-decoration-color: #7f7f7f\">…</span>         │\n",
       "└────────┴────────────────────────────────────────────────┴─────────────┴──────────────┴─────────┴─────────┴─────────┴─────────┴─────────┴─────────┴─────────┴─────────┴─────────┴─────────┴───────────┘\n",
       "</pre>\n"
      ],
      "text/plain": [
       "┏━━━━━━━━┳━━━━━━━━━━━━━━━━━━━━━━━━━━━━━━━━━━━━━━━━━━━━━━━━┳━━━━━━━━━━━━━┳━━━━━━━━━━━━━━┳━━━━━━━━━┳━━━━━━━━━┳━━━━━━━━━┳━━━━━━━━━┳━━━━━━━━━┳━━━━━━━━━┳━━━━━━━━━┳━━━━━━━━━┳━━━━━━━━━┳━━━━━━━━━┳━━━━━━━━━━━┓\n",
       "┃\u001b[1m \u001b[0m\u001b[1mItems\u001b[0m\u001b[1m \u001b[0m\u001b[1m \u001b[0m┃\u001b[1m \u001b[0m\u001b[1mOneGL\u001b[0m\u001b[1m                                         \u001b[0m\u001b[1m \u001b[0m┃\u001b[1m \u001b[0m\u001b[1mJan\u001b[0m\u001b[1m        \u001b[0m\u001b[1m \u001b[0m┃\u001b[1m \u001b[0m\u001b[1mFeb\u001b[0m\u001b[1m         \u001b[0m\u001b[1m \u001b[0m┃\u001b[1m \u001b[0m\u001b[1mMar\u001b[0m\u001b[1m    \u001b[0m\u001b[1m \u001b[0m┃\u001b[1m \u001b[0m\u001b[1mApr\u001b[0m\u001b[1m    \u001b[0m\u001b[1m \u001b[0m┃\u001b[1m \u001b[0m\u001b[1mMay\u001b[0m\u001b[1m    \u001b[0m\u001b[1m \u001b[0m┃\u001b[1m \u001b[0m\u001b[1mJun\u001b[0m\u001b[1m    \u001b[0m\u001b[1m \u001b[0m┃\u001b[1m \u001b[0m\u001b[1mJul\u001b[0m\u001b[1m    \u001b[0m\u001b[1m \u001b[0m┃\u001b[1m \u001b[0m\u001b[1mAug\u001b[0m\u001b[1m    \u001b[0m\u001b[1m \u001b[0m┃\u001b[1m \u001b[0m\u001b[1mSep\u001b[0m\u001b[1m    \u001b[0m\u001b[1m \u001b[0m┃\u001b[1m \u001b[0m\u001b[1mOct\u001b[0m\u001b[1m    \u001b[0m\u001b[1m \u001b[0m┃\u001b[1m \u001b[0m\u001b[1mNov\u001b[0m\u001b[1m    \u001b[0m\u001b[1m \u001b[0m┃\u001b[1m \u001b[0m\u001b[1mDec\u001b[0m\u001b[1m    \u001b[0m\u001b[1m \u001b[0m┃\u001b[1m \u001b[0m\u001b[1mPrCr\u001b[0m\u001b[1m     \u001b[0m\u001b[1m \u001b[0m┃\n",
       "┡━━━━━━━━╇━━━━━━━━━━━━━━━━━━━━━━━━━━━━━━━━━━━━━━━━━━━━━━━━╇━━━━━━━━━━━━━╇━━━━━━━━━━━━━━╇━━━━━━━━━╇━━━━━━━━━╇━━━━━━━━━╇━━━━━━━━━╇━━━━━━━━━╇━━━━━━━━━╇━━━━━━━━━╇━━━━━━━━━╇━━━━━━━━━╇━━━━━━━━━╇━━━━━━━━━━━┩\n",
       "│ \u001b[2mstring\u001b[0m │ \u001b[2mstring\u001b[0m                                         │ \u001b[2mfloat64\u001b[0m     │ \u001b[2mfloat64\u001b[0m      │ \u001b[2mfloat64\u001b[0m │ \u001b[2mfloat64\u001b[0m │ \u001b[2mfloat64\u001b[0m │ \u001b[2mfloat64\u001b[0m │ \u001b[2mfloat64\u001b[0m │ \u001b[2mfloat64\u001b[0m │ \u001b[2mfloat64\u001b[0m │ \u001b[2mfloat64\u001b[0m │ \u001b[2mfloat64\u001b[0m │ \u001b[2mfloat64\u001b[0m │ \u001b[2mstring\u001b[0m    │\n",
       "├────────┼────────────────────────────────────────────────┼─────────────┼──────────────┼─────────┼─────────┼─────────┼─────────┼─────────┼─────────┼─────────┼─────────┼─────────┼─────────┼───────────┤\n",
       "│ \u001b[32mEBIT  \u001b[0m │ \u001b[32m50802-018  P SC Mechatronic Sensors Sejong    \u001b[0m │   \u001b[1;36m25.508605\u001b[0m │  \u001b[1;36m-234.012413\u001b[0m │    \u001b[1;36m-0.0\u001b[0m │    \u001b[1;36m-0.0\u001b[0m │    \u001b[1;36m-0.0\u001b[0m │    \u001b[1;36m-0.0\u001b[0m │    \u001b[1;36m-0.0\u001b[0m │    \u001b[1;36m-0.0\u001b[0m │    \u001b[1;36m-0.0\u001b[0m │    \u001b[1;36m-0.0\u001b[0m │    \u001b[1;36m-0.0\u001b[0m │    \u001b[1;36m-0.0\u001b[0m │ \u001b[32m50802-018\u001b[0m │\n",
       "│ \u001b[32mEBIT  \u001b[0m │ \u001b[32m50803-003  E CT Engine Controls Icheon        \u001b[0m │   \u001b[1;36m-0.000000\u001b[0m │    \u001b[1;36m-0.000000\u001b[0m │    \u001b[1;36m-0.0\u001b[0m │    \u001b[1;36m-0.0\u001b[0m │    \u001b[1;36m-0.0\u001b[0m │    \u001b[1;36m-0.0\u001b[0m │    \u001b[1;36m-0.0\u001b[0m │    \u001b[1;36m-0.0\u001b[0m │    \u001b[1;36m-0.0\u001b[0m │    \u001b[1;36m-0.0\u001b[0m │    \u001b[1;36m-0.0\u001b[0m │    \u001b[1;36m-0.0\u001b[0m │ \u001b[32m50803-003\u001b[0m │\n",
       "│ \u001b[32mEBIT  \u001b[0m │ \u001b[32m50803-004  E Central Icheon NPF               \u001b[0m │  \u001b[1;36m137.988495\u001b[0m │ \u001b[1;36m-1792.505810\u001b[0m │    \u001b[1;36m-0.0\u001b[0m │    \u001b[1;36m-0.0\u001b[0m │    \u001b[1;36m-0.0\u001b[0m │    \u001b[1;36m-0.0\u001b[0m │    \u001b[1;36m-0.0\u001b[0m │    \u001b[1;36m-0.0\u001b[0m │    \u001b[1;36m-0.0\u001b[0m │    \u001b[1;36m-0.0\u001b[0m │    \u001b[1;36m-0.0\u001b[0m │    \u001b[1;36m-0.0\u001b[0m │ \u001b[32m50803-004\u001b[0m │\n",
       "│ \u001b[32mEBIT  \u001b[0m │ \u001b[32m50803-009  P AC Engine Actuators Icheon       \u001b[0m │  \u001b[1;36m175.435656\u001b[0m │  \u001b[1;36m-949.955687\u001b[0m │    \u001b[1;36m-0.0\u001b[0m │    \u001b[1;36m-0.0\u001b[0m │    \u001b[1;36m-0.0\u001b[0m │    \u001b[1;36m-0.0\u001b[0m │    \u001b[1;36m-0.0\u001b[0m │    \u001b[1;36m-0.0\u001b[0m │    \u001b[1;36m-0.0\u001b[0m │    \u001b[1;36m-0.0\u001b[0m │    \u001b[1;36m-0.0\u001b[0m │    \u001b[1;36m-0.0\u001b[0m │ \u001b[32m50803-009\u001b[0m │\n",
       "│ \u001b[32mEBIT  \u001b[0m │ \u001b[32m50803-010  E CT Drivetrain Controls Icheon    \u001b[0m │ \u001b[1;36m1360.279978\u001b[0m │   \u001b[1;36m909.398731\u001b[0m │    \u001b[1;36m-0.0\u001b[0m │    \u001b[1;36m-0.0\u001b[0m │    \u001b[1;36m-0.0\u001b[0m │    \u001b[1;36m-0.0\u001b[0m │    \u001b[1;36m-0.0\u001b[0m │    \u001b[1;36m-0.0\u001b[0m │    \u001b[1;36m-0.0\u001b[0m │    \u001b[1;36m-0.0\u001b[0m │    \u001b[1;36m-0.0\u001b[0m │    \u001b[1;36m-0.0\u001b[0m │ \u001b[32m50803-010\u001b[0m │\n",
       "│ \u001b[32mEBIT  \u001b[0m │ \u001b[32m50803-025  E CT Engine Controls Icheon NPF    \u001b[0m │   \u001b[1;36m-0.000000\u001b[0m │    \u001b[1;36m-0.000000\u001b[0m │    \u001b[1;36m-0.0\u001b[0m │    \u001b[1;36m-0.0\u001b[0m │    \u001b[1;36m-0.0\u001b[0m │    \u001b[1;36m-0.0\u001b[0m │    \u001b[1;36m-0.0\u001b[0m │    \u001b[1;36m-0.0\u001b[0m │    \u001b[1;36m-0.0\u001b[0m │    \u001b[1;36m-0.0\u001b[0m │    \u001b[1;36m-0.0\u001b[0m │    \u001b[1;36m-0.0\u001b[0m │ \u001b[32m50803-025\u001b[0m │\n",
       "│ \u001b[32mEBIT  \u001b[0m │ \u001b[32m50803-026  P HT Hydraulics Icheon             \u001b[0m │  \u001b[1;36m455.111380\u001b[0m │ \u001b[1;36m-1113.243374\u001b[0m │    \u001b[1;36m-0.0\u001b[0m │    \u001b[1;36m-0.0\u001b[0m │    \u001b[1;36m-0.0\u001b[0m │    \u001b[1;36m-0.0\u001b[0m │    \u001b[1;36m-0.0\u001b[0m │    \u001b[1;36m-0.0\u001b[0m │    \u001b[1;36m-0.0\u001b[0m │    \u001b[1;36m-0.0\u001b[0m │    \u001b[1;36m-0.0\u001b[0m │    \u001b[1;36m-0.0\u001b[0m │ \u001b[32m50803-026\u001b[0m │\n",
       "│ \u001b[32mEBIT  \u001b[0m │ \u001b[32m50803-028  E CT Drivetrain Controls Icheon NPF\u001b[0m │   \u001b[1;36m-0.000000\u001b[0m │    \u001b[1;36m-0.000000\u001b[0m │    \u001b[1;36m-0.0\u001b[0m │    \u001b[1;36m-0.0\u001b[0m │    \u001b[1;36m-0.0\u001b[0m │    \u001b[1;36m-0.0\u001b[0m │    \u001b[1;36m-0.0\u001b[0m │    \u001b[1;36m-0.0\u001b[0m │    \u001b[1;36m-0.0\u001b[0m │    \u001b[1;36m-0.0\u001b[0m │    \u001b[1;36m-0.0\u001b[0m │    \u001b[1;36m-0.0\u001b[0m │ \u001b[32m50803-028\u001b[0m │\n",
       "│ \u001b[32mEBIT  \u001b[0m │ \u001b[32m50803-034  P SC Mechatronic Sensors Icheon    \u001b[0m │  \u001b[1;36m-93.457999\u001b[0m │   \u001b[1;36m144.088114\u001b[0m │    \u001b[1;36m-0.0\u001b[0m │    \u001b[1;36m-0.0\u001b[0m │    \u001b[1;36m-0.0\u001b[0m │    \u001b[1;36m-0.0\u001b[0m │    \u001b[1;36m-0.0\u001b[0m │    \u001b[1;36m-0.0\u001b[0m │    \u001b[1;36m-0.0\u001b[0m │    \u001b[1;36m-0.0\u001b[0m │    \u001b[1;36m-0.0\u001b[0m │    \u001b[1;36m-0.0\u001b[0m │ \u001b[32m50803-034\u001b[0m │\n",
       "│ \u001b[32mEBIT  \u001b[0m │ \u001b[32m50803-04   E CT eMotor Controls Icheon NPF    \u001b[0m │   \u001b[1;36m44.954346\u001b[0m │  \u001b[1;36m1538.675937\u001b[0m │    \u001b[1;36m-0.0\u001b[0m │    \u001b[1;36m-0.0\u001b[0m │    \u001b[1;36m-0.0\u001b[0m │    \u001b[1;36m-0.0\u001b[0m │    \u001b[1;36m-0.0\u001b[0m │    \u001b[1;36m-0.0\u001b[0m │    \u001b[1;36m-0.0\u001b[0m │    \u001b[1;36m-0.0\u001b[0m │    \u001b[1;36m-0.0\u001b[0m │    \u001b[1;36m-0.0\u001b[0m │ \u001b[32m50803-04 \u001b[0m │\n",
       "│ \u001b[2m…\u001b[0m      │ \u001b[2m…\u001b[0m                                              │           \u001b[2m…\u001b[0m │            \u001b[2m…\u001b[0m │       \u001b[2m…\u001b[0m │       \u001b[2m…\u001b[0m │       \u001b[2m…\u001b[0m │       \u001b[2m…\u001b[0m │       \u001b[2m…\u001b[0m │       \u001b[2m…\u001b[0m │       \u001b[2m…\u001b[0m │       \u001b[2m…\u001b[0m │       \u001b[2m…\u001b[0m │       \u001b[2m…\u001b[0m │ \u001b[2m…\u001b[0m         │\n",
       "└────────┴────────────────────────────────────────────────┴─────────────┴──────────────┴─────────┴─────────┴─────────┴─────────┴─────────┴─────────┴─────────┴─────────┴─────────┴─────────┴───────────┘"
      ]
     },
     "execution_count": 8,
     "metadata": {},
     "output_type": "execute_result"
    }
   ],
   "source": [
    "t = ibis.memtable(df, name=\"t\")\n",
    "t = t.select(\"source\", \"OneGL\", \"Jan\", \"Feb\", \"Mar\", \"Apr\", \"May\", \"Jun\", \"Jul\", \"Aug\", \"Sep\", \"Oct\", \"Nov\", \"Dec\")\n",
    "t = (t\n",
    "        .mutate(source = _.source.replace(\".dat\", \"\"))\n",
    "        .mutate(PrCr = _.OneGL.re_extract(r\"([0-9\\-]{8,9})\", 1))\n",
    "        .mutate(s.across(s.numeric(), _ / -10**6))\n",
    "        .filter(_.PrCr != \"\")  # instead of .dropna(\"PrCr\")\n",
    "        .rename({'Items':\"source\"})\n",
    "    )\n",
    "t"
   ]
  },
  {
   "cell_type": "code",
   "execution_count": 9,
   "metadata": {},
   "outputs": [],
   "source": [
    "df = t.to_pandas()\n",
    "df.to_csv(output_path / \"SAP YGL4 P&L.csv\", index=False)"
   ]
  },
  {
   "cell_type": "code",
   "execution_count": null,
   "metadata": {},
   "outputs": [],
   "source": []
  }
 ],
 "metadata": {
  "kernelspec": {
   "display_name": "Python 3 (ipykernel)",
   "language": "python",
   "name": "python3"
  },
  "language_info": {
   "codemirror_mode": {
    "name": "ipython",
    "version": 3
   },
   "file_extension": ".py",
   "mimetype": "text/x-python",
   "name": "python",
   "nbconvert_exporter": "python",
   "pygments_lexer": "ipython3",
   "version": "3.9.18"
  }
 },
 "nbformat": 4,
 "nbformat_minor": 4
}
